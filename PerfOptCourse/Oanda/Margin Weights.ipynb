{
 "cells": [
  {
   "cell_type": "code",
   "execution_count": 1,
   "id": "d842e42a",
   "metadata": {},
   "outputs": [],
   "source": [
    "eur_usd_margin = 25.57\n",
    "eur_aud_margin = 19.62\n",
    "account_size = 10000\n",
    "pos = 2\n",
    "eur_aud = 1.4922\n",
    "eur_usd = 1.0511"
   ]
  },
  {
   "cell_type": "code",
   "execution_count": 2,
   "id": "63a2617b",
   "metadata": {},
   "outputs": [
    {
     "data": {
      "text/plain": [
       "146384"
      ]
     },
     "execution_count": 2,
     "metadata": {},
     "output_type": "execute_result"
    }
   ],
   "source": [
    "eur_aud_units = eur_aud*account_size/pos*eur_aud_margin\n",
    "int(eur_aud_units)"
   ]
  },
  {
   "cell_type": "code",
   "execution_count": 3,
   "id": "091fe7dc",
   "metadata": {},
   "outputs": [
    {
     "data": {
      "text/plain": [
       "134383"
      ]
     },
     "execution_count": 3,
     "metadata": {},
     "output_type": "execute_result"
    }
   ],
   "source": [
    "eur_usd_units = eur_usd*account_size/pos*eur_usd_margin\n",
    "int(eur_usd_units)"
   ]
  },
  {
   "cell_type": "code",
   "execution_count": 4,
   "id": "d51b891b",
   "metadata": {},
   "outputs": [
    {
     "data": {
      "text/plain": [
       "280767"
      ]
     },
     "execution_count": 4,
     "metadata": {},
     "output_type": "execute_result"
    }
   ],
   "source": [
    "146384+134383"
   ]
  },
  {
   "cell_type": "code",
   "execution_count": 7,
   "id": "2aae6500",
   "metadata": {},
   "outputs": [
    {
     "data": {
      "text/plain": [
       "29.2875"
      ]
     },
     "execution_count": 7,
     "metadata": {},
     "output_type": "execute_result"
    }
   ],
   "source": [
    "25.5*1.49/2+19.6*1.05/2"
   ]
  },
  {
   "cell_type": "code",
   "execution_count": 10,
   "id": "4b3878b0",
   "metadata": {},
   "outputs": [
    {
     "data": {
      "text/plain": [
       "9586.581306017924"
      ]
     },
     "execution_count": 10,
     "metadata": {},
     "output_type": "execute_result"
    }
   ],
   "source": [
    "280767/29.2875"
   ]
  },
  {
   "cell_type": "code",
   "execution_count": 11,
   "id": "ad80ab98",
   "metadata": {},
   "outputs": [],
   "source": [
    "import numpy as np"
   ]
  },
  {
   "cell_type": "code",
   "execution_count": 37,
   "id": "e438b2c9",
   "metadata": {},
   "outputs": [
    {
     "data": {
      "text/plain": [
       "9"
      ]
     },
     "execution_count": 37,
     "metadata": {},
     "output_type": "execute_result"
    }
   ],
   "source": [
    "int(np.random.rand(1)[0]*10)"
   ]
  },
  {
   "cell_type": "code",
   "execution_count": null,
   "id": "38212207",
   "metadata": {},
   "outputs": [],
   "source": []
  },
  {
   "cell_type": "code",
   "execution_count": null,
   "id": "45911f97",
   "metadata": {},
   "outputs": [],
   "source": []
  }
 ],
 "metadata": {
  "kernelspec": {
   "display_name": "Python 3 (ipykernel)",
   "language": "python",
   "name": "python3"
  },
  "language_info": {
   "codemirror_mode": {
    "name": "ipython",
    "version": 3
   },
   "file_extension": ".py",
   "mimetype": "text/x-python",
   "name": "python",
   "nbconvert_exporter": "python",
   "pygments_lexer": "ipython3",
   "version": "3.7.13"
  }
 },
 "nbformat": 4,
 "nbformat_minor": 5
}
