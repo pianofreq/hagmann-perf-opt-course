{
 "cells": [
  {
   "cell_type": "code",
   "execution_count": 2,
   "id": "1f8288d1",
   "metadata": {},
   "outputs": [],
   "source": [
    "import pandas as pd\n",
    "import numpy as np\n",
    "import tpqoa\n",
    "from datetime import datetime, timedelta\n",
    "import time\n",
    "import os"
   ]
  },
  {
   "cell_type": "code",
   "execution_count": 4,
   "id": "fb7f3460",
   "metadata": {},
   "outputs": [
    {
     "name": "stdout",
     "output_type": "stream",
     "text": [
      "--start loop--\n",
      "end loop\n",
      "--start loop--\n",
      "end loop\n",
      "--start loop--\n",
      "end loop\n",
      "--start loop--\n",
      "end loop\n",
      "--start loop--\n",
      "end loop\n",
      "--start loop--\n",
      "end loop\n",
      "--start loop--\n",
      "end loop\n",
      "--start loop--\n",
      "end loop\n",
      "--start loop--\n",
      "end loop\n",
      "--start loop--\n",
      "end loop\n",
      "--start loop--\n"
     ]
    },
    {
     "ename": "AttributeError",
     "evalue": "'NoneType' object has no attribute 'get'",
     "output_type": "error",
     "traceback": [
      "\u001b[0;31m---------------------------------------------------------------------------\u001b[0m",
      "\u001b[0;31mAttributeError\u001b[0m                            Traceback (most recent call last)",
      "\u001b[0;32m/tmp/ipykernel_25855/4235150822.py\u001b[0m in \u001b[0;36m<module>\u001b[0;34m\u001b[0m\n\u001b[1;32m     13\u001b[0m     \u001b[0mdf\u001b[0m \u001b[0;34m=\u001b[0m \u001b[0;34m[\u001b[0m\u001b[0;34m]\u001b[0m\u001b[0;34m\u001b[0m\u001b[0;34m\u001b[0m\u001b[0m\n\u001b[1;32m     14\u001b[0m     df = api.get_history(instrument = xs[i], start = dStart, end = dEnd,\\\n\u001b[0;32m---> 15\u001b[0;31m                 granularity = \"M1\", price = \"M\", localize = False).c.dropna().to_frame()#.rename(columns={'c':all_ins[]})\n\u001b[0m\u001b[1;32m     16\u001b[0m     \u001b[0mdf\u001b[0m\u001b[0;34m.\u001b[0m\u001b[0mto_csv\u001b[0m\u001b[0;34m(\u001b[0m\u001b[0;34m'{}_2016_2021.csv'\u001b[0m\u001b[0;34m.\u001b[0m\u001b[0mformat\u001b[0m\u001b[0;34m(\u001b[0m\u001b[0mxs\u001b[0m\u001b[0;34m[\u001b[0m\u001b[0mi\u001b[0m\u001b[0;34m]\u001b[0m\u001b[0;34m)\u001b[0m\u001b[0;34m)\u001b[0m\u001b[0;34m\u001b[0m\u001b[0;34m\u001b[0m\u001b[0m\n\u001b[1;32m     17\u001b[0m     \u001b[0mprint\u001b[0m\u001b[0;34m(\u001b[0m\u001b[0;34m'end loop'\u001b[0m\u001b[0;34m)\u001b[0m\u001b[0;34m\u001b[0m\u001b[0;34m\u001b[0m\u001b[0m\n",
      "\u001b[0;32m~/miniconda3/envs/junebug/lib/python3.7/site-packages/tpqoa/tpqoa.py\u001b[0m in \u001b[0;36mget_history\u001b[0;34m(self, instrument, start, end, granularity, price, localize)\u001b[0m\n\u001b[1;32m    231\u001b[0m \u001b[0;34m\u001b[0m\u001b[0m\n\u001b[1;32m    232\u001b[0m                 batch = self.retrieve_data(instrument, batch_start, batch_end,\n\u001b[0;32m--> 233\u001b[0;31m                                            granularity, price)\n\u001b[0m\u001b[1;32m    234\u001b[0m                 \u001b[0mdata\u001b[0m \u001b[0;34m=\u001b[0m \u001b[0mpd\u001b[0m\u001b[0;34m.\u001b[0m\u001b[0mconcat\u001b[0m\u001b[0;34m(\u001b[0m\u001b[0;34m[\u001b[0m\u001b[0mdata\u001b[0m\u001b[0;34m,\u001b[0m \u001b[0mbatch\u001b[0m\u001b[0;34m]\u001b[0m\u001b[0;34m)\u001b[0m\u001b[0;34m\u001b[0m\u001b[0;34m\u001b[0m\u001b[0m\n\u001b[1;32m    235\u001b[0m         \u001b[0;32melse\u001b[0m\u001b[0;34m:\u001b[0m\u001b[0;34m\u001b[0m\u001b[0;34m\u001b[0m\u001b[0m\n",
      "\u001b[0;32m~/miniconda3/envs/junebug/lib/python3.7/site-packages/tpqoa/tpqoa.py\u001b[0m in \u001b[0;36mretrieve_data\u001b[0;34m(self, instrument, start, end, granularity, price)\u001b[0m\n\u001b[1;32m    165\u001b[0m             \u001b[0mfromTime\u001b[0m\u001b[0;34m=\u001b[0m\u001b[0mstart\u001b[0m\u001b[0;34m,\u001b[0m \u001b[0mtoTime\u001b[0m\u001b[0;34m=\u001b[0m\u001b[0mend\u001b[0m\u001b[0;34m,\u001b[0m\u001b[0;34m\u001b[0m\u001b[0;34m\u001b[0m\u001b[0m\n\u001b[1;32m    166\u001b[0m             granularity=granularity, price=price)\n\u001b[0;32m--> 167\u001b[0;31m         \u001b[0mraw\u001b[0m \u001b[0;34m=\u001b[0m \u001b[0mraw\u001b[0m\u001b[0;34m.\u001b[0m\u001b[0mget\u001b[0m\u001b[0;34m(\u001b[0m\u001b[0;34m'candles'\u001b[0m\u001b[0;34m)\u001b[0m\u001b[0;34m\u001b[0m\u001b[0;34m\u001b[0m\u001b[0m\n\u001b[0m\u001b[1;32m    168\u001b[0m         \u001b[0mraw\u001b[0m \u001b[0;34m=\u001b[0m \u001b[0;34m[\u001b[0m\u001b[0mcs\u001b[0m\u001b[0;34m.\u001b[0m\u001b[0mdict\u001b[0m\u001b[0;34m(\u001b[0m\u001b[0;34m)\u001b[0m \u001b[0;32mfor\u001b[0m \u001b[0mcs\u001b[0m \u001b[0;32min\u001b[0m \u001b[0mraw\u001b[0m\u001b[0;34m]\u001b[0m\u001b[0;34m\u001b[0m\u001b[0;34m\u001b[0m\u001b[0m\n\u001b[1;32m    169\u001b[0m         \u001b[0;32mif\u001b[0m \u001b[0mprice\u001b[0m \u001b[0;34m==\u001b[0m \u001b[0;34m'A'\u001b[0m\u001b[0;34m:\u001b[0m\u001b[0;34m\u001b[0m\u001b[0;34m\u001b[0m\u001b[0m\n",
      "\u001b[0;32m~/miniconda3/envs/junebug/lib/python3.7/site-packages/v20/response.py\u001b[0m in \u001b[0;36mget\u001b[0;34m(self, field, status)\u001b[0m\n\u001b[1;32m     30\u001b[0m                 \u001b[0;32mraise\u001b[0m \u001b[0mResponseUnexpectedStatus\u001b[0m\u001b[0;34m(\u001b[0m\u001b[0mself\u001b[0m\u001b[0;34m,\u001b[0m \u001b[0mstatus\u001b[0m\u001b[0;34m)\u001b[0m\u001b[0;34m\u001b[0m\u001b[0;34m\u001b[0m\u001b[0m\n\u001b[1;32m     31\u001b[0m \u001b[0;34m\u001b[0m\u001b[0m\n\u001b[0;32m---> 32\u001b[0;31m         \u001b[0mvalue\u001b[0m \u001b[0;34m=\u001b[0m \u001b[0mself\u001b[0m\u001b[0;34m.\u001b[0m\u001b[0mbody\u001b[0m\u001b[0;34m.\u001b[0m\u001b[0mget\u001b[0m\u001b[0;34m(\u001b[0m\u001b[0mfield\u001b[0m\u001b[0;34m)\u001b[0m\u001b[0;34m\u001b[0m\u001b[0;34m\u001b[0m\u001b[0m\n\u001b[0m\u001b[1;32m     33\u001b[0m \u001b[0;34m\u001b[0m\u001b[0m\n\u001b[1;32m     34\u001b[0m         \u001b[0;32mif\u001b[0m \u001b[0mvalue\u001b[0m \u001b[0;32mis\u001b[0m \u001b[0;32mNone\u001b[0m\u001b[0;34m:\u001b[0m\u001b[0;34m\u001b[0m\u001b[0;34m\u001b[0m\u001b[0m\n",
      "\u001b[0;31mAttributeError\u001b[0m: 'NoneType' object has no attribute 'get'"
     ]
    }
   ],
   "source": [
    "api = tpqoa.tpqoa('oanda.cfg')\n",
    "df = pd.DataFrame()\n",
    "all_ins = api.get_instruments()\n",
    "length = len(all_ins)-1\n",
    "dStart = '2016-01-01'\n",
    "dEnd = '2021-12-31'\n",
    "all_ins = api.get_instruments()\n",
    "length = len(all_ins)-1\n",
    "xs =[all_ins[i][1] for i in range(len(all_ins))]\n",
    "\n",
    "for i in range(length):\n",
    "    print('--start loop--')\n",
    "    df = []\n",
    "    df = api.get_history(instrument = xs[i], start = dStart, end = dEnd,\\\n",
    "                granularity = \"M1\", price = \"M\", localize = False).c.dropna().to_frame()#.rename(columns={'c':all_ins[]})\n",
    "    df.to_csv('{}_2016_2021.csv'.format(xs[i]))\n",
    "    print('end loop')\n",
    "df = np.log(df/df.shift(1))\n",
    "df.dropna(inplace=True)\n",
    "df"
   ]
  },
  {
   "cell_type": "code",
   "execution_count": null,
   "id": "0e51835f",
   "metadata": {},
   "outputs": [],
   "source": [
    "df.to_csv('all_instr_2016_2021.csv')"
   ]
  },
  {
   "cell_type": "code",
   "execution_count": null,
   "id": "1aacee96",
   "metadata": {},
   "outputs": [],
   "source": [
    "#df.to_csv('all_fw_test_eur_usd.csv')"
   ]
  },
  {
   "cell_type": "code",
   "execution_count": null,
   "id": "38d94263",
   "metadata": {},
   "outputs": [],
   "source": [
    "df"
   ]
  },
  {
   "cell_type": "markdown",
   "id": "67cdf27c",
   "metadata": {},
   "source": [
    "## Single Instrument"
   ]
  },
  {
   "cell_type": "code",
   "execution_count": 7,
   "id": "6c264db3",
   "metadata": {},
   "outputs": [
    {
     "name": "stdout",
     "output_type": "stream",
     "text": [
      "--start loop--\n",
      "end loop\n"
     ]
    }
   ],
   "source": [
    "dStart = '2012-01-01'\n",
    "dEnd = '2021-12-31'\n",
    "api = tpqoa.tpqoa('oanda.cfg')\n",
    "df = pd.DataFrame()\n",
    "print('--start loop--')\n",
    "df = []\n",
    "df = api.get_history(instrument = 'AUD_CAD', start = dStart, end = dEnd,\\\n",
    "            granularity = \"M1\", price = \"M\", localize = False)[['o','h','l','c', 'volume']].dropna()#.rename(columns={'c':all_ins[]})\n",
    "df.to_csv('AUD_CAD_Full_OHLCV.csv')\n",
    "print('end loop')"
   ]
  },
  {
   "cell_type": "code",
   "execution_count": null,
   "id": "2e4688cc",
   "metadata": {},
   "outputs": [],
   "source": []
  }
 ],
 "metadata": {
  "kernelspec": {
   "display_name": "Python 3 (ipykernel)",
   "language": "python",
   "name": "python3"
  },
  "language_info": {
   "codemirror_mode": {
    "name": "ipython",
    "version": 3
   },
   "file_extension": ".py",
   "mimetype": "text/x-python",
   "name": "python",
   "nbconvert_exporter": "python",
   "pygments_lexer": "ipython3",
   "version": "3.7.13"
  }
 },
 "nbformat": 4,
 "nbformat_minor": 5
}
