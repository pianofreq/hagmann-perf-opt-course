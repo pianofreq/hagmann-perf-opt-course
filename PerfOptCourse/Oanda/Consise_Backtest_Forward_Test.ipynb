{
 "cells": [
  {
   "cell_type": "code",
   "execution_count": 1,
   "id": "eeeaea93",
   "metadata": {},
   "outputs": [],
   "source": [
    "from BBBacktesterModule import *\n",
    "spread = 1.4\n",
    "pips = 0.0001"
   ]
  },
  {
   "cell_type": "markdown",
   "id": "84636579",
   "metadata": {},
   "source": [
    "## Define a tester object"
   ]
  },
  {
   "cell_type": "code",
   "execution_count": 2,
   "id": "b6daa492",
   "metadata": {},
   "outputs": [],
   "source": [
    "tester = BBBacktester(\"AUD_CAD_2016_2021.csv\", \"c\", \"2016-01-01\", \"2019-12-31\", spread*pips/2) \n",
    "        #mult by 2 for a 'round trip', multiply by pips\n",
    "    "
   ]
  },
  {
   "cell_type": "markdown",
   "id": "925b9d3e",
   "metadata": {},
   "source": [
    "## Optimize parameters and plot best strategy backtest"
   ]
  },
  {
   "cell_type": "code",
   "execution_count": 3,
   "id": "e99d164e",
   "metadata": {},
   "outputs": [],
   "source": [
    "#tester.optimize_strategy((5,400,10),(10,150,10),(1,2,20), metric = \"Multiple\") #quick\n",
    "#half_kelly = (tester.calculate_kelly_criterion(tester.results.strategy))/2\n",
    "#tester.add_leverage(leverage = half_kelly, sl = -0.35)\n",
    "#tester.plot_results(leverage = True)"
   ]
  },
  {
   "cell_type": "markdown",
   "id": "86c4db9e",
   "metadata": {},
   "source": [
    "## Test optimal strategy on forward data"
   ]
  },
  {
   "cell_type": "code",
   "execution_count": null,
   "id": "236d9f05",
   "metadata": {},
   "outputs": [],
   "source": [
    "tester = BBBacktester(\"AUD_CAD_2016_2021.csv\", \"c\", \"2016-01-01\", \"2021-12-31\", spread*pips/2) #mult by 2 for a 'round trip', multiply by pips\n",
    "\n",
    "#best = tester.results_overview.nlargest(1,columns='Performance')\n",
    "\n",
    "forward = BBBacktester(\"AUD_CAD_2016_2021.csv\", \"c\", \"2016-01-01\", \"2021-12-31\", spread*pips/2) #mult by 2 for a 'round trip', multiply by pips\n",
    "forward.test_strategy(freq=15, sma=20, dev = 1.894736)\n",
    "fw_half_kelly = (forward.calculate_kelly_criterion(forward.results.strategy))/2\n",
    "forward.add_leverage(leverage = fw_half_kelly, sl = -0.35)\n",
    "forward.plot_results(leverage=False)"
   ]
  },
  {
   "cell_type": "code",
   "execution_count": null,
   "id": "c80e6273",
   "metadata": {},
   "outputs": [],
   "source": []
  }
 ],
 "metadata": {
  "kernelspec": {
   "display_name": "Python 3 (ipykernel)",
   "language": "python",
   "name": "python3"
  },
  "language_info": {
   "codemirror_mode": {
    "name": "ipython",
    "version": 3
   },
   "file_extension": ".py",
   "mimetype": "text/x-python",
   "name": "python",
   "nbconvert_exporter": "python",
   "pygments_lexer": "ipython3",
   "version": "3.7.13"
  }
 },
 "nbformat": 4,
 "nbformat_minor": 5
}
