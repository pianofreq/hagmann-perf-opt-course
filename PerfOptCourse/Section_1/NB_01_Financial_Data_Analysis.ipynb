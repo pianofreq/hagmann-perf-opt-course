{
 "cells": [
  {
   "cell_type": "markdown",
   "id": "e7173fb2",
   "metadata": {},
   "source": [
    "# Financial Data Analysis with Python - a Deep Dive"
   ]
  },
  {
   "cell_type": "markdown",
   "id": "c5b14d02",
   "metadata": {},
   "source": [
    "## Installing required Libraries/Packages"
   ]
  },
  {
   "cell_type": "markdown",
   "id": "4f398622",
   "metadata": {},
   "source": [
    "Install yfinance with:\n",
    "- pip install yfinance "
   ]
  },
  {
   "cell_type": "markdown",
   "id": "cd04482d",
   "metadata": {},
   "source": [
    "(first: conda update anaconda) "
   ]
  },
  {
   "cell_type": "code",
   "execution_count": null,
   "id": "02595e23",
   "metadata": {},
   "outputs": [],
   "source": []
  },
  {
   "cell_type": "markdown",
   "id": "628d01a0",
   "metadata": {},
   "source": [
    "## Loading Financial Data from the Web"
   ]
  },
  {
   "cell_type": "code",
   "execution_count": 1,
   "id": "ed0670ee",
   "metadata": {},
   "outputs": [],
   "source": [
    "import pandas as pd\n",
    "import yfinance as yf"
   ]
  },
  {
   "cell_type": "code",
   "execution_count": 2,
   "id": "edf2b55c",
   "metadata": {},
   "outputs": [],
   "source": [
    "start = \"2014-10-01\"\n",
    "end = \"2021-05-31\""
   ]
  },
  {
   "cell_type": "code",
   "execution_count": 3,
   "id": "3c81ccf8",
   "metadata": {},
   "outputs": [],
   "source": [
    "symbol = \"BA\""
   ]
  },
  {
   "cell_type": "code",
   "execution_count": 4,
   "id": "38e6d1ac",
   "metadata": {},
   "outputs": [
    {
     "name": "stdout",
     "output_type": "stream",
     "text": [
      "[*********************100%***********************]  1 of 1 completed\n"
     ]
    },
    {
     "data": {
      "text/html": [
       "<div>\n",
       "<style scoped>\n",
       "    .dataframe tbody tr th:only-of-type {\n",
       "        vertical-align: middle;\n",
       "    }\n",
       "\n",
       "    .dataframe tbody tr th {\n",
       "        vertical-align: top;\n",
       "    }\n",
       "\n",
       "    .dataframe thead th {\n",
       "        text-align: right;\n",
       "    }\n",
       "</style>\n",
       "<table border=\"1\" class=\"dataframe\">\n",
       "  <thead>\n",
       "    <tr style=\"text-align: right;\">\n",
       "      <th></th>\n",
       "      <th>Open</th>\n",
       "      <th>High</th>\n",
       "      <th>Low</th>\n",
       "      <th>Close</th>\n",
       "      <th>Adj Close</th>\n",
       "      <th>Volume</th>\n",
       "    </tr>\n",
       "    <tr>\n",
       "      <th>Date</th>\n",
       "      <th></th>\n",
       "      <th></th>\n",
       "      <th></th>\n",
       "      <th></th>\n",
       "      <th></th>\n",
       "      <th></th>\n",
       "    </tr>\n",
       "  </thead>\n",
       "  <tbody>\n",
       "    <tr>\n",
       "      <th>2014-10-01</th>\n",
       "      <td>127.370003</td>\n",
       "      <td>127.370003</td>\n",
       "      <td>124.309998</td>\n",
       "      <td>124.669998</td>\n",
       "      <td>108.406647</td>\n",
       "      <td>5265200</td>\n",
       "    </tr>\n",
       "    <tr>\n",
       "      <th>2014-10-02</th>\n",
       "      <td>124.400002</td>\n",
       "      <td>125.550003</td>\n",
       "      <td>123.839996</td>\n",
       "      <td>124.169998</td>\n",
       "      <td>107.971909</td>\n",
       "      <td>3204500</td>\n",
       "    </tr>\n",
       "    <tr>\n",
       "      <th>2014-10-03</th>\n",
       "      <td>124.660004</td>\n",
       "      <td>126.870003</td>\n",
       "      <td>124.660004</td>\n",
       "      <td>126.360001</td>\n",
       "      <td>109.876213</td>\n",
       "      <td>3075900</td>\n",
       "    </tr>\n",
       "    <tr>\n",
       "      <th>2014-10-06</th>\n",
       "      <td>127.089996</td>\n",
       "      <td>127.190002</td>\n",
       "      <td>125.379997</td>\n",
       "      <td>126.260002</td>\n",
       "      <td>109.789246</td>\n",
       "      <td>2681000</td>\n",
       "    </tr>\n",
       "    <tr>\n",
       "      <th>2014-10-07</th>\n",
       "      <td>125.519997</td>\n",
       "      <td>125.519997</td>\n",
       "      <td>123.290001</td>\n",
       "      <td>123.320000</td>\n",
       "      <td>107.232796</td>\n",
       "      <td>3554900</td>\n",
       "    </tr>\n",
       "    <tr>\n",
       "      <th>...</th>\n",
       "      <td>...</td>\n",
       "      <td>...</td>\n",
       "      <td>...</td>\n",
       "      <td>...</td>\n",
       "      <td>...</td>\n",
       "      <td>...</td>\n",
       "    </tr>\n",
       "    <tr>\n",
       "      <th>2021-05-24</th>\n",
       "      <td>235.139999</td>\n",
       "      <td>238.500000</td>\n",
       "      <td>232.600006</td>\n",
       "      <td>237.440002</td>\n",
       "      <td>237.440002</td>\n",
       "      <td>10106000</td>\n",
       "    </tr>\n",
       "    <tr>\n",
       "      <th>2021-05-25</th>\n",
       "      <td>240.000000</td>\n",
       "      <td>243.779999</td>\n",
       "      <td>239.229996</td>\n",
       "      <td>240.740005</td>\n",
       "      <td>240.740005</td>\n",
       "      <td>12908000</td>\n",
       "    </tr>\n",
       "    <tr>\n",
       "      <th>2021-05-26</th>\n",
       "      <td>241.699997</td>\n",
       "      <td>242.490005</td>\n",
       "      <td>239.869995</td>\n",
       "      <td>241.369995</td>\n",
       "      <td>241.369995</td>\n",
       "      <td>7240200</td>\n",
       "    </tr>\n",
       "    <tr>\n",
       "      <th>2021-05-27</th>\n",
       "      <td>248.110001</td>\n",
       "      <td>252.600006</td>\n",
       "      <td>247.190002</td>\n",
       "      <td>250.699997</td>\n",
       "      <td>250.699997</td>\n",
       "      <td>18404400</td>\n",
       "    </tr>\n",
       "    <tr>\n",
       "      <th>2021-05-28</th>\n",
       "      <td>247.479996</td>\n",
       "      <td>248.979996</td>\n",
       "      <td>245.369995</td>\n",
       "      <td>247.020004</td>\n",
       "      <td>247.020004</td>\n",
       "      <td>11197400</td>\n",
       "    </tr>\n",
       "  </tbody>\n",
       "</table>\n",
       "<p>1677 rows × 6 columns</p>\n",
       "</div>"
      ],
      "text/plain": [
       "                  Open        High         Low       Close   Adj Close  \\\n",
       "Date                                                                     \n",
       "2014-10-01  127.370003  127.370003  124.309998  124.669998  108.406647   \n",
       "2014-10-02  124.400002  125.550003  123.839996  124.169998  107.971909   \n",
       "2014-10-03  124.660004  126.870003  124.660004  126.360001  109.876213   \n",
       "2014-10-06  127.089996  127.190002  125.379997  126.260002  109.789246   \n",
       "2014-10-07  125.519997  125.519997  123.290001  123.320000  107.232796   \n",
       "...                ...         ...         ...         ...         ...   \n",
       "2021-05-24  235.139999  238.500000  232.600006  237.440002  237.440002   \n",
       "2021-05-25  240.000000  243.779999  239.229996  240.740005  240.740005   \n",
       "2021-05-26  241.699997  242.490005  239.869995  241.369995  241.369995   \n",
       "2021-05-27  248.110001  252.600006  247.190002  250.699997  250.699997   \n",
       "2021-05-28  247.479996  248.979996  245.369995  247.020004  247.020004   \n",
       "\n",
       "              Volume  \n",
       "Date                  \n",
       "2014-10-01   5265200  \n",
       "2014-10-02   3204500  \n",
       "2014-10-03   3075900  \n",
       "2014-10-06   2681000  \n",
       "2014-10-07   3554900  \n",
       "...              ...  \n",
       "2021-05-24  10106000  \n",
       "2021-05-25  12908000  \n",
       "2021-05-26   7240200  \n",
       "2021-05-27  18404400  \n",
       "2021-05-28  11197400  \n",
       "\n",
       "[1677 rows x 6 columns]"
      ]
     },
     "execution_count": 4,
     "metadata": {},
     "output_type": "execute_result"
    }
   ],
   "source": [
    "df = yf.download(symbol, start, end)\n",
    "df"
   ]
  },
  {
   "cell_type": "code",
   "execution_count": 5,
   "id": "77389d28",
   "metadata": {},
   "outputs": [
    {
     "name": "stdout",
     "output_type": "stream",
     "text": [
      "<class 'pandas.core.frame.DataFrame'>\n",
      "DatetimeIndex: 1677 entries, 2014-10-01 to 2021-05-28\n",
      "Data columns (total 6 columns):\n",
      " #   Column     Non-Null Count  Dtype  \n",
      "---  ------     --------------  -----  \n",
      " 0   Open       1677 non-null   float64\n",
      " 1   High       1677 non-null   float64\n",
      " 2   Low        1677 non-null   float64\n",
      " 3   Close      1677 non-null   float64\n",
      " 4   Adj Close  1677 non-null   float64\n",
      " 5   Volume     1677 non-null   int64  \n",
      "dtypes: float64(5), int64(1)\n",
      "memory usage: 91.7 KB\n"
     ]
    }
   ],
   "source": [
    "df.info()"
   ]
  },
  {
   "cell_type": "code",
   "execution_count": 6,
   "id": "7e6676d6",
   "metadata": {},
   "outputs": [],
   "source": [
    "symbol = [\"BA\", \"MSFT\", \"^DJI\", \"EURUSD=X\", \"GC=F\", \"BTC-USD\"]"
   ]
  },
  {
   "cell_type": "markdown",
   "id": "056f571b",
   "metadata": {},
   "source": [
    "Ticker Symbols: <br>\n",
    "- __BA__: Boeing (US Stock) \n",
    "- __MSFT__: Microsoft Corp (US Stock)\n",
    "- __^DJI__: Dow Jones Industrial Average (US Stock Index)\n",
    "- __EURUSD=X__: Exchange Rate for Currency Pair EUR/USD (Forex)\n",
    "- __GC=F__: Gold Price (Precious Metal / Commodity)\n",
    "- __BTC-USD__: Bitcoin in USD (Cryptocurrency)"
   ]
  },
  {
   "cell_type": "code",
   "execution_count": 7,
   "id": "a5fb408b",
   "metadata": {},
   "outputs": [
    {
     "name": "stdout",
     "output_type": "stream",
     "text": [
      "[*********************100%***********************]  6 of 6 completed\n"
     ]
    },
    {
     "data": {
      "text/html": [
       "<div>\n",
       "<style scoped>\n",
       "    .dataframe tbody tr th:only-of-type {\n",
       "        vertical-align: middle;\n",
       "    }\n",
       "\n",
       "    .dataframe tbody tr th {\n",
       "        vertical-align: top;\n",
       "    }\n",
       "\n",
       "    .dataframe thead tr th {\n",
       "        text-align: left;\n",
       "    }\n",
       "\n",
       "    .dataframe thead tr:last-of-type th {\n",
       "        text-align: right;\n",
       "    }\n",
       "</style>\n",
       "<table border=\"1\" class=\"dataframe\">\n",
       "  <thead>\n",
       "    <tr>\n",
       "      <th></th>\n",
       "      <th colspan=\"6\" halign=\"left\">Adj Close</th>\n",
       "      <th colspan=\"4\" halign=\"left\">Close</th>\n",
       "      <th>...</th>\n",
       "      <th colspan=\"4\" halign=\"left\">Open</th>\n",
       "      <th colspan=\"6\" halign=\"left\">Volume</th>\n",
       "    </tr>\n",
       "    <tr>\n",
       "      <th></th>\n",
       "      <th>BA</th>\n",
       "      <th>BTC-USD</th>\n",
       "      <th>EURUSD=X</th>\n",
       "      <th>GC=F</th>\n",
       "      <th>MSFT</th>\n",
       "      <th>^DJI</th>\n",
       "      <th>BA</th>\n",
       "      <th>BTC-USD</th>\n",
       "      <th>EURUSD=X</th>\n",
       "      <th>GC=F</th>\n",
       "      <th>...</th>\n",
       "      <th>EURUSD=X</th>\n",
       "      <th>GC=F</th>\n",
       "      <th>MSFT</th>\n",
       "      <th>^DJI</th>\n",
       "      <th>BA</th>\n",
       "      <th>BTC-USD</th>\n",
       "      <th>EURUSD=X</th>\n",
       "      <th>GC=F</th>\n",
       "      <th>MSFT</th>\n",
       "      <th>^DJI</th>\n",
       "    </tr>\n",
       "    <tr>\n",
       "      <th>Date</th>\n",
       "      <th></th>\n",
       "      <th></th>\n",
       "      <th></th>\n",
       "      <th></th>\n",
       "      <th></th>\n",
       "      <th></th>\n",
       "      <th></th>\n",
       "      <th></th>\n",
       "      <th></th>\n",
       "      <th></th>\n",
       "      <th></th>\n",
       "      <th></th>\n",
       "      <th></th>\n",
       "      <th></th>\n",
       "      <th></th>\n",
       "      <th></th>\n",
       "      <th></th>\n",
       "      <th></th>\n",
       "      <th></th>\n",
       "      <th></th>\n",
       "      <th></th>\n",
       "    </tr>\n",
       "  </thead>\n",
       "  <tbody>\n",
       "    <tr>\n",
       "      <th>2014-10-01</th>\n",
       "      <td>108.406662</td>\n",
       "      <td>383.614990</td>\n",
       "      <td>1.262834</td>\n",
       "      <td>1214.599976</td>\n",
       "      <td>40.006676</td>\n",
       "      <td>16804.710938</td>\n",
       "      <td>124.669998</td>\n",
       "      <td>383.614990</td>\n",
       "      <td>1.262834</td>\n",
       "      <td>1214.599976</td>\n",
       "      <td>...</td>\n",
       "      <td>1.262913</td>\n",
       "      <td>1207.699951</td>\n",
       "      <td>46.270000</td>\n",
       "      <td>17040.460938</td>\n",
       "      <td>5265200.0</td>\n",
       "      <td>26229400</td>\n",
       "      <td>0.0</td>\n",
       "      <td>178.0</td>\n",
       "      <td>38088400.0</td>\n",
       "      <td>104240000.0</td>\n",
       "    </tr>\n",
       "    <tr>\n",
       "      <th>2014-10-02</th>\n",
       "      <td>107.971893</td>\n",
       "      <td>375.071991</td>\n",
       "      <td>1.262419</td>\n",
       "      <td>1214.199951</td>\n",
       "      <td>39.884655</td>\n",
       "      <td>16801.050781</td>\n",
       "      <td>124.169998</td>\n",
       "      <td>375.071991</td>\n",
       "      <td>1.262419</td>\n",
       "      <td>1214.199951</td>\n",
       "      <td>...</td>\n",
       "      <td>1.262499</td>\n",
       "      <td>1215.300049</td>\n",
       "      <td>45.830002</td>\n",
       "      <td>16808.269531</td>\n",
       "      <td>3204500.0</td>\n",
       "      <td>21777700</td>\n",
       "      <td>0.0</td>\n",
       "      <td>176.0</td>\n",
       "      <td>25119400.0</td>\n",
       "      <td>75490000.0</td>\n",
       "    </tr>\n",
       "    <tr>\n",
       "      <th>2014-10-03</th>\n",
       "      <td>109.876205</td>\n",
       "      <td>359.511993</td>\n",
       "      <td>1.267058</td>\n",
       "      <td>1192.199951</td>\n",
       "      <td>40.172283</td>\n",
       "      <td>17009.689453</td>\n",
       "      <td>126.360001</td>\n",
       "      <td>359.511993</td>\n",
       "      <td>1.267058</td>\n",
       "      <td>1192.199951</td>\n",
       "      <td>...</td>\n",
       "      <td>1.266994</td>\n",
       "      <td>1212.400024</td>\n",
       "      <td>45.980000</td>\n",
       "      <td>16802.199219</td>\n",
       "      <td>3075900.0</td>\n",
       "      <td>30901200</td>\n",
       "      <td>0.0</td>\n",
       "      <td>499.0</td>\n",
       "      <td>32453200.0</td>\n",
       "      <td>87940000.0</td>\n",
       "    </tr>\n",
       "    <tr>\n",
       "      <th>2014-10-04</th>\n",
       "      <td>NaN</td>\n",
       "      <td>328.865997</td>\n",
       "      <td>NaN</td>\n",
       "      <td>NaN</td>\n",
       "      <td>NaN</td>\n",
       "      <td>NaN</td>\n",
       "      <td>NaN</td>\n",
       "      <td>328.865997</td>\n",
       "      <td>NaN</td>\n",
       "      <td>NaN</td>\n",
       "      <td>...</td>\n",
       "      <td>NaN</td>\n",
       "      <td>NaN</td>\n",
       "      <td>NaN</td>\n",
       "      <td>NaN</td>\n",
       "      <td>NaN</td>\n",
       "      <td>47236500</td>\n",
       "      <td>NaN</td>\n",
       "      <td>NaN</td>\n",
       "      <td>NaN</td>\n",
       "      <td>NaN</td>\n",
       "    </tr>\n",
       "    <tr>\n",
       "      <th>2014-10-05</th>\n",
       "      <td>NaN</td>\n",
       "      <td>320.510010</td>\n",
       "      <td>NaN</td>\n",
       "      <td>NaN</td>\n",
       "      <td>NaN</td>\n",
       "      <td>NaN</td>\n",
       "      <td>NaN</td>\n",
       "      <td>320.510010</td>\n",
       "      <td>NaN</td>\n",
       "      <td>NaN</td>\n",
       "      <td>...</td>\n",
       "      <td>NaN</td>\n",
       "      <td>NaN</td>\n",
       "      <td>NaN</td>\n",
       "      <td>NaN</td>\n",
       "      <td>NaN</td>\n",
       "      <td>83308096</td>\n",
       "      <td>NaN</td>\n",
       "      <td>NaN</td>\n",
       "      <td>NaN</td>\n",
       "      <td>NaN</td>\n",
       "    </tr>\n",
       "    <tr>\n",
       "      <th>...</th>\n",
       "      <td>...</td>\n",
       "      <td>...</td>\n",
       "      <td>...</td>\n",
       "      <td>...</td>\n",
       "      <td>...</td>\n",
       "      <td>...</td>\n",
       "      <td>...</td>\n",
       "      <td>...</td>\n",
       "      <td>...</td>\n",
       "      <td>...</td>\n",
       "      <td>...</td>\n",
       "      <td>...</td>\n",
       "      <td>...</td>\n",
       "      <td>...</td>\n",
       "      <td>...</td>\n",
       "      <td>...</td>\n",
       "      <td>...</td>\n",
       "      <td>...</td>\n",
       "      <td>...</td>\n",
       "      <td>...</td>\n",
       "      <td>...</td>\n",
       "    </tr>\n",
       "    <tr>\n",
       "      <th>2021-05-27</th>\n",
       "      <td>250.699997</td>\n",
       "      <td>38436.968750</td>\n",
       "      <td>1.219260</td>\n",
       "      <td>1895.699951</td>\n",
       "      <td>247.290726</td>\n",
       "      <td>34464.640625</td>\n",
       "      <td>250.699997</td>\n",
       "      <td>38436.968750</td>\n",
       "      <td>1.219260</td>\n",
       "      <td>1895.699951</td>\n",
       "      <td>...</td>\n",
       "      <td>1.219036</td>\n",
       "      <td>1896.800049</td>\n",
       "      <td>251.169998</td>\n",
       "      <td>34432.468750</td>\n",
       "      <td>18404400.0</td>\n",
       "      <td>43210968721</td>\n",
       "      <td>0.0</td>\n",
       "      <td>35794.0</td>\n",
       "      <td>24426200.0</td>\n",
       "      <td>520630000.0</td>\n",
       "    </tr>\n",
       "    <tr>\n",
       "      <th>2021-05-28</th>\n",
       "      <td>247.020004</td>\n",
       "      <td>35697.605469</td>\n",
       "      <td>1.219319</td>\n",
       "      <td>1902.500000</td>\n",
       "      <td>247.657730</td>\n",
       "      <td>34529.449219</td>\n",
       "      <td>247.020004</td>\n",
       "      <td>35697.605469</td>\n",
       "      <td>1.219319</td>\n",
       "      <td>1902.500000</td>\n",
       "      <td>...</td>\n",
       "      <td>1.219274</td>\n",
       "      <td>1897.500000</td>\n",
       "      <td>251.000000</td>\n",
       "      <td>34558.500000</td>\n",
       "      <td>11197400.0</td>\n",
       "      <td>55200191952</td>\n",
       "      <td>0.0</td>\n",
       "      <td>2415.0</td>\n",
       "      <td>18270200.0</td>\n",
       "      <td>290850000.0</td>\n",
       "    </tr>\n",
       "    <tr>\n",
       "      <th>2021-05-29</th>\n",
       "      <td>NaN</td>\n",
       "      <td>34616.066406</td>\n",
       "      <td>NaN</td>\n",
       "      <td>NaN</td>\n",
       "      <td>NaN</td>\n",
       "      <td>NaN</td>\n",
       "      <td>NaN</td>\n",
       "      <td>34616.066406</td>\n",
       "      <td>NaN</td>\n",
       "      <td>NaN</td>\n",
       "      <td>...</td>\n",
       "      <td>NaN</td>\n",
       "      <td>NaN</td>\n",
       "      <td>NaN</td>\n",
       "      <td>NaN</td>\n",
       "      <td>NaN</td>\n",
       "      <td>45231013335</td>\n",
       "      <td>NaN</td>\n",
       "      <td>NaN</td>\n",
       "      <td>NaN</td>\n",
       "      <td>NaN</td>\n",
       "    </tr>\n",
       "    <tr>\n",
       "      <th>2021-05-30</th>\n",
       "      <td>NaN</td>\n",
       "      <td>35678.128906</td>\n",
       "      <td>NaN</td>\n",
       "      <td>NaN</td>\n",
       "      <td>NaN</td>\n",
       "      <td>NaN</td>\n",
       "      <td>NaN</td>\n",
       "      <td>35678.128906</td>\n",
       "      <td>NaN</td>\n",
       "      <td>NaN</td>\n",
       "      <td>...</td>\n",
       "      <td>NaN</td>\n",
       "      <td>NaN</td>\n",
       "      <td>NaN</td>\n",
       "      <td>NaN</td>\n",
       "      <td>NaN</td>\n",
       "      <td>31646080921</td>\n",
       "      <td>NaN</td>\n",
       "      <td>NaN</td>\n",
       "      <td>NaN</td>\n",
       "      <td>NaN</td>\n",
       "    </tr>\n",
       "    <tr>\n",
       "      <th>2021-05-31</th>\n",
       "      <td>NaN</td>\n",
       "      <td>37332.855469</td>\n",
       "      <td>1.219007</td>\n",
       "      <td>NaN</td>\n",
       "      <td>NaN</td>\n",
       "      <td>NaN</td>\n",
       "      <td>NaN</td>\n",
       "      <td>37332.855469</td>\n",
       "      <td>1.219007</td>\n",
       "      <td>NaN</td>\n",
       "      <td>...</td>\n",
       "      <td>1.219007</td>\n",
       "      <td>NaN</td>\n",
       "      <td>NaN</td>\n",
       "      <td>NaN</td>\n",
       "      <td>NaN</td>\n",
       "      <td>39009847639</td>\n",
       "      <td>0.0</td>\n",
       "      <td>NaN</td>\n",
       "      <td>NaN</td>\n",
       "      <td>NaN</td>\n",
       "    </tr>\n",
       "  </tbody>\n",
       "</table>\n",
       "<p>2435 rows × 36 columns</p>\n",
       "</div>"
      ],
      "text/plain": [
       "             Adj Close                                                   \\\n",
       "                    BA       BTC-USD  EURUSD=X         GC=F        MSFT   \n",
       "Date                                                                      \n",
       "2014-10-01  108.406662    383.614990  1.262834  1214.599976   40.006676   \n",
       "2014-10-02  107.971893    375.071991  1.262419  1214.199951   39.884655   \n",
       "2014-10-03  109.876205    359.511993  1.267058  1192.199951   40.172283   \n",
       "2014-10-04         NaN    328.865997       NaN          NaN         NaN   \n",
       "2014-10-05         NaN    320.510010       NaN          NaN         NaN   \n",
       "...                ...           ...       ...          ...         ...   \n",
       "2021-05-27  250.699997  38436.968750  1.219260  1895.699951  247.290726   \n",
       "2021-05-28  247.020004  35697.605469  1.219319  1902.500000  247.657730   \n",
       "2021-05-29         NaN  34616.066406       NaN          NaN         NaN   \n",
       "2021-05-30         NaN  35678.128906       NaN          NaN         NaN   \n",
       "2021-05-31         NaN  37332.855469  1.219007          NaN         NaN   \n",
       "\n",
       "                               Close                                       \\\n",
       "                    ^DJI          BA       BTC-USD  EURUSD=X         GC=F   \n",
       "Date                                                                        \n",
       "2014-10-01  16804.710938  124.669998    383.614990  1.262834  1214.599976   \n",
       "2014-10-02  16801.050781  124.169998    375.071991  1.262419  1214.199951   \n",
       "2014-10-03  17009.689453  126.360001    359.511993  1.267058  1192.199951   \n",
       "2014-10-04           NaN         NaN    328.865997       NaN          NaN   \n",
       "2014-10-05           NaN         NaN    320.510010       NaN          NaN   \n",
       "...                  ...         ...           ...       ...          ...   \n",
       "2021-05-27  34464.640625  250.699997  38436.968750  1.219260  1895.699951   \n",
       "2021-05-28  34529.449219  247.020004  35697.605469  1.219319  1902.500000   \n",
       "2021-05-29           NaN         NaN  34616.066406       NaN          NaN   \n",
       "2021-05-30           NaN         NaN  35678.128906       NaN          NaN   \n",
       "2021-05-31           NaN         NaN  37332.855469  1.219007          NaN   \n",
       "\n",
       "            ...      Open                                             Volume  \\\n",
       "            ...  EURUSD=X         GC=F        MSFT          ^DJI          BA   \n",
       "Date        ...                                                                \n",
       "2014-10-01  ...  1.262913  1207.699951   46.270000  17040.460938   5265200.0   \n",
       "2014-10-02  ...  1.262499  1215.300049   45.830002  16808.269531   3204500.0   \n",
       "2014-10-03  ...  1.266994  1212.400024   45.980000  16802.199219   3075900.0   \n",
       "2014-10-04  ...       NaN          NaN         NaN           NaN         NaN   \n",
       "2014-10-05  ...       NaN          NaN         NaN           NaN         NaN   \n",
       "...         ...       ...          ...         ...           ...         ...   \n",
       "2021-05-27  ...  1.219036  1896.800049  251.169998  34432.468750  18404400.0   \n",
       "2021-05-28  ...  1.219274  1897.500000  251.000000  34558.500000  11197400.0   \n",
       "2021-05-29  ...       NaN          NaN         NaN           NaN         NaN   \n",
       "2021-05-30  ...       NaN          NaN         NaN           NaN         NaN   \n",
       "2021-05-31  ...  1.219007          NaN         NaN           NaN         NaN   \n",
       "\n",
       "                                                                    \n",
       "                BTC-USD EURUSD=X     GC=F        MSFT         ^DJI  \n",
       "Date                                                                \n",
       "2014-10-01     26229400      0.0    178.0  38088400.0  104240000.0  \n",
       "2014-10-02     21777700      0.0    176.0  25119400.0   75490000.0  \n",
       "2014-10-03     30901200      0.0    499.0  32453200.0   87940000.0  \n",
       "2014-10-04     47236500      NaN      NaN         NaN          NaN  \n",
       "2014-10-05     83308096      NaN      NaN         NaN          NaN  \n",
       "...                 ...      ...      ...         ...          ...  \n",
       "2021-05-27  43210968721      0.0  35794.0  24426200.0  520630000.0  \n",
       "2021-05-28  55200191952      0.0   2415.0  18270200.0  290850000.0  \n",
       "2021-05-29  45231013335      NaN      NaN         NaN          NaN  \n",
       "2021-05-30  31646080921      NaN      NaN         NaN          NaN  \n",
       "2021-05-31  39009847639      0.0      NaN         NaN          NaN  \n",
       "\n",
       "[2435 rows x 36 columns]"
      ]
     },
     "execution_count": 7,
     "metadata": {},
     "output_type": "execute_result"
    }
   ],
   "source": [
    "df = yf.download(symbol, start, end)\n",
    "df"
   ]
  },
  {
   "cell_type": "code",
   "execution_count": 8,
   "id": "0ffab170",
   "metadata": {},
   "outputs": [
    {
     "name": "stdout",
     "output_type": "stream",
     "text": [
      "<class 'pandas.core.frame.DataFrame'>\n",
      "DatetimeIndex: 2435 entries, 2014-10-01 to 2021-05-31\n",
      "Freq: D\n",
      "Data columns (total 36 columns):\n",
      " #   Column                 Non-Null Count  Dtype  \n",
      "---  ------                 --------------  -----  \n",
      " 0   (Adj Close, BA)        1677 non-null   float64\n",
      " 1   (Adj Close, BTC-USD)   2435 non-null   float64\n",
      " 2   (Adj Close, EURUSD=X)  1736 non-null   float64\n",
      " 3   (Adj Close, GC=F)      1674 non-null   float64\n",
      " 4   (Adj Close, MSFT)      1677 non-null   float64\n",
      " 5   (Adj Close, ^DJI)      1677 non-null   float64\n",
      " 6   (Close, BA)            1677 non-null   float64\n",
      " 7   (Close, BTC-USD)       2435 non-null   float64\n",
      " 8   (Close, EURUSD=X)      1736 non-null   float64\n",
      " 9   (Close, GC=F)          1674 non-null   float64\n",
      " 10  (Close, MSFT)          1677 non-null   float64\n",
      " 11  (Close, ^DJI)          1677 non-null   float64\n",
      " 12  (High, BA)             1677 non-null   float64\n",
      " 13  (High, BTC-USD)        2435 non-null   float64\n",
      " 14  (High, EURUSD=X)       1736 non-null   float64\n",
      " 15  (High, GC=F)           1674 non-null   float64\n",
      " 16  (High, MSFT)           1677 non-null   float64\n",
      " 17  (High, ^DJI)           1677 non-null   float64\n",
      " 18  (Low, BA)              1677 non-null   float64\n",
      " 19  (Low, BTC-USD)         2435 non-null   float64\n",
      " 20  (Low, EURUSD=X)        1736 non-null   float64\n",
      " 21  (Low, GC=F)            1674 non-null   float64\n",
      " 22  (Low, MSFT)            1677 non-null   float64\n",
      " 23  (Low, ^DJI)            1677 non-null   float64\n",
      " 24  (Open, BA)             1677 non-null   float64\n",
      " 25  (Open, BTC-USD)        2435 non-null   float64\n",
      " 26  (Open, EURUSD=X)       1736 non-null   float64\n",
      " 27  (Open, GC=F)           1674 non-null   float64\n",
      " 28  (Open, MSFT)           1677 non-null   float64\n",
      " 29  (Open, ^DJI)           1677 non-null   float64\n",
      " 30  (Volume, BA)           1677 non-null   float64\n",
      " 31  (Volume, BTC-USD)      2435 non-null   int64  \n",
      " 32  (Volume, EURUSD=X)     1736 non-null   float64\n",
      " 33  (Volume, GC=F)         1674 non-null   float64\n",
      " 34  (Volume, MSFT)         1677 non-null   float64\n",
      " 35  (Volume, ^DJI)         1677 non-null   float64\n",
      "dtypes: float64(35), int64(1)\n",
      "memory usage: 703.9 KB\n"
     ]
    }
   ],
   "source": [
    "df.info()"
   ]
  },
  {
   "cell_type": "code",
   "execution_count": 10,
   "id": "228c6cd0",
   "metadata": {},
   "outputs": [],
   "source": [
    "df.to_csv(\"multi_assets.csv\")"
   ]
  },
  {
   "cell_type": "code",
   "execution_count": null,
   "id": "9adf39f7",
   "metadata": {},
   "outputs": [],
   "source": []
  },
  {
   "cell_type": "markdown",
   "id": "8fb998d5",
   "metadata": {},
   "source": [
    "## Initial Inspection and Analysis"
   ]
  },
  {
   "cell_type": "code",
   "execution_count": 25,
   "id": "ca851ade",
   "metadata": {},
   "outputs": [],
   "source": [
    "import pandas as pd\n",
    "import matplotlib.pyplot as plt\n",
    "pd.options.display.float_format = '{:.4f}'.format\n",
    "plt.style.use(\"seaborn\")"
   ]
  },
  {
   "cell_type": "code",
   "execution_count": 26,
   "id": "2ff5d5de",
   "metadata": {},
   "outputs": [
    {
     "data": {
      "text/html": [
       "<div>\n",
       "<style scoped>\n",
       "    .dataframe tbody tr th:only-of-type {\n",
       "        vertical-align: middle;\n",
       "    }\n",
       "\n",
       "    .dataframe tbody tr th {\n",
       "        vertical-align: top;\n",
       "    }\n",
       "\n",
       "    .dataframe thead tr th {\n",
       "        text-align: left;\n",
       "    }\n",
       "\n",
       "    .dataframe thead tr:last-of-type th {\n",
       "        text-align: right;\n",
       "    }\n",
       "</style>\n",
       "<table border=\"1\" class=\"dataframe\">\n",
       "  <thead>\n",
       "    <tr>\n",
       "      <th></th>\n",
       "      <th colspan=\"6\" halign=\"left\">Adj Close</th>\n",
       "      <th colspan=\"4\" halign=\"left\">Close</th>\n",
       "      <th>...</th>\n",
       "      <th colspan=\"4\" halign=\"left\">Open</th>\n",
       "      <th colspan=\"6\" halign=\"left\">Volume</th>\n",
       "    </tr>\n",
       "    <tr>\n",
       "      <th></th>\n",
       "      <th>BA</th>\n",
       "      <th>BTC-USD</th>\n",
       "      <th>EURUSD=X</th>\n",
       "      <th>GC=F</th>\n",
       "      <th>MSFT</th>\n",
       "      <th>^DJI</th>\n",
       "      <th>BA</th>\n",
       "      <th>BTC-USD</th>\n",
       "      <th>EURUSD=X</th>\n",
       "      <th>GC=F</th>\n",
       "      <th>...</th>\n",
       "      <th>EURUSD=X</th>\n",
       "      <th>GC=F</th>\n",
       "      <th>MSFT</th>\n",
       "      <th>^DJI</th>\n",
       "      <th>BA</th>\n",
       "      <th>BTC-USD</th>\n",
       "      <th>EURUSD=X</th>\n",
       "      <th>GC=F</th>\n",
       "      <th>MSFT</th>\n",
       "      <th>^DJI</th>\n",
       "    </tr>\n",
       "    <tr>\n",
       "      <th>Date</th>\n",
       "      <th></th>\n",
       "      <th></th>\n",
       "      <th></th>\n",
       "      <th></th>\n",
       "      <th></th>\n",
       "      <th></th>\n",
       "      <th></th>\n",
       "      <th></th>\n",
       "      <th></th>\n",
       "      <th></th>\n",
       "      <th></th>\n",
       "      <th></th>\n",
       "      <th></th>\n",
       "      <th></th>\n",
       "      <th></th>\n",
       "      <th></th>\n",
       "      <th></th>\n",
       "      <th></th>\n",
       "      <th></th>\n",
       "      <th></th>\n",
       "      <th></th>\n",
       "    </tr>\n",
       "  </thead>\n",
       "  <tbody>\n",
       "    <tr>\n",
       "      <th>2014-10-01</th>\n",
       "      <td>108.4067</td>\n",
       "      <td>383.6150</td>\n",
       "      <td>1.2628</td>\n",
       "      <td>1214.6000</td>\n",
       "      <td>40.0067</td>\n",
       "      <td>16804.7109</td>\n",
       "      <td>124.6700</td>\n",
       "      <td>383.6150</td>\n",
       "      <td>1.2628</td>\n",
       "      <td>1214.6000</td>\n",
       "      <td>...</td>\n",
       "      <td>1.2629</td>\n",
       "      <td>1207.7000</td>\n",
       "      <td>46.2700</td>\n",
       "      <td>17040.4609</td>\n",
       "      <td>5265200.0000</td>\n",
       "      <td>26229400</td>\n",
       "      <td>0.0000</td>\n",
       "      <td>178.0000</td>\n",
       "      <td>38088400.0000</td>\n",
       "      <td>104240000.0000</td>\n",
       "    </tr>\n",
       "    <tr>\n",
       "      <th>2014-10-02</th>\n",
       "      <td>107.9719</td>\n",
       "      <td>375.0720</td>\n",
       "      <td>1.2624</td>\n",
       "      <td>1214.2000</td>\n",
       "      <td>39.8847</td>\n",
       "      <td>16801.0508</td>\n",
       "      <td>124.1700</td>\n",
       "      <td>375.0720</td>\n",
       "      <td>1.2624</td>\n",
       "      <td>1214.2000</td>\n",
       "      <td>...</td>\n",
       "      <td>1.2625</td>\n",
       "      <td>1215.3000</td>\n",
       "      <td>45.8300</td>\n",
       "      <td>16808.2695</td>\n",
       "      <td>3204500.0000</td>\n",
       "      <td>21777700</td>\n",
       "      <td>0.0000</td>\n",
       "      <td>176.0000</td>\n",
       "      <td>25119400.0000</td>\n",
       "      <td>75490000.0000</td>\n",
       "    </tr>\n",
       "    <tr>\n",
       "      <th>2014-10-03</th>\n",
       "      <td>109.8762</td>\n",
       "      <td>359.5120</td>\n",
       "      <td>1.2671</td>\n",
       "      <td>1192.2000</td>\n",
       "      <td>40.1723</td>\n",
       "      <td>17009.6895</td>\n",
       "      <td>126.3600</td>\n",
       "      <td>359.5120</td>\n",
       "      <td>1.2671</td>\n",
       "      <td>1192.2000</td>\n",
       "      <td>...</td>\n",
       "      <td>1.2670</td>\n",
       "      <td>1212.4000</td>\n",
       "      <td>45.9800</td>\n",
       "      <td>16802.1992</td>\n",
       "      <td>3075900.0000</td>\n",
       "      <td>30901200</td>\n",
       "      <td>0.0000</td>\n",
       "      <td>499.0000</td>\n",
       "      <td>32453200.0000</td>\n",
       "      <td>87940000.0000</td>\n",
       "    </tr>\n",
       "    <tr>\n",
       "      <th>2014-10-04</th>\n",
       "      <td>NaN</td>\n",
       "      <td>328.8660</td>\n",
       "      <td>NaN</td>\n",
       "      <td>NaN</td>\n",
       "      <td>NaN</td>\n",
       "      <td>NaN</td>\n",
       "      <td>NaN</td>\n",
       "      <td>328.8660</td>\n",
       "      <td>NaN</td>\n",
       "      <td>NaN</td>\n",
       "      <td>...</td>\n",
       "      <td>NaN</td>\n",
       "      <td>NaN</td>\n",
       "      <td>NaN</td>\n",
       "      <td>NaN</td>\n",
       "      <td>NaN</td>\n",
       "      <td>47236500</td>\n",
       "      <td>NaN</td>\n",
       "      <td>NaN</td>\n",
       "      <td>NaN</td>\n",
       "      <td>NaN</td>\n",
       "    </tr>\n",
       "    <tr>\n",
       "      <th>2014-10-05</th>\n",
       "      <td>NaN</td>\n",
       "      <td>320.5100</td>\n",
       "      <td>NaN</td>\n",
       "      <td>NaN</td>\n",
       "      <td>NaN</td>\n",
       "      <td>NaN</td>\n",
       "      <td>NaN</td>\n",
       "      <td>320.5100</td>\n",
       "      <td>NaN</td>\n",
       "      <td>NaN</td>\n",
       "      <td>...</td>\n",
       "      <td>NaN</td>\n",
       "      <td>NaN</td>\n",
       "      <td>NaN</td>\n",
       "      <td>NaN</td>\n",
       "      <td>NaN</td>\n",
       "      <td>83308096</td>\n",
       "      <td>NaN</td>\n",
       "      <td>NaN</td>\n",
       "      <td>NaN</td>\n",
       "      <td>NaN</td>\n",
       "    </tr>\n",
       "    <tr>\n",
       "      <th>...</th>\n",
       "      <td>...</td>\n",
       "      <td>...</td>\n",
       "      <td>...</td>\n",
       "      <td>...</td>\n",
       "      <td>...</td>\n",
       "      <td>...</td>\n",
       "      <td>...</td>\n",
       "      <td>...</td>\n",
       "      <td>...</td>\n",
       "      <td>...</td>\n",
       "      <td>...</td>\n",
       "      <td>...</td>\n",
       "      <td>...</td>\n",
       "      <td>...</td>\n",
       "      <td>...</td>\n",
       "      <td>...</td>\n",
       "      <td>...</td>\n",
       "      <td>...</td>\n",
       "      <td>...</td>\n",
       "      <td>...</td>\n",
       "      <td>...</td>\n",
       "    </tr>\n",
       "    <tr>\n",
       "      <th>2021-05-27</th>\n",
       "      <td>250.7000</td>\n",
       "      <td>38436.9688</td>\n",
       "      <td>1.2193</td>\n",
       "      <td>1895.7000</td>\n",
       "      <td>247.2907</td>\n",
       "      <td>34464.6406</td>\n",
       "      <td>250.7000</td>\n",
       "      <td>38436.9688</td>\n",
       "      <td>1.2193</td>\n",
       "      <td>1895.7000</td>\n",
       "      <td>...</td>\n",
       "      <td>1.2190</td>\n",
       "      <td>1896.8000</td>\n",
       "      <td>251.1700</td>\n",
       "      <td>34432.4688</td>\n",
       "      <td>18404400.0000</td>\n",
       "      <td>43210968721</td>\n",
       "      <td>0.0000</td>\n",
       "      <td>35794.0000</td>\n",
       "      <td>24426200.0000</td>\n",
       "      <td>520630000.0000</td>\n",
       "    </tr>\n",
       "    <tr>\n",
       "      <th>2021-05-28</th>\n",
       "      <td>247.0200</td>\n",
       "      <td>35697.6055</td>\n",
       "      <td>1.2193</td>\n",
       "      <td>1902.5000</td>\n",
       "      <td>247.6577</td>\n",
       "      <td>34529.4492</td>\n",
       "      <td>247.0200</td>\n",
       "      <td>35697.6055</td>\n",
       "      <td>1.2193</td>\n",
       "      <td>1902.5000</td>\n",
       "      <td>...</td>\n",
       "      <td>1.2193</td>\n",
       "      <td>1897.5000</td>\n",
       "      <td>251.0000</td>\n",
       "      <td>34558.5000</td>\n",
       "      <td>11197400.0000</td>\n",
       "      <td>55200191952</td>\n",
       "      <td>0.0000</td>\n",
       "      <td>2415.0000</td>\n",
       "      <td>18270200.0000</td>\n",
       "      <td>290850000.0000</td>\n",
       "    </tr>\n",
       "    <tr>\n",
       "      <th>2021-05-29</th>\n",
       "      <td>NaN</td>\n",
       "      <td>34616.0664</td>\n",
       "      <td>NaN</td>\n",
       "      <td>NaN</td>\n",
       "      <td>NaN</td>\n",
       "      <td>NaN</td>\n",
       "      <td>NaN</td>\n",
       "      <td>34616.0664</td>\n",
       "      <td>NaN</td>\n",
       "      <td>NaN</td>\n",
       "      <td>...</td>\n",
       "      <td>NaN</td>\n",
       "      <td>NaN</td>\n",
       "      <td>NaN</td>\n",
       "      <td>NaN</td>\n",
       "      <td>NaN</td>\n",
       "      <td>45231013335</td>\n",
       "      <td>NaN</td>\n",
       "      <td>NaN</td>\n",
       "      <td>NaN</td>\n",
       "      <td>NaN</td>\n",
       "    </tr>\n",
       "    <tr>\n",
       "      <th>2021-05-30</th>\n",
       "      <td>NaN</td>\n",
       "      <td>35678.1289</td>\n",
       "      <td>NaN</td>\n",
       "      <td>NaN</td>\n",
       "      <td>NaN</td>\n",
       "      <td>NaN</td>\n",
       "      <td>NaN</td>\n",
       "      <td>35678.1289</td>\n",
       "      <td>NaN</td>\n",
       "      <td>NaN</td>\n",
       "      <td>...</td>\n",
       "      <td>NaN</td>\n",
       "      <td>NaN</td>\n",
       "      <td>NaN</td>\n",
       "      <td>NaN</td>\n",
       "      <td>NaN</td>\n",
       "      <td>31646080921</td>\n",
       "      <td>NaN</td>\n",
       "      <td>NaN</td>\n",
       "      <td>NaN</td>\n",
       "      <td>NaN</td>\n",
       "    </tr>\n",
       "    <tr>\n",
       "      <th>2021-05-31</th>\n",
       "      <td>NaN</td>\n",
       "      <td>37332.8555</td>\n",
       "      <td>1.2190</td>\n",
       "      <td>NaN</td>\n",
       "      <td>NaN</td>\n",
       "      <td>NaN</td>\n",
       "      <td>NaN</td>\n",
       "      <td>37332.8555</td>\n",
       "      <td>1.2190</td>\n",
       "      <td>NaN</td>\n",
       "      <td>...</td>\n",
       "      <td>1.2190</td>\n",
       "      <td>NaN</td>\n",
       "      <td>NaN</td>\n",
       "      <td>NaN</td>\n",
       "      <td>NaN</td>\n",
       "      <td>39009847639</td>\n",
       "      <td>0.0000</td>\n",
       "      <td>NaN</td>\n",
       "      <td>NaN</td>\n",
       "      <td>NaN</td>\n",
       "    </tr>\n",
       "  </tbody>\n",
       "</table>\n",
       "<p>2435 rows × 36 columns</p>\n",
       "</div>"
      ],
      "text/plain": [
       "           Adj Close                                                    \\\n",
       "                  BA    BTC-USD EURUSD=X      GC=F     MSFT       ^DJI   \n",
       "Date                                                                     \n",
       "2014-10-01  108.4067   383.6150   1.2628 1214.6000  40.0067 16804.7109   \n",
       "2014-10-02  107.9719   375.0720   1.2624 1214.2000  39.8847 16801.0508   \n",
       "2014-10-03  109.8762   359.5120   1.2671 1192.2000  40.1723 17009.6895   \n",
       "2014-10-04       NaN   328.8660      NaN       NaN      NaN        NaN   \n",
       "2014-10-05       NaN   320.5100      NaN       NaN      NaN        NaN   \n",
       "...              ...        ...      ...       ...      ...        ...   \n",
       "2021-05-27  250.7000 38436.9688   1.2193 1895.7000 247.2907 34464.6406   \n",
       "2021-05-28  247.0200 35697.6055   1.2193 1902.5000 247.6577 34529.4492   \n",
       "2021-05-29       NaN 34616.0664      NaN       NaN      NaN        NaN   \n",
       "2021-05-30       NaN 35678.1289      NaN       NaN      NaN        NaN   \n",
       "2021-05-31       NaN 37332.8555   1.2190       NaN      NaN        NaN   \n",
       "\n",
       "              Close                                ...     Open            \\\n",
       "                 BA    BTC-USD EURUSD=X      GC=F  ... EURUSD=X      GC=F   \n",
       "Date                                               ...                      \n",
       "2014-10-01 124.6700   383.6150   1.2628 1214.6000  ...   1.2629 1207.7000   \n",
       "2014-10-02 124.1700   375.0720   1.2624 1214.2000  ...   1.2625 1215.3000   \n",
       "2014-10-03 126.3600   359.5120   1.2671 1192.2000  ...   1.2670 1212.4000   \n",
       "2014-10-04      NaN   328.8660      NaN       NaN  ...      NaN       NaN   \n",
       "2014-10-05      NaN   320.5100      NaN       NaN  ...      NaN       NaN   \n",
       "...             ...        ...      ...       ...  ...      ...       ...   \n",
       "2021-05-27 250.7000 38436.9688   1.2193 1895.7000  ...   1.2190 1896.8000   \n",
       "2021-05-28 247.0200 35697.6055   1.2193 1902.5000  ...   1.2193 1897.5000   \n",
       "2021-05-29      NaN 34616.0664      NaN       NaN  ...      NaN       NaN   \n",
       "2021-05-30      NaN 35678.1289      NaN       NaN  ...      NaN       NaN   \n",
       "2021-05-31      NaN 37332.8555   1.2190       NaN  ...   1.2190       NaN   \n",
       "\n",
       "                                      Volume                                   \\\n",
       "               MSFT       ^DJI            BA      BTC-USD EURUSD=X       GC=F   \n",
       "Date                                                                            \n",
       "2014-10-01  46.2700 17040.4609  5265200.0000     26229400   0.0000   178.0000   \n",
       "2014-10-02  45.8300 16808.2695  3204500.0000     21777700   0.0000   176.0000   \n",
       "2014-10-03  45.9800 16802.1992  3075900.0000     30901200   0.0000   499.0000   \n",
       "2014-10-04      NaN        NaN           NaN     47236500      NaN        NaN   \n",
       "2014-10-05      NaN        NaN           NaN     83308096      NaN        NaN   \n",
       "...             ...        ...           ...          ...      ...        ...   \n",
       "2021-05-27 251.1700 34432.4688 18404400.0000  43210968721   0.0000 35794.0000   \n",
       "2021-05-28 251.0000 34558.5000 11197400.0000  55200191952   0.0000  2415.0000   \n",
       "2021-05-29      NaN        NaN           NaN  45231013335      NaN        NaN   \n",
       "2021-05-30      NaN        NaN           NaN  31646080921      NaN        NaN   \n",
       "2021-05-31      NaN        NaN           NaN  39009847639   0.0000        NaN   \n",
       "\n",
       "                                         \n",
       "                    MSFT           ^DJI  \n",
       "Date                                     \n",
       "2014-10-01 38088400.0000 104240000.0000  \n",
       "2014-10-02 25119400.0000  75490000.0000  \n",
       "2014-10-03 32453200.0000  87940000.0000  \n",
       "2014-10-04           NaN            NaN  \n",
       "2014-10-05           NaN            NaN  \n",
       "...                  ...            ...  \n",
       "2021-05-27 24426200.0000 520630000.0000  \n",
       "2021-05-28 18270200.0000 290850000.0000  \n",
       "2021-05-29           NaN            NaN  \n",
       "2021-05-30           NaN            NaN  \n",
       "2021-05-31           NaN            NaN  \n",
       "\n",
       "[2435 rows x 36 columns]"
      ]
     },
     "execution_count": 26,
     "metadata": {},
     "output_type": "execute_result"
    }
   ],
   "source": [
    "df = pd.read_csv(\"multi_assets.csv\", header = [0, 1], index_col = 0, parse_dates = [0])\n",
    "df"
   ]
  },
  {
   "cell_type": "code",
   "execution_count": null,
   "id": "4154b3dc",
   "metadata": {},
   "outputs": [],
   "source": [
    "df.info()"
   ]
  },
  {
   "cell_type": "code",
   "execution_count": null,
   "id": "4356cfce",
   "metadata": {},
   "outputs": [],
   "source": [
    "df.Close # outer index level"
   ]
  },
  {
   "cell_type": "code",
   "execution_count": null,
   "id": "4fc92bac",
   "metadata": {},
   "outputs": [],
   "source": [
    "df.Close.BA # one column (1)"
   ]
  },
  {
   "cell_type": "code",
   "execution_count": null,
   "id": "99ac35fc",
   "metadata": {},
   "outputs": [],
   "source": [
    "df.loc[:, (\"Close\", \"BA\")] # one column (2)"
   ]
  },
  {
   "cell_type": "code",
   "execution_count": null,
   "id": "48ad552c",
   "metadata": {},
   "outputs": [],
   "source": [
    "df.loc[\"2015-01-07\"] # one row"
   ]
  },
  {
   "cell_type": "code",
   "execution_count": null,
   "id": "f95123ef",
   "metadata": {},
   "outputs": [],
   "source": [
    "df.loc[\"2015\"] # one year"
   ]
  },
  {
   "cell_type": "code",
   "execution_count": null,
   "id": "0f35c1a5",
   "metadata": {},
   "outputs": [],
   "source": [
    "df.loc[\"2020-06\":, (\"Close\", \"BA\")] # one month for one column"
   ]
  },
  {
   "cell_type": "code",
   "execution_count": null,
   "id": "4acb199c",
   "metadata": {},
   "outputs": [],
   "source": [
    "df = df.swaplevel(axis = \"columns\").sort_index(axis = \"columns\") # swap outer and inner index\n",
    "df"
   ]
  },
  {
   "cell_type": "code",
   "execution_count": null,
   "id": "3518e04c",
   "metadata": {},
   "outputs": [],
   "source": [
    "df[\"EURUSD=X\"]"
   ]
  },
  {
   "cell_type": "code",
   "execution_count": null,
   "id": "efd617d8",
   "metadata": {},
   "outputs": [],
   "source": [
    "df[\"BTC-USD\"]"
   ]
  },
  {
   "cell_type": "code",
   "execution_count": null,
   "id": "6fa7c360",
   "metadata": {},
   "outputs": [],
   "source": [
    "df = df.swaplevel(axis = \"columns\").sort_index(axis = \"columns\") # swap outer and inner index\n",
    "df"
   ]
  },
  {
   "cell_type": "code",
   "execution_count": null,
   "id": "669bfd2a",
   "metadata": {},
   "outputs": [],
   "source": [
    "close = df.Close.copy() # select daily close prices only\n",
    "close"
   ]
  },
  {
   "cell_type": "code",
   "execution_count": null,
   "id": "0c72b340",
   "metadata": {},
   "outputs": [],
   "source": [
    "close.describe()"
   ]
  },
  {
   "cell_type": "code",
   "execution_count": null,
   "id": "410bb7bd",
   "metadata": {},
   "outputs": [],
   "source": [
    "close.BA.dropna().plot(figsize = (15, 8), fontsize = 13)\n",
    "plt.legend(fontsize = 13)\n",
    "plt.show()"
   ]
  },
  {
   "cell_type": "code",
   "execution_count": null,
   "id": "c11adb44",
   "metadata": {},
   "outputs": [],
   "source": [
    "close.dropna().plot(figsize = (15, 8), fontsize = 13)\n",
    "plt.legend(fontsize = 13)\n",
    "plt.show()"
   ]
  },
  {
   "cell_type": "markdown",
   "id": "5b78b039",
   "metadata": {},
   "source": [
    "__Take Home: Absolute Prices are absolutely meaningless/useless (in most cases)__ <br>\n",
    "- Prices that are on a different scale are hard to compare \n",
    "- A higher Price does not imply a higher value or a better performance"
   ]
  },
  {
   "cell_type": "code",
   "execution_count": null,
   "id": "532d5c7d",
   "metadata": {},
   "outputs": [],
   "source": []
  },
  {
   "cell_type": "markdown",
   "id": "433adcfd",
   "metadata": {},
   "source": [
    "## Normalizing Financial Time Series to a Base Value (100)"
   ]
  },
  {
   "cell_type": "markdown",
   "id": "f3d37dc3",
   "metadata": {},
   "source": [
    "__-> all instruments start at the very same Level (Base Value)__"
   ]
  },
  {
   "cell_type": "code",
   "execution_count": null,
   "id": "edafd894",
   "metadata": {},
   "outputs": [],
   "source": [
    "close"
   ]
  },
  {
   "cell_type": "code",
   "execution_count": null,
   "id": "537c5165",
   "metadata": {},
   "outputs": [],
   "source": [
    "close.iloc[0,0] # first price BA"
   ]
  },
  {
   "cell_type": "code",
   "execution_count": null,
   "id": "02fa70d9",
   "metadata": {
    "scrolled": true
   },
   "outputs": [],
   "source": [
    "close.BA.div(close.iloc[0,0]).mul(100)"
   ]
  },
  {
   "cell_type": "code",
   "execution_count": null,
   "id": "22b0f5d9",
   "metadata": {
    "scrolled": true
   },
   "outputs": [],
   "source": [
    "close.iloc[0] # first Price all tickers"
   ]
  },
  {
   "cell_type": "code",
   "execution_count": null,
   "id": "b7a3f3cf",
   "metadata": {},
   "outputs": [],
   "source": [
    "norm = close.div(close.iloc[0]).mul(100)\n",
    "norm"
   ]
  },
  {
   "cell_type": "code",
   "execution_count": null,
   "id": "89ab020c",
   "metadata": {},
   "outputs": [],
   "source": [
    "norm.dropna().plot(figsize = (15, 8), fontsize = 13, logy = True)\n",
    "plt.legend(fontsize = 13)\n",
    "plt.show()"
   ]
  },
  {
   "cell_type": "markdown",
   "id": "9953498b",
   "metadata": {},
   "source": [
    "__Take Home: Normalized Prices help to compare Financial Instruments...<br>\n",
    "...but they are limited when it comes to measuring/comparing Performance in more detail.__"
   ]
  },
  {
   "cell_type": "code",
   "execution_count": null,
   "id": "a7cdc3f4",
   "metadata": {},
   "outputs": [],
   "source": [
    "close.to_csv(\"close.csv\")"
   ]
  },
  {
   "cell_type": "code",
   "execution_count": null,
   "id": "b69ae6c0",
   "metadata": {},
   "outputs": [],
   "source": []
  },
  {
   "cell_type": "markdown",
   "id": "f8c9a562",
   "metadata": {},
   "source": [
    "---------------------------------------------"
   ]
  },
  {
   "cell_type": "markdown",
   "id": "84a9cdf4",
   "metadata": {},
   "source": [
    "__Coding Challenge #1__"
   ]
  },
  {
   "cell_type": "markdown",
   "id": "e46d6426",
   "metadata": {},
   "source": [
    "1. Load Stock Price Data for General Electric (GE) and another ticker symbol of your choice from 2015-01-02 until 2020-12-31.<br>\n",
    "Go to https://finance.yahoo.com/ and get the right ticker symbol. For instruments traded outside the US, you have to add a country/exchange suffix. <br>\n",
    "Check the suffix list here https://help.yahoo.com/kb/exchanges-data-providers-yahoo-finance-sln2310.html As an example, the suffix for the National Indian Stock Exchange is .NS -> Ticker Symbol for Reliance is Reliance.NS"
   ]
  },
  {
   "cell_type": "markdown",
   "id": "b6ff1425",
   "metadata": {},
   "source": [
    "2. Select Close prices only and create a price chart for GE."
   ]
  },
  {
   "cell_type": "markdown",
   "id": "34f50372",
   "metadata": {},
   "source": [
    "3. Normalize the stock prices for GE and the Ticker Symbol of your choice (Base Value: 1) and visualize! What´s the final normalized price for GE on 2020-12-30? "
   ]
  },
  {
   "cell_type": "markdown",
   "id": "359e6edd",
   "metadata": {},
   "source": [
    "_You can find the solution for the Coding Challenges at the end of this notebook_."
   ]
  },
  {
   "cell_type": "markdown",
   "id": "15712b3e",
   "metadata": {},
   "source": [
    "-----------------------------------------------------"
   ]
  },
  {
   "cell_type": "code",
   "execution_count": 28,
   "id": "a6e46e0b",
   "metadata": {},
   "outputs": [],
   "source": [
    "import pandas as pd\n",
    "import yfinance as yf\n",
    "import matplotlib.pyplot as plt"
   ]
  },
  {
   "cell_type": "code",
   "execution_count": 29,
   "id": "250a15ef",
   "metadata": {},
   "outputs": [
    {
     "name": "stdout",
     "output_type": "stream",
     "text": [
      "[*********************100%***********************]  2 of 2 completed\n"
     ]
    },
    {
     "data": {
      "text/html": [
       "<div>\n",
       "<style scoped>\n",
       "    .dataframe tbody tr th:only-of-type {\n",
       "        vertical-align: middle;\n",
       "    }\n",
       "\n",
       "    .dataframe tbody tr th {\n",
       "        vertical-align: top;\n",
       "    }\n",
       "\n",
       "    .dataframe thead tr th {\n",
       "        text-align: left;\n",
       "    }\n",
       "\n",
       "    .dataframe thead tr:last-of-type th {\n",
       "        text-align: right;\n",
       "    }\n",
       "</style>\n",
       "<table border=\"1\" class=\"dataframe\">\n",
       "  <thead>\n",
       "    <tr>\n",
       "      <th></th>\n",
       "      <th colspan=\"2\" halign=\"left\">Adj Close</th>\n",
       "      <th colspan=\"2\" halign=\"left\">Close</th>\n",
       "      <th colspan=\"2\" halign=\"left\">High</th>\n",
       "      <th colspan=\"2\" halign=\"left\">Low</th>\n",
       "      <th colspan=\"2\" halign=\"left\">Open</th>\n",
       "      <th colspan=\"2\" halign=\"left\">Volume</th>\n",
       "    </tr>\n",
       "    <tr>\n",
       "      <th></th>\n",
       "      <th>FB</th>\n",
       "      <th>GE</th>\n",
       "      <th>FB</th>\n",
       "      <th>GE</th>\n",
       "      <th>FB</th>\n",
       "      <th>GE</th>\n",
       "      <th>FB</th>\n",
       "      <th>GE</th>\n",
       "      <th>FB</th>\n",
       "      <th>GE</th>\n",
       "      <th>FB</th>\n",
       "      <th>GE</th>\n",
       "    </tr>\n",
       "    <tr>\n",
       "      <th>Date</th>\n",
       "      <th></th>\n",
       "      <th></th>\n",
       "      <th></th>\n",
       "      <th></th>\n",
       "      <th></th>\n",
       "      <th></th>\n",
       "      <th></th>\n",
       "      <th></th>\n",
       "      <th></th>\n",
       "      <th></th>\n",
       "      <th></th>\n",
       "      <th></th>\n",
       "    </tr>\n",
       "  </thead>\n",
       "  <tbody>\n",
       "    <tr>\n",
       "      <th>2015-01-02</th>\n",
       "      <td>78.4500</td>\n",
       "      <td>167.7533</td>\n",
       "      <td>78.4500</td>\n",
       "      <td>192.7692</td>\n",
       "      <td>78.9300</td>\n",
       "      <td>195.8462</td>\n",
       "      <td>77.7000</td>\n",
       "      <td>191.3077</td>\n",
       "      <td>78.5800</td>\n",
       "      <td>194.9231</td>\n",
       "      <td>18177500</td>\n",
       "      <td>5319704</td>\n",
       "    </tr>\n",
       "    <tr>\n",
       "      <th>2015-01-05</th>\n",
       "      <td>77.1900</td>\n",
       "      <td>164.6741</td>\n",
       "      <td>77.1900</td>\n",
       "      <td>189.2308</td>\n",
       "      <td>79.2500</td>\n",
       "      <td>192.3846</td>\n",
       "      <td>76.8600</td>\n",
       "      <td>188.6154</td>\n",
       "      <td>77.9800</td>\n",
       "      <td>192.3846</td>\n",
       "      <td>26452200</td>\n",
       "      <td>5464316</td>\n",
       "    </tr>\n",
       "    <tr>\n",
       "      <th>2015-01-06</th>\n",
       "      <td>76.1500</td>\n",
       "      <td>161.1261</td>\n",
       "      <td>76.1500</td>\n",
       "      <td>185.1538</td>\n",
       "      <td>77.5900</td>\n",
       "      <td>189.0000</td>\n",
       "      <td>75.3600</td>\n",
       "      <td>184.0769</td>\n",
       "      <td>77.2300</td>\n",
       "      <td>188.1538</td>\n",
       "      <td>27399300</td>\n",
       "      <td>8288800</td>\n",
       "    </tr>\n",
       "    <tr>\n",
       "      <th>2015-01-07</th>\n",
       "      <td>76.1500</td>\n",
       "      <td>161.1931</td>\n",
       "      <td>76.1500</td>\n",
       "      <td>185.2308</td>\n",
       "      <td>77.3600</td>\n",
       "      <td>187.6154</td>\n",
       "      <td>75.8200</td>\n",
       "      <td>184.4615</td>\n",
       "      <td>76.7600</td>\n",
       "      <td>186.2308</td>\n",
       "      <td>22045300</td>\n",
       "      <td>5673525</td>\n",
       "    </tr>\n",
       "    <tr>\n",
       "      <th>2015-01-08</th>\n",
       "      <td>78.1800</td>\n",
       "      <td>163.1344</td>\n",
       "      <td>78.1800</td>\n",
       "      <td>187.4615</td>\n",
       "      <td>78.2300</td>\n",
       "      <td>187.5385</td>\n",
       "      <td>76.0800</td>\n",
       "      <td>185.6154</td>\n",
       "      <td>76.7400</td>\n",
       "      <td>187.0769</td>\n",
       "      <td>23961000</td>\n",
       "      <td>5619172</td>\n",
       "    </tr>\n",
       "    <tr>\n",
       "      <th>...</th>\n",
       "      <td>...</td>\n",
       "      <td>...</td>\n",
       "      <td>...</td>\n",
       "      <td>...</td>\n",
       "      <td>...</td>\n",
       "      <td>...</td>\n",
       "      <td>...</td>\n",
       "      <td>...</td>\n",
       "      <td>...</td>\n",
       "      <td>...</td>\n",
       "      <td>...</td>\n",
       "      <td>...</td>\n",
       "    </tr>\n",
       "    <tr>\n",
       "      <th>2020-12-23</th>\n",
       "      <td>268.1100</td>\n",
       "      <td>86.5290</td>\n",
       "      <td>268.1100</td>\n",
       "      <td>86.8800</td>\n",
       "      <td>272.1700</td>\n",
       "      <td>87.8400</td>\n",
       "      <td>266.2300</td>\n",
       "      <td>84.9600</td>\n",
       "      <td>266.8900</td>\n",
       "      <td>85.4400</td>\n",
       "      <td>14329000</td>\n",
       "      <td>7563063</td>\n",
       "    </tr>\n",
       "    <tr>\n",
       "      <th>2020-12-24</th>\n",
       "      <td>267.4000</td>\n",
       "      <td>84.8558</td>\n",
       "      <td>267.4000</td>\n",
       "      <td>85.2000</td>\n",
       "      <td>270.4000</td>\n",
       "      <td>86.8000</td>\n",
       "      <td>266.2000</td>\n",
       "      <td>84.9600</td>\n",
       "      <td>268.8800</td>\n",
       "      <td>86.8000</td>\n",
       "      <td>6702000</td>\n",
       "      <td>3756213</td>\n",
       "    </tr>\n",
       "    <tr>\n",
       "      <th>2020-12-28</th>\n",
       "      <td>277.0000</td>\n",
       "      <td>84.7761</td>\n",
       "      <td>277.0000</td>\n",
       "      <td>85.1200</td>\n",
       "      <td>277.3000</td>\n",
       "      <td>86.2400</td>\n",
       "      <td>265.6600</td>\n",
       "      <td>84.6400</td>\n",
       "      <td>268.7400</td>\n",
       "      <td>85.6000</td>\n",
       "      <td>23299700</td>\n",
       "      <td>6724588</td>\n",
       "    </tr>\n",
       "    <tr>\n",
       "      <th>2020-12-29</th>\n",
       "      <td>276.7800</td>\n",
       "      <td>84.1387</td>\n",
       "      <td>276.7800</td>\n",
       "      <td>84.4800</td>\n",
       "      <td>280.5100</td>\n",
       "      <td>86.1600</td>\n",
       "      <td>276.2800</td>\n",
       "      <td>84.3200</td>\n",
       "      <td>276.9500</td>\n",
       "      <td>85.2800</td>\n",
       "      <td>16383000</td>\n",
       "      <td>6629488</td>\n",
       "    </tr>\n",
       "    <tr>\n",
       "      <th>2020-12-30</th>\n",
       "      <td>271.8700</td>\n",
       "      <td>85.3338</td>\n",
       "      <td>271.8700</td>\n",
       "      <td>85.6800</td>\n",
       "      <td>278.0800</td>\n",
       "      <td>86.8000</td>\n",
       "      <td>271.7100</td>\n",
       "      <td>84.4000</td>\n",
       "      <td>277.9500</td>\n",
       "      <td>84.6400</td>\n",
       "      <td>11803800</td>\n",
       "      <td>6327625</td>\n",
       "    </tr>\n",
       "  </tbody>\n",
       "</table>\n",
       "<p>1510 rows × 12 columns</p>\n",
       "</div>"
      ],
      "text/plain": [
       "           Adj Close             Close              High               Low  \\\n",
       "                  FB       GE       FB       GE       FB       GE       FB   \n",
       "Date                                                                         \n",
       "2015-01-02   78.4500 167.7533  78.4500 192.7692  78.9300 195.8462  77.7000   \n",
       "2015-01-05   77.1900 164.6741  77.1900 189.2308  79.2500 192.3846  76.8600   \n",
       "2015-01-06   76.1500 161.1261  76.1500 185.1538  77.5900 189.0000  75.3600   \n",
       "2015-01-07   76.1500 161.1931  76.1500 185.2308  77.3600 187.6154  75.8200   \n",
       "2015-01-08   78.1800 163.1344  78.1800 187.4615  78.2300 187.5385  76.0800   \n",
       "...              ...      ...      ...      ...      ...      ...      ...   \n",
       "2020-12-23  268.1100  86.5290 268.1100  86.8800 272.1700  87.8400 266.2300   \n",
       "2020-12-24  267.4000  84.8558 267.4000  85.2000 270.4000  86.8000 266.2000   \n",
       "2020-12-28  277.0000  84.7761 277.0000  85.1200 277.3000  86.2400 265.6600   \n",
       "2020-12-29  276.7800  84.1387 276.7800  84.4800 280.5100  86.1600 276.2800   \n",
       "2020-12-30  271.8700  85.3338 271.8700  85.6800 278.0800  86.8000 271.7100   \n",
       "\n",
       "                        Open             Volume           \n",
       "                 GE       FB       GE        FB       GE  \n",
       "Date                                                      \n",
       "2015-01-02 191.3077  78.5800 194.9231  18177500  5319704  \n",
       "2015-01-05 188.6154  77.9800 192.3846  26452200  5464316  \n",
       "2015-01-06 184.0769  77.2300 188.1538  27399300  8288800  \n",
       "2015-01-07 184.4615  76.7600 186.2308  22045300  5673525  \n",
       "2015-01-08 185.6154  76.7400 187.0769  23961000  5619172  \n",
       "...             ...      ...      ...       ...      ...  \n",
       "2020-12-23  84.9600 266.8900  85.4400  14329000  7563063  \n",
       "2020-12-24  84.9600 268.8800  86.8000   6702000  3756213  \n",
       "2020-12-28  84.6400 268.7400  85.6000  23299700  6724588  \n",
       "2020-12-29  84.3200 276.9500  85.2800  16383000  6629488  \n",
       "2020-12-30  84.4000 277.9500  84.6400  11803800  6327625  \n",
       "\n",
       "[1510 rows x 12 columns]"
      ]
     },
     "execution_count": 29,
     "metadata": {},
     "output_type": "execute_result"
    }
   ],
   "source": [
    "stocks = yf.download([\"GE\", \"FB\"], \"2015-01-02\", \"2020-12-31\")\n",
    "stocks"
   ]
  },
  {
   "cell_type": "code",
   "execution_count": 30,
   "id": "c1381ce5",
   "metadata": {},
   "outputs": [
    {
     "data": {
      "text/html": [
       "<div>\n",
       "<style scoped>\n",
       "    .dataframe tbody tr th:only-of-type {\n",
       "        vertical-align: middle;\n",
       "    }\n",
       "\n",
       "    .dataframe tbody tr th {\n",
       "        vertical-align: top;\n",
       "    }\n",
       "\n",
       "    .dataframe thead th {\n",
       "        text-align: right;\n",
       "    }\n",
       "</style>\n",
       "<table border=\"1\" class=\"dataframe\">\n",
       "  <thead>\n",
       "    <tr style=\"text-align: right;\">\n",
       "      <th></th>\n",
       "      <th>FB</th>\n",
       "      <th>GE</th>\n",
       "    </tr>\n",
       "    <tr>\n",
       "      <th>Date</th>\n",
       "      <th></th>\n",
       "      <th></th>\n",
       "    </tr>\n",
       "  </thead>\n",
       "  <tbody>\n",
       "    <tr>\n",
       "      <th>2015-01-02</th>\n",
       "      <td>78.4500</td>\n",
       "      <td>192.7692</td>\n",
       "    </tr>\n",
       "    <tr>\n",
       "      <th>2015-01-05</th>\n",
       "      <td>77.1900</td>\n",
       "      <td>189.2308</td>\n",
       "    </tr>\n",
       "    <tr>\n",
       "      <th>2015-01-06</th>\n",
       "      <td>76.1500</td>\n",
       "      <td>185.1538</td>\n",
       "    </tr>\n",
       "    <tr>\n",
       "      <th>2015-01-07</th>\n",
       "      <td>76.1500</td>\n",
       "      <td>185.2308</td>\n",
       "    </tr>\n",
       "    <tr>\n",
       "      <th>2015-01-08</th>\n",
       "      <td>78.1800</td>\n",
       "      <td>187.4615</td>\n",
       "    </tr>\n",
       "    <tr>\n",
       "      <th>...</th>\n",
       "      <td>...</td>\n",
       "      <td>...</td>\n",
       "    </tr>\n",
       "    <tr>\n",
       "      <th>2020-12-23</th>\n",
       "      <td>268.1100</td>\n",
       "      <td>86.8800</td>\n",
       "    </tr>\n",
       "    <tr>\n",
       "      <th>2020-12-24</th>\n",
       "      <td>267.4000</td>\n",
       "      <td>85.2000</td>\n",
       "    </tr>\n",
       "    <tr>\n",
       "      <th>2020-12-28</th>\n",
       "      <td>277.0000</td>\n",
       "      <td>85.1200</td>\n",
       "    </tr>\n",
       "    <tr>\n",
       "      <th>2020-12-29</th>\n",
       "      <td>276.7800</td>\n",
       "      <td>84.4800</td>\n",
       "    </tr>\n",
       "    <tr>\n",
       "      <th>2020-12-30</th>\n",
       "      <td>271.8700</td>\n",
       "      <td>85.6800</td>\n",
       "    </tr>\n",
       "  </tbody>\n",
       "</table>\n",
       "<p>1510 rows × 2 columns</p>\n",
       "</div>"
      ],
      "text/plain": [
       "                 FB       GE\n",
       "Date                        \n",
       "2015-01-02  78.4500 192.7692\n",
       "2015-01-05  77.1900 189.2308\n",
       "2015-01-06  76.1500 185.1538\n",
       "2015-01-07  76.1500 185.2308\n",
       "2015-01-08  78.1800 187.4615\n",
       "...             ...      ...\n",
       "2020-12-23 268.1100  86.8800\n",
       "2020-12-24 267.4000  85.2000\n",
       "2020-12-28 277.0000  85.1200\n",
       "2020-12-29 276.7800  84.4800\n",
       "2020-12-30 271.8700  85.6800\n",
       "\n",
       "[1510 rows x 2 columns]"
      ]
     },
     "execution_count": 30,
     "metadata": {},
     "output_type": "execute_result"
    }
   ],
   "source": [
    "closeFrame = stocks.Close.copy()\n",
    "closeFrame"
   ]
  },
  {
   "cell_type": "code",
   "execution_count": 37,
   "id": "365e28c7",
   "metadata": {},
   "outputs": [
    {
     "data": {
      "image/png": "[encoded data removed]",
      "text/plain": [
       "<Figure size 1080x576 with 1 Axes>"
      ]
     },
     "metadata": {},
     "output_type": "display_data"
    }
   ],
   "source": [
    "norm.GE.plot(figsize=(15,8), fontsize=14)\n",
    "plt.grid(which='both')\n",
    "plt.show()"
   ]
  },
  {
   "cell_type": "code",
   "execution_count": 50,
   "id": "d04f2c31",
   "metadata": {},
   "outputs": [
    {
     "data": {
      "text/html": [
       "<div>\n",
       "<style scoped>\n",
       "    .dataframe tbody tr th:only-of-type {\n",
       "        vertical-align: middle;\n",
       "    }\n",
       "\n",
       "    .dataframe tbody tr th {\n",
       "        vertical-align: top;\n",
       "    }\n",
       "\n",
       "    .dataframe thead th {\n",
       "        text-align: right;\n",
       "    }\n",
       "</style>\n",
       "<table border=\"1\" class=\"dataframe\">\n",
       "  <thead>\n",
       "    <tr style=\"text-align: right;\">\n",
       "      <th></th>\n",
       "      <th>FB</th>\n",
       "      <th>GE</th>\n",
       "    </tr>\n",
       "    <tr>\n",
       "      <th>Date</th>\n",
       "      <th></th>\n",
       "      <th></th>\n",
       "    </tr>\n",
       "  </thead>\n",
       "  <tbody>\n",
       "    <tr>\n",
       "      <th>2015-01-02</th>\n",
       "      <td>1.0000</td>\n",
       "      <td>1.0000</td>\n",
       "    </tr>\n",
       "    <tr>\n",
       "      <th>2015-01-05</th>\n",
       "      <td>0.9839</td>\n",
       "      <td>0.9816</td>\n",
       "    </tr>\n",
       "    <tr>\n",
       "      <th>2015-01-06</th>\n",
       "      <td>0.9707</td>\n",
       "      <td>0.9605</td>\n",
       "    </tr>\n",
       "    <tr>\n",
       "      <th>2015-01-07</th>\n",
       "      <td>0.9707</td>\n",
       "      <td>0.9609</td>\n",
       "    </tr>\n",
       "    <tr>\n",
       "      <th>2015-01-08</th>\n",
       "      <td>0.9966</td>\n",
       "      <td>0.9725</td>\n",
       "    </tr>\n",
       "    <tr>\n",
       "      <th>...</th>\n",
       "      <td>...</td>\n",
       "      <td>...</td>\n",
       "    </tr>\n",
       "    <tr>\n",
       "      <th>2020-12-23</th>\n",
       "      <td>3.4176</td>\n",
       "      <td>0.4507</td>\n",
       "    </tr>\n",
       "    <tr>\n",
       "      <th>2020-12-24</th>\n",
       "      <td>3.4085</td>\n",
       "      <td>0.4420</td>\n",
       "    </tr>\n",
       "    <tr>\n",
       "      <th>2020-12-28</th>\n",
       "      <td>3.5309</td>\n",
       "      <td>0.4416</td>\n",
       "    </tr>\n",
       "    <tr>\n",
       "      <th>2020-12-29</th>\n",
       "      <td>3.5281</td>\n",
       "      <td>0.4382</td>\n",
       "    </tr>\n",
       "    <tr>\n",
       "      <th>2020-12-30</th>\n",
       "      <td>3.4655</td>\n",
       "      <td>0.4445</td>\n",
       "    </tr>\n",
       "  </tbody>\n",
       "</table>\n",
       "<p>1510 rows × 2 columns</p>\n",
       "</div>"
      ],
      "text/plain": [
       "               FB     GE\n",
       "Date                    \n",
       "2015-01-02 1.0000 1.0000\n",
       "2015-01-05 0.9839 0.9816\n",
       "2015-01-06 0.9707 0.9605\n",
       "2015-01-07 0.9707 0.9609\n",
       "2015-01-08 0.9966 0.9725\n",
       "...           ...    ...\n",
       "2020-12-23 3.4176 0.4507\n",
       "2020-12-24 3.4085 0.4420\n",
       "2020-12-28 3.5309 0.4416\n",
       "2020-12-29 3.5281 0.4382\n",
       "2020-12-30 3.4655 0.4445\n",
       "\n",
       "[1510 rows x 2 columns]"
      ]
     },
     "execution_count": 50,
     "metadata": {},
     "output_type": "execute_result"
    }
   ],
   "source": [
    "norm = closeFrame.div(closeFrame.iloc[0]).mul(1).copy()\n",
    "norm"
   ]
  },
  {
   "cell_type": "code",
   "execution_count": 52,
   "id": "f56ed100",
   "metadata": {},
   "outputs": [
    {
     "data": {
      "text/plain": [
       "238.85"
      ]
     },
     "execution_count": 52,
     "metadata": {},
     "output_type": "execute_result"
    }
   ],
   "source": [
    "float(\"{:.2f}\".format(closeFrame.GE.loc['2015-12-30']))"
   ]
  },
  {
   "cell_type": "code",
   "execution_count": null,
   "id": "7ea0b4c0",
   "metadata": {},
   "outputs": [],
   "source": []
  },
  {
   "cell_type": "code",
   "execution_count": null,
   "id": "143e93c2",
   "metadata": {},
   "outputs": [],
   "source": []
  },
  {
   "cell_type": "markdown",
   "id": "36bbf662",
   "metadata": {},
   "source": [
    "## Price Changes and Financial Returns"
   ]
  },
  {
   "cell_type": "markdown",
   "id": "75be1d29",
   "metadata": {},
   "source": [
    "__More meaningful/useful than Prices: Price changes__"
   ]
  },
  {
   "cell_type": "code",
   "execution_count": null,
   "id": "c2fa1dbc",
   "metadata": {},
   "outputs": [],
   "source": [
    "import pandas as pd\n",
    "import matplotlib.pyplot as plt\n",
    "pd.options.display.float_format = '{:.4f}'.format\n",
    "plt.style.use(\"seaborn\")"
   ]
  },
  {
   "cell_type": "code",
   "execution_count": null,
   "id": "9d3224ef",
   "metadata": {},
   "outputs": [],
   "source": [
    "close = pd.read_csv(\"close.csv\", index_col = \"Date\", parse_dates = [\"Date\"])\n",
    "close"
   ]
  },
  {
   "cell_type": "code",
   "execution_count": null,
   "id": "88a0cab0",
   "metadata": {},
   "outputs": [],
   "source": [
    "msft = close.MSFT.dropna().to_frame().copy()"
   ]
  },
  {
   "cell_type": "code",
   "execution_count": null,
   "id": "21a0d0ee",
   "metadata": {},
   "outputs": [],
   "source": [
    "msft"
   ]
  },
  {
   "cell_type": "code",
   "execution_count": null,
   "id": "7a445860",
   "metadata": {},
   "outputs": [],
   "source": [
    "msft.rename(columns = {\"MSFT\":\"Price\"}, inplace = True)"
   ]
  },
  {
   "cell_type": "code",
   "execution_count": null,
   "id": "1616df16",
   "metadata": {},
   "outputs": [],
   "source": [
    "msft"
   ]
  },
  {
   "cell_type": "code",
   "execution_count": null,
   "id": "4ac2d1d6",
   "metadata": {},
   "outputs": [],
   "source": [
    "msft.shift(periods = 1)"
   ]
  },
  {
   "cell_type": "code",
   "execution_count": null,
   "id": "872fc895",
   "metadata": {},
   "outputs": [],
   "source": [
    "msft[\"P_lag1\"] = msft.shift(periods = 1)\n",
    "msft"
   ]
  },
  {
   "cell_type": "markdown",
   "id": "27b4686f",
   "metadata": {},
   "source": [
    "__Absolute Price Changes__ (Difference)"
   ]
  },
  {
   "cell_type": "code",
   "execution_count": null,
   "id": "1e526b73",
   "metadata": {},
   "outputs": [],
   "source": [
    "msft[\"P_diff\"] = msft.Price.sub(msft.P_lag1) # Alternative 1"
   ]
  },
  {
   "cell_type": "code",
   "execution_count": null,
   "id": "339f14ba",
   "metadata": {},
   "outputs": [],
   "source": [
    "msft"
   ]
  },
  {
   "cell_type": "code",
   "execution_count": null,
   "id": "e8e21a68",
   "metadata": {
    "scrolled": true
   },
   "outputs": [],
   "source": [
    "msft[\"P_diff2\"] = msft.Price.diff(periods = 1)  # Alternative 2"
   ]
  },
  {
   "cell_type": "code",
   "execution_count": null,
   "id": "9e2cceeb",
   "metadata": {},
   "outputs": [],
   "source": [
    "msft"
   ]
  },
  {
   "cell_type": "code",
   "execution_count": null,
   "id": "27a26eaf",
   "metadata": {},
   "outputs": [],
   "source": [
    "msft.P_diff.equals(msft.P_diff2)"
   ]
  },
  {
   "cell_type": "markdown",
   "id": "5f357e28",
   "metadata": {},
   "source": [
    "__-> Absolute Price Changes are not meaningful__"
   ]
  },
  {
   "cell_type": "markdown",
   "id": "d5c33844",
   "metadata": {},
   "source": [
    "__Relative/Percentage Price Changes__ (Returns)"
   ]
  },
  {
   "cell_type": "code",
   "execution_count": null,
   "id": "bed7b86b",
   "metadata": {},
   "outputs": [],
   "source": [
    "msft.Price.div(msft.P_lag1) - 1 # Alternative 1"
   ]
  },
  {
   "cell_type": "code",
   "execution_count": null,
   "id": "7d58b822",
   "metadata": {},
   "outputs": [],
   "source": [
    "msft[\"Returns\"] = msft.Price.pct_change(periods = 1) # Alternative 2\n",
    "msft"
   ]
  },
  {
   "cell_type": "code",
   "execution_count": null,
   "id": "c1e88090",
   "metadata": {},
   "outputs": [],
   "source": [
    "46.0900 / 45.7600 - 1"
   ]
  },
  {
   "cell_type": "code",
   "execution_count": null,
   "id": "31d04169",
   "metadata": {},
   "outputs": [],
   "source": [
    "(46.0900 / 45.7600 - 1) * 100"
   ]
  },
  {
   "cell_type": "markdown",
   "id": "68659911",
   "metadata": {},
   "source": [
    "__Take Home: Relative Price Changes (Returns) are meaningful and comparable across instruments__"
   ]
  },
  {
   "cell_type": "code",
   "execution_count": null,
   "id": "790bbf10",
   "metadata": {},
   "outputs": [],
   "source": [
    "msft.drop(columns = [\"P_lag1\", \"P_diff\", \"P_diff2\"], inplace = True)"
   ]
  },
  {
   "cell_type": "code",
   "execution_count": null,
   "id": "168b1d02",
   "metadata": {},
   "outputs": [],
   "source": [
    "msft"
   ]
  },
  {
   "cell_type": "code",
   "execution_count": null,
   "id": "514d9fef",
   "metadata": {},
   "outputs": [],
   "source": [
    "msft.to_csv(\"msft.csv\")"
   ]
  },
  {
   "cell_type": "code",
   "execution_count": null,
   "id": "74d1ef67",
   "metadata": {},
   "outputs": [],
   "source": []
  },
  {
   "cell_type": "markdown",
   "id": "be1330ba",
   "metadata": {},
   "source": [
    "## Measuring Reward and Risk of an Investment"
   ]
  },
  {
   "cell_type": "markdown",
   "id": "7ab5f212",
   "metadata": {},
   "source": [
    "__General Rule in Finance/Investing: Higher Risk must be rewarded with higher Returns__."
   ]
  },
  {
   "cell_type": "code",
   "execution_count": null,
   "id": "1dda24ed",
   "metadata": {},
   "outputs": [],
   "source": [
    "import pandas as pd\n",
    "import numpy as np\n",
    "import matplotlib.pyplot as plt\n",
    "pd.options.display.float_format = '{:.4f}'.format\n",
    "plt.style.use(\"seaborn\")"
   ]
  },
  {
   "cell_type": "code",
   "execution_count": null,
   "id": "87b46753",
   "metadata": {},
   "outputs": [],
   "source": [
    "msft = pd.read_csv(\"msft.csv\", index_col = \"Date\", parse_dates = [\"Date\"])\n",
    "msft"
   ]
  },
  {
   "cell_type": "code",
   "execution_count": null,
   "id": "69422325",
   "metadata": {},
   "outputs": [],
   "source": [
    "msft.Price.plot(figsize = (15, 8), fontsize = 13)\n",
    "plt.legend(fontsize = 13)\n",
    "plt.show()"
   ]
  },
  {
   "cell_type": "markdown",
   "id": "9e2399cd",
   "metadata": {},
   "source": [
    "- Reward: Positive Returns\n",
    "- Risk: Volatility of Returns"
   ]
  },
  {
   "cell_type": "code",
   "execution_count": null,
   "id": "eb5ba868",
   "metadata": {},
   "outputs": [],
   "source": [
    "msft.describe()"
   ]
  },
  {
   "cell_type": "code",
   "execution_count": null,
   "id": "7d4dab6d",
   "metadata": {},
   "outputs": [],
   "source": [
    "mu = msft.Returns.mean() # arithmetic mean return -> Reward\n",
    "mu"
   ]
  },
  {
   "cell_type": "code",
   "execution_count": null,
   "id": "57ef6ba0",
   "metadata": {},
   "outputs": [],
   "source": [
    "sigma = msft.Returns.std() # standard deviation of returns -> Risk/Volatility\n",
    "sigma"
   ]
  },
  {
   "cell_type": "code",
   "execution_count": null,
   "id": "7e6ce734",
   "metadata": {},
   "outputs": [],
   "source": [
    "np.sqrt(msft.Returns.var())"
   ]
  },
  {
   "cell_type": "code",
   "execution_count": null,
   "id": "b284a1c0",
   "metadata": {},
   "outputs": [],
   "source": []
  },
  {
   "cell_type": "markdown",
   "id": "11187d1b",
   "metadata": {},
   "source": [
    "----------------------------------------"
   ]
  },
  {
   "cell_type": "markdown",
   "id": "282d8e9a",
   "metadata": {},
   "source": [
    "__Coding Challenge #2__"
   ]
  },
  {
   "cell_type": "markdown",
   "id": "b0f32a67",
   "metadata": {},
   "source": [
    "1. Calculate daily returns for Bitcoin."
   ]
  },
  {
   "cell_type": "markdown",
   "id": "683b2760",
   "metadata": {},
   "source": [
    "2. Calculate the arithmetic mean return and the standard deviation of returns for Bitcoin. "
   ]
  },
  {
   "cell_type": "markdown",
   "id": "c5a569ac",
   "metadata": {},
   "source": [
    "3. Compare Bitcoin with Microsoft (mu = 0.00116, sigma = 0.01726). Does the rule \"Higher Risk -> Higher Reward\" hold?"
   ]
  },
  {
   "cell_type": "markdown",
   "id": "7515a771",
   "metadata": {},
   "source": [
    "-----------------------------------"
   ]
  },
  {
   "cell_type": "code",
   "execution_count": 108,
   "id": "0be0c5bd",
   "metadata": {
    "scrolled": false
   },
   "outputs": [
    {
     "name": "stdout",
     "output_type": "stream",
     "text": [
      "[*********************100%***********************]  2 of 2 completed\n"
     ]
    },
    {
     "data": {
      "text/html": [
       "<div>\n",
       "<style scoped>\n",
       "    .dataframe tbody tr th:only-of-type {\n",
       "        vertical-align: middle;\n",
       "    }\n",
       "\n",
       "    .dataframe tbody tr th {\n",
       "        vertical-align: top;\n",
       "    }\n",
       "\n",
       "    .dataframe thead th {\n",
       "        text-align: right;\n",
       "    }\n",
       "</style>\n",
       "<table border=\"1\" class=\"dataframe\">\n",
       "  <thead>\n",
       "    <tr style=\"text-align: right;\">\n",
       "      <th></th>\n",
       "      <th>BTC-USD</th>\n",
       "      <th>MSFT</th>\n",
       "    </tr>\n",
       "    <tr>\n",
       "      <th>Date</th>\n",
       "      <th></th>\n",
       "      <th></th>\n",
       "    </tr>\n",
       "  </thead>\n",
       "  <tbody>\n",
       "    <tr>\n",
       "      <th>2015-01-02</th>\n",
       "      <td>315.0320</td>\n",
       "      <td>46.7600</td>\n",
       "    </tr>\n",
       "    <tr>\n",
       "      <th>2015-01-03</th>\n",
       "      <td>281.0820</td>\n",
       "      <td>NaN</td>\n",
       "    </tr>\n",
       "    <tr>\n",
       "      <th>2015-01-04</th>\n",
       "      <td>264.1950</td>\n",
       "      <td>NaN</td>\n",
       "    </tr>\n",
       "    <tr>\n",
       "      <th>2015-01-05</th>\n",
       "      <td>274.4740</td>\n",
       "      <td>46.3300</td>\n",
       "    </tr>\n",
       "    <tr>\n",
       "      <th>2015-01-06</th>\n",
       "      <td>286.1890</td>\n",
       "      <td>45.6500</td>\n",
       "    </tr>\n",
       "    <tr>\n",
       "      <th>...</th>\n",
       "      <td>...</td>\n",
       "      <td>...</td>\n",
       "    </tr>\n",
       "    <tr>\n",
       "      <th>2020-12-27</th>\n",
       "      <td>26272.2949</td>\n",
       "      <td>NaN</td>\n",
       "    </tr>\n",
       "    <tr>\n",
       "      <th>2020-12-28</th>\n",
       "      <td>27084.8086</td>\n",
       "      <td>224.9600</td>\n",
       "    </tr>\n",
       "    <tr>\n",
       "      <th>2020-12-29</th>\n",
       "      <td>27362.4375</td>\n",
       "      <td>224.1500</td>\n",
       "    </tr>\n",
       "    <tr>\n",
       "      <th>2020-12-30</th>\n",
       "      <td>28840.9531</td>\n",
       "      <td>221.6800</td>\n",
       "    </tr>\n",
       "    <tr>\n",
       "      <th>2020-12-31</th>\n",
       "      <td>29001.7207</td>\n",
       "      <td>NaN</td>\n",
       "    </tr>\n",
       "  </tbody>\n",
       "</table>\n",
       "<p>2191 rows × 2 columns</p>\n",
       "</div>"
      ],
      "text/plain": [
       "              BTC-USD     MSFT\n",
       "Date                          \n",
       "2015-01-02   315.0320  46.7600\n",
       "2015-01-03   281.0820      NaN\n",
       "2015-01-04   264.1950      NaN\n",
       "2015-01-05   274.4740  46.3300\n",
       "2015-01-06   286.1890  45.6500\n",
       "...               ...      ...\n",
       "2020-12-27 26272.2949      NaN\n",
       "2020-12-28 27084.8086 224.9600\n",
       "2020-12-29 27362.4375 224.1500\n",
       "2020-12-30 28840.9531 221.6800\n",
       "2020-12-31 29001.7207      NaN\n",
       "\n",
       "[2191 rows x 2 columns]"
      ]
     },
     "execution_count": 108,
     "metadata": {},
     "output_type": "execute_result"
    }
   ],
   "source": [
    "import pandas as pd\n",
    "import yfinance as yf\n",
    "import numpy as np\n",
    "stocks_cc2 = yf.download(['MSFT','BTC-USD'], '2015-01-02', '2020-12-31').Close\n",
    "stocks_cc2"
   ]
  },
  {
   "cell_type": "code",
   "execution_count": 109,
   "id": "07b4c2bc",
   "metadata": {},
   "outputs": [
    {
     "data": {
      "text/html": [
       "<div>\n",
       "<style scoped>\n",
       "    .dataframe tbody tr th:only-of-type {\n",
       "        vertical-align: middle;\n",
       "    }\n",
       "\n",
       "    .dataframe tbody tr th {\n",
       "        vertical-align: top;\n",
       "    }\n",
       "\n",
       "    .dataframe thead th {\n",
       "        text-align: right;\n",
       "    }\n",
       "</style>\n",
       "<table border=\"1\" class=\"dataframe\">\n",
       "  <thead>\n",
       "    <tr style=\"text-align: right;\">\n",
       "      <th></th>\n",
       "      <th>BTC-USD</th>\n",
       "      <th>MSFT</th>\n",
       "    </tr>\n",
       "    <tr>\n",
       "      <th>Date</th>\n",
       "      <th></th>\n",
       "      <th></th>\n",
       "    </tr>\n",
       "  </thead>\n",
       "  <tbody>\n",
       "    <tr>\n",
       "      <th>2015-01-02</th>\n",
       "      <td>1.0000</td>\n",
       "      <td>1.0000</td>\n",
       "    </tr>\n",
       "    <tr>\n",
       "      <th>2015-01-05</th>\n",
       "      <td>0.8713</td>\n",
       "      <td>0.9908</td>\n",
       "    </tr>\n",
       "    <tr>\n",
       "      <th>2015-01-06</th>\n",
       "      <td>0.9084</td>\n",
       "      <td>0.9763</td>\n",
       "    </tr>\n",
       "    <tr>\n",
       "      <th>2015-01-07</th>\n",
       "      <td>0.9343</td>\n",
       "      <td>0.9887</td>\n",
       "    </tr>\n",
       "    <tr>\n",
       "      <th>2015-01-08</th>\n",
       "      <td>0.8994</td>\n",
       "      <td>1.0178</td>\n",
       "    </tr>\n",
       "    <tr>\n",
       "      <th>...</th>\n",
       "      <td>...</td>\n",
       "      <td>...</td>\n",
       "    </tr>\n",
       "    <tr>\n",
       "      <th>2020-12-23</th>\n",
       "      <td>73.7746</td>\n",
       "      <td>4.7267</td>\n",
       "    </tr>\n",
       "    <tr>\n",
       "      <th>2020-12-24</th>\n",
       "      <td>75.3446</td>\n",
       "      <td>4.7637</td>\n",
       "    </tr>\n",
       "    <tr>\n",
       "      <th>2020-12-28</th>\n",
       "      <td>85.9748</td>\n",
       "      <td>4.8109</td>\n",
       "    </tr>\n",
       "    <tr>\n",
       "      <th>2020-12-29</th>\n",
       "      <td>86.8561</td>\n",
       "      <td>4.7936</td>\n",
       "    </tr>\n",
       "    <tr>\n",
       "      <th>2020-12-30</th>\n",
       "      <td>91.5493</td>\n",
       "      <td>4.7408</td>\n",
       "    </tr>\n",
       "  </tbody>\n",
       "</table>\n",
       "<p>1510 rows × 2 columns</p>\n",
       "</div>"
      ],
      "text/plain": [
       "            BTC-USD   MSFT\n",
       "Date                      \n",
       "2015-01-02   1.0000 1.0000\n",
       "2015-01-05   0.8713 0.9908\n",
       "2015-01-06   0.9084 0.9763\n",
       "2015-01-07   0.9343 0.9887\n",
       "2015-01-08   0.8994 1.0178\n",
       "...             ...    ...\n",
       "2020-12-23  73.7746 4.7267\n",
       "2020-12-24  75.3446 4.7637\n",
       "2020-12-28  85.9748 4.8109\n",
       "2020-12-29  86.8561 4.7936\n",
       "2020-12-30  91.5493 4.7408\n",
       "\n",
       "[1510 rows x 2 columns]"
      ]
     },
     "execution_count": 109,
     "metadata": {},
     "output_type": "execute_result"
    }
   ],
   "source": [
    "norm_cc2 = stocks_cc2.div(stocks_cc2.iloc[0]).copy().dropna()\n",
    "norm_cc2"
   ]
  },
  {
   "cell_type": "code",
   "execution_count": 110,
   "id": "7e565b2c",
   "metadata": {
    "scrolled": true
   },
   "outputs": [
    {
     "data": {
      "text/html": [
       "<div>\n",
       "<style scoped>\n",
       "    .dataframe tbody tr th:only-of-type {\n",
       "        vertical-align: middle;\n",
       "    }\n",
       "\n",
       "    .dataframe tbody tr th {\n",
       "        vertical-align: top;\n",
       "    }\n",
       "\n",
       "    .dataframe thead th {\n",
       "        text-align: right;\n",
       "    }\n",
       "</style>\n",
       "<table border=\"1\" class=\"dataframe\">\n",
       "  <thead>\n",
       "    <tr style=\"text-align: right;\">\n",
       "      <th></th>\n",
       "      <th>BTC-USD</th>\n",
       "      <th>MSFT</th>\n",
       "      <th>btcreturns</th>\n",
       "      <th>msftreturns</th>\n",
       "    </tr>\n",
       "    <tr>\n",
       "      <th>Date</th>\n",
       "      <th></th>\n",
       "      <th></th>\n",
       "      <th></th>\n",
       "      <th></th>\n",
       "    </tr>\n",
       "  </thead>\n",
       "  <tbody>\n",
       "    <tr>\n",
       "      <th>2015-01-02</th>\n",
       "      <td>1.0000</td>\n",
       "      <td>1.0000</td>\n",
       "      <td>NaN</td>\n",
       "      <td>NaN</td>\n",
       "    </tr>\n",
       "    <tr>\n",
       "      <th>2015-01-05</th>\n",
       "      <td>0.8713</td>\n",
       "      <td>0.9908</td>\n",
       "      <td>-0.1287</td>\n",
       "      <td>-0.0092</td>\n",
       "    </tr>\n",
       "    <tr>\n",
       "      <th>2015-01-06</th>\n",
       "      <td>0.9084</td>\n",
       "      <td>0.9763</td>\n",
       "      <td>0.0427</td>\n",
       "      <td>-0.0147</td>\n",
       "    </tr>\n",
       "    <tr>\n",
       "      <th>2015-01-07</th>\n",
       "      <td>0.9343</td>\n",
       "      <td>0.9887</td>\n",
       "      <td>0.0285</td>\n",
       "      <td>0.0127</td>\n",
       "    </tr>\n",
       "    <tr>\n",
       "      <th>2015-01-08</th>\n",
       "      <td>0.8994</td>\n",
       "      <td>1.0178</td>\n",
       "      <td>-0.0373</td>\n",
       "      <td>0.0294</td>\n",
       "    </tr>\n",
       "    <tr>\n",
       "      <th>...</th>\n",
       "      <td>...</td>\n",
       "      <td>...</td>\n",
       "      <td>...</td>\n",
       "      <td>...</td>\n",
       "    </tr>\n",
       "    <tr>\n",
       "      <th>2020-12-23</th>\n",
       "      <td>73.7746</td>\n",
       "      <td>4.7267</td>\n",
       "      <td>-0.0228</td>\n",
       "      <td>-0.0130</td>\n",
       "    </tr>\n",
       "    <tr>\n",
       "      <th>2020-12-24</th>\n",
       "      <td>75.3446</td>\n",
       "      <td>4.7637</td>\n",
       "      <td>0.0213</td>\n",
       "      <td>0.0078</td>\n",
       "    </tr>\n",
       "    <tr>\n",
       "      <th>2020-12-28</th>\n",
       "      <td>85.9748</td>\n",
       "      <td>4.8109</td>\n",
       "      <td>0.1411</td>\n",
       "      <td>0.0099</td>\n",
       "    </tr>\n",
       "    <tr>\n",
       "      <th>2020-12-29</th>\n",
       "      <td>86.8561</td>\n",
       "      <td>4.7936</td>\n",
       "      <td>0.0103</td>\n",
       "      <td>-0.0036</td>\n",
       "    </tr>\n",
       "    <tr>\n",
       "      <th>2020-12-30</th>\n",
       "      <td>91.5493</td>\n",
       "      <td>4.7408</td>\n",
       "      <td>0.0540</td>\n",
       "      <td>-0.0110</td>\n",
       "    </tr>\n",
       "  </tbody>\n",
       "</table>\n",
       "<p>1510 rows × 4 columns</p>\n",
       "</div>"
      ],
      "text/plain": [
       "            BTC-USD   MSFT  btcreturns  msftreturns\n",
       "Date                                               \n",
       "2015-01-02   1.0000 1.0000         NaN          NaN\n",
       "2015-01-05   0.8713 0.9908     -0.1287      -0.0092\n",
       "2015-01-06   0.9084 0.9763      0.0427      -0.0147\n",
       "2015-01-07   0.9343 0.9887      0.0285       0.0127\n",
       "2015-01-08   0.8994 1.0178     -0.0373       0.0294\n",
       "...             ...    ...         ...          ...\n",
       "2020-12-23  73.7746 4.7267     -0.0228      -0.0130\n",
       "2020-12-24  75.3446 4.7637      0.0213       0.0078\n",
       "2020-12-28  85.9748 4.8109      0.1411       0.0099\n",
       "2020-12-29  86.8561 4.7936      0.0103      -0.0036\n",
       "2020-12-30  91.5493 4.7408      0.0540      -0.0110\n",
       "\n",
       "[1510 rows x 4 columns]"
      ]
     },
     "execution_count": 110,
     "metadata": {},
     "output_type": "execute_result"
    }
   ],
   "source": [
    "norm_cc2['btcreturns'] = norm_cc2['BTC-USD'].pct_change(periods=1)\n",
    "norm_cc2['msftreturns'] = norm_cc2['MSFT'].pct_change(periods=1)\n",
    "\n",
    "norm_cc2"
   ]
  },
  {
   "cell_type": "code",
   "execution_count": 145,
   "id": "615c0d8a",
   "metadata": {},
   "outputs": [
    {
     "data": {
      "text/plain": [
       "0.004056913977547087"
      ]
     },
     "execution_count": 145,
     "metadata": {},
     "output_type": "execute_result"
    }
   ],
   "source": [
    "mu = norm_cc2.btcreturns.dropna().mean()\n",
    "mu"
   ]
  },
  {
   "cell_type": "code",
   "execution_count": 147,
   "id": "03233d9d",
   "metadata": {},
   "outputs": [
    {
     "data": {
      "text/plain": [
       "0.045840477196181395"
      ]
     },
     "execution_count": 147,
     "metadata": {},
     "output_type": "execute_result"
    }
   ],
   "source": [
    "sigma = norm_cc2.btcreturns.dropna().std()\n",
    "sigma"
   ]
  },
  {
   "cell_type": "code",
   "execution_count": 148,
   "id": "3b603ae6",
   "metadata": {},
   "outputs": [
    {
     "data": {
      "text/plain": [
       "True"
      ]
     },
     "execution_count": 148,
     "metadata": {},
     "output_type": "execute_result"
    }
   ],
   "source": [
    "mu > 0.00116"
   ]
  },
  {
   "cell_type": "code",
   "execution_count": 149,
   "id": "32066a48",
   "metadata": {},
   "outputs": [
    {
     "data": {
      "text/plain": [
       "True"
      ]
     },
     "execution_count": 149,
     "metadata": {},
     "output_type": "execute_result"
    }
   ],
   "source": [
    "sigma > 0.01726"
   ]
  },
  {
   "cell_type": "code",
   "execution_count": null,
   "id": "37b64e90",
   "metadata": {},
   "outputs": [],
   "source": []
  },
  {
   "cell_type": "code",
   "execution_count": 121,
   "id": "f0539e66",
   "metadata": {},
   "outputs": [],
   "source": [
    "results = norm_cc2.describe().loc[['mean','std'], ['btcreturns', 'msftreturns']].T"
   ]
  },
  {
   "cell_type": "code",
   "execution_count": 133,
   "id": "11d80914",
   "metadata": {},
   "outputs": [
    {
     "data": {
      "text/html": [
       "<div>\n",
       "<style scoped>\n",
       "    .dataframe tbody tr th:only-of-type {\n",
       "        vertical-align: middle;\n",
       "    }\n",
       "\n",
       "    .dataframe tbody tr th {\n",
       "        vertical-align: top;\n",
       "    }\n",
       "\n",
       "    .dataframe thead th {\n",
       "        text-align: right;\n",
       "    }\n",
       "</style>\n",
       "<table border=\"1\" class=\"dataframe\">\n",
       "  <thead>\n",
       "    <tr style=\"text-align: right;\">\n",
       "      <th></th>\n",
       "      <th>mean</th>\n",
       "      <th>std</th>\n",
       "      <th>areturns</th>\n",
       "      <th>arisk</th>\n",
       "      <th>multiple</th>\n",
       "    </tr>\n",
       "  </thead>\n",
       "  <tbody>\n",
       "    <tr>\n",
       "      <th>btcreturns</th>\n",
       "      <td>0.004057</td>\n",
       "      <td>0.045840</td>\n",
       "      <td>1.022342</td>\n",
       "      <td>0.727695</td>\n",
       "      <td>0.711792</td>\n",
       "    </tr>\n",
       "    <tr>\n",
       "      <th>msftreturns</th>\n",
       "      <td>0.001186</td>\n",
       "      <td>0.017547</td>\n",
       "      <td>0.298763</td>\n",
       "      <td>0.278550</td>\n",
       "      <td>0.932344</td>\n",
       "    </tr>\n",
       "  </tbody>\n",
       "</table>\n",
       "</div>"
      ],
      "text/plain": [
       "                mean      std  areturns    arisk  multiple\n",
       "btcreturns  0.004057 0.045840  1.022342 0.727695  0.711792\n",
       "msftreturns 0.001186 0.017547  0.298763 0.278550  0.932344"
      ]
     },
     "execution_count": 133,
     "metadata": {},
     "output_type": "execute_result"
    }
   ],
   "source": [
    "results['areturns'] = results[['mean']].mul(252)\n",
    "results['arisk'] = results[['std']].mul(np.sqrt(252))\n",
    "results['multiple'] = results['arisk'].div(results['areturns'])\n",
    "pd.options.display.float_format = '{:.6f}'.format\n",
    "results"
   ]
  },
  {
   "cell_type": "markdown",
   "id": "e9e2c678",
   "metadata": {},
   "source": [
    "## Investment Multiple and CAGR "
   ]
  },
  {
   "cell_type": "markdown",
   "id": "f7e0c34f",
   "metadata": {},
   "source": [
    "__Two alternative reward metrics that are more intuitive and easier to interpret.__"
   ]
  },
  {
   "cell_type": "code",
   "execution_count": 118,
   "id": "edb6cd5f",
   "metadata": {},
   "outputs": [],
   "source": [
    "import pandas as pd\n",
    "import numpy as np\n",
    "import matplotlib.pyplot as plt\n",
    "pd.options.display.float_format = '{:.4f}'.format\n",
    "plt.style.use(\"seaborn\")"
   ]
  },
  {
   "cell_type": "code",
   "execution_count": 119,
   "id": "999d9e39",
   "metadata": {},
   "outputs": [
    {
     "data": {
      "text/html": [
       "<div>\n",
       "<style scoped>\n",
       "    .dataframe tbody tr th:only-of-type {\n",
       "        vertical-align: middle;\n",
       "    }\n",
       "\n",
       "    .dataframe tbody tr th {\n",
       "        vertical-align: top;\n",
       "    }\n",
       "\n",
       "    .dataframe thead th {\n",
       "        text-align: right;\n",
       "    }\n",
       "</style>\n",
       "<table border=\"1\" class=\"dataframe\">\n",
       "  <thead>\n",
       "    <tr style=\"text-align: right;\">\n",
       "      <th></th>\n",
       "      <th>Price</th>\n",
       "      <th>Returns</th>\n",
       "    </tr>\n",
       "    <tr>\n",
       "      <th>Date</th>\n",
       "      <th></th>\n",
       "      <th></th>\n",
       "    </tr>\n",
       "  </thead>\n",
       "  <tbody>\n",
       "    <tr>\n",
       "      <th>2014-10-01</th>\n",
       "      <td>45.900002</td>\n",
       "      <td>NaN</td>\n",
       "    </tr>\n",
       "    <tr>\n",
       "      <th>2014-10-02</th>\n",
       "      <td>45.759998</td>\n",
       "      <td>-0.003050</td>\n",
       "    </tr>\n",
       "    <tr>\n",
       "      <th>2014-10-03</th>\n",
       "      <td>46.090000</td>\n",
       "      <td>0.007212</td>\n",
       "    </tr>\n",
       "    <tr>\n",
       "      <th>2014-10-06</th>\n",
       "      <td>46.090000</td>\n",
       "      <td>0.000000</td>\n",
       "    </tr>\n",
       "    <tr>\n",
       "      <th>2014-10-07</th>\n",
       "      <td>45.529999</td>\n",
       "      <td>-0.012150</td>\n",
       "    </tr>\n",
       "    <tr>\n",
       "      <th>...</th>\n",
       "      <td>...</td>\n",
       "      <td>...</td>\n",
       "    </tr>\n",
       "    <tr>\n",
       "      <th>2021-05-24</th>\n",
       "      <td>250.779999</td>\n",
       "      <td>0.022882</td>\n",
       "    </tr>\n",
       "    <tr>\n",
       "      <th>2021-05-25</th>\n",
       "      <td>251.720001</td>\n",
       "      <td>0.003748</td>\n",
       "    </tr>\n",
       "    <tr>\n",
       "      <th>2021-05-26</th>\n",
       "      <td>251.490005</td>\n",
       "      <td>-0.000914</td>\n",
       "    </tr>\n",
       "    <tr>\n",
       "      <th>2021-05-27</th>\n",
       "      <td>249.309998</td>\n",
       "      <td>-0.008668</td>\n",
       "    </tr>\n",
       "    <tr>\n",
       "      <th>2021-05-28</th>\n",
       "      <td>249.679993</td>\n",
       "      <td>0.001484</td>\n",
       "    </tr>\n",
       "  </tbody>\n",
       "</table>\n",
       "<p>1677 rows × 2 columns</p>\n",
       "</div>"
      ],
      "text/plain": [
       "                Price   Returns\n",
       "Date                           \n",
       "2014-10-01  45.900002       NaN\n",
       "2014-10-02  45.759998 -0.003050\n",
       "2014-10-03  46.090000  0.007212\n",
       "2014-10-06  46.090000  0.000000\n",
       "2014-10-07  45.529999 -0.012150\n",
       "...               ...       ...\n",
       "2021-05-24 250.779999  0.022882\n",
       "2021-05-25 251.720001  0.003748\n",
       "2021-05-26 251.490005 -0.000914\n",
       "2021-05-27 249.309998 -0.008668\n",
       "2021-05-28 249.679993  0.001484\n",
       "\n",
       "[1677 rows x 2 columns]"
      ]
     },
     "execution_count": 119,
     "metadata": {},
     "output_type": "execute_result"
    }
   ],
   "source": [
    "msft = pd.read_csv(\"msft.csv\", index_col = \"Date\", parse_dates = [\"Date\"])\n",
    "msft"
   ]
  },
  {
   "cell_type": "markdown",
   "id": "df96f609",
   "metadata": {},
   "source": [
    "__Investment Multiple__: Ending Value of 1 [Dollar] invested. <br>\n",
    "Multiple = Ending Value / Initial Investment"
   ]
  },
  {
   "cell_type": "code",
   "execution_count": null,
   "id": "52111a93",
   "metadata": {},
   "outputs": [],
   "source": [
    "multiple = (msft.Price[-1] / msft.Price[0])\n",
    "multiple"
   ]
  },
  {
   "cell_type": "markdown",
   "id": "2e839546",
   "metadata": {},
   "source": [
    "__Price Increase (in %)__"
   ]
  },
  {
   "cell_type": "code",
   "execution_count": null,
   "id": "1822a98c",
   "metadata": {},
   "outputs": [],
   "source": [
    "(multiple - 1) * 100"
   ]
  },
  {
   "cell_type": "code",
   "execution_count": null,
   "id": "36e87338",
   "metadata": {},
   "outputs": [],
   "source": [
    "msft.Price / msft.Price[0] # similar/identical concept: Normalized Price with Base Value 1"
   ]
  },
  {
   "cell_type": "markdown",
   "id": "be23fbfa",
   "metadata": {},
   "source": [
    "__Drawback of Investment Multiple: Doesn´t take into account investment Period. Meaningful only in conjunction with Investment Period.__"
   ]
  },
  {
   "cell_type": "markdown",
   "id": "b7ca2105",
   "metadata": {},
   "source": [
    "__Compound Annual Growth Rate (CAGR)__: The (constant annual) rate of return that would be required for an investment to grow from its beginning balance to its ending balance, assuming the profits were reinvested at the end of each year of the investment's lifespan. (Wikipedia)"
   ]
  },
  {
   "cell_type": "code",
   "execution_count": null,
   "id": "b35a008d",
   "metadata": {},
   "outputs": [],
   "source": [
    "start = msft.index[0]\n",
    "start"
   ]
  },
  {
   "cell_type": "code",
   "execution_count": null,
   "id": "54bf2f80",
   "metadata": {},
   "outputs": [],
   "source": [
    "end = msft.index[-1]\n",
    "end"
   ]
  },
  {
   "cell_type": "code",
   "execution_count": null,
   "id": "d699afe0",
   "metadata": {},
   "outputs": [],
   "source": [
    "td = end - start\n",
    "td"
   ]
  },
  {
   "cell_type": "code",
   "execution_count": null,
   "id": "b8d9e91b",
   "metadata": {},
   "outputs": [],
   "source": [
    "td_years = td.days / 365.25\n",
    "td_years"
   ]
  },
  {
   "cell_type": "code",
   "execution_count": null,
   "id": "8be87362",
   "metadata": {},
   "outputs": [],
   "source": [
    "cagr = multiple**(1 / td_years) - 1 # short version\n",
    "cagr"
   ]
  },
  {
   "cell_type": "code",
   "execution_count": null,
   "id": "d08ece32",
   "metadata": {},
   "outputs": [],
   "source": [
    "cagr = (msft.Price[-1]/msft.Price[0])**(1/((msft.index[-1] - msft.index[0]).days / 365.25)) - 1 # long\n",
    "cagr"
   ]
  },
  {
   "cell_type": "code",
   "execution_count": null,
   "id": "f72df091",
   "metadata": {
    "scrolled": true
   },
   "outputs": [],
   "source": [
    "(1 + cagr)**(td_years) # alternative #2 to calculate multiple (cagr)"
   ]
  },
  {
   "cell_type": "markdown",
   "id": "519e336f",
   "metadata": {},
   "source": [
    "__-> CAGR can be used to compare Investments with different investment horizons.__"
   ]
  },
  {
   "cell_type": "code",
   "execution_count": null,
   "id": "b434e3ba",
   "metadata": {},
   "outputs": [],
   "source": []
  },
  {
   "cell_type": "markdown",
   "id": "e1cf612b",
   "metadata": {},
   "source": [
    "## Compound Returns & Geometric Mean Return"
   ]
  },
  {
   "cell_type": "code",
   "execution_count": null,
   "id": "90e0790d",
   "metadata": {},
   "outputs": [],
   "source": [
    "msft"
   ]
  },
  {
   "cell_type": "code",
   "execution_count": null,
   "id": "d8e56942",
   "metadata": {},
   "outputs": [],
   "source": [
    "multiple = (1 + msft.Returns).prod() # alternative #3 to calculate multiple (compounding daily returns)\n",
    "multiple"
   ]
  },
  {
   "cell_type": "code",
   "execution_count": null,
   "id": "62826914",
   "metadata": {},
   "outputs": [],
   "source": [
    "n = msft.Returns.count()\n",
    "n"
   ]
  },
  {
   "cell_type": "code",
   "execution_count": null,
   "id": "a0f07b44",
   "metadata": {},
   "outputs": [],
   "source": [
    "geo_mean = multiple**(1/n) - 1 # Geometric mean return (daily)\n",
    "geo_mean"
   ]
  },
  {
   "cell_type": "code",
   "execution_count": null,
   "id": "c62035a8",
   "metadata": {},
   "outputs": [],
   "source": [
    "(1 + geo_mean)**n # alternative #4 to calculate multiple (geometric mean)"
   ]
  },
  {
   "cell_type": "markdown",
   "id": "4a40b79a",
   "metadata": {},
   "source": [
    "__-> Compound returns, CAGR & geometric mean return are closely related concepts__."
   ]
  },
  {
   "cell_type": "code",
   "execution_count": null,
   "id": "225aae5a",
   "metadata": {},
   "outputs": [],
   "source": [
    "mu = msft.Returns.mean() # arithmetic mean return\n",
    "mu"
   ]
  },
  {
   "cell_type": "markdown",
   "id": "29babea4",
   "metadata": {},
   "source": [
    "__The arithmetic mean return is always greater than the geometric mean return... and less useful__. "
   ]
  },
  {
   "cell_type": "code",
   "execution_count": null,
   "id": "d5ad145e",
   "metadata": {},
   "outputs": [],
   "source": [
    "(1 + mu)**n # calculate multiple? not possible with arithmetic mean!"
   ]
  },
  {
   "cell_type": "code",
   "execution_count": null,
   "id": "8821af89",
   "metadata": {},
   "outputs": [],
   "source": []
  },
  {
   "cell_type": "markdown",
   "id": "d2fd98bb",
   "metadata": {},
   "source": [
    "----------------------------"
   ]
  },
  {
   "cell_type": "markdown",
   "id": "72f3b84a",
   "metadata": {},
   "source": [
    "__Coding Challenge #3__"
   ]
  },
  {
   "cell_type": "markdown",
   "id": "99165f98",
   "metadata": {},
   "source": [
    "1. Calculate Boeing´s Investment Multiple "
   ]
  },
  {
   "cell_type": "markdown",
   "id": "9e4bc538",
   "metadata": {},
   "source": [
    "2. Calculate Boeing´s CAGR"
   ]
  },
  {
   "cell_type": "markdown",
   "id": "41fcf5fa",
   "metadata": {},
   "source": [
    "3. Calculate Boeing´s Geometric Mean Return"
   ]
  },
  {
   "cell_type": "markdown",
   "id": "959966d1",
   "metadata": {},
   "source": [
    "4. Calculate Boeing´s Investment Multiple with compound daily returns"
   ]
  },
  {
   "cell_type": "markdown",
   "id": "fe0f938f",
   "metadata": {},
   "source": [
    "----------------------------------"
   ]
  },
  {
   "cell_type": "code",
   "execution_count": 253,
   "id": "6ba7005e",
   "metadata": {},
   "outputs": [
    {
     "data": {
      "text/plain": [
       "1.9813909352730892"
      ]
     },
     "execution_count": 253,
     "metadata": {},
     "output_type": "execute_result"
    }
   ],
   "source": [
    "import pandas as pd\n",
    "import numpy as np\n",
    "import yfinance as yf\n",
    "\n",
    "cc3_raw = pd.read_csv(\"close.csv\", index_col = \"Date\", parse_dates = [\"Date\"]).BA.to_frame()\n",
    "cc3_raw = cc3_raw.dropna()\n",
    "cc3_raw\n",
    "cc3_raw.rename(columns={\"BA\":\"price\"}, inplace=True)\n",
    "cc3_raw['returns'] = cc3_raw.price.pct_change(periods=1)\n",
    "#cc3_raw.dropna(inplace=True)\n",
    "cc3_multiple_simple = cc3_raw.price[-1]/cc3_raw.price[0]\n",
    "cc3_multiple_simple"
   ]
  },
  {
   "cell_type": "markdown",
   "id": "fe3ac7d4",
   "metadata": {},
   "source": [
    "[Go to This Heading](#s2)"
   ]
  },
  {
   "cell_type": "markdown",
   "id": "abeb2bd2",
   "metadata": {},
   "source": [
    "[answer](#cc3_ans)"
   ]
  },
  {
   "cell_type": "code",
   "execution_count": 254,
   "id": "a7ddd33b",
   "metadata": {},
   "outputs": [
    {
     "data": {
      "text/plain": [
       "0.10820172433101138"
      ]
     },
     "execution_count": 254,
     "metadata": {},
     "output_type": "execute_result"
    }
   ],
   "source": [
    "cc3_cagr = cc3_multiple_simple**(1/((cc3_raw.index[-1]-cc3_raw.index[0]).days/365.25))-1\n",
    "cc3_cagr"
   ]
  },
  {
   "cell_type": "code",
   "execution_count": 273,
   "id": "5c0609a5",
   "metadata": {},
   "outputs": [
    {
     "data": {
      "text/plain": [
       "0.00040807792530195286"
      ]
     },
     "execution_count": 273,
     "metadata": {},
     "output_type": "execute_result"
    }
   ],
   "source": [
    "cc3_geoReturn = cc3_multiple_dc**(1/(cc3_raw.returns.count()))-1\n",
    "#geo_mean = (1 + ba.Returns).prod()**(1/n) - 1 #key\n",
    "cc3_geoReturn\n",
    "\n"
   ]
  },
  {
   "cell_type": "code",
   "execution_count": 256,
   "id": "80fd7b45",
   "metadata": {},
   "outputs": [
    {
     "data": {
      "text/plain": [
       "1.6673336149076072"
      ]
     },
     "execution_count": 256,
     "metadata": {},
     "output_type": "execute_result"
    }
   ],
   "source": [
    "cc3_multiple_dc = (cc3_raw.returns).add(1).prod() #dc = daily compounding\n",
    "cc3_multiple"
   ]
  },
  {
   "cell_type": "markdown",
   "id": "89bab607",
   "metadata": {},
   "source": [
    "### <a id=\"s2\"></a>This is the Heading"
   ]
  },
  {
   "cell_type": "markdown",
   "id": "4d1c1d40",
   "metadata": {},
   "source": [
    "## Preview: Simple Returns vs. Logarithmic Returns (log returns)"
   ]
  },
  {
   "cell_type": "markdown",
   "id": "12a7af64",
   "metadata": {},
   "source": [
    "Very often log returns are used instead of simple returns.<br>\n",
    "- favourable characteristics of log returns\n",
    "- drawbacks of simple returns"
   ]
  },
  {
   "cell_type": "markdown",
   "id": "46ea6f9e",
   "metadata": {},
   "source": [
    "Problem: Many Students / Practitioners feel uncomfortable with log returns. <br>\n",
    "-> more detailed background on log returns in the next two Lectures (Discrete vs. Continuous Compounding)"
   ]
  },
  {
   "cell_type": "code",
   "execution_count": null,
   "id": "d0b363fe",
   "metadata": {},
   "outputs": [],
   "source": []
  },
  {
   "cell_type": "markdown",
   "id": "b31cacf8",
   "metadata": {},
   "source": [
    "## Discrete Compounding"
   ]
  },
  {
   "cell_type": "markdown",
   "id": "ab790e99",
   "metadata": {},
   "source": [
    "__Annual Compounding__ -> Interests accrue once a year at the end of the year"
   ]
  },
  {
   "cell_type": "markdown",
   "id": "f0f7946a",
   "metadata": {},
   "source": [
    "Your Savings Bank offers an interest rate of __8% p.a. (stated rate)__ with __annual compounding__ on your savings (__USD 100__).<br>\n",
    "Calculate the __value__ of your savings account __after one year__ and the corresponding __effective annual interest rate__. "
   ]
  },
  {
   "cell_type": "markdown",
   "id": "73d7a5b6",
   "metadata": {},
   "source": [
    "__-> Interests are calculated and added to your savings account once at the end of each year.__"
   ]
  },
  {
   "cell_type": "code",
   "execution_count": null,
   "id": "606a1519",
   "metadata": {},
   "outputs": [],
   "source": [
    "PV = 100\n",
    "r = 0.08\n",
    "n = 1"
   ]
  },
  {
   "cell_type": "code",
   "execution_count": null,
   "id": "ac5b11d3",
   "metadata": {},
   "outputs": [],
   "source": [
    "100 * 1.08"
   ]
  },
  {
   "cell_type": "code",
   "execution_count": null,
   "id": "74ab7526",
   "metadata": {},
   "outputs": [],
   "source": [
    "FV = PV * (1 + r)**n\n",
    "FV"
   ]
  },
  {
   "cell_type": "code",
   "execution_count": null,
   "id": "ec54e725",
   "metadata": {},
   "outputs": [],
   "source": [
    "effective_annual_rate = (FV / PV)**(1/n) - 1 \n",
    "effective_annual_rate"
   ]
  },
  {
   "cell_type": "code",
   "execution_count": null,
   "id": "3197f22f",
   "metadata": {},
   "outputs": [],
   "source": []
  },
  {
   "cell_type": "markdown",
   "id": "d0a07a4f",
   "metadata": {},
   "source": [
    "__Quarterly Compounding__ -> Interests accrue once a quarter at the end of the quarter"
   ]
  },
  {
   "cell_type": "markdown",
   "id": "daa65e20",
   "metadata": {},
   "source": [
    "Your Savings Bank offers an interest rate of __8% p.a. (stated rate)__ with __quarterly compounding__ on your savings (__USD 100__).<br>\n",
    "Calculate the __value__ of your savings account __after one year__ and the corresponding __effective annual interest rate__. "
   ]
  },
  {
   "cell_type": "markdown",
   "id": "e61445a8",
   "metadata": {},
   "source": [
    "__-> Interests are calculated and added to your savings account at the end of each quarter.__"
   ]
  },
  {
   "cell_type": "code",
   "execution_count": null,
   "id": "43bcff3e",
   "metadata": {},
   "outputs": [],
   "source": [
    "PV = 100\n",
    "r = 0.08\n",
    "n = 1\n",
    "m = 4"
   ]
  },
  {
   "cell_type": "code",
   "execution_count": null,
   "id": "323e70ef",
   "metadata": {},
   "outputs": [],
   "source": [
    "100 * 1.02 * 1.02 * 1.02 * 1.02"
   ]
  },
  {
   "cell_type": "code",
   "execution_count": null,
   "id": "90535e79",
   "metadata": {},
   "outputs": [],
   "source": [
    "FV = PV * (1 + r/m)**(n*m)\n",
    "FV"
   ]
  },
  {
   "cell_type": "code",
   "execution_count": null,
   "id": "86ee1a91",
   "metadata": {},
   "outputs": [],
   "source": [
    "effective_annual_rate = (FV / PV)**(1/n) - 1 \n",
    "effective_annual_rate"
   ]
  },
  {
   "cell_type": "markdown",
   "id": "e3e5af74",
   "metadata": {},
   "source": [
    "__-> Quarterly compounding is favourable (everything else equal) as we earn compound interest (interest on interest).__"
   ]
  },
  {
   "cell_type": "code",
   "execution_count": null,
   "id": "3be09664",
   "metadata": {},
   "outputs": [],
   "source": []
  },
  {
   "cell_type": "markdown",
   "id": "05a5bee9",
   "metadata": {},
   "source": [
    "__Monthly Compounding__ -> Interests accrue once a month at the end of the month"
   ]
  },
  {
   "cell_type": "markdown",
   "id": "c84fa2b1",
   "metadata": {},
   "source": [
    "Your Savings Bank offers an interest rate of __8% p.a. (stated rate)__ with __monthly compounding__ on your savings (__USD 100__).<br>\n",
    "Calculate the __value__ of your savings account __after one year__ and the corresponding __effective annual interest rate__. "
   ]
  },
  {
   "cell_type": "markdown",
   "id": "37739b5a",
   "metadata": {},
   "source": [
    "__-> Interests are calculated and added to your savings account at the end of each month.__"
   ]
  },
  {
   "cell_type": "code",
   "execution_count": null,
   "id": "828fa20a",
   "metadata": {},
   "outputs": [],
   "source": [
    "PV = 100\n",
    "r = 0.08\n",
    "n = 1\n",
    "m = 12"
   ]
  },
  {
   "cell_type": "code",
   "execution_count": null,
   "id": "f28f7594",
   "metadata": {},
   "outputs": [],
   "source": [
    "FV = PV * (1 + r/m)**(n*m)\n",
    "FV"
   ]
  },
  {
   "cell_type": "code",
   "execution_count": null,
   "id": "fbad2a6f",
   "metadata": {},
   "outputs": [],
   "source": [
    "effective_annual_rate = ((FV / PV)**(1/n) - 1) \n",
    "effective_annual_rate"
   ]
  },
  {
   "cell_type": "code",
   "execution_count": null,
   "id": "5469b5a8",
   "metadata": {},
   "outputs": [],
   "source": []
  },
  {
   "cell_type": "markdown",
   "id": "cd626d18",
   "metadata": {},
   "source": [
    "## Continuous Compounding "
   ]
  },
  {
   "cell_type": "code",
   "execution_count": null,
   "id": "ba4e84d1",
   "metadata": {},
   "outputs": [],
   "source": [
    "import numpy as np"
   ]
  },
  {
   "cell_type": "markdown",
   "id": "08d7c0c6",
   "metadata": {},
   "source": [
    "Your Savings Bank offers an interest rate of __8% p.a. (stated rate)__ with __continuous compounding__ on your savings (__USD 100__).<br>\n",
    "Calculate the __value__ of your savings account __after one year__ and the corresponding __effective annual interest rate__. "
   ]
  },
  {
   "cell_type": "markdown",
   "id": "15d66c94",
   "metadata": {},
   "source": [
    "__-> Interests are calculated and added to your savings account continuously (infinitely large number of compounding events).__ -> continuous exponential growth that can be observed in nature"
   ]
  },
  {
   "cell_type": "code",
   "execution_count": null,
   "id": "e144d9b2",
   "metadata": {},
   "outputs": [],
   "source": [
    "PV = 100\n",
    "r = 0.08\n",
    "n = 1\n",
    "m = 100000 # approx.infinity"
   ]
  },
  {
   "cell_type": "code",
   "execution_count": null,
   "id": "d82d62ab",
   "metadata": {},
   "outputs": [],
   "source": [
    "FV = PV * (1 + r/m)**(n*m) # approx. with large m\n",
    "FV"
   ]
  },
  {
   "cell_type": "code",
   "execution_count": null,
   "id": "7b2b9a40",
   "metadata": {},
   "outputs": [],
   "source": [
    "FV = PV * np.exp(n * r) # exact math with e (euler number)\n",
    "FV"
   ]
  },
  {
   "cell_type": "code",
   "execution_count": null,
   "id": "94f98500",
   "metadata": {},
   "outputs": [],
   "source": [
    "euler = np.exp(1)\n",
    "euler"
   ]
  },
  {
   "cell_type": "code",
   "execution_count": null,
   "id": "a91bbe5f",
   "metadata": {},
   "outputs": [],
   "source": [
    "PV * euler**(n * r)"
   ]
  },
  {
   "cell_type": "code",
   "execution_count": null,
   "id": "37b71241",
   "metadata": {},
   "outputs": [],
   "source": [
    "effective_annual_rate = ((FV / PV)**(1/n) - 1) # Alt 1\n",
    "effective_annual_rate"
   ]
  },
  {
   "cell_type": "code",
   "execution_count": null,
   "id": "27d87e89",
   "metadata": {},
   "outputs": [],
   "source": [
    "effective_annual_rate = np.exp(r) - 1 # Alt 2\n",
    "effective_annual_rate"
   ]
  },
  {
   "cell_type": "markdown",
   "id": "f51b1f87",
   "metadata": {},
   "source": [
    "Let´s assume we only observe PV and FV, how to calculate the stated rate/continuously compounded rate of 8%?"
   ]
  },
  {
   "cell_type": "code",
   "execution_count": null,
   "id": "6558ce10",
   "metadata": {},
   "outputs": [],
   "source": [
    "r = np.log(FV / PV) # inverse calculation -> use log (Alt 1)\n",
    "r"
   ]
  },
  {
   "cell_type": "code",
   "execution_count": null,
   "id": "28475db5",
   "metadata": {},
   "outputs": [],
   "source": [
    "r = np.log(effective_annual_rate + 1) # inverse calculation -> use log (Alt 2)\n",
    "r"
   ]
  },
  {
   "cell_type": "markdown",
   "id": "a5d8ac80",
   "metadata": {},
   "source": [
    "__Take Home: Prices of traded Financial Instruments change (approx.) continuously. <br>\n",
    "-> Intuitively, it makes a lot of sense to work with log returns.__ "
   ]
  },
  {
   "cell_type": "code",
   "execution_count": null,
   "id": "52758a86",
   "metadata": {},
   "outputs": [],
   "source": []
  },
  {
   "cell_type": "markdown",
   "id": "96b19065",
   "metadata": {},
   "source": [
    "## Log Returns"
   ]
  },
  {
   "cell_type": "code",
   "execution_count": null,
   "id": "7c82f315",
   "metadata": {},
   "outputs": [],
   "source": [
    "import pandas as pd\n",
    "import numpy as np\n",
    "pd.options.display.float_format = '{:.6f}'.format"
   ]
  },
  {
   "cell_type": "code",
   "execution_count": null,
   "id": "27c72f01",
   "metadata": {},
   "outputs": [],
   "source": [
    "msft = pd.read_csv(\"msft.csv\", index_col = \"Date\", parse_dates = [\"Date\"])\n",
    "msft"
   ]
  },
  {
   "cell_type": "code",
   "execution_count": null,
   "id": "42d84e69",
   "metadata": {},
   "outputs": [],
   "source": [
    "msft[\"log_ret\"] = np.log(msft.Price / msft.Price.shift()) # daily log returns"
   ]
  },
  {
   "cell_type": "code",
   "execution_count": null,
   "id": "79b241ac",
   "metadata": {},
   "outputs": [],
   "source": [
    "msft"
   ]
  },
  {
   "cell_type": "code",
   "execution_count": null,
   "id": "0362b297",
   "metadata": {},
   "outputs": [],
   "source": [
    "msft.describe()"
   ]
  },
  {
   "cell_type": "code",
   "execution_count": null,
   "id": "dd00259f",
   "metadata": {},
   "outputs": [],
   "source": [
    "mu = msft.log_ret.mean() # mean log return -> Reward\n",
    "mu"
   ]
  },
  {
   "cell_type": "code",
   "execution_count": null,
   "id": "6cc4afb2",
   "metadata": {},
   "outputs": [],
   "source": [
    "sigma = msft.log_ret.std() # standard deviation of log returns -> Risk/Volatility\n",
    "sigma"
   ]
  },
  {
   "cell_type": "code",
   "execution_count": null,
   "id": "6276d1f3",
   "metadata": {},
   "outputs": [],
   "source": []
  },
  {
   "cell_type": "markdown",
   "id": "d91b4326",
   "metadata": {},
   "source": [
    "## Simple Returns vs Log Returns ( Part 1)"
   ]
  },
  {
   "cell_type": "code",
   "execution_count": null,
   "id": "6d3cfdeb",
   "metadata": {},
   "outputs": [],
   "source": [
    "import pandas as pd\n",
    "import numpy as np\n",
    "pd.options.display.float_format = '{:.6f}'.format"
   ]
  },
  {
   "cell_type": "code",
   "execution_count": null,
   "id": "9f28e219",
   "metadata": {},
   "outputs": [],
   "source": [
    "df = pd.DataFrame(data = [100, 50, 90], columns = [\"Price\"])\n",
    "df"
   ]
  },
  {
   "cell_type": "code",
   "execution_count": null,
   "id": "4f8cda44",
   "metadata": {},
   "outputs": [],
   "source": [
    "df[\"SR\"] = df.Price.pct_change() # simple returns"
   ]
  },
  {
   "cell_type": "code",
   "execution_count": null,
   "id": "9eaaa4bd",
   "metadata": {},
   "outputs": [],
   "source": [
    "df[\"LR\"] = np.log(df.Price / df.Price.shift()) # log returns"
   ]
  },
  {
   "cell_type": "code",
   "execution_count": null,
   "id": "d97332ce",
   "metadata": {},
   "outputs": [],
   "source": [
    "df"
   ]
  },
  {
   "cell_type": "code",
   "execution_count": null,
   "id": "c9fff857",
   "metadata": {},
   "outputs": [],
   "source": [
    "periods = df.SR.count()\n",
    "periods"
   ]
  },
  {
   "cell_type": "markdown",
   "id": "e6d64f86",
   "metadata": {},
   "source": [
    "__The arithmetic mean of simple returns can be misleading!__"
   ]
  },
  {
   "cell_type": "code",
   "execution_count": null,
   "id": "378c1131",
   "metadata": {},
   "outputs": [],
   "source": [
    "mean_sr = df.SR.mean()\n",
    "mean_sr"
   ]
  },
  {
   "cell_type": "code",
   "execution_count": null,
   "id": "9bbac9e4",
   "metadata": {},
   "outputs": [],
   "source": [
    "100 * (1 + mean_sr)**periods # wrong!!!"
   ]
  },
  {
   "cell_type": "markdown",
   "id": "be27832e",
   "metadata": {},
   "source": [
    "__We should use Compound Simple Returns / Geometric Mean, or even better...__"
   ]
  },
  {
   "cell_type": "code",
   "execution_count": null,
   "id": "0355f254",
   "metadata": {},
   "outputs": [],
   "source": [
    "geo_mean = (1 + df.SR).prod()**(1 / periods) - 1\n",
    "geo_mean"
   ]
  },
  {
   "cell_type": "code",
   "execution_count": null,
   "id": "88119da8",
   "metadata": {},
   "outputs": [],
   "source": [
    "100 * (1 + geo_mean)**periods # correct!!!"
   ]
  },
  {
   "cell_type": "markdown",
   "id": "9aa0f2fd",
   "metadata": {},
   "source": [
    "__...Log Returns which are additive over time!__"
   ]
  },
  {
   "cell_type": "code",
   "execution_count": null,
   "id": "9399f506",
   "metadata": {},
   "outputs": [],
   "source": [
    "sum_lr = df.LR.sum()\n",
    "sum_lr"
   ]
  },
  {
   "cell_type": "code",
   "execution_count": null,
   "id": "47361d04",
   "metadata": {},
   "outputs": [],
   "source": [
    "100 * np.exp(sum_lr) # correct!!!"
   ]
  },
  {
   "cell_type": "code",
   "execution_count": null,
   "id": "4d94bdf3",
   "metadata": {},
   "outputs": [],
   "source": [
    "mean_lr = df.LR.mean()\n",
    "mean_lr"
   ]
  },
  {
   "cell_type": "code",
   "execution_count": null,
   "id": "47fac2ea",
   "metadata": {},
   "outputs": [],
   "source": [
    "100 * np.exp(mean_lr * periods) # correct!!!"
   ]
  },
  {
   "cell_type": "markdown",
   "id": "595ad7f6",
   "metadata": {},
   "source": [
    "__Take Home: Log Returns are additive over time. Simple Returns are not additive over time (but they can be multiplied/compounded)__"
   ]
  },
  {
   "cell_type": "code",
   "execution_count": null,
   "id": "22b37a14",
   "metadata": {},
   "outputs": [],
   "source": []
  },
  {
   "cell_type": "markdown",
   "id": "652d274f",
   "metadata": {},
   "source": [
    "## Simple Returns vs. Log Returns (Part 2)"
   ]
  },
  {
   "cell_type": "code",
   "execution_count": null,
   "id": "7ec82fd5",
   "metadata": {},
   "outputs": [],
   "source": [
    "import pandas as pd\n",
    "import numpy as np\n",
    "pd.options.display.float_format = '{:.6f}'.format"
   ]
  },
  {
   "cell_type": "code",
   "execution_count": null,
   "id": "3a8c5e51",
   "metadata": {},
   "outputs": [],
   "source": [
    "msft = pd.read_csv(\"msft.csv\", index_col = \"Date\", parse_dates = [\"Date\"])"
   ]
  },
  {
   "cell_type": "code",
   "execution_count": null,
   "id": "254fc71e",
   "metadata": {},
   "outputs": [],
   "source": [
    "msft[\"log_ret\"] = np.log(msft.Price / msft.Price.shift())"
   ]
  },
  {
   "cell_type": "code",
   "execution_count": null,
   "id": "c8ad7fa3",
   "metadata": {},
   "outputs": [],
   "source": [
    "msft"
   ]
  },
  {
   "cell_type": "markdown",
   "id": "62f97501",
   "metadata": {},
   "source": [
    "__Investment Multiple__"
   ]
  },
  {
   "cell_type": "code",
   "execution_count": null,
   "id": "fd5a9b95",
   "metadata": {},
   "outputs": [],
   "source": [
    "msft.Returns.add(1).prod() # compounding simple returns (\"compound returns\")"
   ]
  },
  {
   "cell_type": "code",
   "execution_count": null,
   "id": "25050efd",
   "metadata": {},
   "outputs": [],
   "source": [
    "np.exp(msft.log_ret.sum())  # adding log returns (\"cumulative returns\")"
   ]
  },
  {
   "cell_type": "markdown",
   "id": "6c1767d2",
   "metadata": {},
   "source": [
    "__Normalized Prices with Base 1__"
   ]
  },
  {
   "cell_type": "code",
   "execution_count": null,
   "id": "76468313",
   "metadata": {},
   "outputs": [],
   "source": [
    "msft.Returns.add(1).cumprod() # compounding simple returns (\"compound returns\")"
   ]
  },
  {
   "cell_type": "code",
   "execution_count": null,
   "id": "32c08e10",
   "metadata": {},
   "outputs": [],
   "source": [
    "np.exp(msft.log_ret.cumsum()) # adding log returns (\"cumulative returns\")"
   ]
  },
  {
   "cell_type": "code",
   "execution_count": null,
   "id": "559bdc54",
   "metadata": {},
   "outputs": [],
   "source": [
    "msft.log_ret.cumsum().apply(np.exp) # adding log returns (\"cumulative returns\")"
   ]
  },
  {
   "cell_type": "markdown",
   "id": "41e734da",
   "metadata": {},
   "source": [
    "__CAGR__"
   ]
  },
  {
   "cell_type": "code",
   "execution_count": null,
   "id": "e2b17fb6",
   "metadata": {},
   "outputs": [],
   "source": [
    "(msft.Price[-1]/msft.Price[0])**(1/((msft.index[-1] - msft.index[0]).days / 365.25)) - 1"
   ]
  },
  {
   "cell_type": "code",
   "execution_count": null,
   "id": "b5992ae9",
   "metadata": {},
   "outputs": [],
   "source": [
    "trading_days_year = msft.Returns.count() / ((msft.index[-1] - msft.index[0]).days / 365.25)\n",
    "trading_days_year"
   ]
  },
  {
   "cell_type": "code",
   "execution_count": null,
   "id": "9acda5d7",
   "metadata": {},
   "outputs": [],
   "source": [
    "np.exp(msft.log_ret.mean() * trading_days_year) - 1 # correct with mean of daily log returns!"
   ]
  },
  {
   "cell_type": "code",
   "execution_count": null,
   "id": "6b484e17",
   "metadata": {},
   "outputs": [],
   "source": [
    "msft.Returns.mean() * trading_days_year # incorrect with mean of daily simple returns!"
   ]
  },
  {
   "cell_type": "code",
   "execution_count": null,
   "id": "78da063e",
   "metadata": {},
   "outputs": [],
   "source": [
    "np.exp(msft.log_ret.mean() * 252) - 1 # good approximation (for us stocks)"
   ]
  },
  {
   "cell_type": "code",
   "execution_count": null,
   "id": "5d8c66cf",
   "metadata": {},
   "outputs": [],
   "source": []
  },
  {
   "cell_type": "markdown",
   "id": "0643d65e",
   "metadata": {},
   "source": [
    "--------------------------------------------"
   ]
  },
  {
   "cell_type": "markdown",
   "id": "9ecb9e67",
   "metadata": {},
   "source": [
    "__Coding Challenge #4__"
   ]
  },
  {
   "cell_type": "markdown",
   "id": "0d247fe7",
   "metadata": {},
   "source": [
    "1. Calculate daily log returns for Boeing."
   ]
  },
  {
   "cell_type": "markdown",
   "id": "aaf8edc1",
   "metadata": {},
   "source": [
    "2. Use Boeing´s log returns to calculate \n",
    "- Investment Multiple\n",
    "- CAGR (assuming 252 trading days)\n",
    "- Normalized Prices (Base = 1)"
   ]
  },
  {
   "cell_type": "markdown",
   "id": "4f496b69",
   "metadata": {},
   "source": [
    "---------------------------------------------"
   ]
  },
  {
   "cell_type": "code",
   "execution_count": 70,
   "id": "a5712971",
   "metadata": {},
   "outputs": [
    {
     "data": {
      "text/plain": [
       "'Inv_mul 1.9893694766457695'"
      ]
     },
     "metadata": {},
     "output_type": "display_data"
    },
    {
     "data": {
      "text/plain": [
       "'cagr 0.1082859807657981'"
      ]
     },
     "metadata": {},
     "output_type": "display_data"
    },
    {
     "data": {
      "text/plain": [
       "'sigma 0'"
      ]
     },
     "metadata": {},
     "output_type": "display_data"
    },
    {
     "data": {
      "text/html": [
       "<div>\n",
       "<style scoped>\n",
       "    .dataframe tbody tr th:only-of-type {\n",
       "        vertical-align: middle;\n",
       "    }\n",
       "\n",
       "    .dataframe tbody tr th {\n",
       "        vertical-align: top;\n",
       "    }\n",
       "\n",
       "    .dataframe thead th {\n",
       "        text-align: right;\n",
       "    }\n",
       "</style>\n",
       "<table border=\"1\" class=\"dataframe\">\n",
       "  <thead>\n",
       "    <tr style=\"text-align: right;\">\n",
       "      <th></th>\n",
       "      <th>price</th>\n",
       "      <th>norm</th>\n",
       "      <th>LR</th>\n",
       "      <th>cLR</th>\n",
       "    </tr>\n",
       "  </thead>\n",
       "  <tbody>\n",
       "    <tr>\n",
       "      <th>count</th>\n",
       "      <td>1677.0000</td>\n",
       "      <td>1677.0000</td>\n",
       "      <td>1676.0000</td>\n",
       "      <td>1676.0000</td>\n",
       "    </tr>\n",
       "    <tr>\n",
       "      <th>mean</th>\n",
       "      <td>228.7380</td>\n",
       "      <td>1.8347</td>\n",
       "      <td>0.0004</td>\n",
       "      <td>1.8352</td>\n",
       "    </tr>\n",
       "    <tr>\n",
       "      <th>std</th>\n",
       "      <td>94.3742</td>\n",
       "      <td>0.7570</td>\n",
       "      <td>0.0263</td>\n",
       "      <td>0.7569</td>\n",
       "    </tr>\n",
       "    <tr>\n",
       "      <th>min</th>\n",
       "      <td>95.0100</td>\n",
       "      <td>0.7621</td>\n",
       "      <td>-0.2724</td>\n",
       "      <td>0.7621</td>\n",
       "    </tr>\n",
       "    <tr>\n",
       "      <th>25%</th>\n",
       "      <td>143.3400</td>\n",
       "      <td>1.1498</td>\n",
       "      <td>-0.0092</td>\n",
       "      <td>1.1503</td>\n",
       "    </tr>\n",
       "    <tr>\n",
       "      <th>50%</th>\n",
       "      <td>189.0800</td>\n",
       "      <td>1.5166</td>\n",
       "      <td>0.0007</td>\n",
       "      <td>1.5184</td>\n",
       "    </tr>\n",
       "    <tr>\n",
       "      <th>75%</th>\n",
       "      <td>335.1600</td>\n",
       "      <td>2.6884</td>\n",
       "      <td>0.0105</td>\n",
       "      <td>2.6891</td>\n",
       "    </tr>\n",
       "    <tr>\n",
       "      <th>max</th>\n",
       "      <td>440.6200</td>\n",
       "      <td>3.5343</td>\n",
       "      <td>0.2177</td>\n",
       "      <td>3.5343</td>\n",
       "    </tr>\n",
       "  </tbody>\n",
       "</table>\n",
       "</div>"
      ],
      "text/plain": [
       "          price      norm        LR       cLR\n",
       "count 1677.0000 1677.0000 1676.0000 1676.0000\n",
       "mean   228.7380    1.8347    0.0004    1.8352\n",
       "std     94.3742    0.7570    0.0263    0.7569\n",
       "min     95.0100    0.7621   -0.2724    0.7621\n",
       "25%    143.3400    1.1498   -0.0092    1.1503\n",
       "50%    189.0800    1.5166    0.0007    1.5184\n",
       "75%    335.1600    2.6884    0.0105    2.6891\n",
       "max    440.6200    3.5343    0.2177    3.5343"
      ]
     },
     "metadata": {},
     "output_type": "display_data"
    }
   ],
   "source": [
    "import pandas as pd\n",
    "import numpy as np\n",
    "\n",
    "ba = pd.read_csv('close.csv', parse_dates=['Date'], index_col='Date').BA.to_frame()\n",
    "ba.rename(columns={\"BA\":\"price\"}, inplace=True)\n",
    "ba.dropna(inplace=True)\n",
    "ba['norm'] = ba.price.div(ba.price[0])\n",
    "ba['LR'] = np.log(ba.price/ba.price.shift(1))\n",
    "ba['cLR'] = ba.LR.cumsum().apply(np.exp)\n",
    "invst_mult = ba_norm[-1]\n",
    "invst_mult\n",
    "cagr = np.exp(ba.LR.mean()*252)-1\n",
    "sigma = 0#ba.LR.std()*np.sqrt(252)\n",
    "display(\"Inv_mul {}\".format(invst_mult), \"cagr {}\".format(cagr), \"sigma {}\".format(sigma), ba.describe())"
   ]
  },
  {
   "cell_type": "markdown",
   "id": "b31a152d",
   "metadata": {},
   "source": [
    "## Performance Comparison"
   ]
  },
  {
   "cell_type": "markdown",
   "id": "6bad891f",
   "metadata": {},
   "source": [
    "__General Rule in Finance/Investing: Higher Risk must be rewarded with higher Returns__."
   ]
  },
  {
   "cell_type": "markdown",
   "id": "97266cd6",
   "metadata": {},
   "source": [
    "__Which instrument(s) performed best/worst in the past in terms of risk & return?__"
   ]
  },
  {
   "cell_type": "code",
   "execution_count": 344,
   "id": "d8c6ba2a",
   "metadata": {},
   "outputs": [],
   "source": [
    "import pandas as pd\n",
    "import numpy as np\n",
    "pd.options.display.float_format = '{:.4f}'.format\n",
    "import matplotlib.pyplot as plt\n",
    "plt.style.use(\"seaborn\")"
   ]
  },
  {
   "cell_type": "code",
   "execution_count": 358,
   "id": "502adcd4",
   "metadata": {},
   "outputs": [
    {
     "data": {
      "text/html": [
       "<div>\n",
       "<style scoped>\n",
       "    .dataframe tbody tr th:only-of-type {\n",
       "        vertical-align: middle;\n",
       "    }\n",
       "\n",
       "    .dataframe tbody tr th {\n",
       "        vertical-align: top;\n",
       "    }\n",
       "\n",
       "    .dataframe thead th {\n",
       "        text-align: right;\n",
       "    }\n",
       "</style>\n",
       "<table border=\"1\" class=\"dataframe\">\n",
       "  <thead>\n",
       "    <tr style=\"text-align: right;\">\n",
       "      <th></th>\n",
       "      <th>BA</th>\n",
       "      <th>BTC-USD</th>\n",
       "      <th>EURUSD=X</th>\n",
       "      <th>GC=F</th>\n",
       "      <th>MSFT</th>\n",
       "      <th>^DJI</th>\n",
       "    </tr>\n",
       "    <tr>\n",
       "      <th>Date</th>\n",
       "      <th></th>\n",
       "      <th></th>\n",
       "      <th></th>\n",
       "      <th></th>\n",
       "      <th></th>\n",
       "      <th></th>\n",
       "    </tr>\n",
       "  </thead>\n",
       "  <tbody>\n",
       "    <tr>\n",
       "      <th>2014-10-01</th>\n",
       "      <td>124.6700</td>\n",
       "      <td>383.6150</td>\n",
       "      <td>1.2628</td>\n",
       "      <td>1214.6000</td>\n",
       "      <td>45.9000</td>\n",
       "      <td>16804.7109</td>\n",
       "    </tr>\n",
       "    <tr>\n",
       "      <th>2014-10-02</th>\n",
       "      <td>124.1700</td>\n",
       "      <td>375.0720</td>\n",
       "      <td>1.2624</td>\n",
       "      <td>1214.2000</td>\n",
       "      <td>45.7600</td>\n",
       "      <td>16801.0508</td>\n",
       "    </tr>\n",
       "    <tr>\n",
       "      <th>2014-10-03</th>\n",
       "      <td>126.3600</td>\n",
       "      <td>359.5120</td>\n",
       "      <td>1.2671</td>\n",
       "      <td>1192.2000</td>\n",
       "      <td>46.0900</td>\n",
       "      <td>17009.6895</td>\n",
       "    </tr>\n",
       "    <tr>\n",
       "      <th>2014-10-04</th>\n",
       "      <td>NaN</td>\n",
       "      <td>328.8660</td>\n",
       "      <td>NaN</td>\n",
       "      <td>NaN</td>\n",
       "      <td>NaN</td>\n",
       "      <td>NaN</td>\n",
       "    </tr>\n",
       "    <tr>\n",
       "      <th>2014-10-05</th>\n",
       "      <td>NaN</td>\n",
       "      <td>320.5100</td>\n",
       "      <td>NaN</td>\n",
       "      <td>NaN</td>\n",
       "      <td>NaN</td>\n",
       "      <td>NaN</td>\n",
       "    </tr>\n",
       "    <tr>\n",
       "      <th>...</th>\n",
       "      <td>...</td>\n",
       "      <td>...</td>\n",
       "      <td>...</td>\n",
       "      <td>...</td>\n",
       "      <td>...</td>\n",
       "      <td>...</td>\n",
       "    </tr>\n",
       "    <tr>\n",
       "      <th>2021-05-27</th>\n",
       "      <td>250.7000</td>\n",
       "      <td>38436.9688</td>\n",
       "      <td>1.2193</td>\n",
       "      <td>1895.7000</td>\n",
       "      <td>249.3100</td>\n",
       "      <td>34464.6406</td>\n",
       "    </tr>\n",
       "    <tr>\n",
       "      <th>2021-05-28</th>\n",
       "      <td>247.0200</td>\n",
       "      <td>35697.6055</td>\n",
       "      <td>1.2193</td>\n",
       "      <td>1902.5000</td>\n",
       "      <td>249.6800</td>\n",
       "      <td>34529.4492</td>\n",
       "    </tr>\n",
       "    <tr>\n",
       "      <th>2021-05-29</th>\n",
       "      <td>NaN</td>\n",
       "      <td>34616.0664</td>\n",
       "      <td>NaN</td>\n",
       "      <td>NaN</td>\n",
       "      <td>NaN</td>\n",
       "      <td>NaN</td>\n",
       "    </tr>\n",
       "    <tr>\n",
       "      <th>2021-05-30</th>\n",
       "      <td>NaN</td>\n",
       "      <td>35678.1289</td>\n",
       "      <td>NaN</td>\n",
       "      <td>NaN</td>\n",
       "      <td>NaN</td>\n",
       "      <td>NaN</td>\n",
       "    </tr>\n",
       "    <tr>\n",
       "      <th>2021-05-31</th>\n",
       "      <td>NaN</td>\n",
       "      <td>37332.8555</td>\n",
       "      <td>1.2190</td>\n",
       "      <td>NaN</td>\n",
       "      <td>NaN</td>\n",
       "      <td>NaN</td>\n",
       "    </tr>\n",
       "  </tbody>\n",
       "</table>\n",
       "<p>2435 rows × 6 columns</p>\n",
       "</div>"
      ],
      "text/plain": [
       "                 BA    BTC-USD  EURUSD=X      GC=F     MSFT       ^DJI\n",
       "Date                                                                  \n",
       "2014-10-01 124.6700   383.6150    1.2628 1214.6000  45.9000 16804.7109\n",
       "2014-10-02 124.1700   375.0720    1.2624 1214.2000  45.7600 16801.0508\n",
       "2014-10-03 126.3600   359.5120    1.2671 1192.2000  46.0900 17009.6895\n",
       "2014-10-04      NaN   328.8660       NaN       NaN      NaN        NaN\n",
       "2014-10-05      NaN   320.5100       NaN       NaN      NaN        NaN\n",
       "...             ...        ...       ...       ...      ...        ...\n",
       "2021-05-27 250.7000 38436.9688    1.2193 1895.7000 249.3100 34464.6406\n",
       "2021-05-28 247.0200 35697.6055    1.2193 1902.5000 249.6800 34529.4492\n",
       "2021-05-29      NaN 34616.0664       NaN       NaN      NaN        NaN\n",
       "2021-05-30      NaN 35678.1289       NaN       NaN      NaN        NaN\n",
       "2021-05-31      NaN 37332.8555    1.2190       NaN      NaN        NaN\n",
       "\n",
       "[2435 rows x 6 columns]"
      ]
     },
     "execution_count": 358,
     "metadata": {},
     "output_type": "execute_result"
    }
   ],
   "source": [
    "close = pd.read_csv(\"close.csv\", index_col = \"Date\", parse_dates = [\"Date\"])\n",
    "close"
   ]
  },
  {
   "cell_type": "code",
   "execution_count": 359,
   "id": "84d364bd",
   "metadata": {},
   "outputs": [
    {
     "name": "stdout",
     "output_type": "stream",
     "text": [
      "<class 'pandas.core.frame.DataFrame'>\n",
      "DatetimeIndex: 2435 entries, 2014-10-01 to 2021-05-31\n",
      "Data columns (total 6 columns):\n",
      " #   Column    Non-Null Count  Dtype  \n",
      "---  ------    --------------  -----  \n",
      " 0   BA        1677 non-null   float64\n",
      " 1   BTC-USD   2431 non-null   float64\n",
      " 2   EURUSD=X  1716 non-null   float64\n",
      " 3   GC=F      1662 non-null   float64\n",
      " 4   MSFT      1677 non-null   float64\n",
      " 5   ^DJI      1677 non-null   float64\n",
      "dtypes: float64(6)\n",
      "memory usage: 133.2 KB\n"
     ]
    }
   ],
   "source": [
    "close.info()"
   ]
  },
  {
   "cell_type": "code",
   "execution_count": 360,
   "id": "b2efa2b1",
   "metadata": {},
   "outputs": [
    {
     "data": {
      "image/png": "[encoded data removed]",
      "text/plain": [
       "<Figure size 1080x576 with 1 Axes>"
      ]
     },
     "metadata": {},
     "output_type": "display_data"
    }
   ],
   "source": [
    "close.dropna().plot(figsize = (15, 8), fontsize = 13)\n",
    "plt.legend(fontsize = 13)\n",
    "plt.show()"
   ]
  },
  {
   "cell_type": "code",
   "execution_count": 371,
   "id": "d4a4a889",
   "metadata": {},
   "outputs": [
    {
     "name": "stdout",
     "output_type": "stream",
     "text": [
      "<class 'pandas.core.frame.DataFrame'>\n",
      "DatetimeIndex: 2435 entries, 2014-10-01 to 2021-05-31\n",
      "Data columns (total 6 columns):\n",
      " #   Column    Non-Null Count  Dtype  \n",
      "---  ------    --------------  -----  \n",
      " 0   BA        1312 non-null   float64\n",
      " 1   BTC-USD   2427 non-null   float64\n",
      " 2   EURUSD=X  1366 non-null   float64\n",
      " 3   GC=F      1304 non-null   float64\n",
      " 4   MSFT      1312 non-null   float64\n",
      " 5   ^DJI      1312 non-null   float64\n",
      "dtypes: float64(6)\n",
      "memory usage: 133.2 KB\n"
     ]
    }
   ],
   "source": [
    "np.log(close / close.shift()).info() # keep NaN"
   ]
  },
  {
   "cell_type": "code",
   "execution_count": 372,
   "id": "a99b01f6",
   "metadata": {},
   "outputs": [
    {
     "name": "stdout",
     "output_type": "stream",
     "text": [
      "<class 'pandas.core.frame.DataFrame'>\n",
      "DatetimeIndex: 2435 entries, 2014-10-01 to 2021-05-31\n",
      "Freq: D\n",
      "Data columns (total 6 columns):\n",
      " #   Column    Non-Null Count  Dtype  \n",
      "---  ------    --------------  -----  \n",
      " 0   BA        1676 non-null   float64\n",
      " 1   BTC-USD   2430 non-null   float64\n",
      " 2   EURUSD=X  1715 non-null   float64\n",
      " 3   GC=F      1661 non-null   float64\n",
      " 4   MSFT      1676 non-null   float64\n",
      " 5   ^DJI      1676 non-null   float64\n",
      "dtypes: float64(6)\n",
      "memory usage: 133.2 KB\n"
     ]
    }
   ],
   "source": [
    "close.apply(lambda x: np.log(x.dropna() / x.dropna().shift())).info() # remove NaN"
   ]
  },
  {
   "cell_type": "code",
   "execution_count": 380,
   "id": "dd4c2b38",
   "metadata": {},
   "outputs": [
    {
     "data": {
      "text/html": [
       "<div>\n",
       "<style scoped>\n",
       "    .dataframe tbody tr th:only-of-type {\n",
       "        vertical-align: middle;\n",
       "    }\n",
       "\n",
       "    .dataframe tbody tr th {\n",
       "        vertical-align: top;\n",
       "    }\n",
       "\n",
       "    .dataframe thead th {\n",
       "        text-align: right;\n",
       "    }\n",
       "</style>\n",
       "<table border=\"1\" class=\"dataframe\">\n",
       "  <thead>\n",
       "    <tr style=\"text-align: right;\">\n",
       "      <th></th>\n",
       "      <th>BA</th>\n",
       "      <th>BTC-USD</th>\n",
       "      <th>EURUSD=X</th>\n",
       "      <th>GC=F</th>\n",
       "      <th>MSFT</th>\n",
       "      <th>^DJI</th>\n",
       "    </tr>\n",
       "    <tr>\n",
       "      <th>Date</th>\n",
       "      <th></th>\n",
       "      <th></th>\n",
       "      <th></th>\n",
       "      <th></th>\n",
       "      <th></th>\n",
       "      <th></th>\n",
       "    </tr>\n",
       "  </thead>\n",
       "  <tbody>\n",
       "    <tr>\n",
       "      <th>2014-10-01</th>\n",
       "      <td>NaN</td>\n",
       "      <td>NaN</td>\n",
       "      <td>NaN</td>\n",
       "      <td>NaN</td>\n",
       "      <td>NaN</td>\n",
       "      <td>NaN</td>\n",
       "    </tr>\n",
       "    <tr>\n",
       "      <th>2014-10-02</th>\n",
       "      <td>-0.0040</td>\n",
       "      <td>-0.0225</td>\n",
       "      <td>-0.0003</td>\n",
       "      <td>-0.0003</td>\n",
       "      <td>-0.0031</td>\n",
       "      <td>-0.0002</td>\n",
       "    </tr>\n",
       "    <tr>\n",
       "      <th>2014-10-03</th>\n",
       "      <td>0.0175</td>\n",
       "      <td>-0.0424</td>\n",
       "      <td>0.0037</td>\n",
       "      <td>-0.0183</td>\n",
       "      <td>0.0072</td>\n",
       "      <td>0.0123</td>\n",
       "    </tr>\n",
       "    <tr>\n",
       "      <th>2014-10-04</th>\n",
       "      <td>NaN</td>\n",
       "      <td>-0.0891</td>\n",
       "      <td>NaN</td>\n",
       "      <td>NaN</td>\n",
       "      <td>NaN</td>\n",
       "      <td>NaN</td>\n",
       "    </tr>\n",
       "    <tr>\n",
       "      <th>2014-10-05</th>\n",
       "      <td>NaN</td>\n",
       "      <td>-0.0257</td>\n",
       "      <td>NaN</td>\n",
       "      <td>NaN</td>\n",
       "      <td>NaN</td>\n",
       "      <td>NaN</td>\n",
       "    </tr>\n",
       "    <tr>\n",
       "      <th>...</th>\n",
       "      <td>...</td>\n",
       "      <td>...</td>\n",
       "      <td>...</td>\n",
       "      <td>...</td>\n",
       "      <td>...</td>\n",
       "      <td>...</td>\n",
       "    </tr>\n",
       "    <tr>\n",
       "      <th>2021-05-27</th>\n",
       "      <td>0.0379</td>\n",
       "      <td>-0.0221</td>\n",
       "      <td>-0.0046</td>\n",
       "      <td>-0.0029</td>\n",
       "      <td>-0.0087</td>\n",
       "      <td>0.0041</td>\n",
       "    </tr>\n",
       "    <tr>\n",
       "      <th>2021-05-28</th>\n",
       "      <td>-0.0148</td>\n",
       "      <td>-0.0739</td>\n",
       "      <td>0.0000</td>\n",
       "      <td>0.0036</td>\n",
       "      <td>0.0015</td>\n",
       "      <td>0.0019</td>\n",
       "    </tr>\n",
       "    <tr>\n",
       "      <th>2021-05-29</th>\n",
       "      <td>NaN</td>\n",
       "      <td>-0.0308</td>\n",
       "      <td>NaN</td>\n",
       "      <td>NaN</td>\n",
       "      <td>NaN</td>\n",
       "      <td>NaN</td>\n",
       "    </tr>\n",
       "    <tr>\n",
       "      <th>2021-05-30</th>\n",
       "      <td>NaN</td>\n",
       "      <td>0.0302</td>\n",
       "      <td>NaN</td>\n",
       "      <td>NaN</td>\n",
       "      <td>NaN</td>\n",
       "      <td>NaN</td>\n",
       "    </tr>\n",
       "    <tr>\n",
       "      <th>2021-05-31</th>\n",
       "      <td>NaN</td>\n",
       "      <td>0.0453</td>\n",
       "      <td>-0.0003</td>\n",
       "      <td>NaN</td>\n",
       "      <td>NaN</td>\n",
       "      <td>NaN</td>\n",
       "    </tr>\n",
       "  </tbody>\n",
       "</table>\n",
       "<p>2435 rows × 6 columns</p>\n",
       "</div>"
      ],
      "text/plain": [
       "                BA  BTC-USD  EURUSD=X    GC=F    MSFT    ^DJI\n",
       "Date                                                         \n",
       "2014-10-01     NaN      NaN       NaN     NaN     NaN     NaN\n",
       "2014-10-02 -0.0040  -0.0225   -0.0003 -0.0003 -0.0031 -0.0002\n",
       "2014-10-03  0.0175  -0.0424    0.0037 -0.0183  0.0072  0.0123\n",
       "2014-10-04     NaN  -0.0891       NaN     NaN     NaN     NaN\n",
       "2014-10-05     NaN  -0.0257       NaN     NaN     NaN     NaN\n",
       "...            ...      ...       ...     ...     ...     ...\n",
       "2021-05-27  0.0379  -0.0221   -0.0046 -0.0029 -0.0087  0.0041\n",
       "2021-05-28 -0.0148  -0.0739    0.0000  0.0036  0.0015  0.0019\n",
       "2021-05-29     NaN  -0.0308       NaN     NaN     NaN     NaN\n",
       "2021-05-30     NaN   0.0302       NaN     NaN     NaN     NaN\n",
       "2021-05-31     NaN   0.0453   -0.0003     NaN     NaN     NaN\n",
       "\n",
       "[2435 rows x 6 columns]"
      ]
     },
     "execution_count": 380,
     "metadata": {},
     "output_type": "execute_result"
    }
   ],
   "source": [
    "returns = None\n",
    "returns = close.apply(lambda x: np.log(x.dropna() / x.dropna().shift()))\n",
    "#returns = np.log(close.dropna()/close.dropna().shift())\n",
    "#returns.dropna(inplace=True)\n",
    "returns"
   ]
  },
  {
   "cell_type": "code",
   "execution_count": 364,
   "id": "21015808",
   "metadata": {},
   "outputs": [
    {
     "name": "stdout",
     "output_type": "stream",
     "text": [
      "<class 'pandas.core.frame.DataFrame'>\n",
      "DatetimeIndex: 2435 entries, 2014-10-01 to 2021-05-31\n",
      "Freq: D\n",
      "Data columns (total 6 columns):\n",
      " #   Column    Non-Null Count  Dtype  \n",
      "---  ------    --------------  -----  \n",
      " 0   BA        1676 non-null   float64\n",
      " 1   BTC-USD   2430 non-null   float64\n",
      " 2   EURUSD=X  1715 non-null   float64\n",
      " 3   GC=F      1661 non-null   float64\n",
      " 4   MSFT      1676 non-null   float64\n",
      " 5   ^DJI      1676 non-null   float64\n",
      "dtypes: float64(6)\n",
      "memory usage: 133.2 KB\n"
     ]
    }
   ],
   "source": [
    "returns.info()"
   ]
  },
  {
   "cell_type": "code",
   "execution_count": 365,
   "id": "6f6ecab0",
   "metadata": {},
   "outputs": [
    {
     "data": {
      "text/html": [
       "<div>\n",
       "<style scoped>\n",
       "    .dataframe tbody tr th:only-of-type {\n",
       "        vertical-align: middle;\n",
       "    }\n",
       "\n",
       "    .dataframe tbody tr th {\n",
       "        vertical-align: top;\n",
       "    }\n",
       "\n",
       "    .dataframe thead th {\n",
       "        text-align: right;\n",
       "    }\n",
       "</style>\n",
       "<table border=\"1\" class=\"dataframe\">\n",
       "  <thead>\n",
       "    <tr style=\"text-align: right;\">\n",
       "      <th></th>\n",
       "      <th>BA</th>\n",
       "      <th>BTC-USD</th>\n",
       "      <th>EURUSD=X</th>\n",
       "      <th>GC=F</th>\n",
       "      <th>MSFT</th>\n",
       "      <th>^DJI</th>\n",
       "    </tr>\n",
       "  </thead>\n",
       "  <tbody>\n",
       "    <tr>\n",
       "      <th>count</th>\n",
       "      <td>1676.0000</td>\n",
       "      <td>2430.0000</td>\n",
       "      <td>1715.0000</td>\n",
       "      <td>1661.0000</td>\n",
       "      <td>1676.0000</td>\n",
       "      <td>1676.0000</td>\n",
       "    </tr>\n",
       "    <tr>\n",
       "      <th>mean</th>\n",
       "      <td>0.0004</td>\n",
       "      <td>0.0019</td>\n",
       "      <td>-0.0000</td>\n",
       "      <td>0.0003</td>\n",
       "      <td>0.0010</td>\n",
       "      <td>0.0004</td>\n",
       "    </tr>\n",
       "    <tr>\n",
       "      <th>std</th>\n",
       "      <td>0.0263</td>\n",
       "      <td>0.0395</td>\n",
       "      <td>0.0051</td>\n",
       "      <td>0.0094</td>\n",
       "      <td>0.0172</td>\n",
       "      <td>0.0120</td>\n",
       "    </tr>\n",
       "    <tr>\n",
       "      <th>min</th>\n",
       "      <td>-0.2724</td>\n",
       "      <td>-0.4647</td>\n",
       "      <td>-0.0281</td>\n",
       "      <td>-0.0511</td>\n",
       "      <td>-0.1595</td>\n",
       "      <td>-0.1384</td>\n",
       "    </tr>\n",
       "    <tr>\n",
       "      <th>25%</th>\n",
       "      <td>-0.0092</td>\n",
       "      <td>-0.0124</td>\n",
       "      <td>-0.0031</td>\n",
       "      <td>-0.0042</td>\n",
       "      <td>-0.0062</td>\n",
       "      <td>-0.0034</td>\n",
       "    </tr>\n",
       "    <tr>\n",
       "      <th>50%</th>\n",
       "      <td>0.0007</td>\n",
       "      <td>0.0020</td>\n",
       "      <td>-0.0000</td>\n",
       "      <td>0.0003</td>\n",
       "      <td>0.0009</td>\n",
       "      <td>0.0007</td>\n",
       "    </tr>\n",
       "    <tr>\n",
       "      <th>75%</th>\n",
       "      <td>0.0105</td>\n",
       "      <td>0.0179</td>\n",
       "      <td>0.0029</td>\n",
       "      <td>0.0051</td>\n",
       "      <td>0.0091</td>\n",
       "      <td>0.0054</td>\n",
       "    </tr>\n",
       "    <tr>\n",
       "      <th>max</th>\n",
       "      <td>0.2177</td>\n",
       "      <td>0.2251</td>\n",
       "      <td>0.0281</td>\n",
       "      <td>0.0578</td>\n",
       "      <td>0.1329</td>\n",
       "      <td>0.1076</td>\n",
       "    </tr>\n",
       "  </tbody>\n",
       "</table>\n",
       "</div>"
      ],
      "text/plain": [
       "             BA   BTC-USD  EURUSD=X      GC=F      MSFT      ^DJI\n",
       "count 1676.0000 2430.0000 1715.0000 1661.0000 1676.0000 1676.0000\n",
       "mean     0.0004    0.0019   -0.0000    0.0003    0.0010    0.0004\n",
       "std      0.0263    0.0395    0.0051    0.0094    0.0172    0.0120\n",
       "min     -0.2724   -0.4647   -0.0281   -0.0511   -0.1595   -0.1384\n",
       "25%     -0.0092   -0.0124   -0.0031   -0.0042   -0.0062   -0.0034\n",
       "50%      0.0007    0.0020   -0.0000    0.0003    0.0009    0.0007\n",
       "75%      0.0105    0.0179    0.0029    0.0051    0.0091    0.0054\n",
       "max      0.2177    0.2251    0.0281    0.0578    0.1329    0.1076"
      ]
     },
     "execution_count": 365,
     "metadata": {},
     "output_type": "execute_result"
    }
   ],
   "source": [
    "returns.describe()"
   ]
  },
  {
   "cell_type": "code",
   "execution_count": 366,
   "id": "bd8c3895",
   "metadata": {},
   "outputs": [
    {
     "data": {
      "text/html": [
       "<div>\n",
       "<style scoped>\n",
       "    .dataframe tbody tr th:only-of-type {\n",
       "        vertical-align: middle;\n",
       "    }\n",
       "\n",
       "    .dataframe tbody tr th {\n",
       "        vertical-align: top;\n",
       "    }\n",
       "\n",
       "    .dataframe thead th {\n",
       "        text-align: right;\n",
       "    }\n",
       "</style>\n",
       "<table border=\"1\" class=\"dataframe\">\n",
       "  <thead>\n",
       "    <tr style=\"text-align: right;\">\n",
       "      <th></th>\n",
       "      <th>mean</th>\n",
       "      <th>std</th>\n",
       "    </tr>\n",
       "  </thead>\n",
       "  <tbody>\n",
       "    <tr>\n",
       "      <th>BA</th>\n",
       "      <td>0.0004</td>\n",
       "      <td>0.0263</td>\n",
       "    </tr>\n",
       "    <tr>\n",
       "      <th>BTC-USD</th>\n",
       "      <td>0.0019</td>\n",
       "      <td>0.0395</td>\n",
       "    </tr>\n",
       "    <tr>\n",
       "      <th>EURUSD=X</th>\n",
       "      <td>-0.0000</td>\n",
       "      <td>0.0051</td>\n",
       "    </tr>\n",
       "    <tr>\n",
       "      <th>GC=F</th>\n",
       "      <td>0.0003</td>\n",
       "      <td>0.0094</td>\n",
       "    </tr>\n",
       "    <tr>\n",
       "      <th>MSFT</th>\n",
       "      <td>0.0010</td>\n",
       "      <td>0.0172</td>\n",
       "    </tr>\n",
       "    <tr>\n",
       "      <th>^DJI</th>\n",
       "      <td>0.0004</td>\n",
       "      <td>0.0120</td>\n",
       "    </tr>\n",
       "  </tbody>\n",
       "</table>\n",
       "</div>"
      ],
      "text/plain": [
       "            mean    std\n",
       "BA        0.0004 0.0263\n",
       "BTC-USD   0.0019 0.0395\n",
       "EURUSD=X -0.0000 0.0051\n",
       "GC=F      0.0003 0.0094\n",
       "MSFT      0.0010 0.0172\n",
       "^DJI      0.0004 0.0120"
      ]
     },
     "execution_count": 366,
     "metadata": {},
     "output_type": "execute_result"
    }
   ],
   "source": [
    "summary = returns.agg([\"mean\", \"std\"]).T\n",
    "summary"
   ]
  },
  {
   "cell_type": "code",
   "execution_count": 367,
   "id": "5242b620",
   "metadata": {},
   "outputs": [
    {
     "data": {
      "text/html": [
       "<div>\n",
       "<style scoped>\n",
       "    .dataframe tbody tr th:only-of-type {\n",
       "        vertical-align: middle;\n",
       "    }\n",
       "\n",
       "    .dataframe tbody tr th {\n",
       "        vertical-align: top;\n",
       "    }\n",
       "\n",
       "    .dataframe thead th {\n",
       "        text-align: right;\n",
       "    }\n",
       "</style>\n",
       "<table border=\"1\" class=\"dataframe\">\n",
       "  <thead>\n",
       "    <tr style=\"text-align: right;\">\n",
       "      <th></th>\n",
       "      <th>Mean</th>\n",
       "      <th>Std</th>\n",
       "    </tr>\n",
       "  </thead>\n",
       "  <tbody>\n",
       "    <tr>\n",
       "      <th>BA</th>\n",
       "      <td>0.0004</td>\n",
       "      <td>0.0263</td>\n",
       "    </tr>\n",
       "    <tr>\n",
       "      <th>BTC-USD</th>\n",
       "      <td>0.0019</td>\n",
       "      <td>0.0395</td>\n",
       "    </tr>\n",
       "    <tr>\n",
       "      <th>EURUSD=X</th>\n",
       "      <td>-0.0000</td>\n",
       "      <td>0.0051</td>\n",
       "    </tr>\n",
       "    <tr>\n",
       "      <th>GC=F</th>\n",
       "      <td>0.0003</td>\n",
       "      <td>0.0094</td>\n",
       "    </tr>\n",
       "    <tr>\n",
       "      <th>MSFT</th>\n",
       "      <td>0.0010</td>\n",
       "      <td>0.0172</td>\n",
       "    </tr>\n",
       "    <tr>\n",
       "      <th>^DJI</th>\n",
       "      <td>0.0004</td>\n",
       "      <td>0.0120</td>\n",
       "    </tr>\n",
       "  </tbody>\n",
       "</table>\n",
       "</div>"
      ],
      "text/plain": [
       "            Mean    Std\n",
       "BA        0.0004 0.0263\n",
       "BTC-USD   0.0019 0.0395\n",
       "EURUSD=X -0.0000 0.0051\n",
       "GC=F      0.0003 0.0094\n",
       "MSFT      0.0010 0.0172\n",
       "^DJI      0.0004 0.0120"
      ]
     },
     "execution_count": 367,
     "metadata": {},
     "output_type": "execute_result"
    }
   ],
   "source": [
    "summary.columns = [\"Mean\", \"Std\"]\n",
    "summary"
   ]
  },
  {
   "cell_type": "code",
   "execution_count": 368,
   "id": "6dc0b4a7",
   "metadata": {},
   "outputs": [
    {
     "data": {
      "image/png": "[encoded data removed]",
      "text/plain": [
       "<Figure size 1080x864 with 1 Axes>"
      ]
     },
     "metadata": {},
     "output_type": "display_data"
    }
   ],
   "source": [
    "summary.plot(kind = \"scatter\", x = \"Std\", y = \"Mean\", figsize = (15,12), s = 50, fontsize = 15)\n",
    "for i in summary.index:\n",
    "    plt.annotate(i, xy=(summary.loc[i, \"Std\"]+0.00005, summary.loc[i, \"Mean\"]+0.00005), size = 15)\n",
    "plt.xlabel(\"Risk (std)\", fontsize = 15)\n",
    "plt.ylabel(\"Mean Return\", fontsize = 15)\n",
    "plt.title(\"Mean-Variance Analysis\", fontsize = 20)\n",
    "plt.show()"
   ]
  },
  {
   "cell_type": "markdown",
   "id": "478a900b",
   "metadata": {},
   "source": [
    "-> There is __no clear \"best-performer\"__ among [\"EURUSD=X\", \"GC=F\", \"^DJI\", \"MSFT\", \"BTC-USD\"] (without further analysis). __Higher risk__ is getting rewarded with __higher returns__. __BA underperformed__."
   ]
  },
  {
   "cell_type": "code",
   "execution_count": null,
   "id": "4ab9109b",
   "metadata": {},
   "outputs": [],
   "source": []
  },
  {
   "cell_type": "markdown",
   "id": "a4ac92fe",
   "metadata": {},
   "source": [
    "__Take Home: Mean-Variance Analysis has one major shortcoming: It assumes that financial returns follow a Normal Distribution. That´s (typically) not True.<br> -> Standard Deviation of Returns underestimates the true/full risk of an Investment as it fails to measure \"Tail Risks\".__ "
   ]
  },
  {
   "cell_type": "code",
   "execution_count": null,
   "id": "58baeef9",
   "metadata": {},
   "outputs": [],
   "source": []
  },
  {
   "cell_type": "markdown",
   "id": "536ab4f2",
   "metadata": {},
   "source": [
    "## Normality of Financial Returns "
   ]
  },
  {
   "cell_type": "code",
   "execution_count": null,
   "id": "c26d4842",
   "metadata": {},
   "outputs": [],
   "source": [
    "import pandas as pd\n",
    "import numpy as np\n",
    "pd.options.display.float_format = '{:.4f}'.format\n",
    "import matplotlib.pyplot as plt\n",
    "plt.style.use(\"seaborn\")"
   ]
  },
  {
   "cell_type": "code",
   "execution_count": null,
   "id": "7264ef5b",
   "metadata": {},
   "outputs": [],
   "source": [
    "msft = pd.read_csv(\"msft.csv\", index_col = \"Date\", parse_dates = [\"Date\"])\n",
    "msft"
   ]
  },
  {
   "cell_type": "code",
   "execution_count": null,
   "id": "03ded835",
   "metadata": {},
   "outputs": [],
   "source": [
    "msft[\"log_ret\"] = np.log(msft.Price / msft.Price.shift()) \n",
    "msft"
   ]
  },
  {
   "cell_type": "code",
   "execution_count": null,
   "id": "b0856b5a",
   "metadata": {
    "scrolled": true
   },
   "outputs": [],
   "source": [
    "msft.describe()"
   ]
  },
  {
   "cell_type": "code",
   "execution_count": null,
   "id": "3b3f3818",
   "metadata": {},
   "outputs": [],
   "source": [
    "msft.log_ret.plot(kind = \"hist\", figsize = (15 ,8), bins = 100, fontsize = 15, density = False) # Frequency Distribution of log returns\n",
    "plt.xlabel(\"Daily Returns\", fontsize = 15)\n",
    "plt.ylabel(\"Frequency\", fontsize = 15)\n",
    "plt.title(\"Frequency Distribution of Returns\", fontsize = 20)\n",
    "plt.show()"
   ]
  },
  {
   "cell_type": "markdown",
   "id": "e3b65671",
   "metadata": {},
   "source": [
    "__Do MSFT Returns follow a Normal Distribution?__ <br><br>\n",
    "A normally distributed random variable can be fully described by its \n",
    "- mean\n",
    "- standard deviation"
   ]
  },
  {
   "cell_type": "markdown",
   "id": "a9a3b024",
   "metadata": {},
   "source": [
    "Higher Central Moments are zero:\n",
    "- Skew = 0 (measures symmetrie around the mean)\n",
    "- (Excess) Kurtosis = 0 (positve excess Kurtosis -> more observations in the \"tails\")"
   ]
  },
  {
   "cell_type": "code",
   "execution_count": null,
   "id": "9c2dc85f",
   "metadata": {
    "scrolled": true
   },
   "outputs": [],
   "source": [
    "mu = msft.log_ret.mean()\n",
    "mu"
   ]
  },
  {
   "cell_type": "code",
   "execution_count": null,
   "id": "7085eab9",
   "metadata": {},
   "outputs": [],
   "source": [
    "sigma = msft.log_ret.std()\n",
    "sigma"
   ]
  },
  {
   "cell_type": "code",
   "execution_count": null,
   "id": "d4d2420b",
   "metadata": {},
   "outputs": [],
   "source": [
    "import scipy.stats as stats"
   ]
  },
  {
   "cell_type": "code",
   "execution_count": null,
   "id": "6a46461d",
   "metadata": {},
   "outputs": [],
   "source": [
    "stats.skew(msft.log_ret.dropna()) # in a Normal Distribution: skew == 0"
   ]
  },
  {
   "cell_type": "code",
   "execution_count": null,
   "id": "37046a63",
   "metadata": {},
   "outputs": [],
   "source": [
    "stats.kurtosis(msft.log_ret.dropna(), fisher = True) # in a Normal Distribution: (fisher) kurtosis == 0"
   ]
  },
  {
   "cell_type": "markdown",
   "id": "83174c71",
   "metadata": {},
   "source": [
    "__-> MSFT Returns exhibit \"Fat Tails\" (extreme positive/negative outcomes).__"
   ]
  },
  {
   "cell_type": "code",
   "execution_count": null,
   "id": "44fb9229",
   "metadata": {},
   "outputs": [],
   "source": [
    "x = np.linspace(msft.log_ret.min(), msft.log_ret.max(), 10000)\n",
    "x"
   ]
  },
  {
   "cell_type": "code",
   "execution_count": null,
   "id": "799fc3d7",
   "metadata": {},
   "outputs": [],
   "source": [
    "y = stats.norm.pdf(x, loc = mu, scale = sigma) # creating y values a for normal distribution with mu, sigma\n",
    "y"
   ]
  },
  {
   "cell_type": "code",
   "execution_count": null,
   "id": "5aa754c1",
   "metadata": {},
   "outputs": [],
   "source": [
    "plt.figure(figsize = (20, 8))\n",
    "plt.hist(msft.log_ret, bins = 500, density = True, label = \"Frequency Distribution of daily Returns (MSFT)\")\n",
    "plt.plot(x, y, linewidth = 3, color = \"red\", label = \"Normal Distribution\")\n",
    "plt.title(\"Normal Distribution\", fontsize = 20)\n",
    "plt.xlabel(\"Daily Returns\", fontsize = 15)\n",
    "plt.ylabel(\"pdf\", fontsize = 15)\n",
    "plt.legend(fontsize = 15)\n",
    "plt.show()"
   ]
  },
  {
   "cell_type": "markdown",
   "id": "03f2a07c",
   "metadata": {},
   "source": [
    "__-> MSFT Returns exhibit \"Fat Tails\" (extreme positive/negative outcomes).__ "
   ]
  },
  {
   "cell_type": "code",
   "execution_count": null,
   "id": "0d566e2f",
   "metadata": {},
   "outputs": [],
   "source": []
  },
  {
   "cell_type": "markdown",
   "id": "a5f095f3",
   "metadata": {},
   "source": [
    "__Testing the normality of MSFT Returns based on the sample (Oct 2014 to May 2021):__ <br>\n",
    "__-> Hypothesis Test with H0 Hypothesis: MSFT Returns (full population) follow a normal Distribution.__ "
   ]
  },
  {
   "cell_type": "code",
   "execution_count": null,
   "id": "c017f284",
   "metadata": {},
   "outputs": [],
   "source": [
    "z_stat, p_value = stats.normaltest(msft.log_ret.dropna())"
   ]
  },
  {
   "cell_type": "code",
   "execution_count": null,
   "id": "ce0461c5",
   "metadata": {},
   "outputs": [],
   "source": [
    "z_stat # high values -> reject H0"
   ]
  },
  {
   "cell_type": "code",
   "execution_count": null,
   "id": "78516f83",
   "metadata": {},
   "outputs": [],
   "source": [
    "p_value # low values (close to zero) -> reject H0"
   ]
  },
  {
   "cell_type": "code",
   "execution_count": null,
   "id": "435ea9b9",
   "metadata": {},
   "outputs": [],
   "source": [
    "round(p_value, 10)"
   ]
  },
  {
   "cell_type": "markdown",
   "id": "e368f4d0",
   "metadata": {},
   "source": [
    "__-> Assuming that MSFT Returns (generally) follow a Normal Distribution, there is 0% probability that we get that extreme outcomes in a sample.__ "
   ]
  },
  {
   "cell_type": "markdown",
   "id": "19318eb4",
   "metadata": {},
   "source": [
    "__Take Home: MSFT Returns don´t follow a Normal Distribution as they exhibit \"Fat Tails\". Extreme Events/Outcomes are not reflected in the Mean-Variance Analysis. The Standard Deviation of Returns underestimates true Risk.__"
   ]
  },
  {
   "cell_type": "code",
   "execution_count": null,
   "id": "db50fcab",
   "metadata": {},
   "outputs": [],
   "source": []
  },
  {
   "cell_type": "markdown",
   "id": "a1efca54",
   "metadata": {},
   "source": [
    "## Annualizing Mean Return and Std of Returns"
   ]
  },
  {
   "cell_type": "code",
   "execution_count": null,
   "id": "48573467",
   "metadata": {},
   "outputs": [],
   "source": [
    "import pandas as pd\n",
    "import numpy as np\n",
    "import matplotlib.pyplot as plt\n",
    "pd.options.display.float_format = '{:.6f}'.format\n",
    "plt.style.use(\"seaborn\")"
   ]
  },
  {
   "cell_type": "code",
   "execution_count": null,
   "id": "0d79f085",
   "metadata": {},
   "outputs": [],
   "source": [
    "msft = pd.read_csv(\"msft.csv\", index_col = \"Date\", parse_dates = [\"Date\"], usecols = [\"Date\", \"Price\"])"
   ]
  },
  {
   "cell_type": "code",
   "execution_count": null,
   "id": "4b3144f6",
   "metadata": {},
   "outputs": [],
   "source": [
    "msft"
   ]
  },
  {
   "cell_type": "code",
   "execution_count": null,
   "id": "9579f6bd",
   "metadata": {},
   "outputs": [],
   "source": [
    "msft[\"log_ret\"] = np.log(msft.Price / msft.Price.shift())"
   ]
  },
  {
   "cell_type": "code",
   "execution_count": null,
   "id": "2a9e9408",
   "metadata": {},
   "outputs": [],
   "source": [
    "msft.log_ret.agg([\"mean\", \"std\"]) # mean and std based on daily returns"
   ]
  },
  {
   "cell_type": "code",
   "execution_count": null,
   "id": "5c474c31",
   "metadata": {},
   "outputs": [],
   "source": [
    "ann_mu = msft.log_ret.mean() * 252 \n",
    "ann_mu"
   ]
  },
  {
   "cell_type": "code",
   "execution_count": null,
   "id": "657fbdc5",
   "metadata": {},
   "outputs": [],
   "source": [
    "cagr = np.exp(ann_mu) - 1 # don´t mix up with cagr\n",
    "cagr"
   ]
  },
  {
   "cell_type": "code",
   "execution_count": null,
   "id": "9e9449d4",
   "metadata": {},
   "outputs": [],
   "source": [
    "ann_std = msft.log_ret.std() * np.sqrt(252) \n",
    "ann_std"
   ]
  },
  {
   "cell_type": "code",
   "execution_count": null,
   "id": "6ec01979",
   "metadata": {},
   "outputs": [],
   "source": [
    "ann_std = np.sqrt(msft.log_ret.var() * 252) # annualized std of returns (Alt 2)\n",
    "ann_std"
   ]
  },
  {
   "cell_type": "code",
   "execution_count": null,
   "id": "85797853",
   "metadata": {},
   "outputs": [],
   "source": []
  },
  {
   "cell_type": "markdown",
   "id": "1b1d9e1d",
   "metadata": {},
   "source": [
    "## Resampling / Smoothing"
   ]
  },
  {
   "cell_type": "code",
   "execution_count": null,
   "id": "011f3bcc",
   "metadata": {},
   "outputs": [],
   "source": [
    "msft.Price.plot(figsize = (12, 8))\n",
    "plt.legend()\n",
    "plt.show()"
   ]
  },
  {
   "cell_type": "code",
   "execution_count": null,
   "id": "08fc5193",
   "metadata": {},
   "outputs": [],
   "source": [
    "monthly = msft.Price.resample(\"M\").last() ## resample to monthly (month end)\n",
    "monthly"
   ]
  },
  {
   "cell_type": "code",
   "execution_count": null,
   "id": "b2b442d2",
   "metadata": {},
   "outputs": [],
   "source": [
    "monthly.plot(figsize = (12, 8))\n",
    "plt.legend()\n",
    "plt.show()"
   ]
  },
  {
   "cell_type": "markdown",
   "id": "54b0535e",
   "metadata": {},
   "source": [
    "__How will the Mean-Variance Analysis change with smoothed data?__"
   ]
  },
  {
   "cell_type": "code",
   "execution_count": null,
   "id": "674f0bfe",
   "metadata": {},
   "outputs": [],
   "source": [
    "freqs = [\"A\", \"Q\", \"M\", \"W-Fri\", \"D\"]\n",
    "periods = [1, 4, 12, 52, 252]\n",
    "ann_mean = []\n",
    "ann_std = []"
   ]
  },
  {
   "cell_type": "code",
   "execution_count": null,
   "id": "1fa8554f",
   "metadata": {},
   "outputs": [],
   "source": [
    "for i in range(5):\n",
    "    resamp = msft.Price.resample(freqs[i]).last() # resample\n",
    "    ann_mean.append(np.log(resamp / resamp.shift()).mean() * periods[i]) # calc. annualized mean\n",
    "    ann_std.append(np.log(resamp / resamp.shift()).std() * np.sqrt(periods[i])) # calc. annualized std"
   ]
  },
  {
   "cell_type": "code",
   "execution_count": null,
   "id": "b9b4fcae",
   "metadata": {},
   "outputs": [],
   "source": [
    "ann_mean"
   ]
  },
  {
   "cell_type": "code",
   "execution_count": null,
   "id": "21006017",
   "metadata": {},
   "outputs": [],
   "source": [
    "summary = pd.DataFrame(data = {\"ann_std\":ann_std, \"ann_mean\":ann_mean}, index = freqs)\n",
    "summary"
   ]
  },
  {
   "cell_type": "code",
   "execution_count": null,
   "id": "13778d53",
   "metadata": {},
   "outputs": [],
   "source": [
    "summary.plot(kind = \"scatter\", x = \"ann_std\", y = \"ann_mean\", figsize = (15,12), s = 50, fontsize = 15)\n",
    "for i in summary.index:\n",
    "    plt.annotate(i, xy=(summary.loc[i, \"ann_std\"]+0.001, summary.loc[i, \"ann_mean\"]+0.001), size = 15)\n",
    "plt.ylim(0, 0.3)\n",
    "plt.xlabel(\"ann. Risk(std)\", fontsize = 15)\n",
    "plt.ylabel(\"ann. Return\", fontsize = 15)\n",
    "plt.title(\"Risk/Return\", fontsize = 20)\n",
    "plt.show()"
   ]
  },
  {
   "cell_type": "markdown",
   "id": "de6c42b0",
   "metadata": {},
   "source": [
    "__-> Smoothing reduces (observed) Risk__. "
   ]
  },
  {
   "cell_type": "markdown",
   "id": "c8e16920",
   "metadata": {},
   "source": [
    "Dubious practices:\n",
    "- Managing (Manipulating) Performance in Performance Reportings.\n",
    "- Comparing assets with different granularity and pricing mechanisms -> e.g. non-listed (alternative assets) vs. listed assets \n",
    "- Adjusting granularity to investor´s (average) holding period -> Volatility is still there."
   ]
  },
  {
   "cell_type": "code",
   "execution_count": null,
   "id": "88b327d3",
   "metadata": {},
   "outputs": [],
   "source": []
  },
  {
   "cell_type": "markdown",
   "id": "79664c0c",
   "metadata": {},
   "source": [
    "## Rolling Statistics"
   ]
  },
  {
   "cell_type": "markdown",
   "id": "e0cc78b5",
   "metadata": {},
   "source": [
    "__(Another) general Rule in Finance/Investing: Past performance is not an indicator of future performance__."
   ]
  },
  {
   "cell_type": "code",
   "execution_count": null,
   "id": "5b2c5f5e",
   "metadata": {},
   "outputs": [],
   "source": [
    "msft"
   ]
  },
  {
   "cell_type": "code",
   "execution_count": null,
   "id": "57aca39b",
   "metadata": {},
   "outputs": [],
   "source": [
    "ann_mu = msft.log_ret.mean() * 252 # annualized mean return\n",
    "ann_mu"
   ]
  },
  {
   "cell_type": "code",
   "execution_count": null,
   "id": "2cd35648",
   "metadata": {},
   "outputs": [],
   "source": [
    "ann_std = msft.log_ret.std() * np.sqrt(252) # annualized std of returns (Alt 1)\n",
    "ann_std"
   ]
  },
  {
   "cell_type": "markdown",
   "id": "fade509a",
   "metadata": {},
   "source": [
    "__Are Return and Risk constant over time? No, of course not! They change over time.__"
   ]
  },
  {
   "cell_type": "markdown",
   "id": "4249b6e5",
   "metadata": {},
   "source": [
    "__Let´s measure/quantify this with rolling statistics!__"
   ]
  },
  {
   "cell_type": "code",
   "execution_count": null,
   "id": "ff0a7754",
   "metadata": {},
   "outputs": [],
   "source": [
    "window = 252 # rolling window 252 trading days (~ 1 Year)"
   ]
  },
  {
   "cell_type": "code",
   "execution_count": null,
   "id": "43799b82",
   "metadata": {},
   "outputs": [],
   "source": [
    "msft.log_ret.rolling(window = 252)"
   ]
  },
  {
   "cell_type": "code",
   "execution_count": null,
   "id": "70f8b5c8",
   "metadata": {},
   "outputs": [],
   "source": [
    "msft.log_ret.rolling(window = 252).sum() # Alt 1"
   ]
  },
  {
   "cell_type": "code",
   "execution_count": null,
   "id": "514392a0",
   "metadata": {},
   "outputs": [],
   "source": [
    "roll_mean = msft.log_ret.rolling(window = 252).mean() * 252 # Alt 2\n",
    "roll_mean"
   ]
  },
  {
   "cell_type": "code",
   "execution_count": null,
   "id": "21ef3ad9",
   "metadata": {},
   "outputs": [],
   "source": [
    "roll_mean.iloc[250:]"
   ]
  },
  {
   "cell_type": "code",
   "execution_count": null,
   "id": "754483f4",
   "metadata": {},
   "outputs": [],
   "source": [
    "roll_mean.plot(figsize = (12, 8))\n",
    "plt.show()"
   ]
  },
  {
   "cell_type": "code",
   "execution_count": null,
   "id": "2bdff238",
   "metadata": {},
   "outputs": [],
   "source": [
    "roll_std = msft.log_ret.rolling(window = 252).std() * np.sqrt(252)\n",
    "roll_std"
   ]
  },
  {
   "cell_type": "code",
   "execution_count": null,
   "id": "e3ae40ce",
   "metadata": {},
   "outputs": [],
   "source": [
    "roll_std.plot(figsize = (12, 8))\n",
    "plt.show()"
   ]
  },
  {
   "cell_type": "code",
   "execution_count": null,
   "id": "fa4d7119",
   "metadata": {},
   "outputs": [],
   "source": [
    "roll_mean.plot(figsize = (12, 8))\n",
    "roll_std.plot()\n",
    "plt.show()"
   ]
  },
  {
   "cell_type": "markdown",
   "id": "92f475b9",
   "metadata": {},
   "source": [
    "__Take Home__: Be careful, you´ll always find (sub-)periods with __low returns & high risk__ and __high returns & low risk__. "
   ]
  },
  {
   "cell_type": "markdown",
   "id": "f6656322",
   "metadata": {},
   "source": [
    "- Analysis Period must be __sufficiently long__ to reduce impact of random noise. <br>\n",
    "- Analysis Period should be __as short as possible__ and should only include the __latest trends / regimes__.\n",
    "- Commonly used reporting period: __3 Years / 36 Months__"
   ]
  },
  {
   "cell_type": "markdown",
   "id": "8f2fd353",
   "metadata": {},
   "source": [
    "__Another Example: Simple Moving Average (Prices) - SMA__"
   ]
  },
  {
   "cell_type": "code",
   "execution_count": null,
   "id": "c68c9001",
   "metadata": {},
   "outputs": [],
   "source": [
    "sma_window = 50"
   ]
  },
  {
   "cell_type": "code",
   "execution_count": null,
   "id": "55187bd8",
   "metadata": {},
   "outputs": [],
   "source": [
    "msft.Price.plot(figsize = (12, 8))\n",
    "msft.Price.rolling(sma_window).mean().plot()\n",
    "plt.show()"
   ]
  },
  {
   "cell_type": "code",
   "execution_count": null,
   "id": "4f4a4559",
   "metadata": {},
   "outputs": [],
   "source": []
  },
  {
   "cell_type": "markdown",
   "id": "b1bef586",
   "metadata": {},
   "source": [
    "--------------------------------------------"
   ]
  },
  {
   "cell_type": "markdown",
   "id": "d9a671cf",
   "metadata": {},
   "source": [
    "__Coding Challenge #5__"
   ]
  },
  {
   "cell_type": "markdown",
   "id": "fa7b5c75",
   "metadata": {},
   "source": [
    "1. Calculate daily log returns for Boeing.\n",
    "\n",
    "2. Use Boeing´s daily log returns to calculate the annualized mean and annualized std (assume 252 trading days per year).\n",
    "\n",
    "3. Resample to monthly prices and compare the annualized std (monthly) with the annualized std (daily). Any differences?\n",
    "\n",
    "4. Keep working with monthly data and calculate/visualize the rolling 36 months mean return (annualized)."
   ]
  },
  {
   "cell_type": "markdown",
   "id": "c5f5af66",
   "metadata": {},
   "source": [
    "---------------------------------------------"
   ]
  },
  {
   "cell_type": "code",
   "execution_count": 125,
   "id": "63849fad",
   "metadata": {},
   "outputs": [
    {
     "data": {
      "text/html": [
       "<div>\n",
       "<style scoped>\n",
       "    .dataframe tbody tr th:only-of-type {\n",
       "        vertical-align: middle;\n",
       "    }\n",
       "\n",
       "    .dataframe tbody tr th {\n",
       "        vertical-align: top;\n",
       "    }\n",
       "\n",
       "    .dataframe thead th {\n",
       "        text-align: right;\n",
       "    }\n",
       "</style>\n",
       "<table border=\"1\" class=\"dataframe\">\n",
       "  <thead>\n",
       "    <tr style=\"text-align: right;\">\n",
       "      <th></th>\n",
       "      <th>BA</th>\n",
       "      <th>LR</th>\n",
       "    </tr>\n",
       "    <tr>\n",
       "      <th>Date</th>\n",
       "      <th></th>\n",
       "      <th></th>\n",
       "    </tr>\n",
       "  </thead>\n",
       "  <tbody>\n",
       "    <tr>\n",
       "      <th>2014-10-01</th>\n",
       "      <td>1.0000</td>\n",
       "      <td>NaN</td>\n",
       "    </tr>\n",
       "    <tr>\n",
       "      <th>2014-10-02</th>\n",
       "      <td>0.9960</td>\n",
       "      <td>-0.0040</td>\n",
       "    </tr>\n",
       "    <tr>\n",
       "      <th>2014-10-03</th>\n",
       "      <td>1.0136</td>\n",
       "      <td>0.0175</td>\n",
       "    </tr>\n",
       "    <tr>\n",
       "      <th>2014-10-06</th>\n",
       "      <td>1.0128</td>\n",
       "      <td>-0.0008</td>\n",
       "    </tr>\n",
       "    <tr>\n",
       "      <th>2014-10-07</th>\n",
       "      <td>0.9892</td>\n",
       "      <td>-0.0236</td>\n",
       "    </tr>\n",
       "    <tr>\n",
       "      <th>...</th>\n",
       "      <td>...</td>\n",
       "      <td>...</td>\n",
       "    </tr>\n",
       "    <tr>\n",
       "      <th>2021-05-24</th>\n",
       "      <td>1.9045</td>\n",
       "      <td>0.0111</td>\n",
       "    </tr>\n",
       "    <tr>\n",
       "      <th>2021-05-25</th>\n",
       "      <td>1.9310</td>\n",
       "      <td>0.0138</td>\n",
       "    </tr>\n",
       "    <tr>\n",
       "      <th>2021-05-26</th>\n",
       "      <td>1.9361</td>\n",
       "      <td>0.0026</td>\n",
       "    </tr>\n",
       "    <tr>\n",
       "      <th>2021-05-27</th>\n",
       "      <td>2.0109</td>\n",
       "      <td>0.0379</td>\n",
       "    </tr>\n",
       "    <tr>\n",
       "      <th>2021-05-28</th>\n",
       "      <td>1.9814</td>\n",
       "      <td>-0.0148</td>\n",
       "    </tr>\n",
       "  </tbody>\n",
       "</table>\n",
       "<p>1677 rows × 2 columns</p>\n",
       "</div>"
      ],
      "text/plain": [
       "               BA      LR\n",
       "Date                     \n",
       "2014-10-01 1.0000     NaN\n",
       "2014-10-02 0.9960 -0.0040\n",
       "2014-10-03 1.0136  0.0175\n",
       "2014-10-06 1.0128 -0.0008\n",
       "2014-10-07 0.9892 -0.0236\n",
       "...           ...     ...\n",
       "2021-05-24 1.9045  0.0111\n",
       "2021-05-25 1.9310  0.0138\n",
       "2021-05-26 1.9361  0.0026\n",
       "2021-05-27 2.0109  0.0379\n",
       "2021-05-28 1.9814 -0.0148\n",
       "\n",
       "[1677 rows x 2 columns]"
      ]
     },
     "metadata": {},
     "output_type": "display_data"
    },
    {
     "data": {
      "text/plain": [
       "'ann_mean 10.2815%'"
      ]
     },
     "metadata": {},
     "output_type": "display_data"
    },
    {
     "data": {
      "text/plain": [
       "'ann_std 41.8180%'"
      ]
     },
     "metadata": {},
     "output_type": "display_data"
    },
    {
     "data": {
      "text/html": [
       "<div>\n",
       "<style scoped>\n",
       "    .dataframe tbody tr th:only-of-type {\n",
       "        vertical-align: middle;\n",
       "    }\n",
       "\n",
       "    .dataframe tbody tr th {\n",
       "        vertical-align: top;\n",
       "    }\n",
       "\n",
       "    .dataframe thead th {\n",
       "        text-align: right;\n",
       "    }\n",
       "</style>\n",
       "<table border=\"1\" class=\"dataframe\">\n",
       "  <thead>\n",
       "    <tr style=\"text-align: right;\">\n",
       "      <th></th>\n",
       "      <th>BA</th>\n",
       "      <th>LR</th>\n",
       "    </tr>\n",
       "    <tr>\n",
       "      <th>Date</th>\n",
       "      <th></th>\n",
       "      <th></th>\n",
       "    </tr>\n",
       "  </thead>\n",
       "  <tbody>\n",
       "    <tr>\n",
       "      <th>2014-10-31</th>\n",
       "      <td>1.0019</td>\n",
       "      <td>NaN</td>\n",
       "    </tr>\n",
       "    <tr>\n",
       "      <th>2014-11-28</th>\n",
       "      <td>1.0777</td>\n",
       "      <td>0.0729</td>\n",
       "    </tr>\n",
       "    <tr>\n",
       "      <th>2014-12-31</th>\n",
       "      <td>1.0426</td>\n",
       "      <td>-0.0331</td>\n",
       "    </tr>\n",
       "    <tr>\n",
       "      <th>2015-01-30</th>\n",
       "      <td>1.1660</td>\n",
       "      <td>0.1119</td>\n",
       "    </tr>\n",
       "    <tr>\n",
       "      <th>2015-02-27</th>\n",
       "      <td>1.2100</td>\n",
       "      <td>0.0370</td>\n",
       "    </tr>\n",
       "    <tr>\n",
       "      <th>...</th>\n",
       "      <td>...</td>\n",
       "      <td>...</td>\n",
       "    </tr>\n",
       "    <tr>\n",
       "      <th>2021-01-29</th>\n",
       "      <td>1.5576</td>\n",
       "      <td>-0.0974</td>\n",
       "    </tr>\n",
       "    <tr>\n",
       "      <th>2021-02-26</th>\n",
       "      <td>1.7006</td>\n",
       "      <td>0.0878</td>\n",
       "    </tr>\n",
       "    <tr>\n",
       "      <th>2021-03-31</th>\n",
       "      <td>2.0432</td>\n",
       "      <td>0.1835</td>\n",
       "    </tr>\n",
       "    <tr>\n",
       "      <th>2021-04-30</th>\n",
       "      <td>1.8794</td>\n",
       "      <td>-0.0835</td>\n",
       "    </tr>\n",
       "    <tr>\n",
       "      <th>2021-05-31</th>\n",
       "      <td>1.9814</td>\n",
       "      <td>0.0528</td>\n",
       "    </tr>\n",
       "  </tbody>\n",
       "</table>\n",
       "<p>80 rows × 2 columns</p>\n",
       "</div>"
      ],
      "text/plain": [
       "               BA      LR\n",
       "Date                     \n",
       "2014-10-31 1.0019     NaN\n",
       "2014-11-28 1.0777  0.0729\n",
       "2014-12-31 1.0426 -0.0331\n",
       "2015-01-30 1.1660  0.1119\n",
       "2015-02-27 1.2100  0.0370\n",
       "...           ...     ...\n",
       "2021-01-29 1.5576 -0.0974\n",
       "2021-02-26 1.7006  0.0878\n",
       "2021-03-31 2.0432  0.1835\n",
       "2021-04-30 1.8794 -0.0835\n",
       "2021-05-31 1.9814  0.0528\n",
       "\n",
       "[80 rows x 2 columns]"
      ]
     },
     "metadata": {},
     "output_type": "display_data"
    },
    {
     "data": {
      "text/plain": [
       "'ann_mean_m 10.3576%'"
      ]
     },
     "metadata": {},
     "output_type": "display_data"
    },
    {
     "data": {
      "text/plain": [
       "'ann_std_m 40.7194%'"
      ]
     },
     "metadata": {},
     "output_type": "display_data"
    }
   ],
   "source": [
    "import pandas as pd\n",
    "import numpy as np\n",
    "from matplotlib import pyplot as plt\n",
    "plt.style.use(\"seaborn\")\n",
    "\n",
    "cc4_raw = pd.read_csv('close.csv', parse_dates=['Date'], index_col='Date').BA.to_frame()\n",
    "cc4_raw.dropna(inplace=True)\n",
    "cc4_raw['BA'] = cc4_raw.BA.div(cc4_raw.BA[0])\n",
    "cc4_raw['LR'] = np.log(cc4_raw.BA/cc4_raw.BA.shift(periods=1))\n",
    "cc4_m = cc4_raw.resample(\"BM\").last().copy()\n",
    "cc4_m['LR'] = np.log(cc4_m.BA/cc4_m.BA.shift(periods=1))\n",
    "display(cc4_raw,\"ann_mean {:,.4f}%\".format(100*cc4_raw.LR.mean()*252),\\\n",
    "        \"ann_std {:,.4f}%\".format(100*cc4_raw.LR.std()*np.sqrt(252)), cc4_m,\\\n",
    "        \"ann_mean_m {:,.4f}%\".format(100*cc4_m.LR.mean()*12),\\\n",
    "        \"ann_std_m {:,.4f}%\".format(100*cc4_m.LR.std()*np.sqrt(12)))"
   ]
  },
  {
   "cell_type": "markdown",
   "id": "8346ef58",
   "metadata": {},
   "source": [
    "## Short Selling / Short Positions (Part 1)"
   ]
  },
  {
   "cell_type": "markdown",
   "id": "82987a01",
   "metadata": {},
   "source": [
    "What´s the rational behind short selling an instrument? <br>\n",
    "__-> making profits/positive returns when prices fall.__"
   ]
  },
  {
   "cell_type": "markdown",
   "id": "576c3041",
   "metadata": {},
   "source": [
    "__Stocks Example:__"
   ]
  },
  {
   "cell_type": "markdown",
   "id": "a64d7598",
   "metadata": {},
   "source": [
    "Today an Investor __buys__ the ABC Stock for USD 100. One day later he __sells__ the stock for USD 110. <br> \n",
    "__-> Profit: USD 10__ <br>\n",
    "->__Long Position__ (benefit from rising prices):"
   ]
  },
  {
   "cell_type": "markdown",
   "id": "c463120a",
   "metadata": {},
   "source": [
    "Today an Investor __borrows__ the ABC Stock from another Investor and __sells__ it for USD 100. One day later he __buys__ the stock for USD 90 and __returns__ it to the lender.<br>\n",
    "__-> Profit: USD 10__  <br>\n",
    "->__Short Position__ (benefit from falling prices):"
   ]
  },
  {
   "cell_type": "markdown",
   "id": "c82b4639",
   "metadata": {},
   "source": [
    "In some countries (and for some instruments like stocks) short selling is prohibited. <br>\n",
    "Most intuitive/popular use case for short selling: __Currencies (Forex)__"
   ]
  },
  {
   "cell_type": "code",
   "execution_count": null,
   "id": "77d79a46",
   "metadata": {},
   "outputs": [],
   "source": []
  },
  {
   "cell_type": "markdown",
   "id": "8db012e2",
   "metadata": {},
   "source": [
    "## Short Selling / Short Positions (Part 2)"
   ]
  },
  {
   "cell_type": "markdown",
   "id": "b09d3d71",
   "metadata": {},
   "source": [
    "__EUR/USD__ (\"Long Euro\" == \"Short USD\")"
   ]
  },
  {
   "cell_type": "code",
   "execution_count": null,
   "id": "2f00f156",
   "metadata": {},
   "outputs": [],
   "source": [
    "t0 = 1.10\n",
    "t1 = 1.25"
   ]
  },
  {
   "cell_type": "markdown",
   "id": "e2fe1b3a",
   "metadata": {},
   "source": [
    "Today an Investor __buys__ EUR 1 and pays USD 1.10. One day later he __sells__ EUR 1 for USD 1.25 <br>\n",
    "__-> Profit: USD 0.15__  <br>\n",
    "->__Long Position Euro__ (benefit from rising EUR prices):"
   ]
  },
  {
   "cell_type": "code",
   "execution_count": null,
   "id": "7c8e6ac7",
   "metadata": {},
   "outputs": [],
   "source": [
    "t1 / t0 - 1 # The EUR appreciates by 13.64% relative to USD (simple return)"
   ]
  },
  {
   "cell_type": "markdown",
   "id": "e7f468ad",
   "metadata": {},
   "source": [
    "-> EUR __Long__ Position returns __+13.64%__ (simple return) "
   ]
  },
  {
   "cell_type": "markdown",
   "id": "085ac6a7",
   "metadata": {},
   "source": [
    "What return would you expect for the corresponding EUR __Short__ position? That´s a \"no brainer\": __-13.64%__, right? "
   ]
  },
  {
   "cell_type": "markdown",
   "id": "2279597f",
   "metadata": {},
   "source": [
    "__Surprisingly, that´s incorrect!!!__"
   ]
  },
  {
   "cell_type": "code",
   "execution_count": null,
   "id": "cc82eb85",
   "metadata": {},
   "outputs": [],
   "source": []
  },
  {
   "cell_type": "markdown",
   "id": "b70bd922",
   "metadata": {},
   "source": [
    "Inverse Rate: __USD/EUR__ (\"Short Euro\" == \"Long USD\")"
   ]
  },
  {
   "cell_type": "code",
   "execution_count": null,
   "id": "8d470416",
   "metadata": {},
   "outputs": [],
   "source": [
    "t0 = 1 / 1.10\n",
    "t1 = 1 / 1.25"
   ]
  },
  {
   "cell_type": "code",
   "execution_count": null,
   "id": "55371bba",
   "metadata": {},
   "outputs": [],
   "source": [
    "print(t0, t1)"
   ]
  },
  {
   "cell_type": "markdown",
   "id": "6c880408",
   "metadata": {},
   "source": [
    "Today an Investor __buys__ USD 1 and pays 0.9091 Euro. One day later he __sells__ USD 1 for EUR 0.8 __<br>\n",
    "-> Loss: EUR 0.1091__  <br>"
   ]
  },
  {
   "cell_type": "code",
   "execution_count": null,
   "id": "38df904d",
   "metadata": {},
   "outputs": [],
   "source": [
    "t1 / t0 - 1 # The USD depreciates by 12.0% relative to EUR"
   ]
  },
  {
   "cell_type": "markdown",
   "id": "5bf61aa5",
   "metadata": {},
   "source": [
    "-> EUR __Short__ Position returns __-12.0%__ (simple return)"
   ]
  },
  {
   "cell_type": "markdown",
   "id": "1fee9e1d",
   "metadata": {},
   "source": [
    "__Take Home: When using simple returns, long position return != short position return * (-1)__ <br>\n",
    "__-> Use log returns!__"
   ]
  },
  {
   "cell_type": "code",
   "execution_count": null,
   "id": "218ce9b7",
   "metadata": {},
   "outputs": [],
   "source": []
  },
  {
   "cell_type": "markdown",
   "id": "5d5485db",
   "metadata": {},
   "source": [
    "## Short Selling / Short Positions (Part 3)"
   ]
  },
  {
   "cell_type": "code",
   "execution_count": null,
   "id": "bfa716c8",
   "metadata": {},
   "outputs": [],
   "source": [
    "import pandas as pd\n",
    "import numpy as np\n",
    "import matplotlib.pyplot as plt\n",
    "pd.options.display.float_format = '{:.6f}'.format\n",
    "plt.style.use(\"seaborn\")"
   ]
  },
  {
   "cell_type": "code",
   "execution_count": null,
   "id": "6943db4a",
   "metadata": {},
   "outputs": [],
   "source": [
    "close = pd.read_csv(\"close.csv\", index_col = \"Date\", parse_dates = [\"Date\"])\n",
    "close"
   ]
  },
  {
   "cell_type": "code",
   "execution_count": null,
   "id": "676ca33e",
   "metadata": {},
   "outputs": [],
   "source": [
    "close[\"USDEUR=X\"] = 1/close[\"EURUSD=X\"]"
   ]
  },
  {
   "cell_type": "code",
   "execution_count": null,
   "id": "6ec4577c",
   "metadata": {},
   "outputs": [],
   "source": [
    "close"
   ]
  },
  {
   "cell_type": "code",
   "execution_count": null,
   "id": "ace97635",
   "metadata": {},
   "outputs": [],
   "source": [
    "fx = close[[\"EURUSD=X\", \"USDEUR=X\"]].dropna().copy()"
   ]
  },
  {
   "cell_type": "code",
   "execution_count": null,
   "id": "067e7984",
   "metadata": {},
   "outputs": [],
   "source": [
    "fx"
   ]
  },
  {
   "cell_type": "code",
   "execution_count": null,
   "id": "ddc89855",
   "metadata": {},
   "outputs": [],
   "source": [
    "fx.plot(figsize = (12,8), fontsize = 13)\n",
    "plt.legend(fontsize = 13)\n",
    "plt.show()"
   ]
  },
  {
   "cell_type": "code",
   "execution_count": null,
   "id": "d6f970d8",
   "metadata": {},
   "outputs": [],
   "source": [
    "simple_ret = fx.pct_change() # simple returns\n",
    "simple_ret"
   ]
  },
  {
   "cell_type": "code",
   "execution_count": null,
   "id": "566d2668",
   "metadata": {},
   "outputs": [],
   "source": [
    "simple_ret.add(1).prod() - 1 # compound simple returns"
   ]
  },
  {
   "cell_type": "markdown",
   "id": "4f5612b5",
   "metadata": {},
   "source": [
    "__-> For simple returns: long position returns != short position returns * (-1)__"
   ]
  },
  {
   "cell_type": "code",
   "execution_count": null,
   "id": "57b05553",
   "metadata": {},
   "outputs": [],
   "source": [
    "log_ret = np.log(fx / fx.shift()) # log returns\n",
    "log_ret"
   ]
  },
  {
   "cell_type": "code",
   "execution_count": null,
   "id": "7b786eb8",
   "metadata": {},
   "outputs": [],
   "source": [
    "log_ret.sum() # cumulative log returns"
   ]
  },
  {
   "cell_type": "markdown",
   "id": "91ddfaa1",
   "metadata": {},
   "source": [
    "__-> For log returns: long position returns == short position returns * (-1)__"
   ]
  },
  {
   "cell_type": "code",
   "execution_count": null,
   "id": "35d43416",
   "metadata": {},
   "outputs": [],
   "source": [
    "norm_fx = log_ret.cumsum().apply(np.exp) # normalized prices (Base 1)\n",
    "norm_fx"
   ]
  },
  {
   "cell_type": "code",
   "execution_count": null,
   "id": "7fca5ed0",
   "metadata": {},
   "outputs": [],
   "source": [
    "norm_fx.iloc[0] = [1, 1]"
   ]
  },
  {
   "cell_type": "code",
   "execution_count": null,
   "id": "c2c26e4b",
   "metadata": {},
   "outputs": [],
   "source": [
    "norm_fx"
   ]
  },
  {
   "cell_type": "code",
   "execution_count": null,
   "id": "d0c27767",
   "metadata": {},
   "outputs": [],
   "source": [
    "norm_fx.plot(figsize = (12,8), fontsize = 13)\n",
    "plt.legend(fontsize = 13)\n",
    "plt.show()"
   ]
  },
  {
   "cell_type": "code",
   "execution_count": null,
   "id": "a1b2a767",
   "metadata": {},
   "outputs": [],
   "source": []
  },
  {
   "cell_type": "markdown",
   "id": "9ed022d5",
   "metadata": {},
   "source": [
    "--------------------------------------------"
   ]
  },
  {
   "cell_type": "markdown",
   "id": "cf21f249",
   "metadata": {},
   "source": [
    "__Coding Challenge #6__"
   ]
  },
  {
   "cell_type": "markdown",
   "id": "ce3409fc",
   "metadata": {},
   "source": [
    "1. Calculate daily log returns for Boeing.\n",
    "\n",
    "2. Calculate the annualized mean and annualized std (assume 252 trading days per year) for a short position in Boeing (ignore Trading and Borrowing Costs)."
   ]
  },
  {
   "cell_type": "markdown",
   "id": "e186bffe",
   "metadata": {},
   "source": [
    "---------------------------------------------"
   ]
  },
  {
   "cell_type": "code",
   "execution_count": 243,
   "id": "10489de9",
   "metadata": {},
   "outputs": [],
   "source": [
    "import pandas as pd\n",
    "import numpy as np\n",
    "import matplotlib.pyplot as plt\n",
    "plt.style.use('seaborn')"
   ]
  },
  {
   "cell_type": "code",
   "execution_count": 311,
   "id": "2ee9875f",
   "metadata": {},
   "outputs": [
    {
     "data": {
      "text/html": [
       "<div>\n",
       "<style scoped>\n",
       "    .dataframe tbody tr th:only-of-type {\n",
       "        vertical-align: middle;\n",
       "    }\n",
       "\n",
       "    .dataframe tbody tr th {\n",
       "        vertical-align: top;\n",
       "    }\n",
       "\n",
       "    .dataframe thead th {\n",
       "        text-align: right;\n",
       "    }\n",
       "</style>\n",
       "<table border=\"1\" class=\"dataframe\">\n",
       "  <thead>\n",
       "    <tr style=\"text-align: right;\">\n",
       "      <th></th>\n",
       "      <th>price</th>\n",
       "    </tr>\n",
       "    <tr>\n",
       "      <th>Date</th>\n",
       "      <th></th>\n",
       "    </tr>\n",
       "  </thead>\n",
       "  <tbody>\n",
       "    <tr>\n",
       "      <th>2014-10-01</th>\n",
       "      <td>124.6700</td>\n",
       "    </tr>\n",
       "    <tr>\n",
       "      <th>2014-10-02</th>\n",
       "      <td>124.1700</td>\n",
       "    </tr>\n",
       "    <tr>\n",
       "      <th>2014-10-03</th>\n",
       "      <td>126.3600</td>\n",
       "    </tr>\n",
       "    <tr>\n",
       "      <th>2014-10-06</th>\n",
       "      <td>126.2600</td>\n",
       "    </tr>\n",
       "    <tr>\n",
       "      <th>2014-10-07</th>\n",
       "      <td>123.3200</td>\n",
       "    </tr>\n",
       "    <tr>\n",
       "      <th>...</th>\n",
       "      <td>...</td>\n",
       "    </tr>\n",
       "    <tr>\n",
       "      <th>2021-05-24</th>\n",
       "      <td>237.4400</td>\n",
       "    </tr>\n",
       "    <tr>\n",
       "      <th>2021-05-25</th>\n",
       "      <td>240.7400</td>\n",
       "    </tr>\n",
       "    <tr>\n",
       "      <th>2021-05-26</th>\n",
       "      <td>241.3700</td>\n",
       "    </tr>\n",
       "    <tr>\n",
       "      <th>2021-05-27</th>\n",
       "      <td>250.7000</td>\n",
       "    </tr>\n",
       "    <tr>\n",
       "      <th>2021-05-28</th>\n",
       "      <td>247.0200</td>\n",
       "    </tr>\n",
       "  </tbody>\n",
       "</table>\n",
       "<p>1677 rows × 1 columns</p>\n",
       "</div>"
      ],
      "text/plain": [
       "              price\n",
       "Date               \n",
       "2014-10-01 124.6700\n",
       "2014-10-02 124.1700\n",
       "2014-10-03 126.3600\n",
       "2014-10-06 126.2600\n",
       "2014-10-07 123.3200\n",
       "...             ...\n",
       "2021-05-24 237.4400\n",
       "2021-05-25 240.7400\n",
       "2021-05-26 241.3700\n",
       "2021-05-27 250.7000\n",
       "2021-05-28 247.0200\n",
       "\n",
       "[1677 rows x 1 columns]"
      ]
     },
     "execution_count": 311,
     "metadata": {},
     "output_type": "execute_result"
    }
   ],
   "source": [
    "df = pd.read_csv(\"close.csv\", index_col='Date', parse_dates=['Date']).loc[:,'BA'].to_frame().dropna()\n",
    "df.rename(columns={\"BA\":'price'}, inplace=True)\n",
    "df"
   ]
  },
  {
   "cell_type": "code",
   "execution_count": 312,
   "id": "8bd1e362",
   "metadata": {},
   "outputs": [
    {
     "data": {
      "text/html": [
       "<div>\n",
       "<style scoped>\n",
       "    .dataframe tbody tr th:only-of-type {\n",
       "        vertical-align: middle;\n",
       "    }\n",
       "\n",
       "    .dataframe tbody tr th {\n",
       "        vertical-align: top;\n",
       "    }\n",
       "\n",
       "    .dataframe thead th {\n",
       "        text-align: right;\n",
       "    }\n",
       "</style>\n",
       "<table border=\"1\" class=\"dataframe\">\n",
       "  <thead>\n",
       "    <tr style=\"text-align: right;\">\n",
       "      <th></th>\n",
       "      <th>price</th>\n",
       "      <th>short</th>\n",
       "      <th>norm</th>\n",
       "      <th>sNorm</th>\n",
       "      <th>LR</th>\n",
       "      <th>SLR</th>\n",
       "      <th>cLR</th>\n",
       "      <th>cSLR</th>\n",
       "    </tr>\n",
       "    <tr>\n",
       "      <th>Date</th>\n",
       "      <th></th>\n",
       "      <th></th>\n",
       "      <th></th>\n",
       "      <th></th>\n",
       "      <th></th>\n",
       "      <th></th>\n",
       "      <th></th>\n",
       "      <th></th>\n",
       "    </tr>\n",
       "  </thead>\n",
       "  <tbody>\n",
       "    <tr>\n",
       "      <th>2014-10-01</th>\n",
       "      <td>124.6700</td>\n",
       "      <td>0.0080</td>\n",
       "      <td>1.0000</td>\n",
       "      <td>1.0000</td>\n",
       "      <td>0.0000</td>\n",
       "      <td>0.0000</td>\n",
       "      <td>1.0000</td>\n",
       "      <td>1.0000</td>\n",
       "    </tr>\n",
       "    <tr>\n",
       "      <th>2014-10-02</th>\n",
       "      <td>124.1700</td>\n",
       "      <td>0.0081</td>\n",
       "      <td>0.9960</td>\n",
       "      <td>1.0040</td>\n",
       "      <td>-0.0040</td>\n",
       "      <td>0.0040</td>\n",
       "      <td>0.9960</td>\n",
       "      <td>1.0040</td>\n",
       "    </tr>\n",
       "    <tr>\n",
       "      <th>2014-10-03</th>\n",
       "      <td>126.3600</td>\n",
       "      <td>0.0079</td>\n",
       "      <td>1.0136</td>\n",
       "      <td>0.9866</td>\n",
       "      <td>0.0175</td>\n",
       "      <td>-0.0175</td>\n",
       "      <td>1.0136</td>\n",
       "      <td>0.9866</td>\n",
       "    </tr>\n",
       "    <tr>\n",
       "      <th>2014-10-06</th>\n",
       "      <td>126.2600</td>\n",
       "      <td>0.0079</td>\n",
       "      <td>1.0128</td>\n",
       "      <td>0.9874</td>\n",
       "      <td>-0.0008</td>\n",
       "      <td>0.0008</td>\n",
       "      <td>1.0128</td>\n",
       "      <td>0.9874</td>\n",
       "    </tr>\n",
       "    <tr>\n",
       "      <th>2014-10-07</th>\n",
       "      <td>123.3200</td>\n",
       "      <td>0.0081</td>\n",
       "      <td>0.9892</td>\n",
       "      <td>1.0109</td>\n",
       "      <td>-0.0236</td>\n",
       "      <td>0.0236</td>\n",
       "      <td>0.9892</td>\n",
       "      <td>1.0109</td>\n",
       "    </tr>\n",
       "    <tr>\n",
       "      <th>...</th>\n",
       "      <td>...</td>\n",
       "      <td>...</td>\n",
       "      <td>...</td>\n",
       "      <td>...</td>\n",
       "      <td>...</td>\n",
       "      <td>...</td>\n",
       "      <td>...</td>\n",
       "      <td>...</td>\n",
       "    </tr>\n",
       "    <tr>\n",
       "      <th>2021-05-24</th>\n",
       "      <td>237.4400</td>\n",
       "      <td>0.0042</td>\n",
       "      <td>1.9045</td>\n",
       "      <td>0.5251</td>\n",
       "      <td>0.0111</td>\n",
       "      <td>-0.0111</td>\n",
       "      <td>1.9045</td>\n",
       "      <td>0.5251</td>\n",
       "    </tr>\n",
       "    <tr>\n",
       "      <th>2021-05-25</th>\n",
       "      <td>240.7400</td>\n",
       "      <td>0.0042</td>\n",
       "      <td>1.9310</td>\n",
       "      <td>0.5179</td>\n",
       "      <td>0.0138</td>\n",
       "      <td>-0.0138</td>\n",
       "      <td>1.9310</td>\n",
       "      <td>0.5179</td>\n",
       "    </tr>\n",
       "    <tr>\n",
       "      <th>2021-05-26</th>\n",
       "      <td>241.3700</td>\n",
       "      <td>0.0041</td>\n",
       "      <td>1.9361</td>\n",
       "      <td>0.5165</td>\n",
       "      <td>0.0026</td>\n",
       "      <td>-0.0026</td>\n",
       "      <td>1.9361</td>\n",
       "      <td>0.5165</td>\n",
       "    </tr>\n",
       "    <tr>\n",
       "      <th>2021-05-27</th>\n",
       "      <td>250.7000</td>\n",
       "      <td>0.0040</td>\n",
       "      <td>2.0109</td>\n",
       "      <td>0.4973</td>\n",
       "      <td>0.0379</td>\n",
       "      <td>-0.0379</td>\n",
       "      <td>2.0109</td>\n",
       "      <td>0.4973</td>\n",
       "    </tr>\n",
       "    <tr>\n",
       "      <th>2021-05-28</th>\n",
       "      <td>247.0200</td>\n",
       "      <td>0.0040</td>\n",
       "      <td>1.9814</td>\n",
       "      <td>0.5047</td>\n",
       "      <td>-0.0148</td>\n",
       "      <td>0.0148</td>\n",
       "      <td>1.9814</td>\n",
       "      <td>0.5047</td>\n",
       "    </tr>\n",
       "  </tbody>\n",
       "</table>\n",
       "<p>1677 rows × 8 columns</p>\n",
       "</div>"
      ],
      "text/plain": [
       "              price  short   norm  sNorm      LR     SLR    cLR   cSLR\n",
       "Date                                                                  \n",
       "2014-10-01 124.6700 0.0080 1.0000 1.0000  0.0000  0.0000 1.0000 1.0000\n",
       "2014-10-02 124.1700 0.0081 0.9960 1.0040 -0.0040  0.0040 0.9960 1.0040\n",
       "2014-10-03 126.3600 0.0079 1.0136 0.9866  0.0175 -0.0175 1.0136 0.9866\n",
       "2014-10-06 126.2600 0.0079 1.0128 0.9874 -0.0008  0.0008 1.0128 0.9874\n",
       "2014-10-07 123.3200 0.0081 0.9892 1.0109 -0.0236  0.0236 0.9892 1.0109\n",
       "...             ...    ...    ...    ...     ...     ...    ...    ...\n",
       "2021-05-24 237.4400 0.0042 1.9045 0.5251  0.0111 -0.0111 1.9045 0.5251\n",
       "2021-05-25 240.7400 0.0042 1.9310 0.5179  0.0138 -0.0138 1.9310 0.5179\n",
       "2021-05-26 241.3700 0.0041 1.9361 0.5165  0.0026 -0.0026 1.9361 0.5165\n",
       "2021-05-27 250.7000 0.0040 2.0109 0.4973  0.0379 -0.0379 2.0109 0.4973\n",
       "2021-05-28 247.0200 0.0040 1.9814 0.5047 -0.0148  0.0148 1.9814 0.5047\n",
       "\n",
       "[1677 rows x 8 columns]"
      ]
     },
     "metadata": {},
     "output_type": "display_data"
    },
    {
     "data": {
      "text/plain": [
       "'-10.28'"
      ]
     },
     "metadata": {},
     "output_type": "display_data"
    },
    {
     "data": {
      "text/plain": [
       "'41.81'"
      ]
     },
     "metadata": {},
     "output_type": "display_data"
    },
    {
     "data": {
      "text/plain": [
       "<AxesSubplot:xlabel='Date'>"
      ]
     },
     "metadata": {},
     "output_type": "display_data"
    },
    {
     "data": {
      "image/png": "[encoded data removed]",
      "text/plain": [
       "<Figure size 1080x576 with 1 Axes>"
      ]
     },
     "metadata": {},
     "output_type": "display_data"
    }
   ],
   "source": [
    "df['short'] = 1/df.price\n",
    "df['norm'] = df.price.div(df.price[0])\n",
    "df['sNorm'] = df.short.div(df.short[0])\n",
    "df['LR'] = np.log(df.price / df.price.shift(1))\n",
    "df['SLR'] = np.log(df.short / df.short.shift(1))\n",
    "df.iloc[[0],[4,-1]] = [0,0]\n",
    "df['cLR'] = df.LR.cumsum().apply(np.exp)\n",
    "df['cSLR'] = df.SLR.cumsum().apply(np.exp)\n",
    "ann_s_ret = df.SLR.mean()*252\n",
    "ann_s_risk = df.SLR.std()*np.sqrt(252)\n",
    "fig=df[['cLR','cSLR']].plot(figsize=(15,8))\n",
    "display(df, \"{:.2f}\".format(ann_s_ret*100), \"{:.2f}\".format(ann_s_risk*100), fig)"
   ]
  },
  {
   "cell_type": "markdown",
   "id": "7e90f89c",
   "metadata": {},
   "source": [
    "## Covariance and Correlation"
   ]
  },
  {
   "cell_type": "markdown",
   "id": "8e19f137",
   "metadata": {},
   "source": [
    "Do instruments/assets __move together__ (and to what extent)? <br>\n",
    "\n",
    "Three cases:\n",
    "- unrelated (__no__ relationship/correlation)\n",
    "- moving together (__positive__ relationship/correlation)\n",
    "- moving in opposite directions (__negative__ relationship/correlation) "
   ]
  },
  {
   "cell_type": "markdown",
   "id": "dd2e87dc",
   "metadata": {},
   "source": [
    "__-> Correlation between instruments/assets play an important role in portfolio management.__"
   ]
  },
  {
   "cell_type": "code",
   "execution_count": null,
   "id": "f0025956",
   "metadata": {},
   "outputs": [],
   "source": [
    "import pandas as pd\n",
    "import numpy as np\n",
    "pd.options.display.float_format = '{:.4f}'.format\n",
    "import matplotlib.pyplot as plt\n",
    "plt.style.use(\"seaborn\")"
   ]
  },
  {
   "cell_type": "code",
   "execution_count": null,
   "id": "3ab21e16",
   "metadata": {},
   "outputs": [],
   "source": [
    "close = pd.read_csv(\"close.csv\", index_col = \"Date\", parse_dates = [\"Date\"])\n",
    "close"
   ]
  },
  {
   "cell_type": "code",
   "execution_count": null,
   "id": "9c3c1c36",
   "metadata": {},
   "outputs": [],
   "source": [
    "close[\"USDEUR=X\"] = 1/close[\"EURUSD=X\"]\n",
    "close"
   ]
  },
  {
   "cell_type": "code",
   "execution_count": null,
   "id": "f8502148",
   "metadata": {},
   "outputs": [],
   "source": [
    "returns = close.apply(lambda x: np.log(x.dropna() / x.dropna().shift()))\n",
    "returns"
   ]
  },
  {
   "cell_type": "code",
   "execution_count": null,
   "id": "dc7993fd",
   "metadata": {},
   "outputs": [],
   "source": [
    "returns.cov() # covariance (hard to interpret)"
   ]
  },
  {
   "cell_type": "code",
   "execution_count": null,
   "id": "15caf37f",
   "metadata": {},
   "outputs": [],
   "source": [
    "returns.corr() # correlation coefficient (easy to interpret)"
   ]
  },
  {
   "cell_type": "markdown",
   "id": "162a25f7",
   "metadata": {},
   "source": [
    "Three cases:\n",
    "- no correlation: __correlation coefficient == 0__\n",
    "- moving together: __0 < correlation coefficient <= 1__ (positive)\n",
    "- moving in opposite directions: __-1 <= correlation coefficient < 0__ (negative)"
   ]
  },
  {
   "cell_type": "code",
   "execution_count": null,
   "id": "bde11c1f",
   "metadata": {},
   "outputs": [],
   "source": [
    "import seaborn as sns"
   ]
  },
  {
   "cell_type": "code",
   "execution_count": null,
   "id": "c281faae",
   "metadata": {},
   "outputs": [],
   "source": [
    "plt.figure(figsize=(12,8))\n",
    "sns.set(font_scale=1.4)\n",
    "sns.heatmap(returns.corr(), cmap = \"RdYlBu_r\", annot = True, annot_kws={\"size\":15}, vmin = -1, vmax = 1)\n",
    "plt.show()"
   ]
  },
  {
   "cell_type": "markdown",
   "id": "8e85e4e4",
   "metadata": {},
   "source": [
    "__Take Home: Similar assets are (highly) positive correlated. Different assets exhibit low/no/negative correlation.__ <br>\n",
    "-> In portfolio management it´s beneficial to have assets with low/no/negative correlation (portfolio diversification effect)."
   ]
  },
  {
   "cell_type": "code",
   "execution_count": null,
   "id": "b83618c9",
   "metadata": {},
   "outputs": [],
   "source": []
  },
  {
   "cell_type": "markdown",
   "id": "d10aa0f1",
   "metadata": {},
   "source": [
    "## Portfolio of Assets and Portfolio Returns"
   ]
  },
  {
   "cell_type": "code",
   "execution_count": null,
   "id": "f79bbd8a",
   "metadata": {},
   "outputs": [],
   "source": [
    "import pandas as pd\n",
    "import numpy as np"
   ]
  },
  {
   "cell_type": "code",
   "execution_count": null,
   "id": "6890be7a",
   "metadata": {},
   "outputs": [],
   "source": [
    "prices = pd.DataFrame(data = {\"Asset_A\": [100, 112], \"Asset_B\":[100, 104]}, index = [0, 1])\n",
    "prices"
   ]
  },
  {
   "cell_type": "code",
   "execution_count": null,
   "id": "ed5c96d7",
   "metadata": {},
   "outputs": [],
   "source": [
    "prices[\"Total\"] = prices.Asset_A + prices.Asset_B"
   ]
  },
  {
   "cell_type": "code",
   "execution_count": null,
   "id": "75e30f04",
   "metadata": {},
   "outputs": [],
   "source": [
    "prices"
   ]
  },
  {
   "cell_type": "code",
   "execution_count": null,
   "id": "ea29ceed",
   "metadata": {},
   "outputs": [],
   "source": [
    "returns = prices.pct_change() # simple returns\n",
    "returns"
   ]
  },
  {
   "cell_type": "code",
   "execution_count": null,
   "id": "fc6a9283",
   "metadata": {},
   "outputs": [],
   "source": [
    "0.5 * 0.12 + 0.5 * 0.04 # correct (portfolio return == weighted average of simple returns)"
   ]
  },
  {
   "cell_type": "code",
   "execution_count": null,
   "id": "81f48cb0",
   "metadata": {},
   "outputs": [],
   "source": [
    "log_returns = np.log(prices / prices.shift()) # log returns\n",
    "log_returns"
   ]
  },
  {
   "cell_type": "code",
   "execution_count": null,
   "id": "69a5f99f",
   "metadata": {},
   "outputs": [],
   "source": [
    "0.5 * log_returns.iloc[1,0] + 0.5 * log_returns.iloc[1,1] # incorrect (portfolio return != weighted average of log returns)"
   ]
  },
  {
   "cell_type": "markdown",
   "id": "9d27eb46",
   "metadata": {},
   "source": [
    "__Take Home: While log returns are time-additive, they are not asset-additive.__ <br>\n",
    "(While simple returns are not time-additive, they are asset-additive.)"
   ]
  },
  {
   "cell_type": "code",
   "execution_count": null,
   "id": "8cb0a355",
   "metadata": {},
   "outputs": [],
   "source": []
  },
  {
   "cell_type": "markdown",
   "id": "e71f16b9",
   "metadata": {},
   "source": [
    "## Margin Trading & Levered Returns (Part 1)"
   ]
  },
  {
   "cell_type": "markdown",
   "id": "2e88160c",
   "metadata": {},
   "source": [
    "__Definition__: \"Margin trading refers to the practice of using __borrowed funds__ from a broker to trade a financial asset, which forms the collateral for the loan from the broker.\" (Investopedia.com) "
   ]
  },
  {
   "cell_type": "markdown",
   "id": "a70c794c",
   "metadata": {},
   "source": [
    "In Simple Words: Investors __don´t pay the full price__ but they get the full benefit (less borrowing costs)."
   ]
  },
  {
   "cell_type": "markdown",
   "id": "e0a8bf96",
   "metadata": {},
   "source": [
    "It´s a two edged sword: Leverage __amplifies both gains and losses__. <br> In the event of a loss, the collateral gets reduced and the Investor either posts additional margin or the brokers closes the position."
   ]
  },
  {
   "cell_type": "markdown",
   "id": "746f4aad",
   "metadata": {},
   "source": [
    "__Example__"
   ]
  },
  {
   "cell_type": "markdown",
   "id": "16e5d162",
   "metadata": {},
   "source": [
    "A Trader buys a stock (stock price: 100) __on margin (50%)__. After one day the price increases to 110.<br>\n",
    "Calculate __unlevered return__ and __levered return__."
   ]
  },
  {
   "cell_type": "code",
   "execution_count": null,
   "id": "da5750ed",
   "metadata": {},
   "outputs": [],
   "source": [
    "import numpy as np"
   ]
  },
  {
   "cell_type": "code",
   "execution_count": 11,
   "id": "cc5ba735",
   "metadata": {},
   "outputs": [],
   "source": [
    "P0 = 100\n",
    "P1 = 110\n",
    "leverage = 2\n",
    "margin = P0/2"
   ]
  },
  {
   "cell_type": "code",
   "execution_count": 12,
   "id": "6faa4790",
   "metadata": {},
   "outputs": [
    {
     "data": {
      "text/plain": [
       "50.0"
      ]
     },
     "execution_count": 12,
     "metadata": {},
     "output_type": "execute_result"
    }
   ],
   "source": [
    "margin"
   ]
  },
  {
   "cell_type": "code",
   "execution_count": null,
   "id": "1333aa39",
   "metadata": {},
   "outputs": [],
   "source": [
    "unlev_return = (P1 - P0) / P0 # simple return\n",
    "unlev_return"
   ]
  },
  {
   "cell_type": "code",
   "execution_count": null,
   "id": "594bd3e6",
   "metadata": {},
   "outputs": [],
   "source": [
    "lev_return = (P1 - P0) / margin # simple return \n",
    "lev_return"
   ]
  },
  {
   "cell_type": "code",
   "execution_count": null,
   "id": "1fd2ad80",
   "metadata": {},
   "outputs": [],
   "source": [
    "lev_return == unlev_return * leverage # this relationship is true for simple returns..."
   ]
  },
  {
   "cell_type": "code",
   "execution_count": null,
   "id": "9ed32cd5",
   "metadata": {},
   "outputs": [],
   "source": [
    "unlev_return = np.log((P1 - P0) / P0 + 1) # log return\n",
    "unlev_return"
   ]
  },
  {
   "cell_type": "code",
   "execution_count": null,
   "id": "c147a8aa",
   "metadata": {},
   "outputs": [],
   "source": [
    "lev_return = np.log((P1 - P0) / margin + 1) # log return\n",
    "lev_return"
   ]
  },
  {
   "cell_type": "code",
   "execution_count": null,
   "id": "73881b7b",
   "metadata": {
    "scrolled": true
   },
   "outputs": [],
   "source": [
    "lev_return == unlev_return * leverage # this relationship does not hold for log returns..."
   ]
  },
  {
   "cell_type": "markdown",
   "id": "1707e9db",
   "metadata": {},
   "source": [
    "__Take Home: To calculate levered returns, don´t multiply leverage with log returns!__"
   ]
  },
  {
   "cell_type": "code",
   "execution_count": null,
   "id": "66928ffb",
   "metadata": {},
   "outputs": [],
   "source": []
  },
  {
   "cell_type": "markdown",
   "id": "63baa682",
   "metadata": {},
   "source": [
    "## Margin Trading & Levered Returns (Part 2)"
   ]
  },
  {
   "cell_type": "markdown",
   "id": "da4e088c",
   "metadata": {},
   "source": [
    "__Hypothesis: For (highly) profitable Investment: The more leverage, the better?__"
   ]
  },
  {
   "cell_type": "code",
   "execution_count": 117,
   "id": "bd1ffd56",
   "metadata": {},
   "outputs": [],
   "source": [
    "import pandas as pd\n",
    "import numpy as np\n",
    "pd.options.display.float_format = '{:.4f}'.format\n",
    "import matplotlib.pyplot as plt\n",
    "plt.style.use(\"seaborn\")"
   ]
  },
  {
   "cell_type": "code",
   "execution_count": 289,
   "id": "5d639f24",
   "metadata": {},
   "outputs": [
    {
     "data": {
      "text/html": [
       "<div>\n",
       "<style scoped>\n",
       "    .dataframe tbody tr th:only-of-type {\n",
       "        vertical-align: middle;\n",
       "    }\n",
       "\n",
       "    .dataframe tbody tr th {\n",
       "        vertical-align: top;\n",
       "    }\n",
       "\n",
       "    .dataframe thead th {\n",
       "        text-align: right;\n",
       "    }\n",
       "</style>\n",
       "<table border=\"1\" class=\"dataframe\">\n",
       "  <thead>\n",
       "    <tr style=\"text-align: right;\">\n",
       "      <th></th>\n",
       "      <th>Price</th>\n",
       "    </tr>\n",
       "    <tr>\n",
       "      <th>Date</th>\n",
       "      <th></th>\n",
       "    </tr>\n",
       "  </thead>\n",
       "  <tbody>\n",
       "    <tr>\n",
       "      <th>2014-10-01</th>\n",
       "      <td>45.9000</td>\n",
       "    </tr>\n",
       "    <tr>\n",
       "      <th>2014-10-02</th>\n",
       "      <td>45.7600</td>\n",
       "    </tr>\n",
       "    <tr>\n",
       "      <th>2014-10-03</th>\n",
       "      <td>46.0900</td>\n",
       "    </tr>\n",
       "    <tr>\n",
       "      <th>2014-10-06</th>\n",
       "      <td>46.0900</td>\n",
       "    </tr>\n",
       "    <tr>\n",
       "      <th>2014-10-07</th>\n",
       "      <td>45.5300</td>\n",
       "    </tr>\n",
       "    <tr>\n",
       "      <th>...</th>\n",
       "      <td>...</td>\n",
       "    </tr>\n",
       "    <tr>\n",
       "      <th>2021-05-24</th>\n",
       "      <td>250.7800</td>\n",
       "    </tr>\n",
       "    <tr>\n",
       "      <th>2021-05-25</th>\n",
       "      <td>251.7200</td>\n",
       "    </tr>\n",
       "    <tr>\n",
       "      <th>2021-05-26</th>\n",
       "      <td>251.4900</td>\n",
       "    </tr>\n",
       "    <tr>\n",
       "      <th>2021-05-27</th>\n",
       "      <td>249.3100</td>\n",
       "    </tr>\n",
       "    <tr>\n",
       "      <th>2021-05-28</th>\n",
       "      <td>249.6800</td>\n",
       "    </tr>\n",
       "  </tbody>\n",
       "</table>\n",
       "<p>1677 rows × 1 columns</p>\n",
       "</div>"
      ],
      "text/plain": [
       "              Price\n",
       "Date               \n",
       "2014-10-01  45.9000\n",
       "2014-10-02  45.7600\n",
       "2014-10-03  46.0900\n",
       "2014-10-06  46.0900\n",
       "2014-10-07  45.5300\n",
       "...             ...\n",
       "2021-05-24 250.7800\n",
       "2021-05-25 251.7200\n",
       "2021-05-26 251.4900\n",
       "2021-05-27 249.3100\n",
       "2021-05-28 249.6800\n",
       "\n",
       "[1677 rows x 1 columns]"
      ]
     },
     "execution_count": 289,
     "metadata": {},
     "output_type": "execute_result"
    }
   ],
   "source": [
    "msft = pd.read_csv(\"msft.csv\", index_col = \"Date\", parse_dates = [\"Date\"]).drop(columns=['Returns'])\n",
    "msft"
   ]
  },
  {
   "cell_type": "code",
   "execution_count": 290,
   "id": "0c55b20b",
   "metadata": {},
   "outputs": [],
   "source": [
    "msft[\"Simple_Ret\"] = msft.Price.pct_change() # simple returns"
   ]
  },
  {
   "cell_type": "code",
   "execution_count": 306,
   "id": "8ccde2b3",
   "metadata": {},
   "outputs": [],
   "source": [
    "leverage = 7"
   ]
  },
  {
   "cell_type": "markdown",
   "id": "72704910",
   "metadata": {},
   "source": [
    "(Simplified) __Assumptions__:\n",
    "- Restore leverage on a daily basis (by buying/selling shares)\n",
    "- no trading costs\n",
    "- no borrowing costs"
   ]
  },
  {
   "cell_type": "code",
   "execution_count": 307,
   "id": "901b3aa1",
   "metadata": {},
   "outputs": [
    {
     "data": {
      "text/plain": [
       "-1.0317321900497864"
      ]
     },
     "execution_count": 307,
     "metadata": {},
     "output_type": "execute_result"
    }
   ],
   "source": [
    "msft[\"Lev_Returns\"] = msft.Simple_Ret.mul(leverage) # levered simple returns\n",
    "msft.Lev_Returns.min()\n"
   ]
  },
  {
   "cell_type": "code",
   "execution_count": 308,
   "id": "cf0c4ebe",
   "metadata": {},
   "outputs": [],
   "source": [
    "msft[\"Lev_Returns\"] = np.where(msft[\"Lev_Returns\"] < -1, -1, msft[\"Lev_Returns\"])"
   ]
  },
  {
   "cell_type": "code",
   "execution_count": 309,
   "id": "158a959c",
   "metadata": {},
   "outputs": [
    {
     "data": {
      "text/plain": [
       "-1.0"
      ]
     },
     "execution_count": 309,
     "metadata": {},
     "output_type": "execute_result"
    }
   ],
   "source": [
    "msft.Lev_Returns.min()\n"
   ]
  },
  {
   "cell_type": "code",
   "execution_count": 310,
   "id": "918db0aa",
   "metadata": {},
   "outputs": [
    {
     "data": {
      "image/png": "[encoded data removed]",
      "text/plain": [
       "<Figure size 1080x576 with 1 Axes>"
      ]
     },
     "metadata": {},
     "output_type": "display_data"
    }
   ],
   "source": [
    "msft[[\"Simple_Ret\", \"Lev_Returns\"]].add(1).cumprod().plot(figsize = (15, 8), fontsize = 13)\n",
    "plt.legend(fontsize = 13)\n",
    "plt.show()"
   ]
  },
  {
   "cell_type": "code",
   "execution_count": 296,
   "id": "a0b84d5e",
   "metadata": {},
   "outputs": [
    {
     "data": {
      "text/plain": [
       "0.14216888119914373"
      ]
     },
     "execution_count": 296,
     "metadata": {},
     "output_type": "execute_result"
    }
   ],
   "source": [
    "msft.Simple_Ret.max()"
   ]
  },
  {
   "cell_type": "code",
   "execution_count": 297,
   "id": "fac25a57",
   "metadata": {},
   "outputs": [
    {
     "data": {
      "text/plain": [
       "0.28433776239828745"
      ]
     },
     "execution_count": 297,
     "metadata": {},
     "output_type": "execute_result"
    }
   ],
   "source": [
    "msft.Lev_Returns.max()"
   ]
  },
  {
   "cell_type": "code",
   "execution_count": 298,
   "id": "8792eef4",
   "metadata": {},
   "outputs": [
    {
     "data": {
      "text/plain": [
       "-0.1473903128642552"
      ]
     },
     "execution_count": 298,
     "metadata": {},
     "output_type": "execute_result"
    }
   ],
   "source": [
    "msft.Simple_Ret.min()"
   ]
  },
  {
   "cell_type": "code",
   "execution_count": 299,
   "id": "4326269a",
   "metadata": {},
   "outputs": [
    {
     "data": {
      "text/plain": [
       "-0.2947806257285104"
      ]
     },
     "execution_count": 299,
     "metadata": {},
     "output_type": "execute_result"
    }
   ],
   "source": [
    "msft.Lev_Returns.min()"
   ]
  },
  {
   "cell_type": "markdown",
   "id": "185b3a07",
   "metadata": {},
   "source": [
    "__What happens when leverage greater than...?__"
   ]
  },
  {
   "cell_type": "code",
   "execution_count": 300,
   "id": "11577981",
   "metadata": {},
   "outputs": [
    {
     "data": {
      "text/plain": [
       "6.784706406865346"
      ]
     },
     "execution_count": 300,
     "metadata": {},
     "output_type": "execute_result"
    }
   ],
   "source": [
    "-1 / msft.Simple_Ret.min()"
   ]
  },
  {
   "cell_type": "code",
   "execution_count": null,
   "id": "86b0e909",
   "metadata": {},
   "outputs": [],
   "source": []
  },
  {
   "cell_type": "markdown",
   "id": "1afedf9d",
   "metadata": {},
   "source": [
    "__Take Home:__\n",
    "1. With Leverage you can (theoretically) __lose more than the initial Margin__ (in practice: margin call / margin closeout before)\n",
    "2. Even for (highly) profitable instruments: __\"The more leverage the better\" does not hold__.\n",
    "3. It´s a two edged (__non-symmetrical__) sword: __Leverage amplifies losses more than it amplifies gains__."
   ]
  },
  {
   "cell_type": "code",
   "execution_count": null,
   "id": "1da06613",
   "metadata": {},
   "outputs": [],
   "source": []
  },
  {
   "cell_type": "markdown",
   "id": "4774ec80",
   "metadata": {},
   "source": [
    "--------------------------------"
   ]
  },
  {
   "cell_type": "markdown",
   "id": "13b663ae",
   "metadata": {},
   "source": [
    "__Coding Challenge #7__"
   ]
  },
  {
   "cell_type": "markdown",
   "id": "f41b3d68",
   "metadata": {},
   "source": [
    "1. Calculate levered returns for Bitcoin (leverage = 4). \n",
    "\n",
    "2. Visualize and compare with unlevered Investment.\n",
    "\n",
    "3. Some Traders trade Bitcoin with extremely high leverage (> 100). Do you think this is a good idea (assuming no additional/advanced Risk Management Tools)?"
   ]
  },
  {
   "cell_type": "code",
   "execution_count": 794,
   "id": "178d42b4",
   "metadata": {
    "scrolled": false
   },
   "outputs": [
    {
     "data": {
      "text/plain": [
       "<AxesSubplot:title={'center':'4.0000'}, xlabel='Date'>"
      ]
     },
     "execution_count": 794,
     "metadata": {},
     "output_type": "execute_result"
    },
    {
     "data": {
      "image/png": "[encoded data removed]",
      "text/plain": [
       "<Figure size 1080x576 with 1 Axes>"
      ]
     },
     "metadata": {},
     "output_type": "display_data"
    }
   ],
   "source": [
    "import pandas as pd\n",
    "import numpy as np\n",
    "import matplotlib.pyplot as plt\n",
    "from IPython.display import display, clear_output\n",
    "from matplotlib.animation import FuncAnimation\n",
    "\n",
    "plt.style.use('seaborn')\n",
    "\n",
    "data = pd.read_csv(\"close.csv\", index_col = \"Date\", parse_dates = [\"Date\"])[['BTC-USD']]\n",
    "\n",
    "close = data.copy()\n",
    "close = close / close.iloc[0]\n",
    "leverage = 4\n",
    "P0 = close.values[0,0]\n",
    "P1 = close.values[-1,0]\n",
    "unlev_return = (P1-P0)/P0\n",
    "margin = P0/leverage\n",
    "lev_return = (P1-P0)/margin\n",
    "unlev_return * leverage == lev_return\n",
    "#close['unlev_s_return'] = (close[['BTC-USD']] / close[['BTC-USD']].shift(1))-1 #both are correct\n",
    "close['unlev_s_return'] = close[['BTC-USD']].pct_change(1) #both are correct\n",
    "close.dropna(inplace=True)\n",
    "close['lev_s_return'] = close.unlev_s_return*leverage\n",
    "close['lev_s_return'] = np.where(close['lev_s_return'] < -1, -1, close['lev_s_return'])\n",
    "close[\"unlev_log_ret\"] = np.log(close['BTC-USD'] / close['BTC-USD'].shift())\n",
    "close['cunlev']=close['unlev_s_return'].add(1).cumprod()\n",
    "close['clev']=close['lev_s_return'].add(1).cumprod().mul(leverage)\n",
    "close['clev'].values[-1]\n",
    "close[['cunlev','clev']].plot(figsize=(15,8),logy=True,title=\"{:.4f}\".format(leverage))"
   ]
  },
  {
   "cell_type": "markdown",
   "id": "fae2b53b",
   "metadata": {},
   "source": [
    "---------------------------------------------"
   ]
  },
  {
   "cell_type": "markdown",
   "id": "1f5ebd16",
   "metadata": {},
   "source": [
    "## Finding the optimal degree of leverage\n",
    "### Such that the global maximum exceeds the average annual return + previous global maximum (explicitly defined)"
   ]
  },
  {
   "cell_type": "code",
   "execution_count": 891,
   "id": "26eaa45b",
   "metadata": {},
   "outputs": [
    {
     "data": {
      "text/plain": [
       "Timestamp('2021-04-13 00:00:00')"
      ]
     },
     "execution_count": 891,
     "metadata": {},
     "output_type": "execute_result"
    }
   ],
   "source": [
    "close.clev.idxmax()"
   ]
  },
  {
   "cell_type": "code",
   "execution_count": null,
   "id": "206542ac",
   "metadata": {},
   "outputs": [],
   "source": []
  },
  {
   "cell_type": "code",
   "execution_count": 950,
   "id": "1bf67bbb",
   "metadata": {
    "scrolled": false
   },
   "outputs": [
    {
     "data": {
      "image/png": "[encoded data removed]",
      "text/plain": [
       "<Figure size 1080x576 with 1 Axes>"
      ]
     },
     "metadata": {},
     "output_type": "display_data"
    },
    {
     "data": {
      "text/plain": [
       "None"
      ]
     },
     "metadata": {},
     "output_type": "display_data"
    }
   ],
   "source": [
    "import pandas as pd\n",
    "import numpy as np\n",
    "import matplotlib.pyplot as plt\n",
    "from IPython.display import display, clear_output\n",
    "from matplotlib.animation import FuncAnimation\n",
    "\n",
    "plt.style.use('seaborn')\n",
    "\n",
    "data = pd.read_csv(\"close.csv\", index_col = \"Date\", parse_dates = [\"Date\"])[['BTC-USD']]\n",
    "\n",
    "for ite in range(2750,1,-1):\n",
    "    close = data.copy()\n",
    "    close = close / close.iloc[0]\n",
    "    leverage = ite/1000\n",
    "    P0 = close.values[0,0]\n",
    "    P1 = close.values[-1,0]\n",
    "    unlev_return = (P1-P0)/P0\n",
    "    margin = P0/leverage\n",
    "    lev_return = (P1-P0)/margin\n",
    "    unlev_return * leverage == lev_return\n",
    "    #close['unlev_s_return'] = (close[['BTC-USD']] / close[['BTC-USD']].shift(1))-1 #both are correct\n",
    "    close['unlev_s_return'] = close[['BTC-USD']].pct_change(1) #both are correct\n",
    "    close.dropna(inplace=True)\n",
    "    close['lev_s_return'] = close.unlev_s_return*leverage\n",
    "    close['lev_s_return'] = np.where(close['lev_s_return'] < -1, -1, close['lev_s_return'])\n",
    "    close[\"unlev_log_ret\"] = np.log(close['BTC-USD'] / close['BTC-USD'].shift())\n",
    "    close['cunlev']=close['unlev_s_return'].add(1).cumprod()\n",
    "    close['clev']=close['lev_s_return'].add(1).cumprod().mul(leverage)\n",
    "    close['clev'].values[-1]\n",
    "    if (1+close.unlev_log_ret.mean()*252)*close.loc[:'2019',['clev']].values.max() > close.loc['2019':,['clev']].values.max():\n",
    "    #if close.clev.values[-1] < close.cunlev.values[-1]:\n",
    "        #close.loc[['2015'],['cunlev','clev']].plot(figsize=(15,8),logy=True,title=\"{:.2f}\".format(leverage))\n",
    "        #display(plt.show())\n",
    "        display(\"{:.4f}x Buying Power\".format(leverage))\n",
    "        clear_output(wait=True)\n",
    "        continue\n",
    "    else:\n",
    "        clear_output(wait=True)\n",
    "        close[['cunlev','clev']].plot(figsize=(15,8),logy=True,title=\"{:.4f}\".format(leverage))\n",
    "        display(plt.show())\n",
    "        break"
   ]
  },
  {
   "cell_type": "code",
   "execution_count": 942,
   "id": "562fa3b7",
   "metadata": {},
   "outputs": [
    {
     "data": {
      "text/plain": [
       "819.3901774017144"
      ]
     },
     "execution_count": 942,
     "metadata": {},
     "output_type": "execute_result"
    }
   ],
   "source": [
    "close.loc[:'2018'].clev.max()"
   ]
  },
  {
   "cell_type": "code",
   "execution_count": 943,
   "id": "ac486f91",
   "metadata": {},
   "outputs": [
    {
     "data": {
      "text/plain": [
       "1127.2464308343397"
      ]
     },
     "execution_count": 943,
     "metadata": {},
     "output_type": "execute_result"
    }
   ],
   "source": [
    "close.loc['2018':].clev.max()"
   ]
  },
  {
   "cell_type": "code",
   "execution_count": 944,
   "id": "36f63faa",
   "metadata": {},
   "outputs": [
    {
     "data": {
      "text/plain": [
       "0.7268953398195608"
      ]
     },
     "execution_count": 944,
     "metadata": {},
     "output_type": "execute_result"
    }
   ],
   "source": [
    "close.loc[:'2019'].clev.max()/close.loc['2019':].clev.max()"
   ]
  },
  {
   "cell_type": "code",
   "execution_count": 945,
   "id": "4b85fbfb",
   "metadata": {},
   "outputs": [
    {
     "data": {
      "text/plain": [
       "2.094286339656179"
      ]
     },
     "execution_count": 945,
     "metadata": {},
     "output_type": "execute_result"
    }
   ],
   "source": [
    "1+close[:'2019'].lev_s_return.mean()*252"
   ]
  },
  {
   "cell_type": "code",
   "execution_count": 946,
   "id": "3fe3c3a1",
   "metadata": {},
   "outputs": [
    {
     "data": {
      "text/plain": [
       "clev   1.3456\n",
       "Name: 2015-12-28 00:00:00, dtype: float64"
      ]
     },
     "execution_count": 946,
     "metadata": {},
     "output_type": "execute_result"
    }
   ],
   "source": [
    "close.loc[close[:'2016'].clev.idxmax()-pd.DateOffset(years=1),['clev']]"
   ]
  },
  {
   "cell_type": "code",
   "execution_count": 947,
   "id": "6401093c",
   "metadata": {
    "scrolled": false
   },
   "outputs": [
    {
     "data": {
      "text/html": [
       "<div>\n",
       "<style scoped>\n",
       "    .dataframe tbody tr th:only-of-type {\n",
       "        vertical-align: middle;\n",
       "    }\n",
       "\n",
       "    .dataframe tbody tr th {\n",
       "        vertical-align: top;\n",
       "    }\n",
       "\n",
       "    .dataframe thead th {\n",
       "        text-align: right;\n",
       "    }\n",
       "</style>\n",
       "<table border=\"1\" class=\"dataframe\">\n",
       "  <thead>\n",
       "    <tr style=\"text-align: right;\">\n",
       "      <th></th>\n",
       "      <th>BTC-USD</th>\n",
       "      <th>unlev_s_return</th>\n",
       "      <th>lev_s_return</th>\n",
       "      <th>unlev_log_ret</th>\n",
       "      <th>cunlev</th>\n",
       "      <th>clev</th>\n",
       "    </tr>\n",
       "    <tr>\n",
       "      <th>Date</th>\n",
       "      <th></th>\n",
       "      <th></th>\n",
       "      <th></th>\n",
       "      <th></th>\n",
       "      <th></th>\n",
       "      <th></th>\n",
       "    </tr>\n",
       "  </thead>\n",
       "  <tbody>\n",
       "    <tr>\n",
       "      <th>2014-10-02</th>\n",
       "      <td>0.9777</td>\n",
       "      <td>-0.0223</td>\n",
       "      <td>-0.0426</td>\n",
       "      <td>NaN</td>\n",
       "      <td>0.9777</td>\n",
       "      <td>1.8297</td>\n",
       "    </tr>\n",
       "    <tr>\n",
       "      <th>2014-10-03</th>\n",
       "      <td>0.9372</td>\n",
       "      <td>-0.0415</td>\n",
       "      <td>-0.0793</td>\n",
       "      <td>-0.0424</td>\n",
       "      <td>0.9372</td>\n",
       "      <td>1.6846</td>\n",
       "    </tr>\n",
       "    <tr>\n",
       "      <th>2014-10-04</th>\n",
       "      <td>0.8573</td>\n",
       "      <td>-0.0852</td>\n",
       "      <td>-0.1629</td>\n",
       "      <td>-0.0891</td>\n",
       "      <td>0.8573</td>\n",
       "      <td>1.4102</td>\n",
       "    </tr>\n",
       "    <tr>\n",
       "      <th>2014-10-05</th>\n",
       "      <td>0.8355</td>\n",
       "      <td>-0.0254</td>\n",
       "      <td>-0.0486</td>\n",
       "      <td>-0.0257</td>\n",
       "      <td>0.8355</td>\n",
       "      <td>1.3417</td>\n",
       "    </tr>\n",
       "    <tr>\n",
       "      <th>2014-10-06</th>\n",
       "      <td>0.8604</td>\n",
       "      <td>0.0299</td>\n",
       "      <td>0.0571</td>\n",
       "      <td>0.0294</td>\n",
       "      <td>0.8604</td>\n",
       "      <td>1.4183</td>\n",
       "    </tr>\n",
       "    <tr>\n",
       "      <th>...</th>\n",
       "      <td>...</td>\n",
       "      <td>...</td>\n",
       "      <td>...</td>\n",
       "      <td>...</td>\n",
       "      <td>...</td>\n",
       "      <td>...</td>\n",
       "    </tr>\n",
       "    <tr>\n",
       "      <th>2021-05-27</th>\n",
       "      <td>100.1967</td>\n",
       "      <td>-0.0218</td>\n",
       "      <td>-0.0417</td>\n",
       "      <td>-0.0221</td>\n",
       "      <td>100.1967</td>\n",
       "      <td>383.7694</td>\n",
       "    </tr>\n",
       "    <tr>\n",
       "      <th>2021-05-28</th>\n",
       "      <td>93.0558</td>\n",
       "      <td>-0.0713</td>\n",
       "      <td>-0.1362</td>\n",
       "      <td>-0.0739</td>\n",
       "      <td>93.0558</td>\n",
       "      <td>331.5020</td>\n",
       "    </tr>\n",
       "    <tr>\n",
       "      <th>2021-05-29</th>\n",
       "      <td>90.2365</td>\n",
       "      <td>-0.0303</td>\n",
       "      <td>-0.0579</td>\n",
       "      <td>-0.0308</td>\n",
       "      <td>90.2365</td>\n",
       "      <td>312.3086</td>\n",
       "    </tr>\n",
       "    <tr>\n",
       "      <th>2021-05-30</th>\n",
       "      <td>93.0050</td>\n",
       "      <td>0.0307</td>\n",
       "      <td>0.0586</td>\n",
       "      <td>0.0302</td>\n",
       "      <td>93.0050</td>\n",
       "      <td>330.6199</td>\n",
       "    </tr>\n",
       "    <tr>\n",
       "      <th>2021-05-31</th>\n",
       "      <td>97.3186</td>\n",
       "      <td>0.0464</td>\n",
       "      <td>0.0886</td>\n",
       "      <td>0.0453</td>\n",
       "      <td>97.3186</td>\n",
       "      <td>359.9230</td>\n",
       "    </tr>\n",
       "  </tbody>\n",
       "</table>\n",
       "<p>2430 rows × 6 columns</p>\n",
       "</div>"
      ],
      "text/plain": [
       "            BTC-USD  unlev_s_return  lev_s_return  unlev_log_ret   cunlev  \\\n",
       "Date                                                                        \n",
       "2014-10-02   0.9777         -0.0223       -0.0426            NaN   0.9777   \n",
       "2014-10-03   0.9372         -0.0415       -0.0793        -0.0424   0.9372   \n",
       "2014-10-04   0.8573         -0.0852       -0.1629        -0.0891   0.8573   \n",
       "2014-10-05   0.8355         -0.0254       -0.0486        -0.0257   0.8355   \n",
       "2014-10-06   0.8604          0.0299        0.0571         0.0294   0.8604   \n",
       "...             ...             ...           ...            ...      ...   \n",
       "2021-05-27 100.1967         -0.0218       -0.0417        -0.0221 100.1967   \n",
       "2021-05-28  93.0558         -0.0713       -0.1362        -0.0739  93.0558   \n",
       "2021-05-29  90.2365         -0.0303       -0.0579        -0.0308  90.2365   \n",
       "2021-05-30  93.0050          0.0307        0.0586         0.0302  93.0050   \n",
       "2021-05-31  97.3186          0.0464        0.0886         0.0453  97.3186   \n",
       "\n",
       "               clev  \n",
       "Date                 \n",
       "2014-10-02   1.8297  \n",
       "2014-10-03   1.6846  \n",
       "2014-10-04   1.4102  \n",
       "2014-10-05   1.3417  \n",
       "2014-10-06   1.4183  \n",
       "...             ...  \n",
       "2021-05-27 383.7694  \n",
       "2021-05-28 331.5020  \n",
       "2021-05-29 312.3086  \n",
       "2021-05-30 330.6199  \n",
       "2021-05-31 359.9230  \n",
       "\n",
       "[2430 rows x 6 columns]"
      ]
     },
     "execution_count": 947,
     "metadata": {},
     "output_type": "execute_result"
    }
   ],
   "source": [
    "np.log(close['BTC-USD'][-1]/close['BTC-USD'][0])\n",
    "close"
   ]
  },
  {
   "cell_type": "code",
   "execution_count": 948,
   "id": "3c4ef696",
   "metadata": {},
   "outputs": [
    {
     "data": {
      "text/plain": [
       "0.38849941890722217"
      ]
     },
     "execution_count": 948,
     "metadata": {},
     "output_type": "execute_result"
    }
   ],
   "source": [
    "close[:'2019'].unlev_log_ret.mean()*252"
   ]
  },
  {
   "cell_type": "code",
   "execution_count": 949,
   "id": "d4c450fb",
   "metadata": {},
   "outputs": [
    {
     "data": {
      "text/plain": [
       "0.4772864519093408"
      ]
     },
     "execution_count": 949,
     "metadata": {},
     "output_type": "execute_result"
    }
   ],
   "source": [
    "close[\"unlev_log_ret\"] = np.log(close['BTC-USD'] / close['BTC-USD'].shift())\n",
    "close.dropna(inplace=True)\n",
    "close.unlev_log_ret.mean()*252"
   ]
  },
  {
   "cell_type": "markdown",
   "id": "fb40585b",
   "metadata": {},
   "source": [
    "--------------------------------------"
   ]
  },
  {
   "cell_type": "markdown",
   "id": "c3192362",
   "metadata": {},
   "source": [
    "## Coding Challenge Solutions"
   ]
  },
  {
   "cell_type": "markdown",
   "id": "b06419c4",
   "metadata": {},
   "source": [
    "__Coding Challenge #1__"
   ]
  },
  {
   "cell_type": "markdown",
   "id": "4b1f212a",
   "metadata": {},
   "source": [
    "1. Load Stock Price Data for General Electric (GE) and another ticker symbol of your choice from 2015-01-02 until 2020-12-31.<br>\n",
    "Go to https://finance.yahoo.com/ and get the right ticker symbol. For instruments traded outside the US, you have to add a country/exchange suffix. <br>\n",
    "Check the suffix list here https://help.yahoo.com/kb/exchanges-data-providers-yahoo-finance-sln2310.html As an example, the suffix for the National Indian Stock Exchange is .NS -> Ticker Symbol for Reliance is Reliance.NS"
   ]
  },
  {
   "cell_type": "markdown",
   "id": "1d6f7538",
   "metadata": {},
   "source": [
    "2. Select Close prices only and create a price chart for GE."
   ]
  },
  {
   "cell_type": "markdown",
   "id": "75aea2d3",
   "metadata": {},
   "source": [
    "3. Normalize the stock prices for GE and the Ticker Symbol of your choice (Base Value: 1) and visualize! What´s the final normalized price for GE on 2020-12-30? "
   ]
  },
  {
   "cell_type": "code",
   "execution_count": null,
   "id": "57cbe430",
   "metadata": {},
   "outputs": [],
   "source": [
    "import pandas as pd\n",
    "import yfinance as yf\n",
    "import matplotlib.pyplot as plt\n",
    "pd.options.display.float_format = '{:.4f}'.format\n",
    "plt.style.use(\"seaborn\")"
   ]
  },
  {
   "cell_type": "code",
   "execution_count": null,
   "id": "38f1f6cf",
   "metadata": {},
   "outputs": [],
   "source": [
    "start = \"2015-01-02\"\n",
    "end = \"2020-12-31\"\n",
    "symbol = [\"GE\", \"Reliance.NS\"]"
   ]
  },
  {
   "cell_type": "code",
   "execution_count": null,
   "id": "67291e92",
   "metadata": {},
   "outputs": [],
   "source": [
    "df = yf.download(symbol, start, end)\n",
    "df"
   ]
  },
  {
   "cell_type": "code",
   "execution_count": null,
   "id": "1ec06d5c",
   "metadata": {},
   "outputs": [],
   "source": [
    "close = df.Close.copy()\n",
    "close"
   ]
  },
  {
   "cell_type": "code",
   "execution_count": null,
   "id": "096f9d45",
   "metadata": {},
   "outputs": [],
   "source": [
    "close.GE.dropna().plot(figsize = (15, 8), fontsize = 13)\n",
    "plt.legend(fontsize = 13)\n",
    "plt.show()"
   ]
  },
  {
   "cell_type": "code",
   "execution_count": null,
   "id": "f6577349",
   "metadata": {},
   "outputs": [],
   "source": [
    "norm = close.div(close.iloc[0]).mul(1)\n",
    "norm"
   ]
  },
  {
   "cell_type": "markdown",
   "id": "9fe04480",
   "metadata": {},
   "source": [
    "-> The final normalized Price is 0.4445."
   ]
  },
  {
   "cell_type": "code",
   "execution_count": null,
   "id": "fa18c3c7",
   "metadata": {},
   "outputs": [],
   "source": [
    "norm.dropna().plot(figsize = (15, 8), fontsize = 13)\n",
    "plt.legend(fontsize = 13)\n",
    "plt.show()"
   ]
  },
  {
   "cell_type": "code",
   "execution_count": null,
   "id": "ea32555c",
   "metadata": {},
   "outputs": [],
   "source": []
  },
  {
   "cell_type": "markdown",
   "id": "ea1e6bf3",
   "metadata": {},
   "source": [
    "__Coding Challenge #2__"
   ]
  },
  {
   "cell_type": "markdown",
   "id": "2d6b7a33",
   "metadata": {},
   "source": [
    "1. Calculate daily returns for Bitcoin."
   ]
  },
  {
   "cell_type": "markdown",
   "id": "93ff73f5",
   "metadata": {},
   "source": [
    "2. Calculate the arithmetic mean return and the standard deviation of returns for Bitcoin. "
   ]
  },
  {
   "cell_type": "markdown",
   "id": "a0e29617",
   "metadata": {},
   "source": [
    "3. Compare Bitcoin with Microsoft (mu = 0.00116, sigma = 0.01726). Does the rule \"Higher Risk -> Higher Reward\" hold?"
   ]
  },
  {
   "cell_type": "code",
   "execution_count": 134,
   "id": "5b9c361d",
   "metadata": {},
   "outputs": [],
   "source": [
    "import pandas as pd\n",
    "pd.options.display.float_format = '{:.4f}'.format"
   ]
  },
  {
   "cell_type": "code",
   "execution_count": 135,
   "id": "aff3759c",
   "metadata": {},
   "outputs": [
    {
     "data": {
      "text/html": [
       "<div>\n",
       "<style scoped>\n",
       "    .dataframe tbody tr th:only-of-type {\n",
       "        vertical-align: middle;\n",
       "    }\n",
       "\n",
       "    .dataframe tbody tr th {\n",
       "        vertical-align: top;\n",
       "    }\n",
       "\n",
       "    .dataframe thead th {\n",
       "        text-align: right;\n",
       "    }\n",
       "</style>\n",
       "<table border=\"1\" class=\"dataframe\">\n",
       "  <thead>\n",
       "    <tr style=\"text-align: right;\">\n",
       "      <th></th>\n",
       "      <th>BA</th>\n",
       "      <th>BTC-USD</th>\n",
       "      <th>EURUSD=X</th>\n",
       "      <th>GC=F</th>\n",
       "      <th>MSFT</th>\n",
       "      <th>^DJI</th>\n",
       "    </tr>\n",
       "    <tr>\n",
       "      <th>Date</th>\n",
       "      <th></th>\n",
       "      <th></th>\n",
       "      <th></th>\n",
       "      <th></th>\n",
       "      <th></th>\n",
       "      <th></th>\n",
       "    </tr>\n",
       "  </thead>\n",
       "  <tbody>\n",
       "    <tr>\n",
       "      <th>2014-10-01</th>\n",
       "      <td>124.6700</td>\n",
       "      <td>383.6150</td>\n",
       "      <td>1.2628</td>\n",
       "      <td>1214.6000</td>\n",
       "      <td>45.9000</td>\n",
       "      <td>16804.7109</td>\n",
       "    </tr>\n",
       "    <tr>\n",
       "      <th>2014-10-02</th>\n",
       "      <td>124.1700</td>\n",
       "      <td>375.0720</td>\n",
       "      <td>1.2624</td>\n",
       "      <td>1214.2000</td>\n",
       "      <td>45.7600</td>\n",
       "      <td>16801.0508</td>\n",
       "    </tr>\n",
       "    <tr>\n",
       "      <th>2014-10-03</th>\n",
       "      <td>126.3600</td>\n",
       "      <td>359.5120</td>\n",
       "      <td>1.2671</td>\n",
       "      <td>1192.2000</td>\n",
       "      <td>46.0900</td>\n",
       "      <td>17009.6895</td>\n",
       "    </tr>\n",
       "    <tr>\n",
       "      <th>2014-10-04</th>\n",
       "      <td>NaN</td>\n",
       "      <td>328.8660</td>\n",
       "      <td>NaN</td>\n",
       "      <td>NaN</td>\n",
       "      <td>NaN</td>\n",
       "      <td>NaN</td>\n",
       "    </tr>\n",
       "    <tr>\n",
       "      <th>2014-10-05</th>\n",
       "      <td>NaN</td>\n",
       "      <td>320.5100</td>\n",
       "      <td>NaN</td>\n",
       "      <td>NaN</td>\n",
       "      <td>NaN</td>\n",
       "      <td>NaN</td>\n",
       "    </tr>\n",
       "    <tr>\n",
       "      <th>...</th>\n",
       "      <td>...</td>\n",
       "      <td>...</td>\n",
       "      <td>...</td>\n",
       "      <td>...</td>\n",
       "      <td>...</td>\n",
       "      <td>...</td>\n",
       "    </tr>\n",
       "    <tr>\n",
       "      <th>2021-05-27</th>\n",
       "      <td>250.7000</td>\n",
       "      <td>38436.9688</td>\n",
       "      <td>1.2193</td>\n",
       "      <td>1895.7000</td>\n",
       "      <td>249.3100</td>\n",
       "      <td>34464.6406</td>\n",
       "    </tr>\n",
       "    <tr>\n",
       "      <th>2021-05-28</th>\n",
       "      <td>247.0200</td>\n",
       "      <td>35697.6055</td>\n",
       "      <td>1.2193</td>\n",
       "      <td>1902.5000</td>\n",
       "      <td>249.6800</td>\n",
       "      <td>34529.4492</td>\n",
       "    </tr>\n",
       "    <tr>\n",
       "      <th>2021-05-29</th>\n",
       "      <td>NaN</td>\n",
       "      <td>34616.0664</td>\n",
       "      <td>NaN</td>\n",
       "      <td>NaN</td>\n",
       "      <td>NaN</td>\n",
       "      <td>NaN</td>\n",
       "    </tr>\n",
       "    <tr>\n",
       "      <th>2021-05-30</th>\n",
       "      <td>NaN</td>\n",
       "      <td>35678.1289</td>\n",
       "      <td>NaN</td>\n",
       "      <td>NaN</td>\n",
       "      <td>NaN</td>\n",
       "      <td>NaN</td>\n",
       "    </tr>\n",
       "    <tr>\n",
       "      <th>2021-05-31</th>\n",
       "      <td>NaN</td>\n",
       "      <td>37332.8555</td>\n",
       "      <td>1.2190</td>\n",
       "      <td>NaN</td>\n",
       "      <td>NaN</td>\n",
       "      <td>NaN</td>\n",
       "    </tr>\n",
       "  </tbody>\n",
       "</table>\n",
       "<p>2435 rows × 6 columns</p>\n",
       "</div>"
      ],
      "text/plain": [
       "                 BA    BTC-USD  EURUSD=X      GC=F     MSFT       ^DJI\n",
       "Date                                                                  \n",
       "2014-10-01 124.6700   383.6150    1.2628 1214.6000  45.9000 16804.7109\n",
       "2014-10-02 124.1700   375.0720    1.2624 1214.2000  45.7600 16801.0508\n",
       "2014-10-03 126.3600   359.5120    1.2671 1192.2000  46.0900 17009.6895\n",
       "2014-10-04      NaN   328.8660       NaN       NaN      NaN        NaN\n",
       "2014-10-05      NaN   320.5100       NaN       NaN      NaN        NaN\n",
       "...             ...        ...       ...       ...      ...        ...\n",
       "2021-05-27 250.7000 38436.9688    1.2193 1895.7000 249.3100 34464.6406\n",
       "2021-05-28 247.0200 35697.6055    1.2193 1902.5000 249.6800 34529.4492\n",
       "2021-05-29      NaN 34616.0664       NaN       NaN      NaN        NaN\n",
       "2021-05-30      NaN 35678.1289       NaN       NaN      NaN        NaN\n",
       "2021-05-31      NaN 37332.8555    1.2190       NaN      NaN        NaN\n",
       "\n",
       "[2435 rows x 6 columns]"
      ]
     },
     "execution_count": 135,
     "metadata": {},
     "output_type": "execute_result"
    }
   ],
   "source": [
    "close = pd.read_csv(\"close.csv\", index_col = \"Date\", parse_dates = [\"Date\"])\n",
    "close"
   ]
  },
  {
   "cell_type": "code",
   "execution_count": 136,
   "id": "23c3dd50",
   "metadata": {},
   "outputs": [
    {
     "data": {
      "text/html": [
       "<div>\n",
       "<style scoped>\n",
       "    .dataframe tbody tr th:only-of-type {\n",
       "        vertical-align: middle;\n",
       "    }\n",
       "\n",
       "    .dataframe tbody tr th {\n",
       "        vertical-align: top;\n",
       "    }\n",
       "\n",
       "    .dataframe thead th {\n",
       "        text-align: right;\n",
       "    }\n",
       "</style>\n",
       "<table border=\"1\" class=\"dataframe\">\n",
       "  <thead>\n",
       "    <tr style=\"text-align: right;\">\n",
       "      <th></th>\n",
       "      <th>BTC-USD</th>\n",
       "    </tr>\n",
       "    <tr>\n",
       "      <th>Date</th>\n",
       "      <th></th>\n",
       "    </tr>\n",
       "  </thead>\n",
       "  <tbody>\n",
       "    <tr>\n",
       "      <th>2014-10-01</th>\n",
       "      <td>383.6150</td>\n",
       "    </tr>\n",
       "    <tr>\n",
       "      <th>2014-10-02</th>\n",
       "      <td>375.0720</td>\n",
       "    </tr>\n",
       "    <tr>\n",
       "      <th>2014-10-03</th>\n",
       "      <td>359.5120</td>\n",
       "    </tr>\n",
       "    <tr>\n",
       "      <th>2014-10-04</th>\n",
       "      <td>328.8660</td>\n",
       "    </tr>\n",
       "    <tr>\n",
       "      <th>2014-10-05</th>\n",
       "      <td>320.5100</td>\n",
       "    </tr>\n",
       "    <tr>\n",
       "      <th>...</th>\n",
       "      <td>...</td>\n",
       "    </tr>\n",
       "    <tr>\n",
       "      <th>2021-05-27</th>\n",
       "      <td>38436.9688</td>\n",
       "    </tr>\n",
       "    <tr>\n",
       "      <th>2021-05-28</th>\n",
       "      <td>35697.6055</td>\n",
       "    </tr>\n",
       "    <tr>\n",
       "      <th>2021-05-29</th>\n",
       "      <td>34616.0664</td>\n",
       "    </tr>\n",
       "    <tr>\n",
       "      <th>2021-05-30</th>\n",
       "      <td>35678.1289</td>\n",
       "    </tr>\n",
       "    <tr>\n",
       "      <th>2021-05-31</th>\n",
       "      <td>37332.8555</td>\n",
       "    </tr>\n",
       "  </tbody>\n",
       "</table>\n",
       "<p>2431 rows × 1 columns</p>\n",
       "</div>"
      ],
      "text/plain": [
       "              BTC-USD\n",
       "Date                 \n",
       "2014-10-01   383.6150\n",
       "2014-10-02   375.0720\n",
       "2014-10-03   359.5120\n",
       "2014-10-04   328.8660\n",
       "2014-10-05   320.5100\n",
       "...               ...\n",
       "2021-05-27 38436.9688\n",
       "2021-05-28 35697.6055\n",
       "2021-05-29 34616.0664\n",
       "2021-05-30 35678.1289\n",
       "2021-05-31 37332.8555\n",
       "\n",
       "[2431 rows x 1 columns]"
      ]
     },
     "execution_count": 136,
     "metadata": {},
     "output_type": "execute_result"
    }
   ],
   "source": [
    "btc = close[\"BTC-USD\"].dropna().to_frame().copy()\n",
    "btc"
   ]
  },
  {
   "cell_type": "code",
   "execution_count": 137,
   "id": "800fd370",
   "metadata": {},
   "outputs": [
    {
     "data": {
      "text/html": [
       "<div>\n",
       "<style scoped>\n",
       "    .dataframe tbody tr th:only-of-type {\n",
       "        vertical-align: middle;\n",
       "    }\n",
       "\n",
       "    .dataframe tbody tr th {\n",
       "        vertical-align: top;\n",
       "    }\n",
       "\n",
       "    .dataframe thead th {\n",
       "        text-align: right;\n",
       "    }\n",
       "</style>\n",
       "<table border=\"1\" class=\"dataframe\">\n",
       "  <thead>\n",
       "    <tr style=\"text-align: right;\">\n",
       "      <th></th>\n",
       "      <th>BTC-USD</th>\n",
       "      <th>Returns</th>\n",
       "    </tr>\n",
       "    <tr>\n",
       "      <th>Date</th>\n",
       "      <th></th>\n",
       "      <th></th>\n",
       "    </tr>\n",
       "  </thead>\n",
       "  <tbody>\n",
       "    <tr>\n",
       "      <th>2014-10-01</th>\n",
       "      <td>383.6150</td>\n",
       "      <td>NaN</td>\n",
       "    </tr>\n",
       "    <tr>\n",
       "      <th>2014-10-02</th>\n",
       "      <td>375.0720</td>\n",
       "      <td>-0.0223</td>\n",
       "    </tr>\n",
       "    <tr>\n",
       "      <th>2014-10-03</th>\n",
       "      <td>359.5120</td>\n",
       "      <td>-0.0415</td>\n",
       "    </tr>\n",
       "    <tr>\n",
       "      <th>2014-10-04</th>\n",
       "      <td>328.8660</td>\n",
       "      <td>-0.0852</td>\n",
       "    </tr>\n",
       "    <tr>\n",
       "      <th>2014-10-05</th>\n",
       "      <td>320.5100</td>\n",
       "      <td>-0.0254</td>\n",
       "    </tr>\n",
       "    <tr>\n",
       "      <th>...</th>\n",
       "      <td>...</td>\n",
       "      <td>...</td>\n",
       "    </tr>\n",
       "    <tr>\n",
       "      <th>2021-05-27</th>\n",
       "      <td>38436.9688</td>\n",
       "      <td>-0.0218</td>\n",
       "    </tr>\n",
       "    <tr>\n",
       "      <th>2021-05-28</th>\n",
       "      <td>35697.6055</td>\n",
       "      <td>-0.0713</td>\n",
       "    </tr>\n",
       "    <tr>\n",
       "      <th>2021-05-29</th>\n",
       "      <td>34616.0664</td>\n",
       "      <td>-0.0303</td>\n",
       "    </tr>\n",
       "    <tr>\n",
       "      <th>2021-05-30</th>\n",
       "      <td>35678.1289</td>\n",
       "      <td>0.0307</td>\n",
       "    </tr>\n",
       "    <tr>\n",
       "      <th>2021-05-31</th>\n",
       "      <td>37332.8555</td>\n",
       "      <td>0.0464</td>\n",
       "    </tr>\n",
       "  </tbody>\n",
       "</table>\n",
       "<p>2431 rows × 2 columns</p>\n",
       "</div>"
      ],
      "text/plain": [
       "              BTC-USD  Returns\n",
       "Date                          \n",
       "2014-10-01   383.6150      NaN\n",
       "2014-10-02   375.0720  -0.0223\n",
       "2014-10-03   359.5120  -0.0415\n",
       "2014-10-04   328.8660  -0.0852\n",
       "2014-10-05   320.5100  -0.0254\n",
       "...               ...      ...\n",
       "2021-05-27 38436.9688  -0.0218\n",
       "2021-05-28 35697.6055  -0.0713\n",
       "2021-05-29 34616.0664  -0.0303\n",
       "2021-05-30 35678.1289   0.0307\n",
       "2021-05-31 37332.8555   0.0464\n",
       "\n",
       "[2431 rows x 2 columns]"
      ]
     },
     "execution_count": 137,
     "metadata": {},
     "output_type": "execute_result"
    }
   ],
   "source": [
    "btc[\"Returns\"] = btc.pct_change(periods = 1)\n",
    "btc"
   ]
  },
  {
   "cell_type": "code",
   "execution_count": 138,
   "id": "701d3068",
   "metadata": {},
   "outputs": [
    {
     "data": {
      "text/html": [
       "<div>\n",
       "<style scoped>\n",
       "    .dataframe tbody tr th:only-of-type {\n",
       "        vertical-align: middle;\n",
       "    }\n",
       "\n",
       "    .dataframe tbody tr th {\n",
       "        vertical-align: top;\n",
       "    }\n",
       "\n",
       "    .dataframe thead th {\n",
       "        text-align: right;\n",
       "    }\n",
       "</style>\n",
       "<table border=\"1\" class=\"dataframe\">\n",
       "  <thead>\n",
       "    <tr style=\"text-align: right;\">\n",
       "      <th></th>\n",
       "      <th>BTC-USD</th>\n",
       "      <th>Returns</th>\n",
       "    </tr>\n",
       "    <tr>\n",
       "      <th>Date</th>\n",
       "      <th></th>\n",
       "      <th></th>\n",
       "    </tr>\n",
       "  </thead>\n",
       "  <tbody>\n",
       "    <tr>\n",
       "      <th>2014-10-01</th>\n",
       "      <td>383.6150</td>\n",
       "      <td>NaN</td>\n",
       "    </tr>\n",
       "    <tr>\n",
       "      <th>2014-10-02</th>\n",
       "      <td>375.0720</td>\n",
       "      <td>-0.0223</td>\n",
       "    </tr>\n",
       "    <tr>\n",
       "      <th>2014-10-03</th>\n",
       "      <td>359.5120</td>\n",
       "      <td>-0.0415</td>\n",
       "    </tr>\n",
       "    <tr>\n",
       "      <th>2014-10-04</th>\n",
       "      <td>328.8660</td>\n",
       "      <td>-0.0852</td>\n",
       "    </tr>\n",
       "    <tr>\n",
       "      <th>2014-10-05</th>\n",
       "      <td>320.5100</td>\n",
       "      <td>-0.0254</td>\n",
       "    </tr>\n",
       "    <tr>\n",
       "      <th>...</th>\n",
       "      <td>...</td>\n",
       "      <td>...</td>\n",
       "    </tr>\n",
       "    <tr>\n",
       "      <th>2021-05-27</th>\n",
       "      <td>38436.9688</td>\n",
       "      <td>-0.0218</td>\n",
       "    </tr>\n",
       "    <tr>\n",
       "      <th>2021-05-28</th>\n",
       "      <td>35697.6055</td>\n",
       "      <td>-0.0713</td>\n",
       "    </tr>\n",
       "    <tr>\n",
       "      <th>2021-05-29</th>\n",
       "      <td>34616.0664</td>\n",
       "      <td>-0.0303</td>\n",
       "    </tr>\n",
       "    <tr>\n",
       "      <th>2021-05-30</th>\n",
       "      <td>35678.1289</td>\n",
       "      <td>0.0307</td>\n",
       "    </tr>\n",
       "    <tr>\n",
       "      <th>2021-05-31</th>\n",
       "      <td>37332.8555</td>\n",
       "      <td>0.0464</td>\n",
       "    </tr>\n",
       "  </tbody>\n",
       "</table>\n",
       "<p>2431 rows × 2 columns</p>\n",
       "</div>"
      ],
      "text/plain": [
       "              BTC-USD  Returns\n",
       "Date                          \n",
       "2014-10-01   383.6150      NaN\n",
       "2014-10-02   375.0720  -0.0223\n",
       "2014-10-03   359.5120  -0.0415\n",
       "2014-10-04   328.8660  -0.0852\n",
       "2014-10-05   320.5100  -0.0254\n",
       "...               ...      ...\n",
       "2021-05-27 38436.9688  -0.0218\n",
       "2021-05-28 35697.6055  -0.0713\n",
       "2021-05-29 34616.0664  -0.0303\n",
       "2021-05-30 35678.1289   0.0307\n",
       "2021-05-31 37332.8555   0.0464\n",
       "\n",
       "[2431 rows x 2 columns]"
      ]
     },
     "execution_count": 138,
     "metadata": {},
     "output_type": "execute_result"
    }
   ],
   "source": [
    "btc"
   ]
  },
  {
   "cell_type": "code",
   "execution_count": 139,
   "id": "ee35ebc9",
   "metadata": {},
   "outputs": [
    {
     "data": {
      "text/plain": [
       "0.0026597778322260015"
      ]
     },
     "execution_count": 139,
     "metadata": {},
     "output_type": "execute_result"
    }
   ],
   "source": [
    "mu = btc.Returns.mean() \n",
    "mu"
   ]
  },
  {
   "cell_type": "code",
   "execution_count": 140,
   "id": "dd5209b2",
   "metadata": {},
   "outputs": [
    {
     "data": {
      "text/plain": [
       "0.03914536709597238"
      ]
     },
     "execution_count": 140,
     "metadata": {},
     "output_type": "execute_result"
    }
   ],
   "source": [
    "sigma = btc.Returns.std()\n",
    "sigma"
   ]
  },
  {
   "cell_type": "code",
   "execution_count": 141,
   "id": "7947659c",
   "metadata": {},
   "outputs": [
    {
     "data": {
      "text/plain": [
       "True"
      ]
     },
     "execution_count": 141,
     "metadata": {},
     "output_type": "execute_result"
    }
   ],
   "source": [
    "mu > 0.00116"
   ]
  },
  {
   "cell_type": "code",
   "execution_count": 142,
   "id": "ade966ea",
   "metadata": {},
   "outputs": [
    {
     "data": {
      "text/plain": [
       "True"
      ]
     },
     "execution_count": 142,
     "metadata": {},
     "output_type": "execute_result"
    }
   ],
   "source": [
    "sigma > 0.01726"
   ]
  },
  {
   "cell_type": "markdown",
   "id": "683a0128",
   "metadata": {},
   "source": [
    "Does the rule \"Higher Risk -> Higher Reward\" hold? -> Yes"
   ]
  },
  {
   "cell_type": "markdown",
   "id": "069fac07",
   "metadata": {},
   "source": [
    "[Go to This Heading](#s2)"
   ]
  },
  {
   "cell_type": "markdown",
   "id": "d8a50acd",
   "metadata": {},
   "source": [
    "__Coding Challenge #3__"
   ]
  },
  {
   "cell_type": "markdown",
   "id": "dcdb31f1",
   "metadata": {},
   "source": [
    "1. Calculate Boeing´s Investment Multiple "
   ]
  },
  {
   "cell_type": "markdown",
   "id": "93e4a2cb",
   "metadata": {},
   "source": [
    "2. Calculate Boeing´s CAGR"
   ]
  },
  {
   "cell_type": "markdown",
   "id": "ef357599",
   "metadata": {},
   "source": [
    "3. Calculate Boeing´s Geometric Mean Return"
   ]
  },
  {
   "cell_type": "markdown",
   "id": "b0ff4c9c",
   "metadata": {},
   "source": [
    "4. Calculate Boeing´s Investment Multiple with compound daily returns"
   ]
  },
  {
   "cell_type": "code",
   "execution_count": 184,
   "id": "d1e7285b",
   "metadata": {},
   "outputs": [],
   "source": [
    "import pandas as pd\n",
    "pd.options.display.float_format = '{:.4f}'.format"
   ]
  },
  {
   "cell_type": "code",
   "execution_count": 185,
   "id": "0797c111",
   "metadata": {},
   "outputs": [
    {
     "data": {
      "text/html": [
       "<div>\n",
       "<style scoped>\n",
       "    .dataframe tbody tr th:only-of-type {\n",
       "        vertical-align: middle;\n",
       "    }\n",
       "\n",
       "    .dataframe tbody tr th {\n",
       "        vertical-align: top;\n",
       "    }\n",
       "\n",
       "    .dataframe thead th {\n",
       "        text-align: right;\n",
       "    }\n",
       "</style>\n",
       "<table border=\"1\" class=\"dataframe\">\n",
       "  <thead>\n",
       "    <tr style=\"text-align: right;\">\n",
       "      <th></th>\n",
       "      <th>BA</th>\n",
       "      <th>BTC-USD</th>\n",
       "      <th>EURUSD=X</th>\n",
       "      <th>GC=F</th>\n",
       "      <th>MSFT</th>\n",
       "      <th>^DJI</th>\n",
       "    </tr>\n",
       "    <tr>\n",
       "      <th>Date</th>\n",
       "      <th></th>\n",
       "      <th></th>\n",
       "      <th></th>\n",
       "      <th></th>\n",
       "      <th></th>\n",
       "      <th></th>\n",
       "    </tr>\n",
       "  </thead>\n",
       "  <tbody>\n",
       "    <tr>\n",
       "      <th>2014-10-01</th>\n",
       "      <td>124.6700</td>\n",
       "      <td>383.6150</td>\n",
       "      <td>1.2628</td>\n",
       "      <td>1214.6000</td>\n",
       "      <td>45.9000</td>\n",
       "      <td>16804.7109</td>\n",
       "    </tr>\n",
       "    <tr>\n",
       "      <th>2014-10-02</th>\n",
       "      <td>124.1700</td>\n",
       "      <td>375.0720</td>\n",
       "      <td>1.2624</td>\n",
       "      <td>1214.2000</td>\n",
       "      <td>45.7600</td>\n",
       "      <td>16801.0508</td>\n",
       "    </tr>\n",
       "    <tr>\n",
       "      <th>2014-10-03</th>\n",
       "      <td>126.3600</td>\n",
       "      <td>359.5120</td>\n",
       "      <td>1.2671</td>\n",
       "      <td>1192.2000</td>\n",
       "      <td>46.0900</td>\n",
       "      <td>17009.6895</td>\n",
       "    </tr>\n",
       "    <tr>\n",
       "      <th>2014-10-04</th>\n",
       "      <td>NaN</td>\n",
       "      <td>328.8660</td>\n",
       "      <td>NaN</td>\n",
       "      <td>NaN</td>\n",
       "      <td>NaN</td>\n",
       "      <td>NaN</td>\n",
       "    </tr>\n",
       "    <tr>\n",
       "      <th>2014-10-05</th>\n",
       "      <td>NaN</td>\n",
       "      <td>320.5100</td>\n",
       "      <td>NaN</td>\n",
       "      <td>NaN</td>\n",
       "      <td>NaN</td>\n",
       "      <td>NaN</td>\n",
       "    </tr>\n",
       "    <tr>\n",
       "      <th>...</th>\n",
       "      <td>...</td>\n",
       "      <td>...</td>\n",
       "      <td>...</td>\n",
       "      <td>...</td>\n",
       "      <td>...</td>\n",
       "      <td>...</td>\n",
       "    </tr>\n",
       "    <tr>\n",
       "      <th>2021-05-27</th>\n",
       "      <td>250.7000</td>\n",
       "      <td>38436.9688</td>\n",
       "      <td>1.2193</td>\n",
       "      <td>1895.7000</td>\n",
       "      <td>249.3100</td>\n",
       "      <td>34464.6406</td>\n",
       "    </tr>\n",
       "    <tr>\n",
       "      <th>2021-05-28</th>\n",
       "      <td>247.0200</td>\n",
       "      <td>35697.6055</td>\n",
       "      <td>1.2193</td>\n",
       "      <td>1902.5000</td>\n",
       "      <td>249.6800</td>\n",
       "      <td>34529.4492</td>\n",
       "    </tr>\n",
       "    <tr>\n",
       "      <th>2021-05-29</th>\n",
       "      <td>NaN</td>\n",
       "      <td>34616.0664</td>\n",
       "      <td>NaN</td>\n",
       "      <td>NaN</td>\n",
       "      <td>NaN</td>\n",
       "      <td>NaN</td>\n",
       "    </tr>\n",
       "    <tr>\n",
       "      <th>2021-05-30</th>\n",
       "      <td>NaN</td>\n",
       "      <td>35678.1289</td>\n",
       "      <td>NaN</td>\n",
       "      <td>NaN</td>\n",
       "      <td>NaN</td>\n",
       "      <td>NaN</td>\n",
       "    </tr>\n",
       "    <tr>\n",
       "      <th>2021-05-31</th>\n",
       "      <td>NaN</td>\n",
       "      <td>37332.8555</td>\n",
       "      <td>1.2190</td>\n",
       "      <td>NaN</td>\n",
       "      <td>NaN</td>\n",
       "      <td>NaN</td>\n",
       "    </tr>\n",
       "  </tbody>\n",
       "</table>\n",
       "<p>2435 rows × 6 columns</p>\n",
       "</div>"
      ],
      "text/plain": [
       "                 BA    BTC-USD  EURUSD=X      GC=F     MSFT       ^DJI\n",
       "Date                                                                  \n",
       "2014-10-01 124.6700   383.6150    1.2628 1214.6000  45.9000 16804.7109\n",
       "2014-10-02 124.1700   375.0720    1.2624 1214.2000  45.7600 16801.0508\n",
       "2014-10-03 126.3600   359.5120    1.2671 1192.2000  46.0900 17009.6895\n",
       "2014-10-04      NaN   328.8660       NaN       NaN      NaN        NaN\n",
       "2014-10-05      NaN   320.5100       NaN       NaN      NaN        NaN\n",
       "...             ...        ...       ...       ...      ...        ...\n",
       "2021-05-27 250.7000 38436.9688    1.2193 1895.7000 249.3100 34464.6406\n",
       "2021-05-28 247.0200 35697.6055    1.2193 1902.5000 249.6800 34529.4492\n",
       "2021-05-29      NaN 34616.0664       NaN       NaN      NaN        NaN\n",
       "2021-05-30      NaN 35678.1289       NaN       NaN      NaN        NaN\n",
       "2021-05-31      NaN 37332.8555    1.2190       NaN      NaN        NaN\n",
       "\n",
       "[2435 rows x 6 columns]"
      ]
     },
     "execution_count": 185,
     "metadata": {},
     "output_type": "execute_result"
    }
   ],
   "source": [
    "close = pd.read_csv(\"close.csv\", index_col = \"Date\", parse_dates = [\"Date\"])\n",
    "close"
   ]
  },
  {
   "cell_type": "code",
   "execution_count": 186,
   "id": "e46059bf",
   "metadata": {},
   "outputs": [
    {
     "data": {
      "text/html": [
       "<div>\n",
       "<style scoped>\n",
       "    .dataframe tbody tr th:only-of-type {\n",
       "        vertical-align: middle;\n",
       "    }\n",
       "\n",
       "    .dataframe tbody tr th {\n",
       "        vertical-align: top;\n",
       "    }\n",
       "\n",
       "    .dataframe thead th {\n",
       "        text-align: right;\n",
       "    }\n",
       "</style>\n",
       "<table border=\"1\" class=\"dataframe\">\n",
       "  <thead>\n",
       "    <tr style=\"text-align: right;\">\n",
       "      <th></th>\n",
       "      <th>BA</th>\n",
       "    </tr>\n",
       "    <tr>\n",
       "      <th>Date</th>\n",
       "      <th></th>\n",
       "    </tr>\n",
       "  </thead>\n",
       "  <tbody>\n",
       "    <tr>\n",
       "      <th>2014-10-01</th>\n",
       "      <td>124.6700</td>\n",
       "    </tr>\n",
       "    <tr>\n",
       "      <th>2014-10-02</th>\n",
       "      <td>124.1700</td>\n",
       "    </tr>\n",
       "    <tr>\n",
       "      <th>2014-10-03</th>\n",
       "      <td>126.3600</td>\n",
       "    </tr>\n",
       "    <tr>\n",
       "      <th>2014-10-06</th>\n",
       "      <td>126.2600</td>\n",
       "    </tr>\n",
       "    <tr>\n",
       "      <th>2014-10-07</th>\n",
       "      <td>123.3200</td>\n",
       "    </tr>\n",
       "    <tr>\n",
       "      <th>...</th>\n",
       "      <td>...</td>\n",
       "    </tr>\n",
       "    <tr>\n",
       "      <th>2021-05-24</th>\n",
       "      <td>237.4400</td>\n",
       "    </tr>\n",
       "    <tr>\n",
       "      <th>2021-05-25</th>\n",
       "      <td>240.7400</td>\n",
       "    </tr>\n",
       "    <tr>\n",
       "      <th>2021-05-26</th>\n",
       "      <td>241.3700</td>\n",
       "    </tr>\n",
       "    <tr>\n",
       "      <th>2021-05-27</th>\n",
       "      <td>250.7000</td>\n",
       "    </tr>\n",
       "    <tr>\n",
       "      <th>2021-05-28</th>\n",
       "      <td>247.0200</td>\n",
       "    </tr>\n",
       "  </tbody>\n",
       "</table>\n",
       "<p>1677 rows × 1 columns</p>\n",
       "</div>"
      ],
      "text/plain": [
       "                 BA\n",
       "Date               \n",
       "2014-10-01 124.6700\n",
       "2014-10-02 124.1700\n",
       "2014-10-03 126.3600\n",
       "2014-10-06 126.2600\n",
       "2014-10-07 123.3200\n",
       "...             ...\n",
       "2021-05-24 237.4400\n",
       "2021-05-25 240.7400\n",
       "2021-05-26 241.3700\n",
       "2021-05-27 250.7000\n",
       "2021-05-28 247.0200\n",
       "\n",
       "[1677 rows x 1 columns]"
      ]
     },
     "execution_count": 186,
     "metadata": {},
     "output_type": "execute_result"
    }
   ],
   "source": [
    "ba = close[\"BA\"].dropna().to_frame().copy()\n",
    "ba"
   ]
  },
  {
   "cell_type": "code",
   "execution_count": 187,
   "id": "e1312599",
   "metadata": {
    "scrolled": false
   },
   "outputs": [
    {
     "data": {
      "text/html": [
       "<div>\n",
       "<style scoped>\n",
       "    .dataframe tbody tr th:only-of-type {\n",
       "        vertical-align: middle;\n",
       "    }\n",
       "\n",
       "    .dataframe tbody tr th {\n",
       "        vertical-align: top;\n",
       "    }\n",
       "\n",
       "    .dataframe thead th {\n",
       "        text-align: right;\n",
       "    }\n",
       "</style>\n",
       "<table border=\"1\" class=\"dataframe\">\n",
       "  <thead>\n",
       "    <tr style=\"text-align: right;\">\n",
       "      <th></th>\n",
       "      <th>BA</th>\n",
       "      <th>Returns</th>\n",
       "    </tr>\n",
       "    <tr>\n",
       "      <th>Date</th>\n",
       "      <th></th>\n",
       "      <th></th>\n",
       "    </tr>\n",
       "  </thead>\n",
       "  <tbody>\n",
       "    <tr>\n",
       "      <th>2014-10-01</th>\n",
       "      <td>124.6700</td>\n",
       "      <td>NaN</td>\n",
       "    </tr>\n",
       "    <tr>\n",
       "      <th>2014-10-02</th>\n",
       "      <td>124.1700</td>\n",
       "      <td>-0.0040</td>\n",
       "    </tr>\n",
       "    <tr>\n",
       "      <th>2014-10-03</th>\n",
       "      <td>126.3600</td>\n",
       "      <td>0.0176</td>\n",
       "    </tr>\n",
       "    <tr>\n",
       "      <th>2014-10-06</th>\n",
       "      <td>126.2600</td>\n",
       "      <td>-0.0008</td>\n",
       "    </tr>\n",
       "    <tr>\n",
       "      <th>2014-10-07</th>\n",
       "      <td>123.3200</td>\n",
       "      <td>-0.0233</td>\n",
       "    </tr>\n",
       "    <tr>\n",
       "      <th>...</th>\n",
       "      <td>...</td>\n",
       "      <td>...</td>\n",
       "    </tr>\n",
       "    <tr>\n",
       "      <th>2021-05-24</th>\n",
       "      <td>237.4400</td>\n",
       "      <td>0.0112</td>\n",
       "    </tr>\n",
       "    <tr>\n",
       "      <th>2021-05-25</th>\n",
       "      <td>240.7400</td>\n",
       "      <td>0.0139</td>\n",
       "    </tr>\n",
       "    <tr>\n",
       "      <th>2021-05-26</th>\n",
       "      <td>241.3700</td>\n",
       "      <td>0.0026</td>\n",
       "    </tr>\n",
       "    <tr>\n",
       "      <th>2021-05-27</th>\n",
       "      <td>250.7000</td>\n",
       "      <td>0.0387</td>\n",
       "    </tr>\n",
       "    <tr>\n",
       "      <th>2021-05-28</th>\n",
       "      <td>247.0200</td>\n",
       "      <td>-0.0147</td>\n",
       "    </tr>\n",
       "  </tbody>\n",
       "</table>\n",
       "<p>1677 rows × 2 columns</p>\n",
       "</div>"
      ],
      "text/plain": [
       "                 BA  Returns\n",
       "Date                        \n",
       "2014-10-01 124.6700      NaN\n",
       "2014-10-02 124.1700  -0.0040\n",
       "2014-10-03 126.3600   0.0176\n",
       "2014-10-06 126.2600  -0.0008\n",
       "2014-10-07 123.3200  -0.0233\n",
       "...             ...      ...\n",
       "2021-05-24 237.4400   0.0112\n",
       "2021-05-25 240.7400   0.0139\n",
       "2021-05-26 241.3700   0.0026\n",
       "2021-05-27 250.7000   0.0387\n",
       "2021-05-28 247.0200  -0.0147\n",
       "\n",
       "[1677 rows x 2 columns]"
      ]
     },
     "execution_count": 187,
     "metadata": {},
     "output_type": "execute_result"
    }
   ],
   "source": [
    "ba[\"Returns\"] = ba.pct_change(periods = 1)\n",
    "ba"
   ]
  },
  {
   "cell_type": "markdown",
   "id": "7fd3fd39",
   "metadata": {},
   "source": [
    "### <a id=\"cc3_ans\"></a> CC3 Answer"
   ]
  },
  {
   "cell_type": "code",
   "execution_count": 258,
   "id": "5144f768",
   "metadata": {},
   "outputs": [
    {
     "data": {
      "text/plain": [
       "1.9813909352730892"
      ]
     },
     "execution_count": 258,
     "metadata": {},
     "output_type": "execute_result"
    }
   ],
   "source": [
    "multiple = ba.BA[-1] / ba.BA[0]\n",
    "multiple"
   ]
  },
  {
   "cell_type": "code",
   "execution_count": 189,
   "id": "39c85b68",
   "metadata": {
    "scrolled": true
   },
   "outputs": [
    {
     "data": {
      "text/plain": [
       "0.10820172433101138"
      ]
     },
     "execution_count": 189,
     "metadata": {},
     "output_type": "execute_result"
    }
   ],
   "source": [
    "cagr = (ba.BA[-1]/ba.BA[0])**(1/((ba.index[-1] - ba.index[0]).days / 365.25)) - 1 \n",
    "cagr"
   ]
  },
  {
   "cell_type": "code",
   "execution_count": 190,
   "id": "82f281e4",
   "metadata": {},
   "outputs": [
    {
     "data": {
      "text/plain": [
       "1676"
      ]
     },
     "execution_count": 190,
     "metadata": {},
     "output_type": "execute_result"
    }
   ],
   "source": [
    "n = ba.Returns.count()\n",
    "n"
   ]
  },
  {
   "cell_type": "code",
   "execution_count": 260,
   "id": "c38d4903",
   "metadata": {},
   "outputs": [
    {
     "data": {
      "text/plain": [
       "0.00040807792530195286"
      ]
     },
     "execution_count": 260,
     "metadata": {},
     "output_type": "execute_result"
    }
   ],
   "source": [
    "geo_mean = (1 + ba.Returns).prod()**(1/n) - 1 \n",
    "geo_mean"
   ]
  },
  {
   "cell_type": "code",
   "execution_count": 250,
   "id": "d2fff00d",
   "metadata": {},
   "outputs": [
    {
     "data": {
      "text/plain": [
       "1.9813909352730896"
      ]
     },
     "execution_count": 250,
     "metadata": {},
     "output_type": "execute_result"
    }
   ],
   "source": [
    "multiple = ba.Returns.add(1).prod()\n",
    "multiple"
   ]
  },
  {
   "cell_type": "code",
   "execution_count": null,
   "id": "b1ed6514",
   "metadata": {},
   "outputs": [],
   "source": []
  },
  {
   "cell_type": "markdown",
   "id": "eba81a76",
   "metadata": {},
   "source": [
    "__Coding Challenge #4__"
   ]
  },
  {
   "cell_type": "markdown",
   "id": "155c6561",
   "metadata": {},
   "source": [
    "1. Calculate daily log returns for Boeing."
   ]
  },
  {
   "cell_type": "markdown",
   "id": "e1e98035",
   "metadata": {},
   "source": [
    "2. Use Boeing´s log returns to calculate \n",
    "- Investment Multiple\n",
    "- CAGR (assuming 252 trading days)\n",
    "- Normalized Prices (Base = 1)"
   ]
  },
  {
   "cell_type": "code",
   "execution_count": 36,
   "id": "5130c978",
   "metadata": {},
   "outputs": [],
   "source": [
    "import pandas as pd\n",
    "import numpy as np\n",
    "pd.options.display.float_format = '{:.4f}'.format\n",
    "import matplotlib.pyplot as plt\n",
    "plt.style.use(\"seaborn\")"
   ]
  },
  {
   "cell_type": "code",
   "execution_count": 37,
   "id": "574b3b0f",
   "metadata": {},
   "outputs": [
    {
     "data": {
      "text/html": [
       "<div>\n",
       "<style scoped>\n",
       "    .dataframe tbody tr th:only-of-type {\n",
       "        vertical-align: middle;\n",
       "    }\n",
       "\n",
       "    .dataframe tbody tr th {\n",
       "        vertical-align: top;\n",
       "    }\n",
       "\n",
       "    .dataframe thead th {\n",
       "        text-align: right;\n",
       "    }\n",
       "</style>\n",
       "<table border=\"1\" class=\"dataframe\">\n",
       "  <thead>\n",
       "    <tr style=\"text-align: right;\">\n",
       "      <th></th>\n",
       "      <th>BA</th>\n",
       "      <th>BTC-USD</th>\n",
       "      <th>EURUSD=X</th>\n",
       "      <th>GC=F</th>\n",
       "      <th>MSFT</th>\n",
       "      <th>^DJI</th>\n",
       "    </tr>\n",
       "    <tr>\n",
       "      <th>Date</th>\n",
       "      <th></th>\n",
       "      <th></th>\n",
       "      <th></th>\n",
       "      <th></th>\n",
       "      <th></th>\n",
       "      <th></th>\n",
       "    </tr>\n",
       "  </thead>\n",
       "  <tbody>\n",
       "    <tr>\n",
       "      <th>2014-10-01</th>\n",
       "      <td>124.6700</td>\n",
       "      <td>383.6150</td>\n",
       "      <td>1.2628</td>\n",
       "      <td>1214.6000</td>\n",
       "      <td>45.9000</td>\n",
       "      <td>16804.7109</td>\n",
       "    </tr>\n",
       "    <tr>\n",
       "      <th>2014-10-02</th>\n",
       "      <td>124.1700</td>\n",
       "      <td>375.0720</td>\n",
       "      <td>1.2624</td>\n",
       "      <td>1214.2000</td>\n",
       "      <td>45.7600</td>\n",
       "      <td>16801.0508</td>\n",
       "    </tr>\n",
       "    <tr>\n",
       "      <th>2014-10-03</th>\n",
       "      <td>126.3600</td>\n",
       "      <td>359.5120</td>\n",
       "      <td>1.2671</td>\n",
       "      <td>1192.2000</td>\n",
       "      <td>46.0900</td>\n",
       "      <td>17009.6895</td>\n",
       "    </tr>\n",
       "    <tr>\n",
       "      <th>2014-10-04</th>\n",
       "      <td>NaN</td>\n",
       "      <td>328.8660</td>\n",
       "      <td>NaN</td>\n",
       "      <td>NaN</td>\n",
       "      <td>NaN</td>\n",
       "      <td>NaN</td>\n",
       "    </tr>\n",
       "    <tr>\n",
       "      <th>2014-10-05</th>\n",
       "      <td>NaN</td>\n",
       "      <td>320.5100</td>\n",
       "      <td>NaN</td>\n",
       "      <td>NaN</td>\n",
       "      <td>NaN</td>\n",
       "      <td>NaN</td>\n",
       "    </tr>\n",
       "    <tr>\n",
       "      <th>...</th>\n",
       "      <td>...</td>\n",
       "      <td>...</td>\n",
       "      <td>...</td>\n",
       "      <td>...</td>\n",
       "      <td>...</td>\n",
       "      <td>...</td>\n",
       "    </tr>\n",
       "    <tr>\n",
       "      <th>2021-05-27</th>\n",
       "      <td>250.7000</td>\n",
       "      <td>38436.9688</td>\n",
       "      <td>1.2193</td>\n",
       "      <td>1895.7000</td>\n",
       "      <td>249.3100</td>\n",
       "      <td>34464.6406</td>\n",
       "    </tr>\n",
       "    <tr>\n",
       "      <th>2021-05-28</th>\n",
       "      <td>247.0200</td>\n",
       "      <td>35697.6055</td>\n",
       "      <td>1.2193</td>\n",
       "      <td>1902.5000</td>\n",
       "      <td>249.6800</td>\n",
       "      <td>34529.4492</td>\n",
       "    </tr>\n",
       "    <tr>\n",
       "      <th>2021-05-29</th>\n",
       "      <td>NaN</td>\n",
       "      <td>34616.0664</td>\n",
       "      <td>NaN</td>\n",
       "      <td>NaN</td>\n",
       "      <td>NaN</td>\n",
       "      <td>NaN</td>\n",
       "    </tr>\n",
       "    <tr>\n",
       "      <th>2021-05-30</th>\n",
       "      <td>NaN</td>\n",
       "      <td>35678.1289</td>\n",
       "      <td>NaN</td>\n",
       "      <td>NaN</td>\n",
       "      <td>NaN</td>\n",
       "      <td>NaN</td>\n",
       "    </tr>\n",
       "    <tr>\n",
       "      <th>2021-05-31</th>\n",
       "      <td>NaN</td>\n",
       "      <td>37332.8555</td>\n",
       "      <td>1.2190</td>\n",
       "      <td>NaN</td>\n",
       "      <td>NaN</td>\n",
       "      <td>NaN</td>\n",
       "    </tr>\n",
       "  </tbody>\n",
       "</table>\n",
       "<p>2435 rows × 6 columns</p>\n",
       "</div>"
      ],
      "text/plain": [
       "                 BA    BTC-USD  EURUSD=X      GC=F     MSFT       ^DJI\n",
       "Date                                                                  \n",
       "2014-10-01 124.6700   383.6150    1.2628 1214.6000  45.9000 16804.7109\n",
       "2014-10-02 124.1700   375.0720    1.2624 1214.2000  45.7600 16801.0508\n",
       "2014-10-03 126.3600   359.5120    1.2671 1192.2000  46.0900 17009.6895\n",
       "2014-10-04      NaN   328.8660       NaN       NaN      NaN        NaN\n",
       "2014-10-05      NaN   320.5100       NaN       NaN      NaN        NaN\n",
       "...             ...        ...       ...       ...      ...        ...\n",
       "2021-05-27 250.7000 38436.9688    1.2193 1895.7000 249.3100 34464.6406\n",
       "2021-05-28 247.0200 35697.6055    1.2193 1902.5000 249.6800 34529.4492\n",
       "2021-05-29      NaN 34616.0664       NaN       NaN      NaN        NaN\n",
       "2021-05-30      NaN 35678.1289       NaN       NaN      NaN        NaN\n",
       "2021-05-31      NaN 37332.8555    1.2190       NaN      NaN        NaN\n",
       "\n",
       "[2435 rows x 6 columns]"
      ]
     },
     "execution_count": 37,
     "metadata": {},
     "output_type": "execute_result"
    }
   ],
   "source": [
    "close = pd.read_csv(\"close.csv\", index_col = \"Date\", parse_dates = [\"Date\"])\n",
    "close"
   ]
  },
  {
   "cell_type": "code",
   "execution_count": 74,
   "id": "1ba90610",
   "metadata": {},
   "outputs": [
    {
     "data": {
      "text/html": [
       "<div>\n",
       "<style scoped>\n",
       "    .dataframe tbody tr th:only-of-type {\n",
       "        vertical-align: middle;\n",
       "    }\n",
       "\n",
       "    .dataframe tbody tr th {\n",
       "        vertical-align: top;\n",
       "    }\n",
       "\n",
       "    .dataframe thead th {\n",
       "        text-align: right;\n",
       "    }\n",
       "</style>\n",
       "<table border=\"1\" class=\"dataframe\">\n",
       "  <thead>\n",
       "    <tr style=\"text-align: right;\">\n",
       "      <th></th>\n",
       "      <th>BA</th>\n",
       "    </tr>\n",
       "    <tr>\n",
       "      <th>Date</th>\n",
       "      <th></th>\n",
       "    </tr>\n",
       "  </thead>\n",
       "  <tbody>\n",
       "    <tr>\n",
       "      <th>2014-10-01</th>\n",
       "      <td>124.6700</td>\n",
       "    </tr>\n",
       "    <tr>\n",
       "      <th>2014-10-02</th>\n",
       "      <td>124.1700</td>\n",
       "    </tr>\n",
       "    <tr>\n",
       "      <th>2014-10-03</th>\n",
       "      <td>126.3600</td>\n",
       "    </tr>\n",
       "    <tr>\n",
       "      <th>2014-10-06</th>\n",
       "      <td>126.2600</td>\n",
       "    </tr>\n",
       "    <tr>\n",
       "      <th>2014-10-07</th>\n",
       "      <td>123.3200</td>\n",
       "    </tr>\n",
       "    <tr>\n",
       "      <th>...</th>\n",
       "      <td>...</td>\n",
       "    </tr>\n",
       "    <tr>\n",
       "      <th>2021-05-24</th>\n",
       "      <td>237.4400</td>\n",
       "    </tr>\n",
       "    <tr>\n",
       "      <th>2021-05-25</th>\n",
       "      <td>240.7400</td>\n",
       "    </tr>\n",
       "    <tr>\n",
       "      <th>2021-05-26</th>\n",
       "      <td>241.3700</td>\n",
       "    </tr>\n",
       "    <tr>\n",
       "      <th>2021-05-27</th>\n",
       "      <td>250.7000</td>\n",
       "    </tr>\n",
       "    <tr>\n",
       "      <th>2021-05-28</th>\n",
       "      <td>247.0200</td>\n",
       "    </tr>\n",
       "  </tbody>\n",
       "</table>\n",
       "<p>1677 rows × 1 columns</p>\n",
       "</div>"
      ],
      "text/plain": [
       "                 BA\n",
       "Date               \n",
       "2014-10-01 124.6700\n",
       "2014-10-02 124.1700\n",
       "2014-10-03 126.3600\n",
       "2014-10-06 126.2600\n",
       "2014-10-07 123.3200\n",
       "...             ...\n",
       "2021-05-24 237.4400\n",
       "2021-05-25 240.7400\n",
       "2021-05-26 241.3700\n",
       "2021-05-27 250.7000\n",
       "2021-05-28 247.0200\n",
       "\n",
       "[1677 rows x 1 columns]"
      ]
     },
     "execution_count": 74,
     "metadata": {},
     "output_type": "execute_result"
    }
   ],
   "source": [
    "ba = close[\"BA\"].dropna().to_frame().copy()\n",
    "ba"
   ]
  },
  {
   "cell_type": "code",
   "execution_count": 75,
   "id": "3c1d7698",
   "metadata": {},
   "outputs": [
    {
     "data": {
      "text/html": [
       "<div>\n",
       "<style scoped>\n",
       "    .dataframe tbody tr th:only-of-type {\n",
       "        vertical-align: middle;\n",
       "    }\n",
       "\n",
       "    .dataframe tbody tr th {\n",
       "        vertical-align: top;\n",
       "    }\n",
       "\n",
       "    .dataframe thead th {\n",
       "        text-align: right;\n",
       "    }\n",
       "</style>\n",
       "<table border=\"1\" class=\"dataframe\">\n",
       "  <thead>\n",
       "    <tr style=\"text-align: right;\">\n",
       "      <th></th>\n",
       "      <th>BA</th>\n",
       "      <th>log_ret</th>\n",
       "    </tr>\n",
       "    <tr>\n",
       "      <th>Date</th>\n",
       "      <th></th>\n",
       "      <th></th>\n",
       "    </tr>\n",
       "  </thead>\n",
       "  <tbody>\n",
       "    <tr>\n",
       "      <th>2014-10-01</th>\n",
       "      <td>124.6700</td>\n",
       "      <td>NaN</td>\n",
       "    </tr>\n",
       "    <tr>\n",
       "      <th>2014-10-02</th>\n",
       "      <td>124.1700</td>\n",
       "      <td>-0.0040</td>\n",
       "    </tr>\n",
       "    <tr>\n",
       "      <th>2014-10-03</th>\n",
       "      <td>126.3600</td>\n",
       "      <td>0.0175</td>\n",
       "    </tr>\n",
       "    <tr>\n",
       "      <th>2014-10-06</th>\n",
       "      <td>126.2600</td>\n",
       "      <td>-0.0008</td>\n",
       "    </tr>\n",
       "    <tr>\n",
       "      <th>2014-10-07</th>\n",
       "      <td>123.3200</td>\n",
       "      <td>-0.0236</td>\n",
       "    </tr>\n",
       "    <tr>\n",
       "      <th>...</th>\n",
       "      <td>...</td>\n",
       "      <td>...</td>\n",
       "    </tr>\n",
       "    <tr>\n",
       "      <th>2021-05-24</th>\n",
       "      <td>237.4400</td>\n",
       "      <td>0.0111</td>\n",
       "    </tr>\n",
       "    <tr>\n",
       "      <th>2021-05-25</th>\n",
       "      <td>240.7400</td>\n",
       "      <td>0.0138</td>\n",
       "    </tr>\n",
       "    <tr>\n",
       "      <th>2021-05-26</th>\n",
       "      <td>241.3700</td>\n",
       "      <td>0.0026</td>\n",
       "    </tr>\n",
       "    <tr>\n",
       "      <th>2021-05-27</th>\n",
       "      <td>250.7000</td>\n",
       "      <td>0.0379</td>\n",
       "    </tr>\n",
       "    <tr>\n",
       "      <th>2021-05-28</th>\n",
       "      <td>247.0200</td>\n",
       "      <td>-0.0148</td>\n",
       "    </tr>\n",
       "  </tbody>\n",
       "</table>\n",
       "<p>1677 rows × 2 columns</p>\n",
       "</div>"
      ],
      "text/plain": [
       "                 BA  log_ret\n",
       "Date                        \n",
       "2014-10-01 124.6700      NaN\n",
       "2014-10-02 124.1700  -0.0040\n",
       "2014-10-03 126.3600   0.0175\n",
       "2014-10-06 126.2600  -0.0008\n",
       "2014-10-07 123.3200  -0.0236\n",
       "...             ...      ...\n",
       "2021-05-24 237.4400   0.0111\n",
       "2021-05-25 240.7400   0.0138\n",
       "2021-05-26 241.3700   0.0026\n",
       "2021-05-27 250.7000   0.0379\n",
       "2021-05-28 247.0200  -0.0148\n",
       "\n",
       "[1677 rows x 2 columns]"
      ]
     },
     "execution_count": 75,
     "metadata": {},
     "output_type": "execute_result"
    }
   ],
   "source": [
    "ba[\"log_ret\"] = np.log(ba / ba.shift())\n",
    "ba"
   ]
  },
  {
   "cell_type": "code",
   "execution_count": 76,
   "id": "9072d2ae",
   "metadata": {},
   "outputs": [
    {
     "data": {
      "text/plain": [
       "1.9813909352730894"
      ]
     },
     "execution_count": 76,
     "metadata": {},
     "output_type": "execute_result"
    }
   ],
   "source": [
    "multiple = np.exp(ba.log_ret.sum())\n",
    "multiple"
   ]
  },
  {
   "cell_type": "code",
   "execution_count": 77,
   "id": "0f16a6a9",
   "metadata": {},
   "outputs": [
    {
     "data": {
      "text/plain": [
       "0.1082859807657981"
      ]
     },
     "execution_count": 77,
     "metadata": {},
     "output_type": "execute_result"
    }
   ],
   "source": [
    "cagr = np.exp(ba.log_ret.mean() * 252) - 1\n",
    "cagr"
   ]
  },
  {
   "cell_type": "code",
   "execution_count": 78,
   "id": "9f67ae55",
   "metadata": {},
   "outputs": [
    {
     "data": {
      "text/plain": [
       "Date\n",
       "2014-10-01      NaN\n",
       "2014-10-02   0.9960\n",
       "2014-10-03   1.0136\n",
       "2014-10-06   1.0128\n",
       "2014-10-07   0.9892\n",
       "              ...  \n",
       "2021-05-24   1.9045\n",
       "2021-05-25   1.9310\n",
       "2021-05-26   1.9361\n",
       "2021-05-27   2.0109\n",
       "2021-05-28   1.9814\n",
       "Name: log_ret, Length: 1677, dtype: float64"
      ]
     },
     "execution_count": 78,
     "metadata": {},
     "output_type": "execute_result"
    }
   ],
   "source": [
    "norm = ba.log_ret.cumsum().apply(np.exp)\n",
    "norm"
   ]
  },
  {
   "cell_type": "code",
   "execution_count": null,
   "id": "ad00421e",
   "metadata": {},
   "outputs": [],
   "source": []
  },
  {
   "cell_type": "markdown",
   "id": "0e8e3a5c",
   "metadata": {},
   "source": [
    "__Coding Challenge #5__"
   ]
  },
  {
   "cell_type": "markdown",
   "id": "c8eab159",
   "metadata": {},
   "source": [
    "1. Calculate daily log returns for Boeing.\n",
    "\n",
    "2. Use Boeing´s daily log returns to calculate the annualized mean and annualized std (assume 252 trading days per year).\n",
    "\n",
    "3. Resample to monthly prices and compare the annualized std (monthly) with the annualized std (daily). Any differences?\n",
    "\n",
    "4. Keep working with monthly data and calculate/visualize the rolling 36 months mean return (annualized)."
   ]
  },
  {
   "cell_type": "code",
   "execution_count": 99,
   "id": "d0ca046f",
   "metadata": {},
   "outputs": [],
   "source": [
    "import pandas as pd\n",
    "import numpy as np\n",
    "pd.options.display.float_format = '{:.4f}'.format\n",
    "import matplotlib.pyplot as plt\n",
    "plt.style.use(\"seaborn\")"
   ]
  },
  {
   "cell_type": "code",
   "execution_count": 100,
   "id": "a9e0fcaa",
   "metadata": {},
   "outputs": [
    {
     "data": {
      "text/html": [
       "<div>\n",
       "<style scoped>\n",
       "    .dataframe tbody tr th:only-of-type {\n",
       "        vertical-align: middle;\n",
       "    }\n",
       "\n",
       "    .dataframe tbody tr th {\n",
       "        vertical-align: top;\n",
       "    }\n",
       "\n",
       "    .dataframe thead th {\n",
       "        text-align: right;\n",
       "    }\n",
       "</style>\n",
       "<table border=\"1\" class=\"dataframe\">\n",
       "  <thead>\n",
       "    <tr style=\"text-align: right;\">\n",
       "      <th></th>\n",
       "      <th>BA</th>\n",
       "      <th>BTC-USD</th>\n",
       "      <th>EURUSD=X</th>\n",
       "      <th>GC=F</th>\n",
       "      <th>MSFT</th>\n",
       "      <th>^DJI</th>\n",
       "    </tr>\n",
       "    <tr>\n",
       "      <th>Date</th>\n",
       "      <th></th>\n",
       "      <th></th>\n",
       "      <th></th>\n",
       "      <th></th>\n",
       "      <th></th>\n",
       "      <th></th>\n",
       "    </tr>\n",
       "  </thead>\n",
       "  <tbody>\n",
       "    <tr>\n",
       "      <th>2014-10-01</th>\n",
       "      <td>124.6700</td>\n",
       "      <td>383.6150</td>\n",
       "      <td>1.2628</td>\n",
       "      <td>1214.6000</td>\n",
       "      <td>45.9000</td>\n",
       "      <td>16804.7109</td>\n",
       "    </tr>\n",
       "    <tr>\n",
       "      <th>2014-10-02</th>\n",
       "      <td>124.1700</td>\n",
       "      <td>375.0720</td>\n",
       "      <td>1.2624</td>\n",
       "      <td>1214.2000</td>\n",
       "      <td>45.7600</td>\n",
       "      <td>16801.0508</td>\n",
       "    </tr>\n",
       "    <tr>\n",
       "      <th>2014-10-03</th>\n",
       "      <td>126.3600</td>\n",
       "      <td>359.5120</td>\n",
       "      <td>1.2671</td>\n",
       "      <td>1192.2000</td>\n",
       "      <td>46.0900</td>\n",
       "      <td>17009.6895</td>\n",
       "    </tr>\n",
       "    <tr>\n",
       "      <th>2014-10-04</th>\n",
       "      <td>NaN</td>\n",
       "      <td>328.8660</td>\n",
       "      <td>NaN</td>\n",
       "      <td>NaN</td>\n",
       "      <td>NaN</td>\n",
       "      <td>NaN</td>\n",
       "    </tr>\n",
       "    <tr>\n",
       "      <th>2014-10-05</th>\n",
       "      <td>NaN</td>\n",
       "      <td>320.5100</td>\n",
       "      <td>NaN</td>\n",
       "      <td>NaN</td>\n",
       "      <td>NaN</td>\n",
       "      <td>NaN</td>\n",
       "    </tr>\n",
       "    <tr>\n",
       "      <th>...</th>\n",
       "      <td>...</td>\n",
       "      <td>...</td>\n",
       "      <td>...</td>\n",
       "      <td>...</td>\n",
       "      <td>...</td>\n",
       "      <td>...</td>\n",
       "    </tr>\n",
       "    <tr>\n",
       "      <th>2021-05-27</th>\n",
       "      <td>250.7000</td>\n",
       "      <td>38436.9688</td>\n",
       "      <td>1.2193</td>\n",
       "      <td>1895.7000</td>\n",
       "      <td>249.3100</td>\n",
       "      <td>34464.6406</td>\n",
       "    </tr>\n",
       "    <tr>\n",
       "      <th>2021-05-28</th>\n",
       "      <td>247.0200</td>\n",
       "      <td>35697.6055</td>\n",
       "      <td>1.2193</td>\n",
       "      <td>1902.5000</td>\n",
       "      <td>249.6800</td>\n",
       "      <td>34529.4492</td>\n",
       "    </tr>\n",
       "    <tr>\n",
       "      <th>2021-05-29</th>\n",
       "      <td>NaN</td>\n",
       "      <td>34616.0664</td>\n",
       "      <td>NaN</td>\n",
       "      <td>NaN</td>\n",
       "      <td>NaN</td>\n",
       "      <td>NaN</td>\n",
       "    </tr>\n",
       "    <tr>\n",
       "      <th>2021-05-30</th>\n",
       "      <td>NaN</td>\n",
       "      <td>35678.1289</td>\n",
       "      <td>NaN</td>\n",
       "      <td>NaN</td>\n",
       "      <td>NaN</td>\n",
       "      <td>NaN</td>\n",
       "    </tr>\n",
       "    <tr>\n",
       "      <th>2021-05-31</th>\n",
       "      <td>NaN</td>\n",
       "      <td>37332.8555</td>\n",
       "      <td>1.2190</td>\n",
       "      <td>NaN</td>\n",
       "      <td>NaN</td>\n",
       "      <td>NaN</td>\n",
       "    </tr>\n",
       "  </tbody>\n",
       "</table>\n",
       "<p>2435 rows × 6 columns</p>\n",
       "</div>"
      ],
      "text/plain": [
       "                 BA    BTC-USD  EURUSD=X      GC=F     MSFT       ^DJI\n",
       "Date                                                                  \n",
       "2014-10-01 124.6700   383.6150    1.2628 1214.6000  45.9000 16804.7109\n",
       "2014-10-02 124.1700   375.0720    1.2624 1214.2000  45.7600 16801.0508\n",
       "2014-10-03 126.3600   359.5120    1.2671 1192.2000  46.0900 17009.6895\n",
       "2014-10-04      NaN   328.8660       NaN       NaN      NaN        NaN\n",
       "2014-10-05      NaN   320.5100       NaN       NaN      NaN        NaN\n",
       "...             ...        ...       ...       ...      ...        ...\n",
       "2021-05-27 250.7000 38436.9688    1.2193 1895.7000 249.3100 34464.6406\n",
       "2021-05-28 247.0200 35697.6055    1.2193 1902.5000 249.6800 34529.4492\n",
       "2021-05-29      NaN 34616.0664       NaN       NaN      NaN        NaN\n",
       "2021-05-30      NaN 35678.1289       NaN       NaN      NaN        NaN\n",
       "2021-05-31      NaN 37332.8555    1.2190       NaN      NaN        NaN\n",
       "\n",
       "[2435 rows x 6 columns]"
      ]
     },
     "execution_count": 100,
     "metadata": {},
     "output_type": "execute_result"
    }
   ],
   "source": [
    "close = pd.read_csv(\"close.csv\", index_col = \"Date\", parse_dates = [\"Date\"])\n",
    "close"
   ]
  },
  {
   "cell_type": "code",
   "execution_count": 101,
   "id": "3eea7931",
   "metadata": {},
   "outputs": [
    {
     "data": {
      "text/html": [
       "<div>\n",
       "<style scoped>\n",
       "    .dataframe tbody tr th:only-of-type {\n",
       "        vertical-align: middle;\n",
       "    }\n",
       "\n",
       "    .dataframe tbody tr th {\n",
       "        vertical-align: top;\n",
       "    }\n",
       "\n",
       "    .dataframe thead th {\n",
       "        text-align: right;\n",
       "    }\n",
       "</style>\n",
       "<table border=\"1\" class=\"dataframe\">\n",
       "  <thead>\n",
       "    <tr style=\"text-align: right;\">\n",
       "      <th></th>\n",
       "      <th>BA</th>\n",
       "    </tr>\n",
       "    <tr>\n",
       "      <th>Date</th>\n",
       "      <th></th>\n",
       "    </tr>\n",
       "  </thead>\n",
       "  <tbody>\n",
       "    <tr>\n",
       "      <th>2014-10-01</th>\n",
       "      <td>124.6700</td>\n",
       "    </tr>\n",
       "    <tr>\n",
       "      <th>2014-10-02</th>\n",
       "      <td>124.1700</td>\n",
       "    </tr>\n",
       "    <tr>\n",
       "      <th>2014-10-03</th>\n",
       "      <td>126.3600</td>\n",
       "    </tr>\n",
       "    <tr>\n",
       "      <th>2014-10-06</th>\n",
       "      <td>126.2600</td>\n",
       "    </tr>\n",
       "    <tr>\n",
       "      <th>2014-10-07</th>\n",
       "      <td>123.3200</td>\n",
       "    </tr>\n",
       "    <tr>\n",
       "      <th>...</th>\n",
       "      <td>...</td>\n",
       "    </tr>\n",
       "    <tr>\n",
       "      <th>2021-05-24</th>\n",
       "      <td>237.4400</td>\n",
       "    </tr>\n",
       "    <tr>\n",
       "      <th>2021-05-25</th>\n",
       "      <td>240.7400</td>\n",
       "    </tr>\n",
       "    <tr>\n",
       "      <th>2021-05-26</th>\n",
       "      <td>241.3700</td>\n",
       "    </tr>\n",
       "    <tr>\n",
       "      <th>2021-05-27</th>\n",
       "      <td>250.7000</td>\n",
       "    </tr>\n",
       "    <tr>\n",
       "      <th>2021-05-28</th>\n",
       "      <td>247.0200</td>\n",
       "    </tr>\n",
       "  </tbody>\n",
       "</table>\n",
       "<p>1677 rows × 1 columns</p>\n",
       "</div>"
      ],
      "text/plain": [
       "                 BA\n",
       "Date               \n",
       "2014-10-01 124.6700\n",
       "2014-10-02 124.1700\n",
       "2014-10-03 126.3600\n",
       "2014-10-06 126.2600\n",
       "2014-10-07 123.3200\n",
       "...             ...\n",
       "2021-05-24 237.4400\n",
       "2021-05-25 240.7400\n",
       "2021-05-26 241.3700\n",
       "2021-05-27 250.7000\n",
       "2021-05-28 247.0200\n",
       "\n",
       "[1677 rows x 1 columns]"
      ]
     },
     "execution_count": 101,
     "metadata": {},
     "output_type": "execute_result"
    }
   ],
   "source": [
    "ba = close[\"BA\"].dropna().to_frame().copy()\n",
    "ba"
   ]
  },
  {
   "cell_type": "code",
   "execution_count": 102,
   "id": "e5f2743c",
   "metadata": {},
   "outputs": [
    {
     "data": {
      "text/html": [
       "<div>\n",
       "<style scoped>\n",
       "    .dataframe tbody tr th:only-of-type {\n",
       "        vertical-align: middle;\n",
       "    }\n",
       "\n",
       "    .dataframe tbody tr th {\n",
       "        vertical-align: top;\n",
       "    }\n",
       "\n",
       "    .dataframe thead th {\n",
       "        text-align: right;\n",
       "    }\n",
       "</style>\n",
       "<table border=\"1\" class=\"dataframe\">\n",
       "  <thead>\n",
       "    <tr style=\"text-align: right;\">\n",
       "      <th></th>\n",
       "      <th>BA</th>\n",
       "      <th>log_ret</th>\n",
       "    </tr>\n",
       "    <tr>\n",
       "      <th>Date</th>\n",
       "      <th></th>\n",
       "      <th></th>\n",
       "    </tr>\n",
       "  </thead>\n",
       "  <tbody>\n",
       "    <tr>\n",
       "      <th>2014-10-01</th>\n",
       "      <td>124.6700</td>\n",
       "      <td>NaN</td>\n",
       "    </tr>\n",
       "    <tr>\n",
       "      <th>2014-10-02</th>\n",
       "      <td>124.1700</td>\n",
       "      <td>-0.0040</td>\n",
       "    </tr>\n",
       "    <tr>\n",
       "      <th>2014-10-03</th>\n",
       "      <td>126.3600</td>\n",
       "      <td>0.0175</td>\n",
       "    </tr>\n",
       "    <tr>\n",
       "      <th>2014-10-06</th>\n",
       "      <td>126.2600</td>\n",
       "      <td>-0.0008</td>\n",
       "    </tr>\n",
       "    <tr>\n",
       "      <th>2014-10-07</th>\n",
       "      <td>123.3200</td>\n",
       "      <td>-0.0236</td>\n",
       "    </tr>\n",
       "    <tr>\n",
       "      <th>...</th>\n",
       "      <td>...</td>\n",
       "      <td>...</td>\n",
       "    </tr>\n",
       "    <tr>\n",
       "      <th>2021-05-24</th>\n",
       "      <td>237.4400</td>\n",
       "      <td>0.0111</td>\n",
       "    </tr>\n",
       "    <tr>\n",
       "      <th>2021-05-25</th>\n",
       "      <td>240.7400</td>\n",
       "      <td>0.0138</td>\n",
       "    </tr>\n",
       "    <tr>\n",
       "      <th>2021-05-26</th>\n",
       "      <td>241.3700</td>\n",
       "      <td>0.0026</td>\n",
       "    </tr>\n",
       "    <tr>\n",
       "      <th>2021-05-27</th>\n",
       "      <td>250.7000</td>\n",
       "      <td>0.0379</td>\n",
       "    </tr>\n",
       "    <tr>\n",
       "      <th>2021-05-28</th>\n",
       "      <td>247.0200</td>\n",
       "      <td>-0.0148</td>\n",
       "    </tr>\n",
       "  </tbody>\n",
       "</table>\n",
       "<p>1677 rows × 2 columns</p>\n",
       "</div>"
      ],
      "text/plain": [
       "                 BA  log_ret\n",
       "Date                        \n",
       "2014-10-01 124.6700      NaN\n",
       "2014-10-02 124.1700  -0.0040\n",
       "2014-10-03 126.3600   0.0175\n",
       "2014-10-06 126.2600  -0.0008\n",
       "2014-10-07 123.3200  -0.0236\n",
       "...             ...      ...\n",
       "2021-05-24 237.4400   0.0111\n",
       "2021-05-25 240.7400   0.0138\n",
       "2021-05-26 241.3700   0.0026\n",
       "2021-05-27 250.7000   0.0379\n",
       "2021-05-28 247.0200  -0.0148\n",
       "\n",
       "[1677 rows x 2 columns]"
      ]
     },
     "execution_count": 102,
     "metadata": {},
     "output_type": "execute_result"
    }
   ],
   "source": [
    "ba[\"log_ret\"] = np.log(ba / ba.shift())\n",
    "ba"
   ]
  },
  {
   "cell_type": "code",
   "execution_count": 126,
   "id": "07efd8c6",
   "metadata": {},
   "outputs": [
    {
     "data": {
      "text/plain": [
       "0.102814660405922"
      ]
     },
     "execution_count": 126,
     "metadata": {},
     "output_type": "execute_result"
    }
   ],
   "source": [
    "ann_mu = ba.log_ret.mean() * 252 \n",
    "ann_mu"
   ]
  },
  {
   "cell_type": "code",
   "execution_count": 127,
   "id": "2f4e4ead",
   "metadata": {},
   "outputs": [
    {
     "data": {
      "text/plain": [
       "0.4181796243706362"
      ]
     },
     "execution_count": 127,
     "metadata": {},
     "output_type": "execute_result"
    }
   ],
   "source": [
    "ann_std = ba.log_ret.std() * np.sqrt(252) \n",
    "ann_std\n",
    "#cc4_raw.LR.std() * np.sqrt(252)\n"
   ]
  },
  {
   "cell_type": "code",
   "execution_count": 128,
   "id": "6d355182",
   "metadata": {},
   "outputs": [
    {
     "data": {
      "text/html": [
       "<div>\n",
       "<style scoped>\n",
       "    .dataframe tbody tr th:only-of-type {\n",
       "        vertical-align: middle;\n",
       "    }\n",
       "\n",
       "    .dataframe tbody tr th {\n",
       "        vertical-align: top;\n",
       "    }\n",
       "\n",
       "    .dataframe thead th {\n",
       "        text-align: right;\n",
       "    }\n",
       "</style>\n",
       "<table border=\"1\" class=\"dataframe\">\n",
       "  <thead>\n",
       "    <tr style=\"text-align: right;\">\n",
       "      <th></th>\n",
       "      <th>BA</th>\n",
       "    </tr>\n",
       "    <tr>\n",
       "      <th>Date</th>\n",
       "      <th></th>\n",
       "    </tr>\n",
       "  </thead>\n",
       "  <tbody>\n",
       "    <tr>\n",
       "      <th>2014-10-31</th>\n",
       "      <td>124.9100</td>\n",
       "    </tr>\n",
       "    <tr>\n",
       "      <th>2014-11-30</th>\n",
       "      <td>134.3600</td>\n",
       "    </tr>\n",
       "    <tr>\n",
       "      <th>2014-12-31</th>\n",
       "      <td>129.9800</td>\n",
       "    </tr>\n",
       "    <tr>\n",
       "      <th>2015-01-31</th>\n",
       "      <td>145.3700</td>\n",
       "    </tr>\n",
       "    <tr>\n",
       "      <th>2015-02-28</th>\n",
       "      <td>150.8500</td>\n",
       "    </tr>\n",
       "    <tr>\n",
       "      <th>...</th>\n",
       "      <td>...</td>\n",
       "    </tr>\n",
       "    <tr>\n",
       "      <th>2021-01-31</th>\n",
       "      <td>194.1900</td>\n",
       "    </tr>\n",
       "    <tr>\n",
       "      <th>2021-02-28</th>\n",
       "      <td>212.0100</td>\n",
       "    </tr>\n",
       "    <tr>\n",
       "      <th>2021-03-31</th>\n",
       "      <td>254.7200</td>\n",
       "    </tr>\n",
       "    <tr>\n",
       "      <th>2021-04-30</th>\n",
       "      <td>234.3100</td>\n",
       "    </tr>\n",
       "    <tr>\n",
       "      <th>2021-05-31</th>\n",
       "      <td>247.0200</td>\n",
       "    </tr>\n",
       "  </tbody>\n",
       "</table>\n",
       "<p>80 rows × 1 columns</p>\n",
       "</div>"
      ],
      "text/plain": [
       "                 BA\n",
       "Date               \n",
       "2014-10-31 124.9100\n",
       "2014-11-30 134.3600\n",
       "2014-12-31 129.9800\n",
       "2015-01-31 145.3700\n",
       "2015-02-28 150.8500\n",
       "...             ...\n",
       "2021-01-31 194.1900\n",
       "2021-02-28 212.0100\n",
       "2021-03-31 254.7200\n",
       "2021-04-30 234.3100\n",
       "2021-05-31 247.0200\n",
       "\n",
       "[80 rows x 1 columns]"
      ]
     },
     "execution_count": 128,
     "metadata": {},
     "output_type": "execute_result"
    }
   ],
   "source": [
    "monthly = ba.BA.resample(\"M\").last().to_frame()\n",
    "monthly"
   ]
  },
  {
   "cell_type": "code",
   "execution_count": 129,
   "id": "1154e261",
   "metadata": {},
   "outputs": [
    {
     "data": {
      "text/html": [
       "<div>\n",
       "<style scoped>\n",
       "    .dataframe tbody tr th:only-of-type {\n",
       "        vertical-align: middle;\n",
       "    }\n",
       "\n",
       "    .dataframe tbody tr th {\n",
       "        vertical-align: top;\n",
       "    }\n",
       "\n",
       "    .dataframe thead th {\n",
       "        text-align: right;\n",
       "    }\n",
       "</style>\n",
       "<table border=\"1\" class=\"dataframe\">\n",
       "  <thead>\n",
       "    <tr style=\"text-align: right;\">\n",
       "      <th></th>\n",
       "      <th>BA</th>\n",
       "      <th>Returns</th>\n",
       "    </tr>\n",
       "    <tr>\n",
       "      <th>Date</th>\n",
       "      <th></th>\n",
       "      <th></th>\n",
       "    </tr>\n",
       "  </thead>\n",
       "  <tbody>\n",
       "    <tr>\n",
       "      <th>2014-10-31</th>\n",
       "      <td>124.9100</td>\n",
       "      <td>NaN</td>\n",
       "    </tr>\n",
       "    <tr>\n",
       "      <th>2014-11-30</th>\n",
       "      <td>134.3600</td>\n",
       "      <td>0.0729</td>\n",
       "    </tr>\n",
       "    <tr>\n",
       "      <th>2014-12-31</th>\n",
       "      <td>129.9800</td>\n",
       "      <td>-0.0331</td>\n",
       "    </tr>\n",
       "    <tr>\n",
       "      <th>2015-01-31</th>\n",
       "      <td>145.3700</td>\n",
       "      <td>0.1119</td>\n",
       "    </tr>\n",
       "    <tr>\n",
       "      <th>2015-02-28</th>\n",
       "      <td>150.8500</td>\n",
       "      <td>0.0370</td>\n",
       "    </tr>\n",
       "    <tr>\n",
       "      <th>...</th>\n",
       "      <td>...</td>\n",
       "      <td>...</td>\n",
       "    </tr>\n",
       "    <tr>\n",
       "      <th>2021-01-31</th>\n",
       "      <td>194.1900</td>\n",
       "      <td>-0.0974</td>\n",
       "    </tr>\n",
       "    <tr>\n",
       "      <th>2021-02-28</th>\n",
       "      <td>212.0100</td>\n",
       "      <td>0.0878</td>\n",
       "    </tr>\n",
       "    <tr>\n",
       "      <th>2021-03-31</th>\n",
       "      <td>254.7200</td>\n",
       "      <td>0.1835</td>\n",
       "    </tr>\n",
       "    <tr>\n",
       "      <th>2021-04-30</th>\n",
       "      <td>234.3100</td>\n",
       "      <td>-0.0835</td>\n",
       "    </tr>\n",
       "    <tr>\n",
       "      <th>2021-05-31</th>\n",
       "      <td>247.0200</td>\n",
       "      <td>0.0528</td>\n",
       "    </tr>\n",
       "  </tbody>\n",
       "</table>\n",
       "<p>80 rows × 2 columns</p>\n",
       "</div>"
      ],
      "text/plain": [
       "                 BA  Returns\n",
       "Date                        \n",
       "2014-10-31 124.9100      NaN\n",
       "2014-11-30 134.3600   0.0729\n",
       "2014-12-31 129.9800  -0.0331\n",
       "2015-01-31 145.3700   0.1119\n",
       "2015-02-28 150.8500   0.0370\n",
       "...             ...      ...\n",
       "2021-01-31 194.1900  -0.0974\n",
       "2021-02-28 212.0100   0.0878\n",
       "2021-03-31 254.7200   0.1835\n",
       "2021-04-30 234.3100  -0.0835\n",
       "2021-05-31 247.0200   0.0528\n",
       "\n",
       "[80 rows x 2 columns]"
      ]
     },
     "execution_count": 129,
     "metadata": {},
     "output_type": "execute_result"
    }
   ],
   "source": [
    "monthly[\"Returns\"] = np.log(monthly / monthly.shift())\n",
    "monthly"
   ]
  },
  {
   "cell_type": "code",
   "execution_count": 133,
   "id": "4f6807e6",
   "metadata": {},
   "outputs": [
    {
     "data": {
      "text/plain": [
       "0.4071944262194019"
      ]
     },
     "execution_count": 133,
     "metadata": {},
     "output_type": "execute_result"
    }
   ],
   "source": [
    "ann_std = monthly.Returns.std() * np.sqrt(12) \n",
    "ann_std"
   ]
  },
  {
   "cell_type": "markdown",
   "id": "507ae019",
   "metadata": {},
   "source": [
    "-> Risk (monthly) slighly lower than Risk (daily) "
   ]
  },
  {
   "cell_type": "code",
   "execution_count": null,
   "id": "4bec560c",
   "metadata": {},
   "outputs": [],
   "source": [
    "window = 36"
   ]
  },
  {
   "cell_type": "code",
   "execution_count": null,
   "id": "347fc6f6",
   "metadata": {},
   "outputs": [],
   "source": [
    "roll_mean = monthly.Returns.rolling(window = window).mean() * 12\n",
    "roll_mean"
   ]
  },
  {
   "cell_type": "code",
   "execution_count": null,
   "id": "c851403f",
   "metadata": {},
   "outputs": [],
   "source": [
    "roll_mean.plot(figsize = (12, 8))\n",
    "plt.show()"
   ]
  },
  {
   "cell_type": "code",
   "execution_count": null,
   "id": "e32added",
   "metadata": {},
   "outputs": [],
   "source": []
  },
  {
   "cell_type": "markdown",
   "id": "fb4c6361",
   "metadata": {},
   "source": [
    "__Coding Challenge #6__"
   ]
  },
  {
   "cell_type": "markdown",
   "id": "7a86aeb2",
   "metadata": {},
   "source": [
    "1. Calculate daily log returns for Boeing.\n",
    "\n",
    "2. Calculate the annualized mean and annualized std (assume 252 trading days per year) for a short position in Boeing (ignore Trading and Borrowing Costs)."
   ]
  },
  {
   "cell_type": "code",
   "execution_count": 313,
   "id": "5ea76e5e",
   "metadata": {},
   "outputs": [],
   "source": [
    "import pandas as pd\n",
    "import numpy as np\n",
    "pd.options.display.float_format = '{:.4f}'.format\n",
    "import matplotlib.pyplot as plt\n",
    "plt.style.use(\"seaborn\")"
   ]
  },
  {
   "cell_type": "code",
   "execution_count": 314,
   "id": "9285b7fe",
   "metadata": {},
   "outputs": [
    {
     "data": {
      "text/html": [
       "<div>\n",
       "<style scoped>\n",
       "    .dataframe tbody tr th:only-of-type {\n",
       "        vertical-align: middle;\n",
       "    }\n",
       "\n",
       "    .dataframe tbody tr th {\n",
       "        vertical-align: top;\n",
       "    }\n",
       "\n",
       "    .dataframe thead th {\n",
       "        text-align: right;\n",
       "    }\n",
       "</style>\n",
       "<table border=\"1\" class=\"dataframe\">\n",
       "  <thead>\n",
       "    <tr style=\"text-align: right;\">\n",
       "      <th></th>\n",
       "      <th>BA</th>\n",
       "      <th>BTC-USD</th>\n",
       "      <th>EURUSD=X</th>\n",
       "      <th>GC=F</th>\n",
       "      <th>MSFT</th>\n",
       "      <th>^DJI</th>\n",
       "    </tr>\n",
       "    <tr>\n",
       "      <th>Date</th>\n",
       "      <th></th>\n",
       "      <th></th>\n",
       "      <th></th>\n",
       "      <th></th>\n",
       "      <th></th>\n",
       "      <th></th>\n",
       "    </tr>\n",
       "  </thead>\n",
       "  <tbody>\n",
       "    <tr>\n",
       "      <th>2014-10-01</th>\n",
       "      <td>124.6700</td>\n",
       "      <td>383.6150</td>\n",
       "      <td>1.2628</td>\n",
       "      <td>1214.6000</td>\n",
       "      <td>45.9000</td>\n",
       "      <td>16804.7109</td>\n",
       "    </tr>\n",
       "    <tr>\n",
       "      <th>2014-10-02</th>\n",
       "      <td>124.1700</td>\n",
       "      <td>375.0720</td>\n",
       "      <td>1.2624</td>\n",
       "      <td>1214.2000</td>\n",
       "      <td>45.7600</td>\n",
       "      <td>16801.0508</td>\n",
       "    </tr>\n",
       "    <tr>\n",
       "      <th>2014-10-03</th>\n",
       "      <td>126.3600</td>\n",
       "      <td>359.5120</td>\n",
       "      <td>1.2671</td>\n",
       "      <td>1192.2000</td>\n",
       "      <td>46.0900</td>\n",
       "      <td>17009.6895</td>\n",
       "    </tr>\n",
       "    <tr>\n",
       "      <th>2014-10-04</th>\n",
       "      <td>NaN</td>\n",
       "      <td>328.8660</td>\n",
       "      <td>NaN</td>\n",
       "      <td>NaN</td>\n",
       "      <td>NaN</td>\n",
       "      <td>NaN</td>\n",
       "    </tr>\n",
       "    <tr>\n",
       "      <th>2014-10-05</th>\n",
       "      <td>NaN</td>\n",
       "      <td>320.5100</td>\n",
       "      <td>NaN</td>\n",
       "      <td>NaN</td>\n",
       "      <td>NaN</td>\n",
       "      <td>NaN</td>\n",
       "    </tr>\n",
       "    <tr>\n",
       "      <th>...</th>\n",
       "      <td>...</td>\n",
       "      <td>...</td>\n",
       "      <td>...</td>\n",
       "      <td>...</td>\n",
       "      <td>...</td>\n",
       "      <td>...</td>\n",
       "    </tr>\n",
       "    <tr>\n",
       "      <th>2021-05-27</th>\n",
       "      <td>250.7000</td>\n",
       "      <td>38436.9688</td>\n",
       "      <td>1.2193</td>\n",
       "      <td>1895.7000</td>\n",
       "      <td>249.3100</td>\n",
       "      <td>34464.6406</td>\n",
       "    </tr>\n",
       "    <tr>\n",
       "      <th>2021-05-28</th>\n",
       "      <td>247.0200</td>\n",
       "      <td>35697.6055</td>\n",
       "      <td>1.2193</td>\n",
       "      <td>1902.5000</td>\n",
       "      <td>249.6800</td>\n",
       "      <td>34529.4492</td>\n",
       "    </tr>\n",
       "    <tr>\n",
       "      <th>2021-05-29</th>\n",
       "      <td>NaN</td>\n",
       "      <td>34616.0664</td>\n",
       "      <td>NaN</td>\n",
       "      <td>NaN</td>\n",
       "      <td>NaN</td>\n",
       "      <td>NaN</td>\n",
       "    </tr>\n",
       "    <tr>\n",
       "      <th>2021-05-30</th>\n",
       "      <td>NaN</td>\n",
       "      <td>35678.1289</td>\n",
       "      <td>NaN</td>\n",
       "      <td>NaN</td>\n",
       "      <td>NaN</td>\n",
       "      <td>NaN</td>\n",
       "    </tr>\n",
       "    <tr>\n",
       "      <th>2021-05-31</th>\n",
       "      <td>NaN</td>\n",
       "      <td>37332.8555</td>\n",
       "      <td>1.2190</td>\n",
       "      <td>NaN</td>\n",
       "      <td>NaN</td>\n",
       "      <td>NaN</td>\n",
       "    </tr>\n",
       "  </tbody>\n",
       "</table>\n",
       "<p>2435 rows × 6 columns</p>\n",
       "</div>"
      ],
      "text/plain": [
       "                 BA    BTC-USD  EURUSD=X      GC=F     MSFT       ^DJI\n",
       "Date                                                                  \n",
       "2014-10-01 124.6700   383.6150    1.2628 1214.6000  45.9000 16804.7109\n",
       "2014-10-02 124.1700   375.0720    1.2624 1214.2000  45.7600 16801.0508\n",
       "2014-10-03 126.3600   359.5120    1.2671 1192.2000  46.0900 17009.6895\n",
       "2014-10-04      NaN   328.8660       NaN       NaN      NaN        NaN\n",
       "2014-10-05      NaN   320.5100       NaN       NaN      NaN        NaN\n",
       "...             ...        ...       ...       ...      ...        ...\n",
       "2021-05-27 250.7000 38436.9688    1.2193 1895.7000 249.3100 34464.6406\n",
       "2021-05-28 247.0200 35697.6055    1.2193 1902.5000 249.6800 34529.4492\n",
       "2021-05-29      NaN 34616.0664       NaN       NaN      NaN        NaN\n",
       "2021-05-30      NaN 35678.1289       NaN       NaN      NaN        NaN\n",
       "2021-05-31      NaN 37332.8555    1.2190       NaN      NaN        NaN\n",
       "\n",
       "[2435 rows x 6 columns]"
      ]
     },
     "execution_count": 314,
     "metadata": {},
     "output_type": "execute_result"
    }
   ],
   "source": [
    "close = pd.read_csv(\"close.csv\", index_col = \"Date\", parse_dates = [\"Date\"])\n",
    "close"
   ]
  },
  {
   "cell_type": "code",
   "execution_count": 315,
   "id": "a4db4245",
   "metadata": {},
   "outputs": [
    {
     "data": {
      "text/html": [
       "<div>\n",
       "<style scoped>\n",
       "    .dataframe tbody tr th:only-of-type {\n",
       "        vertical-align: middle;\n",
       "    }\n",
       "\n",
       "    .dataframe tbody tr th {\n",
       "        vertical-align: top;\n",
       "    }\n",
       "\n",
       "    .dataframe thead th {\n",
       "        text-align: right;\n",
       "    }\n",
       "</style>\n",
       "<table border=\"1\" class=\"dataframe\">\n",
       "  <thead>\n",
       "    <tr style=\"text-align: right;\">\n",
       "      <th></th>\n",
       "      <th>BA</th>\n",
       "    </tr>\n",
       "    <tr>\n",
       "      <th>Date</th>\n",
       "      <th></th>\n",
       "    </tr>\n",
       "  </thead>\n",
       "  <tbody>\n",
       "    <tr>\n",
       "      <th>2014-10-01</th>\n",
       "      <td>124.6700</td>\n",
       "    </tr>\n",
       "    <tr>\n",
       "      <th>2014-10-02</th>\n",
       "      <td>124.1700</td>\n",
       "    </tr>\n",
       "    <tr>\n",
       "      <th>2014-10-03</th>\n",
       "      <td>126.3600</td>\n",
       "    </tr>\n",
       "    <tr>\n",
       "      <th>2014-10-06</th>\n",
       "      <td>126.2600</td>\n",
       "    </tr>\n",
       "    <tr>\n",
       "      <th>2014-10-07</th>\n",
       "      <td>123.3200</td>\n",
       "    </tr>\n",
       "    <tr>\n",
       "      <th>...</th>\n",
       "      <td>...</td>\n",
       "    </tr>\n",
       "    <tr>\n",
       "      <th>2021-05-24</th>\n",
       "      <td>237.4400</td>\n",
       "    </tr>\n",
       "    <tr>\n",
       "      <th>2021-05-25</th>\n",
       "      <td>240.7400</td>\n",
       "    </tr>\n",
       "    <tr>\n",
       "      <th>2021-05-26</th>\n",
       "      <td>241.3700</td>\n",
       "    </tr>\n",
       "    <tr>\n",
       "      <th>2021-05-27</th>\n",
       "      <td>250.7000</td>\n",
       "    </tr>\n",
       "    <tr>\n",
       "      <th>2021-05-28</th>\n",
       "      <td>247.0200</td>\n",
       "    </tr>\n",
       "  </tbody>\n",
       "</table>\n",
       "<p>1677 rows × 1 columns</p>\n",
       "</div>"
      ],
      "text/plain": [
       "                 BA\n",
       "Date               \n",
       "2014-10-01 124.6700\n",
       "2014-10-02 124.1700\n",
       "2014-10-03 126.3600\n",
       "2014-10-06 126.2600\n",
       "2014-10-07 123.3200\n",
       "...             ...\n",
       "2021-05-24 237.4400\n",
       "2021-05-25 240.7400\n",
       "2021-05-26 241.3700\n",
       "2021-05-27 250.7000\n",
       "2021-05-28 247.0200\n",
       "\n",
       "[1677 rows x 1 columns]"
      ]
     },
     "execution_count": 315,
     "metadata": {},
     "output_type": "execute_result"
    }
   ],
   "source": [
    "ba = close[\"BA\"].dropna().to_frame().copy()\n",
    "ba"
   ]
  },
  {
   "cell_type": "code",
   "execution_count": 316,
   "id": "3831f24b",
   "metadata": {},
   "outputs": [
    {
     "data": {
      "text/html": [
       "<div>\n",
       "<style scoped>\n",
       "    .dataframe tbody tr th:only-of-type {\n",
       "        vertical-align: middle;\n",
       "    }\n",
       "\n",
       "    .dataframe tbody tr th {\n",
       "        vertical-align: top;\n",
       "    }\n",
       "\n",
       "    .dataframe thead th {\n",
       "        text-align: right;\n",
       "    }\n",
       "</style>\n",
       "<table border=\"1\" class=\"dataframe\">\n",
       "  <thead>\n",
       "    <tr style=\"text-align: right;\">\n",
       "      <th></th>\n",
       "      <th>BA</th>\n",
       "      <th>log_ret</th>\n",
       "    </tr>\n",
       "    <tr>\n",
       "      <th>Date</th>\n",
       "      <th></th>\n",
       "      <th></th>\n",
       "    </tr>\n",
       "  </thead>\n",
       "  <tbody>\n",
       "    <tr>\n",
       "      <th>2014-10-01</th>\n",
       "      <td>124.6700</td>\n",
       "      <td>NaN</td>\n",
       "    </tr>\n",
       "    <tr>\n",
       "      <th>2014-10-02</th>\n",
       "      <td>124.1700</td>\n",
       "      <td>-0.0040</td>\n",
       "    </tr>\n",
       "    <tr>\n",
       "      <th>2014-10-03</th>\n",
       "      <td>126.3600</td>\n",
       "      <td>0.0175</td>\n",
       "    </tr>\n",
       "    <tr>\n",
       "      <th>2014-10-06</th>\n",
       "      <td>126.2600</td>\n",
       "      <td>-0.0008</td>\n",
       "    </tr>\n",
       "    <tr>\n",
       "      <th>2014-10-07</th>\n",
       "      <td>123.3200</td>\n",
       "      <td>-0.0236</td>\n",
       "    </tr>\n",
       "    <tr>\n",
       "      <th>...</th>\n",
       "      <td>...</td>\n",
       "      <td>...</td>\n",
       "    </tr>\n",
       "    <tr>\n",
       "      <th>2021-05-24</th>\n",
       "      <td>237.4400</td>\n",
       "      <td>0.0111</td>\n",
       "    </tr>\n",
       "    <tr>\n",
       "      <th>2021-05-25</th>\n",
       "      <td>240.7400</td>\n",
       "      <td>0.0138</td>\n",
       "    </tr>\n",
       "    <tr>\n",
       "      <th>2021-05-26</th>\n",
       "      <td>241.3700</td>\n",
       "      <td>0.0026</td>\n",
       "    </tr>\n",
       "    <tr>\n",
       "      <th>2021-05-27</th>\n",
       "      <td>250.7000</td>\n",
       "      <td>0.0379</td>\n",
       "    </tr>\n",
       "    <tr>\n",
       "      <th>2021-05-28</th>\n",
       "      <td>247.0200</td>\n",
       "      <td>-0.0148</td>\n",
       "    </tr>\n",
       "  </tbody>\n",
       "</table>\n",
       "<p>1677 rows × 2 columns</p>\n",
       "</div>"
      ],
      "text/plain": [
       "                 BA  log_ret\n",
       "Date                        \n",
       "2014-10-01 124.6700      NaN\n",
       "2014-10-02 124.1700  -0.0040\n",
       "2014-10-03 126.3600   0.0175\n",
       "2014-10-06 126.2600  -0.0008\n",
       "2014-10-07 123.3200  -0.0236\n",
       "...             ...      ...\n",
       "2021-05-24 237.4400   0.0111\n",
       "2021-05-25 240.7400   0.0138\n",
       "2021-05-26 241.3700   0.0026\n",
       "2021-05-27 250.7000   0.0379\n",
       "2021-05-28 247.0200  -0.0148\n",
       "\n",
       "[1677 rows x 2 columns]"
      ]
     },
     "execution_count": 316,
     "metadata": {},
     "output_type": "execute_result"
    }
   ],
   "source": [
    "ba[\"log_ret\"] = np.log(ba / ba.shift())\n",
    "ba"
   ]
  },
  {
   "cell_type": "code",
   "execution_count": 317,
   "id": "2e14ca4c",
   "metadata": {},
   "outputs": [
    {
     "data": {
      "text/html": [
       "<div>\n",
       "<style scoped>\n",
       "    .dataframe tbody tr th:only-of-type {\n",
       "        vertical-align: middle;\n",
       "    }\n",
       "\n",
       "    .dataframe tbody tr th {\n",
       "        vertical-align: top;\n",
       "    }\n",
       "\n",
       "    .dataframe thead th {\n",
       "        text-align: right;\n",
       "    }\n",
       "</style>\n",
       "<table border=\"1\" class=\"dataframe\">\n",
       "  <thead>\n",
       "    <tr style=\"text-align: right;\">\n",
       "      <th></th>\n",
       "      <th>BA</th>\n",
       "      <th>log_ret</th>\n",
       "      <th>short</th>\n",
       "    </tr>\n",
       "    <tr>\n",
       "      <th>Date</th>\n",
       "      <th></th>\n",
       "      <th></th>\n",
       "      <th></th>\n",
       "    </tr>\n",
       "  </thead>\n",
       "  <tbody>\n",
       "    <tr>\n",
       "      <th>2014-10-01</th>\n",
       "      <td>124.6700</td>\n",
       "      <td>NaN</td>\n",
       "      <td>NaN</td>\n",
       "    </tr>\n",
       "    <tr>\n",
       "      <th>2014-10-02</th>\n",
       "      <td>124.1700</td>\n",
       "      <td>-0.0040</td>\n",
       "      <td>0.0040</td>\n",
       "    </tr>\n",
       "    <tr>\n",
       "      <th>2014-10-03</th>\n",
       "      <td>126.3600</td>\n",
       "      <td>0.0175</td>\n",
       "      <td>-0.0175</td>\n",
       "    </tr>\n",
       "    <tr>\n",
       "      <th>2014-10-06</th>\n",
       "      <td>126.2600</td>\n",
       "      <td>-0.0008</td>\n",
       "      <td>0.0008</td>\n",
       "    </tr>\n",
       "    <tr>\n",
       "      <th>2014-10-07</th>\n",
       "      <td>123.3200</td>\n",
       "      <td>-0.0236</td>\n",
       "      <td>0.0236</td>\n",
       "    </tr>\n",
       "    <tr>\n",
       "      <th>...</th>\n",
       "      <td>...</td>\n",
       "      <td>...</td>\n",
       "      <td>...</td>\n",
       "    </tr>\n",
       "    <tr>\n",
       "      <th>2021-05-24</th>\n",
       "      <td>237.4400</td>\n",
       "      <td>0.0111</td>\n",
       "      <td>-0.0111</td>\n",
       "    </tr>\n",
       "    <tr>\n",
       "      <th>2021-05-25</th>\n",
       "      <td>240.7400</td>\n",
       "      <td>0.0138</td>\n",
       "      <td>-0.0138</td>\n",
       "    </tr>\n",
       "    <tr>\n",
       "      <th>2021-05-26</th>\n",
       "      <td>241.3700</td>\n",
       "      <td>0.0026</td>\n",
       "      <td>-0.0026</td>\n",
       "    </tr>\n",
       "    <tr>\n",
       "      <th>2021-05-27</th>\n",
       "      <td>250.7000</td>\n",
       "      <td>0.0379</td>\n",
       "      <td>-0.0379</td>\n",
       "    </tr>\n",
       "    <tr>\n",
       "      <th>2021-05-28</th>\n",
       "      <td>247.0200</td>\n",
       "      <td>-0.0148</td>\n",
       "      <td>0.0148</td>\n",
       "    </tr>\n",
       "  </tbody>\n",
       "</table>\n",
       "<p>1677 rows × 3 columns</p>\n",
       "</div>"
      ],
      "text/plain": [
       "                 BA  log_ret   short\n",
       "Date                                \n",
       "2014-10-01 124.6700      NaN     NaN\n",
       "2014-10-02 124.1700  -0.0040  0.0040\n",
       "2014-10-03 126.3600   0.0175 -0.0175\n",
       "2014-10-06 126.2600  -0.0008  0.0008\n",
       "2014-10-07 123.3200  -0.0236  0.0236\n",
       "...             ...      ...     ...\n",
       "2021-05-24 237.4400   0.0111 -0.0111\n",
       "2021-05-25 240.7400   0.0138 -0.0138\n",
       "2021-05-26 241.3700   0.0026 -0.0026\n",
       "2021-05-27 250.7000   0.0379 -0.0379\n",
       "2021-05-28 247.0200  -0.0148  0.0148\n",
       "\n",
       "[1677 rows x 3 columns]"
      ]
     },
     "execution_count": 317,
     "metadata": {},
     "output_type": "execute_result"
    }
   ],
   "source": [
    "ba[\"short\"] = ba.log_ret * (-1)\n",
    "ba"
   ]
  },
  {
   "cell_type": "code",
   "execution_count": 318,
   "id": "7a66057e",
   "metadata": {},
   "outputs": [
    {
     "data": {
      "text/plain": [
       "-0.102814660405922"
      ]
     },
     "execution_count": 318,
     "metadata": {},
     "output_type": "execute_result"
    }
   ],
   "source": [
    "ann_mean = ba.short.mean() * 252 # equal to ann_mean of long position * (-1)\n",
    "ann_mean"
   ]
  },
  {
   "cell_type": "code",
   "execution_count": 319,
   "id": "55207813",
   "metadata": {},
   "outputs": [
    {
     "data": {
      "text/plain": [
       "0.4181796243706362"
      ]
     },
     "execution_count": 319,
     "metadata": {},
     "output_type": "execute_result"
    }
   ],
   "source": [
    "ann_std = ba.short.std() * np.sqrt(252) # same as ann_std of long position\n",
    "ann_std"
   ]
  },
  {
   "cell_type": "code",
   "execution_count": null,
   "id": "bc03ffda",
   "metadata": {},
   "outputs": [],
   "source": []
  },
  {
   "cell_type": "markdown",
   "id": "7f3f76ce",
   "metadata": {},
   "source": [
    "__Coding Challenge #7__"
   ]
  },
  {
   "cell_type": "markdown",
   "id": "1b7e5e6b",
   "metadata": {},
   "source": [
    "1. Calculate levered returns for Bitcoin (leverage = 4). \n",
    "\n",
    "2. Visualize and compare with unlevered Investment.\n",
    "\n",
    "3. Some Traders trade Bitcoin with extremely high leverage (> 100). Do you think this is a good idea (assuming no additional/advanced Risk Management Tools)?"
   ]
  },
  {
   "cell_type": "code",
   "execution_count": null,
   "id": "31c5819c",
   "metadata": {},
   "outputs": [],
   "source": [
    "import pandas as pd\n",
    "import numpy as np\n",
    "pd.options.display.float_format = '{:.4f}'.format\n",
    "import matplotlib.pyplot as plt\n",
    "plt.style.use(\"seaborn\")"
   ]
  },
  {
   "cell_type": "code",
   "execution_count": null,
   "id": "8d235910",
   "metadata": {},
   "outputs": [],
   "source": [
    "close = pd.read_csv(\"close.csv\", index_col = \"Date\", parse_dates = [\"Date\"])\n",
    "close"
   ]
  },
  {
   "cell_type": "code",
   "execution_count": null,
   "id": "4b2c3993",
   "metadata": {},
   "outputs": [],
   "source": [
    "btc = close[\"BTC-USD\"].dropna().to_frame().copy()\n",
    "btc"
   ]
  },
  {
   "cell_type": "code",
   "execution_count": null,
   "id": "d7bc25d3",
   "metadata": {},
   "outputs": [],
   "source": [
    "btc[\"Returns\"] = btc.pct_change(periods = 1)\n",
    "btc"
   ]
  },
  {
   "cell_type": "code",
   "execution_count": null,
   "id": "89e69f83",
   "metadata": {},
   "outputs": [],
   "source": [
    "leverage = 4"
   ]
  },
  {
   "cell_type": "code",
   "execution_count": null,
   "id": "0e685dc4",
   "metadata": {},
   "outputs": [],
   "source": [
    "btc[\"Lev_Returns\"] = btc.Returns.mul(leverage) # levered simple returns\n",
    "btc"
   ]
  },
  {
   "cell_type": "code",
   "execution_count": null,
   "id": "89c919de",
   "metadata": {},
   "outputs": [],
   "source": [
    "btc[\"Lev_Returns\"] = np.where(btc[\"Lev_Returns\"] < -1, -1, btc[\"Lev_Returns\"])"
   ]
  },
  {
   "cell_type": "code",
   "execution_count": null,
   "id": "891b1f9f",
   "metadata": {},
   "outputs": [],
   "source": [
    "btc[[\"Returns\", \"Lev_Returns\"]].add(1).cumprod().plot(figsize = (15, 8), fontsize = 13)\n",
    "plt.legend(fontsize = 13)\n",
    "plt.show()"
   ]
  },
  {
   "cell_type": "markdown",
   "id": "af654378",
   "metadata": {},
   "source": [
    "-> Trading Bitcoin with (high) leverage requires advanced risk monitoring/management. Otherwise, a complete loss is very likely (sooner or later...)."
   ]
  },
  {
   "cell_type": "code",
   "execution_count": null,
   "id": "3ae884cb",
   "metadata": {},
   "outputs": [],
   "source": []
  }
 ],
 "metadata": {
  "kernelspec": {
   "display_name": "Python 3 (ipykernel)",
   "language": "python",
   "name": "python3"
  },
  "language_info": {
   "codemirror_mode": {
    "name": "ipython",
    "version": 3
   },
   "file_extension": ".py",
   "mimetype": "text/x-python",
   "name": "python",
   "nbconvert_exporter": "python",
   "pygments_lexer": "ipython3",
   "version": "3.7.13"
  }
 },
 "nbformat": 4,
 "nbformat_minor": 5
}
