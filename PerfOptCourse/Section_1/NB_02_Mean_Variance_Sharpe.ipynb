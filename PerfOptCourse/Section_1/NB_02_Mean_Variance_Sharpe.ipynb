{
 "cells": [
  {
   "cell_type": "markdown",
   "id": "pregnant-transcript",
   "metadata": {},
   "source": [
    "# Mean-Variance Analysis and the Sharpe Ratio"
   ]
  },
  {
   "cell_type": "markdown",
   "id": "expensive-happiness",
   "metadata": {},
   "source": [
    "## Getting started"
   ]
  },
  {
   "cell_type": "code",
   "execution_count": null,
   "id": "loving-harvey",
   "metadata": {},
   "outputs": [],
   "source": [
    "import pandas as pd\n",
    "import numpy as np\n",
    "import matplotlib.pyplot as plt\n",
    "plt.style.use(\"seaborn\")"
   ]
  },
  {
   "cell_type": "code",
   "execution_count": null,
   "id": "psychological-weekend",
   "metadata": {},
   "outputs": [],
   "source": [
    "returns = pd.read_csv(\"returns.csv\", index_col = \"Date\", parse_dates = [\"Date\"])\n",
    "returns"
   ]
  },
  {
   "cell_type": "markdown",
   "id": "5527b7d5",
   "metadata": {},
   "source": [
    "__GBP_USD__: Long Position in GBP (denominated in USD) <br>\n",
    "__USD_GBP__: Short Position in GBP (== Long Position in USD; denominated in GBP) <br>\n",
    "__Levered__: USD_GBP with Leverage (\"Trading USD_GBP on Margin\") <br>\n",
    "__Neutral__: Neutral Positions only (no Investments / Trades)  <br>\n",
    "__Low_Vol__: Active Strategy for USD_GBP with Long, Short and Neutral Positions <br>\n",
    "__Random__: Random \"Strategy\" for USD_GBP with random Long, Short and Neutral Positions"
   ]
  },
  {
   "cell_type": "code",
   "execution_count": null,
   "id": "actual-transmission",
   "metadata": {
    "scrolled": true
   },
   "outputs": [],
   "source": [
    "returns.info()"
   ]
  },
  {
   "cell_type": "code",
   "execution_count": null,
   "id": "spanish-flush",
   "metadata": {},
   "outputs": [],
   "source": [
    "returns.cumsum().apply(np.exp).plot(figsize = (12, 8))\n",
    "plt.show()"
   ]
  },
  {
   "cell_type": "code",
   "execution_count": null,
   "id": "future-delta",
   "metadata": {},
   "outputs": [],
   "source": [
    "returns.Low_Vol.cumsum().apply(np.exp).plot(figsize = (12, 8))\n",
    "plt.show()"
   ]
  },
  {
   "cell_type": "code",
   "execution_count": null,
   "id": "e7260688",
   "metadata": {},
   "outputs": [],
   "source": [
    "returns.Low_Vol.value_counts()"
   ]
  },
  {
   "cell_type": "code",
   "execution_count": null,
   "id": "b5ca5a7b",
   "metadata": {},
   "outputs": [],
   "source": [
    "returns[[\"Low_Vol\", \"Levered\"]].cumsum().apply(np.exp).plot(figsize = (12, 8))\n",
    "plt.show()"
   ]
  },
  {
   "cell_type": "markdown",
   "id": "e436a719",
   "metadata": {},
   "source": [
    "__Which one would you (intuitively) prefer?__"
   ]
  },
  {
   "cell_type": "markdown",
   "id": "f286aae2",
   "metadata": {},
   "source": [
    "__Low_Vol__, right? Let´s create a __risk-adjusted return metric__ that reflects/confirms this intuition!"
   ]
  },
  {
   "cell_type": "code",
   "execution_count": null,
   "id": "c7837ee6",
   "metadata": {},
   "outputs": [],
   "source": []
  },
  {
   "cell_type": "markdown",
   "id": "molecular-decimal",
   "metadata": {},
   "source": [
    "## Mean Return (Reward)"
   ]
  },
  {
   "cell_type": "code",
   "execution_count": null,
   "id": "global-citation",
   "metadata": {},
   "outputs": [],
   "source": [
    "returns"
   ]
  },
  {
   "cell_type": "markdown",
   "id": "promising-romance",
   "metadata": {},
   "source": [
    "__mean return__"
   ]
  },
  {
   "cell_type": "code",
   "execution_count": null,
   "id": "sitting-contributor",
   "metadata": {},
   "outputs": [],
   "source": [
    "returns.mean()"
   ]
  },
  {
   "cell_type": "markdown",
   "id": "dutch-inspection",
   "metadata": {},
   "source": [
    "__annualized mean return__"
   ]
  },
  {
   "cell_type": "code",
   "execution_count": 66,
   "id": "4e650a7f",
   "metadata": {},
   "outputs": [
    {
     "data": {
      "text/plain": [
       "AAPL    251.818323\n",
       "AMGN    251.818323\n",
       "AXP     251.818323\n",
       "BA      251.818323\n",
       "CAT     251.818323\n",
       "CRM     251.818323\n",
       "CSCO    251.818323\n",
       "CVX     251.818323\n",
       "DIS     251.818323\n",
       "DOW     251.818323\n",
       "GS      251.818323\n",
       "HD      251.818323\n",
       "HON     251.818323\n",
       "IBM     251.818323\n",
       "INTC    251.818323\n",
       "JNJ     251.818323\n",
       "JPM     251.818323\n",
       "KO      251.818323\n",
       "MCD     251.818323\n",
       "MMM     251.818323\n",
       "MRK     251.818323\n",
       "MSFT    251.818323\n",
       "NKE     251.818323\n",
       "PG      251.818323\n",
       "TRV     251.818323\n",
       "UNH     251.818323\n",
       "V       251.818323\n",
       "VZ      251.818323\n",
       "WBA     251.818323\n",
       "WMT     251.818323\n",
       "dtype: float64"
      ]
     },
     "execution_count": 66,
     "metadata": {},
     "output_type": "execute_result"
    }
   ],
   "source": [
    "td_year = returns.count() / ((returns.index[-1] - returns.index[0]).days / 365.25)\n",
    "td_year"
   ]
  },
  {
   "cell_type": "code",
   "execution_count": null,
   "id": "minor-dinner",
   "metadata": {},
   "outputs": [],
   "source": [
    "ann_mean = returns.mean() * td_year\n",
    "ann_mean"
   ]
  },
  {
   "cell_type": "code",
   "execution_count": null,
   "id": "800ebb77",
   "metadata": {},
   "outputs": [],
   "source": [
    "np.exp(ann_mean) - 1 # CAGR"
   ]
  },
  {
   "cell_type": "code",
   "execution_count": null,
   "id": "invalid-longitude",
   "metadata": {},
   "outputs": [],
   "source": [
    "summary = pd.DataFrame(data = {\"ann_mean\":ann_mean})\n",
    "summary"
   ]
  },
  {
   "cell_type": "code",
   "execution_count": null,
   "id": "intimate-outside",
   "metadata": {},
   "outputs": [],
   "source": [
    "summary.rank(ascending = False)"
   ]
  },
  {
   "cell_type": "code",
   "execution_count": null,
   "id": "4b62ed46",
   "metadata": {},
   "outputs": [],
   "source": []
  },
  {
   "cell_type": "markdown",
   "id": "anticipated-bracket",
   "metadata": {},
   "source": [
    "## Standard Deviation (Risk)"
   ]
  },
  {
   "cell_type": "code",
   "execution_count": null,
   "id": "blessed-brain",
   "metadata": {},
   "outputs": [],
   "source": [
    "returns"
   ]
  },
  {
   "cell_type": "markdown",
   "id": "transsexual-escape",
   "metadata": {},
   "source": [
    "__Standard Deviation of Returns__"
   ]
  },
  {
   "cell_type": "code",
   "execution_count": null,
   "id": "forward-lodging",
   "metadata": {},
   "outputs": [],
   "source": [
    "returns.std()"
   ]
  },
  {
   "cell_type": "markdown",
   "id": "45cf311a",
   "metadata": {},
   "source": [
    "__Annualized Standard Deviation__"
   ]
  },
  {
   "cell_type": "code",
   "execution_count": null,
   "id": "1e4e915f",
   "metadata": {},
   "outputs": [],
   "source": [
    "td_year"
   ]
  },
  {
   "cell_type": "code",
   "execution_count": null,
   "id": "ea6961e0",
   "metadata": {},
   "outputs": [],
   "source": [
    "ann_std = returns.std() * np.sqrt(td_year)\n",
    "ann_std"
   ]
  },
  {
   "cell_type": "code",
   "execution_count": null,
   "id": "26d449a2",
   "metadata": {},
   "outputs": [],
   "source": [
    "summary[\"ann_std\"] = returns.std() * np.sqrt(td_year)"
   ]
  },
  {
   "cell_type": "code",
   "execution_count": null,
   "id": "84fbdf8d",
   "metadata": {},
   "outputs": [],
   "source": [
    "summary.sort_values(by = \"ann_std\")"
   ]
  },
  {
   "cell_type": "code",
   "execution_count": null,
   "id": "904fae56",
   "metadata": {},
   "outputs": [],
   "source": []
  },
  {
   "cell_type": "markdown",
   "id": "c026424e",
   "metadata": {},
   "source": [
    "## Risk-adjusted Return (\"Sharpe Ratio\")"
   ]
  },
  {
   "cell_type": "code",
   "execution_count": null,
   "id": "38fe6693",
   "metadata": {},
   "outputs": [],
   "source": [
    "summary"
   ]
  },
  {
   "cell_type": "markdown",
   "id": "12d642c8",
   "metadata": {},
   "source": [
    "__Graphical Solution__"
   ]
  },
  {
   "cell_type": "code",
   "execution_count": null,
   "id": "helpful-whale",
   "metadata": {},
   "outputs": [],
   "source": [
    "summary.plot(kind = \"scatter\", x = \"ann_std\", y = \"ann_mean\", figsize = (15,12), s = 50, fontsize = 15)\n",
    "for i in summary.index:\n",
    "    plt.annotate(i, xy=(summary.loc[i, \"ann_std\"]+0.001, summary.loc[i, \"ann_mean\"]+0.001), size = 15)\n",
    "plt.xlim(-0.01, 0.23)\n",
    "plt.ylim(-0.02, 0.03)\n",
    "plt.xlabel(\"Risk(std)\", fontsize = 15)\n",
    "plt.ylabel(\"Return\", fontsize = 15)\n",
    "plt.title(\"Risk/Return\", fontsize = 20)\n",
    "plt.show()"
   ]
  },
  {
   "cell_type": "markdown",
   "id": "00515c8f",
   "metadata": {},
   "source": [
    "__Risk-adjusted Return Metric__ (\"Sharpe Ratio light\")"
   ]
  },
  {
   "cell_type": "code",
   "execution_count": null,
   "id": "unsigned-quarter",
   "metadata": {},
   "outputs": [],
   "source": [
    "rf = 0 # simplification, don´t use this assumption for Portfolio Management!"
   ]
  },
  {
   "cell_type": "code",
   "execution_count": null,
   "id": "moving-newfoundland",
   "metadata": {},
   "outputs": [],
   "source": [
    "summary[\"Sharpe\"] = (summary.ann_mean - rf) / summary.ann_std"
   ]
  },
  {
   "cell_type": "code",
   "execution_count": null,
   "id": "broad-tucson",
   "metadata": {},
   "outputs": [],
   "source": [
    "summary.sort_values(by = \"Sharpe\", ascending = False)"
   ]
  },
  {
   "cell_type": "code",
   "execution_count": null,
   "id": "ebba3a51",
   "metadata": {},
   "outputs": [],
   "source": [
    "td_year"
   ]
  },
  {
   "cell_type": "code",
   "execution_count": null,
   "id": "configured-torture",
   "metadata": {},
   "outputs": [],
   "source": [
    "returns.mean() / returns.std() * np.sqrt(td_year) # alternative: annualizing daily sharpe"
   ]
  },
  {
   "cell_type": "code",
   "execution_count": null,
   "id": "00e01981",
   "metadata": {},
   "outputs": [],
   "source": []
  },
  {
   "cell_type": "markdown",
   "id": "b2846138",
   "metadata": {},
   "source": [
    "## Putting everything together"
   ]
  },
  {
   "cell_type": "code",
   "execution_count": null,
   "id": "c2edb22e",
   "metadata": {},
   "outputs": [],
   "source": [
    "import pandas as pd\n",
    "import numpy as np\n",
    "import matplotlib.pyplot as plt\n",
    "plt.style.use(\"seaborn\")"
   ]
  },
  {
   "cell_type": "code",
   "execution_count": null,
   "id": "24a34835",
   "metadata": {},
   "outputs": [],
   "source": [
    "returns = pd.read_csv(\"returns.csv\", index_col = \"Date\", parse_dates = [\"Date\"])\n",
    "returns"
   ]
  },
  {
   "cell_type": "code",
   "execution_count": null,
   "id": "443c7fcf",
   "metadata": {},
   "outputs": [],
   "source": [
    "def sharpe(series, rf = 0):\n",
    "    \n",
    "    if series.std() == 0:\n",
    "        return np.nan\n",
    "    else:\n",
    "        return (series.mean() - rf) / series.std() * np.sqrt(series.count() / ((series.index[-1] - series.index[0]).days / 365.25))"
   ]
  },
  {
   "cell_type": "code",
   "execution_count": null,
   "id": "sized-shelf",
   "metadata": {},
   "outputs": [],
   "source": [
    "returns.apply(sharpe, rf = 0)"
   ]
  },
  {
   "cell_type": "code",
   "execution_count": null,
   "id": "51330b64",
   "metadata": {},
   "outputs": [],
   "source": [
    "sharpe(series = returns.Levered, rf = 0)"
   ]
  },
  {
   "cell_type": "code",
   "execution_count": null,
   "id": "3c6d316b",
   "metadata": {},
   "outputs": [],
   "source": []
  },
  {
   "cell_type": "markdown",
   "id": "4e863688",
   "metadata": {},
   "source": [
    "------------------------------"
   ]
  },
  {
   "cell_type": "markdown",
   "id": "c290fb1b",
   "metadata": {},
   "source": [
    "## Coding Challenge"
   ]
  },
  {
   "cell_type": "markdown",
   "id": "c3ac6bab",
   "metadata": {},
   "source": [
    "__Calculate and compare__ the __Sharpe Ratio__ (assumption: rf == 0) for __30 large US stocks__ that currently form the Dow Jones Industrial Average Index (\"Dow Jones\") for the time period between April 2019 and June 2021. "
   ]
  },
  {
   "cell_type": "markdown",
   "id": "29ffbd88",
   "metadata": {},
   "source": [
    "__Hint:__ You can __import__ the price data from __\"Dow_Jones.csv\"__.\n",
    " "
   ]
  },
  {
   "cell_type": "markdown",
   "id": "6f9e0047",
   "metadata": {},
   "source": [
    "Determine the __best performing stock__ and the __worst performing stock__ according to the Sharpe Ratio."
   ]
  },
  {
   "cell_type": "markdown",
   "id": "b5408ecf",
   "metadata": {},
   "source": [
    "(Remark: Dividends are ignored here. Hence, for simplicity reasons, the Sharpe Ratio is based on Price Returns only. As a consequence, dividend-paying stocks are getting penalized.) "
   ]
  },
  {
   "cell_type": "code",
   "execution_count": 846,
   "id": "ccb3733f",
   "metadata": {},
   "outputs": [],
   "source": [
    "import pandas as pd\n",
    "import numpy as np\n",
    "import matplotlib.pyplot as plt\n",
    "plt.style.use('seaborn')\n",
    "\n",
    "def norm(sr=None):\n",
    "    if sr is None:\n",
    "        return np.nan\n",
    "    else:\n",
    "        sr.fillna(method='bfill', axis=0, inplace=True)\n",
    "        return (sr.div(sr.iloc[0]))\n",
    "    \n",
    "def sharpe_table(norm_returns = None, rf = 0):\n",
    "    result = pd.DataFrame()\n",
    "    result['mean'] = norm_returns.mean() * norm_returns.count() / ((norm_returns.index[-1] - norm_returns.index[0]).days / 365.25)\n",
    "    result['std'] = norm_returns.std() * np.sqrt(norm_returns.count() / ((norm_returns.index[-1] - norm_returns.index[0]).days / 365.25))\n",
    "    result['shp'] = result['mean'].div(result['std'])\n",
    "    return result\n",
    "\n",
    "def plot_sharpe(df, l = 10):\n",
    "    limiter = l\n",
    "    #line = pd.DataFrame(data=[[0,0],[0.5,0.5]], columns=['x','y'])\n",
    "    plots = df.iloc[:limiter] \n",
    "    line = pd.DataFrame(data=[[0,0],[plots['std'].max(),plots['mean'].max()]], columns=['x','y'])\n",
    "\n",
    "    plt.figure(figsize = (12,8))\n",
    "\n",
    "    plots.plot(kind = \"scatter\", x='std', y='mean', figsize = (15,8), s = 50, fontsize = 15)\n",
    "    for i in plots.index:\n",
    "        plt.annotate(i, xy=(plots.loc[i, \"std\"]+0.0005, plots.loc[i, \"mean\"]+0.0005), size = 15)\n",
    "    plt.xlabel(\"Risk (std)\", fontsize = 15)\n",
    "    plt.ylabel(\"Mean Return\", fontsize = 15)\n",
    "    plt.title(\"Top {} Stocks: Mean-Variance Analysis\".format(limiter), fontsize = 20)\n",
    "    plt.plot(line.x, line.y, label = 'Trend Line')\n",
    "    plt.show()"
   ]
  },
  {
   "cell_type": "code",
   "execution_count": 847,
   "id": "97435c8d",
   "metadata": {},
   "outputs": [],
   "source": [
    "raw = pd.read_csv('Dow_Jones.csv', parse_dates=True,index_col=['Date']).dropna()"
   ]
  },
  {
   "cell_type": "code",
   "execution_count": 848,
   "id": "2a9a611b",
   "metadata": {},
   "outputs": [
    {
     "data": {
      "text/plain": [
       "['AAPL', 'MSFT', 'GS', 'WMT', 'HD']"
      ]
     },
     "execution_count": 848,
     "metadata": {},
     "output_type": "execute_result"
    }
   ],
   "source": [
    "norm_raw = raw.apply(norm)\n",
    "norm_returns = np.log(norm_raw/norm_raw.shift())\n",
    "\n",
    "summary = sharpe_table(norm_returns).sort_values(by='shp', ascending=False)\n",
    "list(summary.sort_values(by='shp', ascending=False).index[0:5].values)"
   ]
  },
  {
   "cell_type": "code",
   "execution_count": 849,
   "id": "82c842ab",
   "metadata": {},
   "outputs": [
    {
     "data": {
      "text/html": [
       "<div>\n",
       "<style scoped>\n",
       "    .dataframe tbody tr th:only-of-type {\n",
       "        vertical-align: middle;\n",
       "    }\n",
       "\n",
       "    .dataframe tbody tr th {\n",
       "        vertical-align: top;\n",
       "    }\n",
       "\n",
       "    .dataframe thead th {\n",
       "        text-align: right;\n",
       "    }\n",
       "</style>\n",
       "<table border=\"1\" class=\"dataframe\">\n",
       "  <thead>\n",
       "    <tr style=\"text-align: right;\">\n",
       "      <th></th>\n",
       "      <th>x</th>\n",
       "      <th>y</th>\n",
       "    </tr>\n",
       "  </thead>\n",
       "  <tbody>\n",
       "    <tr>\n",
       "      <th>0</th>\n",
       "      <td>0.000000</td>\n",
       "      <td>0.000000</td>\n",
       "    </tr>\n",
       "    <tr>\n",
       "      <th>1</th>\n",
       "      <td>0.455535</td>\n",
       "      <td>0.636257</td>\n",
       "    </tr>\n",
       "  </tbody>\n",
       "</table>\n",
       "</div>"
      ],
      "text/plain": [
       "          x         y\n",
       "0  0.000000  0.000000\n",
       "1  0.455535  0.636257"
      ]
     },
     "execution_count": 849,
     "metadata": {},
     "output_type": "execute_result"
    }
   ],
   "source": [
    "#plot_sharpe(summary, 10)\n",
    "line"
   ]
  },
  {
   "cell_type": "code",
   "execution_count": 850,
   "id": "228894a8",
   "metadata": {},
   "outputs": [
    {
     "data": {
      "text/plain": [
       "0         NaN\n",
       "1    1.396725\n",
       "dtype: float64"
      ]
     },
     "execution_count": 850,
     "metadata": {},
     "output_type": "execute_result"
    }
   ],
   "source": [
    "line.y/line.x"
   ]
  },
  {
   "cell_type": "code",
   "execution_count": 851,
   "id": "c3b00146",
   "metadata": {},
   "outputs": [
    {
     "data": {
      "text/plain": [
       "<Figure size 864x576 with 0 Axes>"
      ]
     },
     "metadata": {},
     "output_type": "display_data"
    },
    {
     "data": {
      "image/png": "[encoded data removed]",
      "text/plain": [
       "<Figure size 1080x576 with 1 Axes>"
      ]
     },
     "metadata": {},
     "output_type": "display_data"
    }
   ],
   "source": [
    "plot_sharpe(summary,15)"
   ]
  },
  {
   "cell_type": "markdown",
   "id": "eb492b70",
   "metadata": {},
   "source": [
    "## Personal Challenge: Find CAGR from portfolio of top _n_ stocks"
   ]
  },
  {
   "cell_type": "code",
   "execution_count": 917,
   "id": "ddfbbdba",
   "metadata": {},
   "outputs": [
    {
     "data": {
      "image/png": "[encoded data removed]",
      "text/plain": [
       "<Figure size 1080x576 with 1 Axes>"
      ]
     },
     "metadata": {},
     "output_type": "display_data"
    },
    {
     "data": {
      "text/html": [
       "<div>\n",
       "<style scoped>\n",
       "    .dataframe tbody tr th:only-of-type {\n",
       "        vertical-align: middle;\n",
       "    }\n",
       "\n",
       "    .dataframe tbody tr th {\n",
       "        vertical-align: top;\n",
       "    }\n",
       "\n",
       "    .dataframe thead th {\n",
       "        text-align: right;\n",
       "    }\n",
       "</style>\n",
       "<table border=\"1\" class=\"dataframe\">\n",
       "  <thead>\n",
       "    <tr style=\"text-align: right;\">\n",
       "      <th></th>\n",
       "      <th>AAPL</th>\n",
       "      <th>MSFT</th>\n",
       "      <th>GS</th>\n",
       "      <th>WMT</th>\n",
       "      <th>HD</th>\n",
       "    </tr>\n",
       "    <tr>\n",
       "      <th>Date</th>\n",
       "      <th></th>\n",
       "      <th></th>\n",
       "      <th></th>\n",
       "      <th></th>\n",
       "      <th></th>\n",
       "    </tr>\n",
       "  </thead>\n",
       "  <tbody>\n",
       "    <tr>\n",
       "      <th>2019-04-02</th>\n",
       "      <td>1.014537</td>\n",
       "      <td>1.001428</td>\n",
       "      <td>1.003863</td>\n",
       "      <td>0.991004</td>\n",
       "      <td>0.993202</td>\n",
       "    </tr>\n",
       "    <tr>\n",
       "      <th>2019-04-03</th>\n",
       "      <td>1.021491</td>\n",
       "      <td>1.007982</td>\n",
       "      <td>1.020941</td>\n",
       "      <td>0.993560</td>\n",
       "      <td>1.015181</td>\n",
       "    </tr>\n",
       "    <tr>\n",
       "      <th>2019-04-04</th>\n",
       "      <td>1.023269</td>\n",
       "      <td>1.002857</td>\n",
       "      <td>1.027905</td>\n",
       "      <td>1.002965</td>\n",
       "      <td>1.024586</td>\n",
       "    </tr>\n",
       "    <tr>\n",
       "      <th>2019-04-05</th>\n",
       "      <td>1.030119</td>\n",
       "      <td>1.007310</td>\n",
       "      <td>1.028667</td>\n",
       "      <td>1.010325</td>\n",
       "      <td>1.032815</td>\n",
       "    </tr>\n",
       "    <tr>\n",
       "      <th>2019-04-08</th>\n",
       "      <td>1.046329</td>\n",
       "      <td>1.007646</td>\n",
       "      <td>1.029480</td>\n",
       "      <td>1.014414</td>\n",
       "      <td>1.040431</td>\n",
       "    </tr>\n",
       "    <tr>\n",
       "      <th>...</th>\n",
       "      <td>...</td>\n",
       "      <td>...</td>\n",
       "      <td>...</td>\n",
       "      <td>...</td>\n",
       "      <td>...</td>\n",
       "    </tr>\n",
       "    <tr>\n",
       "      <th>2021-06-08</th>\n",
       "      <td>2.650910</td>\n",
       "      <td>2.122080</td>\n",
       "      <td>1.955373</td>\n",
       "      <td>1.429462</td>\n",
       "      <td>1.589143</td>\n",
       "    </tr>\n",
       "    <tr>\n",
       "      <th>2021-06-09</th>\n",
       "      <td>2.659067</td>\n",
       "      <td>2.130650</td>\n",
       "      <td>1.945613</td>\n",
       "      <td>1.421795</td>\n",
       "      <td>1.570947</td>\n",
       "    </tr>\n",
       "    <tr>\n",
       "      <th>2021-06-10</th>\n",
       "      <td>2.637733</td>\n",
       "      <td>2.161317</td>\n",
       "      <td>1.900681</td>\n",
       "      <td>1.429973</td>\n",
       "      <td>1.575905</td>\n",
       "    </tr>\n",
       "    <tr>\n",
       "      <th>2021-06-11</th>\n",
       "      <td>2.663669</td>\n",
       "      <td>2.166779</td>\n",
       "      <td>1.921572</td>\n",
       "      <td>1.438867</td>\n",
       "      <td>1.588479</td>\n",
       "    </tr>\n",
       "    <tr>\n",
       "      <th>2021-06-14</th>\n",
       "      <td>2.729136</td>\n",
       "      <td>2.183583</td>\n",
       "      <td>1.895497</td>\n",
       "      <td>1.436925</td>\n",
       "      <td>1.581067</td>\n",
       "    </tr>\n",
       "  </tbody>\n",
       "</table>\n",
       "<p>555 rows × 5 columns</p>\n",
       "</div>"
      ],
      "text/plain": [
       "                AAPL      MSFT        GS       WMT        HD\n",
       "Date                                                        \n",
       "2019-04-02  1.014537  1.001428  1.003863  0.991004  0.993202\n",
       "2019-04-03  1.021491  1.007982  1.020941  0.993560  1.015181\n",
       "2019-04-04  1.023269  1.002857  1.027905  1.002965  1.024586\n",
       "2019-04-05  1.030119  1.007310  1.028667  1.010325  1.032815\n",
       "2019-04-08  1.046329  1.007646  1.029480  1.014414  1.040431\n",
       "...              ...       ...       ...       ...       ...\n",
       "2021-06-08  2.650910  2.122080  1.955373  1.429462  1.589143\n",
       "2021-06-09  2.659067  2.130650  1.945613  1.421795  1.570947\n",
       "2021-06-10  2.637733  2.161317  1.900681  1.429973  1.575905\n",
       "2021-06-11  2.663669  2.166779  1.921572  1.438867  1.588479\n",
       "2021-06-14  2.729136  2.183583  1.895497  1.436925  1.581067\n",
       "\n",
       "[555 rows x 5 columns]"
      ]
     },
     "execution_count": 917,
     "metadata": {},
     "output_type": "execute_result"
    }
   ],
   "source": [
    "n = 5\n",
    "best = True\n",
    "shp_portfolio = list(summary.sort_values(by='shp', ascending=not best).index[0:n].values)\n",
    "\n",
    "#best_returns = np.log(norm_raw/norm_raw.shift())\n",
    "\n",
    "best_returns.loc[:,shp_portfolio].dropna().cumsum().apply(np.exp).iloc[[-1],:].mean().mean()\n",
    "\n",
    "#unsure if this is correct!\n",
    "cagr=np.exp(best_returns.loc[:,shp_portfolio].dropna().mean().mean()*252)-1\n",
    "\n",
    "best_returns.loc[:,shp_portfolio].dropna().cumsum().apply(np.exp).plot(figsize=(15,8))\n",
    "plt.xlabel(\"Date\", fontsize = 15)\n",
    "plt.ylabel(\"Normalized Cumulative Returns\", fontsize = 15)\n",
    "plt.title(\"Top {} Sharpe Ratio Picks: Performance | Mean CAGR = {:,.2f}%\".format(n,cagr*100), fontsize = 20)\n",
    "plt.show()\n",
    "best_returns.loc[:,shp_portfolio].dropna().cumsum().apply(np.exp)\n",
    "#1.44*1.44*1.44"
   ]
  },
  {
   "cell_type": "code",
   "execution_count": 892,
   "id": "781ca491",
   "metadata": {},
   "outputs": [
    {
     "data": {
      "text/plain": [
       "AAPL    0.580152\n",
       "dtype: float64"
      ]
     },
     "execution_count": 892,
     "metadata": {},
     "output_type": "execute_result"
    }
   ],
   "source": [
    "1.57*1.57*1.57\n",
    "np.exp(best_returns.loc[:,shp_portfolio].mean()*best_returns.loc[:,shp_portfolio].count() / ((best_returns.loc[:,shp_portfolio].index[-1] - best_returns.loc[:,shp_portfolio].index[0]).days / 365.25)-1)\n"
   ]
  },
  {
   "cell_type": "markdown",
   "id": "a4a5b610",
   "metadata": {},
   "source": [
    "### +++ Please stop here in case you don´t want to see the solution!!! +++++"
   ]
  },
  {
   "cell_type": "markdown",
   "id": "f1366c7c",
   "metadata": {},
   "source": [
    "## Coding Challenge Solution"
   ]
  },
  {
   "cell_type": "code",
   "execution_count": 59,
   "id": "a794fb42",
   "metadata": {},
   "outputs": [],
   "source": [
    "import pandas as pd\n",
    "import numpy as np"
   ]
  },
  {
   "cell_type": "code",
   "execution_count": 887,
   "id": "efbdcd10",
   "metadata": {},
   "outputs": [
    {
     "data": {
      "text/html": [
       "<div>\n",
       "<style scoped>\n",
       "    .dataframe tbody tr th:only-of-type {\n",
       "        vertical-align: middle;\n",
       "    }\n",
       "\n",
       "    .dataframe tbody tr th {\n",
       "        vertical-align: top;\n",
       "    }\n",
       "\n",
       "    .dataframe thead th {\n",
       "        text-align: right;\n",
       "    }\n",
       "</style>\n",
       "<table border=\"1\" class=\"dataframe\">\n",
       "  <thead>\n",
       "    <tr style=\"text-align: right;\">\n",
       "      <th></th>\n",
       "      <th>AAPL</th>\n",
       "      <th>AMGN</th>\n",
       "      <th>AXP</th>\n",
       "      <th>BA</th>\n",
       "      <th>CAT</th>\n",
       "      <th>CRM</th>\n",
       "      <th>CSCO</th>\n",
       "      <th>CVX</th>\n",
       "      <th>DIS</th>\n",
       "      <th>DOW</th>\n",
       "      <th>...</th>\n",
       "      <th>MRK</th>\n",
       "      <th>MSFT</th>\n",
       "      <th>NKE</th>\n",
       "      <th>PG</th>\n",
       "      <th>TRV</th>\n",
       "      <th>UNH</th>\n",
       "      <th>V</th>\n",
       "      <th>VZ</th>\n",
       "      <th>WBA</th>\n",
       "      <th>WMT</th>\n",
       "    </tr>\n",
       "    <tr>\n",
       "      <th>Date</th>\n",
       "      <th></th>\n",
       "      <th></th>\n",
       "      <th></th>\n",
       "      <th></th>\n",
       "      <th></th>\n",
       "      <th></th>\n",
       "      <th></th>\n",
       "      <th></th>\n",
       "      <th></th>\n",
       "      <th></th>\n",
       "      <th></th>\n",
       "      <th></th>\n",
       "      <th></th>\n",
       "      <th></th>\n",
       "      <th></th>\n",
       "      <th></th>\n",
       "      <th></th>\n",
       "      <th></th>\n",
       "      <th></th>\n",
       "      <th></th>\n",
       "      <th></th>\n",
       "    </tr>\n",
       "  </thead>\n",
       "  <tbody>\n",
       "    <tr>\n",
       "      <th>2019-04-01</th>\n",
       "      <td>47.810001</td>\n",
       "      <td>191.770004</td>\n",
       "      <td>111.699997</td>\n",
       "      <td>391.540009</td>\n",
       "      <td>140.250000</td>\n",
       "      <td>161.179993</td>\n",
       "      <td>54.980000</td>\n",
       "      <td>124.940002</td>\n",
       "      <td>112.510002</td>\n",
       "      <td>53.500000</td>\n",
       "      <td>...</td>\n",
       "      <td>79.484734</td>\n",
       "      <td>119.019997</td>\n",
       "      <td>85.230003</td>\n",
       "      <td>103.639999</td>\n",
       "      <td>138.020004</td>\n",
       "      <td>245.539993</td>\n",
       "      <td>157.259995</td>\n",
       "      <td>59.090000</td>\n",
       "      <td>63.490002</td>\n",
       "      <td>97.820000</td>\n",
       "    </tr>\n",
       "    <tr>\n",
       "      <th>2019-04-02</th>\n",
       "      <td>48.505001</td>\n",
       "      <td>192.429993</td>\n",
       "      <td>111.000000</td>\n",
       "      <td>390.750000</td>\n",
       "      <td>140.190002</td>\n",
       "      <td>160.509995</td>\n",
       "      <td>55.290001</td>\n",
       "      <td>124.930000</td>\n",
       "      <td>111.959999</td>\n",
       "      <td>56.250000</td>\n",
       "      <td>...</td>\n",
       "      <td>79.398857</td>\n",
       "      <td>119.190002</td>\n",
       "      <td>84.370003</td>\n",
       "      <td>103.750000</td>\n",
       "      <td>136.809998</td>\n",
       "      <td>244.410004</td>\n",
       "      <td>157.779999</td>\n",
       "      <td>58.529999</td>\n",
       "      <td>55.360001</td>\n",
       "      <td>96.940002</td>\n",
       "    </tr>\n",
       "    <tr>\n",
       "      <th>2019-04-03</th>\n",
       "      <td>48.837502</td>\n",
       "      <td>192.919998</td>\n",
       "      <td>110.559998</td>\n",
       "      <td>384.739990</td>\n",
       "      <td>139.259995</td>\n",
       "      <td>162.619995</td>\n",
       "      <td>55.630001</td>\n",
       "      <td>123.889999</td>\n",
       "      <td>112.519997</td>\n",
       "      <td>56.880001</td>\n",
       "      <td>...</td>\n",
       "      <td>79.370232</td>\n",
       "      <td>119.970001</td>\n",
       "      <td>84.470001</td>\n",
       "      <td>103.690002</td>\n",
       "      <td>136.600006</td>\n",
       "      <td>245.839996</td>\n",
       "      <td>158.460007</td>\n",
       "      <td>58.869999</td>\n",
       "      <td>54.840000</td>\n",
       "      <td>97.190002</td>\n",
       "    </tr>\n",
       "    <tr>\n",
       "      <th>2019-04-04</th>\n",
       "      <td>48.922501</td>\n",
       "      <td>192.330002</td>\n",
       "      <td>110.120003</td>\n",
       "      <td>395.859985</td>\n",
       "      <td>140.130005</td>\n",
       "      <td>158.520004</td>\n",
       "      <td>55.139999</td>\n",
       "      <td>124.800003</td>\n",
       "      <td>114.750000</td>\n",
       "      <td>59.709999</td>\n",
       "      <td>...</td>\n",
       "      <td>78.101143</td>\n",
       "      <td>119.360001</td>\n",
       "      <td>85.279999</td>\n",
       "      <td>103.430000</td>\n",
       "      <td>136.520004</td>\n",
       "      <td>247.389999</td>\n",
       "      <td>157.639999</td>\n",
       "      <td>58.990002</td>\n",
       "      <td>54.150002</td>\n",
       "      <td>98.110001</td>\n",
       "    </tr>\n",
       "    <tr>\n",
       "      <th>2019-04-05</th>\n",
       "      <td>49.250000</td>\n",
       "      <td>195.410004</td>\n",
       "      <td>110.959999</td>\n",
       "      <td>391.929993</td>\n",
       "      <td>140.360001</td>\n",
       "      <td>158.559998</td>\n",
       "      <td>55.209999</td>\n",
       "      <td>126.419998</td>\n",
       "      <td>115.000000</td>\n",
       "      <td>57.240002</td>\n",
       "      <td>...</td>\n",
       "      <td>77.433205</td>\n",
       "      <td>119.889999</td>\n",
       "      <td>85.400002</td>\n",
       "      <td>103.650002</td>\n",
       "      <td>136.399994</td>\n",
       "      <td>248.779999</td>\n",
       "      <td>157.649994</td>\n",
       "      <td>59.090000</td>\n",
       "      <td>54.689999</td>\n",
       "      <td>98.830002</td>\n",
       "    </tr>\n",
       "    <tr>\n",
       "      <th>...</th>\n",
       "      <td>...</td>\n",
       "      <td>...</td>\n",
       "      <td>...</td>\n",
       "      <td>...</td>\n",
       "      <td>...</td>\n",
       "      <td>...</td>\n",
       "      <td>...</td>\n",
       "      <td>...</td>\n",
       "      <td>...</td>\n",
       "      <td>...</td>\n",
       "      <td>...</td>\n",
       "      <td>...</td>\n",
       "      <td>...</td>\n",
       "      <td>...</td>\n",
       "      <td>...</td>\n",
       "      <td>...</td>\n",
       "      <td>...</td>\n",
       "      <td>...</td>\n",
       "      <td>...</td>\n",
       "      <td>...</td>\n",
       "      <td>...</td>\n",
       "    </tr>\n",
       "    <tr>\n",
       "      <th>2021-06-08</th>\n",
       "      <td>126.739998</td>\n",
       "      <td>236.820007</td>\n",
       "      <td>166.509995</td>\n",
       "      <td>252.759995</td>\n",
       "      <td>240.160004</td>\n",
       "      <td>236.419998</td>\n",
       "      <td>54.130001</td>\n",
       "      <td>108.730003</td>\n",
       "      <td>176.330002</td>\n",
       "      <td>69.379997</td>\n",
       "      <td>...</td>\n",
       "      <td>72.400002</td>\n",
       "      <td>252.570007</td>\n",
       "      <td>133.350006</td>\n",
       "      <td>134.839996</td>\n",
       "      <td>157.539993</td>\n",
       "      <td>401.739990</td>\n",
       "      <td>232.050003</td>\n",
       "      <td>57.150002</td>\n",
       "      <td>54.000000</td>\n",
       "      <td>139.830002</td>\n",
       "    </tr>\n",
       "    <tr>\n",
       "      <th>2021-06-09</th>\n",
       "      <td>127.129997</td>\n",
       "      <td>239.520004</td>\n",
       "      <td>164.089996</td>\n",
       "      <td>248.059998</td>\n",
       "      <td>234.649994</td>\n",
       "      <td>236.089996</td>\n",
       "      <td>54.020000</td>\n",
       "      <td>107.779999</td>\n",
       "      <td>176.039993</td>\n",
       "      <td>68.839996</td>\n",
       "      <td>...</td>\n",
       "      <td>74.040001</td>\n",
       "      <td>253.589996</td>\n",
       "      <td>131.839996</td>\n",
       "      <td>134.789993</td>\n",
       "      <td>154.740005</td>\n",
       "      <td>401.100006</td>\n",
       "      <td>232.309998</td>\n",
       "      <td>57.049999</td>\n",
       "      <td>53.430000</td>\n",
       "      <td>139.080002</td>\n",
       "    </tr>\n",
       "    <tr>\n",
       "      <th>2021-06-10</th>\n",
       "      <td>126.110001</td>\n",
       "      <td>244.639999</td>\n",
       "      <td>162.229996</td>\n",
       "      <td>248.339996</td>\n",
       "      <td>225.729996</td>\n",
       "      <td>240.190002</td>\n",
       "      <td>55.029999</td>\n",
       "      <td>108.410004</td>\n",
       "      <td>176.570007</td>\n",
       "      <td>67.989998</td>\n",
       "      <td>...</td>\n",
       "      <td>76.139999</td>\n",
       "      <td>257.239990</td>\n",
       "      <td>130.979996</td>\n",
       "      <td>135.789993</td>\n",
       "      <td>154.020004</td>\n",
       "      <td>401.489990</td>\n",
       "      <td>233.949997</td>\n",
       "      <td>57.340000</td>\n",
       "      <td>55.310001</td>\n",
       "      <td>139.880005</td>\n",
       "    </tr>\n",
       "    <tr>\n",
       "      <th>2021-06-11</th>\n",
       "      <td>127.349998</td>\n",
       "      <td>242.770004</td>\n",
       "      <td>164.509995</td>\n",
       "      <td>247.279999</td>\n",
       "      <td>220.699997</td>\n",
       "      <td>240.309998</td>\n",
       "      <td>54.770000</td>\n",
       "      <td>107.910004</td>\n",
       "      <td>177.380005</td>\n",
       "      <td>68.000000</td>\n",
       "      <td>...</td>\n",
       "      <td>76.269997</td>\n",
       "      <td>257.890015</td>\n",
       "      <td>131.940002</td>\n",
       "      <td>134.860001</td>\n",
       "      <td>154.479996</td>\n",
       "      <td>397.890015</td>\n",
       "      <td>234.960007</td>\n",
       "      <td>57.330002</td>\n",
       "      <td>55.310001</td>\n",
       "      <td>140.750000</td>\n",
       "    </tr>\n",
       "    <tr>\n",
       "      <th>2021-06-14</th>\n",
       "      <td>130.479996</td>\n",
       "      <td>241.190002</td>\n",
       "      <td>163.809998</td>\n",
       "      <td>245.139999</td>\n",
       "      <td>219.009995</td>\n",
       "      <td>246.259995</td>\n",
       "      <td>54.169998</td>\n",
       "      <td>107.970001</td>\n",
       "      <td>178.179993</td>\n",
       "      <td>66.959999</td>\n",
       "      <td>...</td>\n",
       "      <td>75.449997</td>\n",
       "      <td>259.890015</td>\n",
       "      <td>131.360001</td>\n",
       "      <td>134.910004</td>\n",
       "      <td>153.250000</td>\n",
       "      <td>399.160004</td>\n",
       "      <td>234.080002</td>\n",
       "      <td>57.180000</td>\n",
       "      <td>54.430000</td>\n",
       "      <td>140.559998</td>\n",
       "    </tr>\n",
       "  </tbody>\n",
       "</table>\n",
       "<p>556 rows × 30 columns</p>\n",
       "</div>"
      ],
      "text/plain": [
       "                  AAPL        AMGN         AXP          BA         CAT  \\\n",
       "Date                                                                     \n",
       "2019-04-01   47.810001  191.770004  111.699997  391.540009  140.250000   \n",
       "2019-04-02   48.505001  192.429993  111.000000  390.750000  140.190002   \n",
       "2019-04-03   48.837502  192.919998  110.559998  384.739990  139.259995   \n",
       "2019-04-04   48.922501  192.330002  110.120003  395.859985  140.130005   \n",
       "2019-04-05   49.250000  195.410004  110.959999  391.929993  140.360001   \n",
       "...                ...         ...         ...         ...         ...   \n",
       "2021-06-08  126.739998  236.820007  166.509995  252.759995  240.160004   \n",
       "2021-06-09  127.129997  239.520004  164.089996  248.059998  234.649994   \n",
       "2021-06-10  126.110001  244.639999  162.229996  248.339996  225.729996   \n",
       "2021-06-11  127.349998  242.770004  164.509995  247.279999  220.699997   \n",
       "2021-06-14  130.479996  241.190002  163.809998  245.139999  219.009995   \n",
       "\n",
       "                   CRM       CSCO         CVX         DIS        DOW  ...  \\\n",
       "Date                                                                  ...   \n",
       "2019-04-01  161.179993  54.980000  124.940002  112.510002  53.500000  ...   \n",
       "2019-04-02  160.509995  55.290001  124.930000  111.959999  56.250000  ...   \n",
       "2019-04-03  162.619995  55.630001  123.889999  112.519997  56.880001  ...   \n",
       "2019-04-04  158.520004  55.139999  124.800003  114.750000  59.709999  ...   \n",
       "2019-04-05  158.559998  55.209999  126.419998  115.000000  57.240002  ...   \n",
       "...                ...        ...         ...         ...        ...  ...   \n",
       "2021-06-08  236.419998  54.130001  108.730003  176.330002  69.379997  ...   \n",
       "2021-06-09  236.089996  54.020000  107.779999  176.039993  68.839996  ...   \n",
       "2021-06-10  240.190002  55.029999  108.410004  176.570007  67.989998  ...   \n",
       "2021-06-11  240.309998  54.770000  107.910004  177.380005  68.000000  ...   \n",
       "2021-06-14  246.259995  54.169998  107.970001  178.179993  66.959999  ...   \n",
       "\n",
       "                  MRK        MSFT         NKE          PG         TRV  \\\n",
       "Date                                                                    \n",
       "2019-04-01  79.484734  119.019997   85.230003  103.639999  138.020004   \n",
       "2019-04-02  79.398857  119.190002   84.370003  103.750000  136.809998   \n",
       "2019-04-03  79.370232  119.970001   84.470001  103.690002  136.600006   \n",
       "2019-04-04  78.101143  119.360001   85.279999  103.430000  136.520004   \n",
       "2019-04-05  77.433205  119.889999   85.400002  103.650002  136.399994   \n",
       "...               ...         ...         ...         ...         ...   \n",
       "2021-06-08  72.400002  252.570007  133.350006  134.839996  157.539993   \n",
       "2021-06-09  74.040001  253.589996  131.839996  134.789993  154.740005   \n",
       "2021-06-10  76.139999  257.239990  130.979996  135.789993  154.020004   \n",
       "2021-06-11  76.269997  257.890015  131.940002  134.860001  154.479996   \n",
       "2021-06-14  75.449997  259.890015  131.360001  134.910004  153.250000   \n",
       "\n",
       "                   UNH           V         VZ        WBA         WMT  \n",
       "Date                                                                  \n",
       "2019-04-01  245.539993  157.259995  59.090000  63.490002   97.820000  \n",
       "2019-04-02  244.410004  157.779999  58.529999  55.360001   96.940002  \n",
       "2019-04-03  245.839996  158.460007  58.869999  54.840000   97.190002  \n",
       "2019-04-04  247.389999  157.639999  58.990002  54.150002   98.110001  \n",
       "2019-04-05  248.779999  157.649994  59.090000  54.689999   98.830002  \n",
       "...                ...         ...        ...        ...         ...  \n",
       "2021-06-08  401.739990  232.050003  57.150002  54.000000  139.830002  \n",
       "2021-06-09  401.100006  232.309998  57.049999  53.430000  139.080002  \n",
       "2021-06-10  401.489990  233.949997  57.340000  55.310001  139.880005  \n",
       "2021-06-11  397.890015  234.960007  57.330002  55.310001  140.750000  \n",
       "2021-06-14  399.160004  234.080002  57.180000  54.430000  140.559998  \n",
       "\n",
       "[556 rows x 30 columns]"
      ]
     },
     "execution_count": 887,
     "metadata": {},
     "output_type": "execute_result"
    }
   ],
   "source": [
    "df = pd.read_csv(\"Dow_Jones.csv\", index_col = \"Date\", parse_dates = [\"Date\"])\n",
    "df"
   ]
  },
  {
   "cell_type": "code",
   "execution_count": 61,
   "id": "eaa15a9e",
   "metadata": {},
   "outputs": [
    {
     "name": "stdout",
     "output_type": "stream",
     "text": [
      "<class 'pandas.core.frame.DataFrame'>\n",
      "DatetimeIndex: 556 entries, 2019-04-01 to 2021-06-14\n",
      "Data columns (total 30 columns):\n",
      " #   Column  Non-Null Count  Dtype  \n",
      "---  ------  --------------  -----  \n",
      " 0   AAPL    556 non-null    float64\n",
      " 1   AMGN    556 non-null    float64\n",
      " 2   AXP     556 non-null    float64\n",
      " 3   BA      556 non-null    float64\n",
      " 4   CAT     556 non-null    float64\n",
      " 5   CRM     556 non-null    float64\n",
      " 6   CSCO    556 non-null    float64\n",
      " 7   CVX     556 non-null    float64\n",
      " 8   DIS     556 non-null    float64\n",
      " 9   DOW     556 non-null    float64\n",
      " 10  GS      556 non-null    float64\n",
      " 11  HD      556 non-null    float64\n",
      " 12  HON     556 non-null    float64\n",
      " 13  IBM     556 non-null    float64\n",
      " 14  INTC    556 non-null    float64\n",
      " 15  JNJ     556 non-null    float64\n",
      " 16  JPM     556 non-null    float64\n",
      " 17  KO      556 non-null    float64\n",
      " 18  MCD     556 non-null    float64\n",
      " 19  MMM     556 non-null    float64\n",
      " 20  MRK     556 non-null    float64\n",
      " 21  MSFT    556 non-null    float64\n",
      " 22  NKE     556 non-null    float64\n",
      " 23  PG      556 non-null    float64\n",
      " 24  TRV     556 non-null    float64\n",
      " 25  UNH     556 non-null    float64\n",
      " 26  V       556 non-null    float64\n",
      " 27  VZ      556 non-null    float64\n",
      " 28  WBA     556 non-null    float64\n",
      " 29  WMT     556 non-null    float64\n",
      "dtypes: float64(30)\n",
      "memory usage: 134.7 KB\n"
     ]
    }
   ],
   "source": [
    "df.info()"
   ]
  },
  {
   "cell_type": "code",
   "execution_count": 888,
   "id": "76e6f318",
   "metadata": {},
   "outputs": [
    {
     "data": {
      "text/html": [
       "<div>\n",
       "<style scoped>\n",
       "    .dataframe tbody tr th:only-of-type {\n",
       "        vertical-align: middle;\n",
       "    }\n",
       "\n",
       "    .dataframe tbody tr th {\n",
       "        vertical-align: top;\n",
       "    }\n",
       "\n",
       "    .dataframe thead th {\n",
       "        text-align: right;\n",
       "    }\n",
       "</style>\n",
       "<table border=\"1\" class=\"dataframe\">\n",
       "  <thead>\n",
       "    <tr style=\"text-align: right;\">\n",
       "      <th></th>\n",
       "      <th>AAPL</th>\n",
       "      <th>AMGN</th>\n",
       "      <th>AXP</th>\n",
       "      <th>BA</th>\n",
       "      <th>CAT</th>\n",
       "      <th>CRM</th>\n",
       "      <th>CSCO</th>\n",
       "      <th>CVX</th>\n",
       "      <th>DIS</th>\n",
       "      <th>DOW</th>\n",
       "      <th>...</th>\n",
       "      <th>MRK</th>\n",
       "      <th>MSFT</th>\n",
       "      <th>NKE</th>\n",
       "      <th>PG</th>\n",
       "      <th>TRV</th>\n",
       "      <th>UNH</th>\n",
       "      <th>V</th>\n",
       "      <th>VZ</th>\n",
       "      <th>WBA</th>\n",
       "      <th>WMT</th>\n",
       "    </tr>\n",
       "    <tr>\n",
       "      <th>Date</th>\n",
       "      <th></th>\n",
       "      <th></th>\n",
       "      <th></th>\n",
       "      <th></th>\n",
       "      <th></th>\n",
       "      <th></th>\n",
       "      <th></th>\n",
       "      <th></th>\n",
       "      <th></th>\n",
       "      <th></th>\n",
       "      <th></th>\n",
       "      <th></th>\n",
       "      <th></th>\n",
       "      <th></th>\n",
       "      <th></th>\n",
       "      <th></th>\n",
       "      <th></th>\n",
       "      <th></th>\n",
       "      <th></th>\n",
       "      <th></th>\n",
       "      <th></th>\n",
       "    </tr>\n",
       "  </thead>\n",
       "  <tbody>\n",
       "    <tr>\n",
       "      <th>2019-04-01</th>\n",
       "      <td>NaN</td>\n",
       "      <td>NaN</td>\n",
       "      <td>NaN</td>\n",
       "      <td>NaN</td>\n",
       "      <td>NaN</td>\n",
       "      <td>NaN</td>\n",
       "      <td>NaN</td>\n",
       "      <td>NaN</td>\n",
       "      <td>NaN</td>\n",
       "      <td>NaN</td>\n",
       "      <td>...</td>\n",
       "      <td>NaN</td>\n",
       "      <td>NaN</td>\n",
       "      <td>NaN</td>\n",
       "      <td>NaN</td>\n",
       "      <td>NaN</td>\n",
       "      <td>NaN</td>\n",
       "      <td>NaN</td>\n",
       "      <td>NaN</td>\n",
       "      <td>NaN</td>\n",
       "      <td>NaN</td>\n",
       "    </tr>\n",
       "    <tr>\n",
       "      <th>2019-04-02</th>\n",
       "      <td>0.014432</td>\n",
       "      <td>0.003436</td>\n",
       "      <td>-0.006286</td>\n",
       "      <td>-0.002020</td>\n",
       "      <td>-0.000428</td>\n",
       "      <td>-0.004165</td>\n",
       "      <td>0.005623</td>\n",
       "      <td>-0.000080</td>\n",
       "      <td>-0.004900</td>\n",
       "      <td>0.050124</td>\n",
       "      <td>...</td>\n",
       "      <td>-0.001081</td>\n",
       "      <td>0.001427</td>\n",
       "      <td>-0.010142</td>\n",
       "      <td>0.001061</td>\n",
       "      <td>-0.008806</td>\n",
       "      <td>-0.004613</td>\n",
       "      <td>0.003301</td>\n",
       "      <td>-0.009522</td>\n",
       "      <td>-0.137025</td>\n",
       "      <td>-0.009037</td>\n",
       "    </tr>\n",
       "    <tr>\n",
       "      <th>2019-04-03</th>\n",
       "      <td>0.006832</td>\n",
       "      <td>0.002543</td>\n",
       "      <td>-0.003972</td>\n",
       "      <td>-0.015500</td>\n",
       "      <td>-0.006656</td>\n",
       "      <td>0.013060</td>\n",
       "      <td>0.006131</td>\n",
       "      <td>-0.008360</td>\n",
       "      <td>0.004989</td>\n",
       "      <td>0.011138</td>\n",
       "      <td>...</td>\n",
       "      <td>-0.000361</td>\n",
       "      <td>0.006523</td>\n",
       "      <td>0.001185</td>\n",
       "      <td>-0.000578</td>\n",
       "      <td>-0.001536</td>\n",
       "      <td>0.005834</td>\n",
       "      <td>0.004301</td>\n",
       "      <td>0.005792</td>\n",
       "      <td>-0.009437</td>\n",
       "      <td>0.002576</td>\n",
       "    </tr>\n",
       "    <tr>\n",
       "      <th>2019-04-04</th>\n",
       "      <td>0.001739</td>\n",
       "      <td>-0.003063</td>\n",
       "      <td>-0.003988</td>\n",
       "      <td>0.028493</td>\n",
       "      <td>0.006228</td>\n",
       "      <td>-0.025535</td>\n",
       "      <td>-0.008847</td>\n",
       "      <td>0.007318</td>\n",
       "      <td>0.019625</td>\n",
       "      <td>0.048556</td>\n",
       "      <td>...</td>\n",
       "      <td>-0.016119</td>\n",
       "      <td>-0.005098</td>\n",
       "      <td>0.009543</td>\n",
       "      <td>-0.002511</td>\n",
       "      <td>-0.000586</td>\n",
       "      <td>0.006285</td>\n",
       "      <td>-0.005188</td>\n",
       "      <td>0.002036</td>\n",
       "      <td>-0.012662</td>\n",
       "      <td>0.009421</td>\n",
       "    </tr>\n",
       "    <tr>\n",
       "      <th>2019-04-05</th>\n",
       "      <td>0.006672</td>\n",
       "      <td>0.015887</td>\n",
       "      <td>0.007599</td>\n",
       "      <td>-0.009977</td>\n",
       "      <td>0.001640</td>\n",
       "      <td>0.000252</td>\n",
       "      <td>0.001269</td>\n",
       "      <td>0.012897</td>\n",
       "      <td>0.002176</td>\n",
       "      <td>-0.042247</td>\n",
       "      <td>...</td>\n",
       "      <td>-0.008589</td>\n",
       "      <td>0.004431</td>\n",
       "      <td>0.001406</td>\n",
       "      <td>0.002125</td>\n",
       "      <td>-0.000879</td>\n",
       "      <td>0.005603</td>\n",
       "      <td>0.000063</td>\n",
       "      <td>0.001694</td>\n",
       "      <td>0.009923</td>\n",
       "      <td>0.007312</td>\n",
       "    </tr>\n",
       "    <tr>\n",
       "      <th>...</th>\n",
       "      <td>...</td>\n",
       "      <td>...</td>\n",
       "      <td>...</td>\n",
       "      <td>...</td>\n",
       "      <td>...</td>\n",
       "      <td>...</td>\n",
       "      <td>...</td>\n",
       "      <td>...</td>\n",
       "      <td>...</td>\n",
       "      <td>...</td>\n",
       "      <td>...</td>\n",
       "      <td>...</td>\n",
       "      <td>...</td>\n",
       "      <td>...</td>\n",
       "      <td>...</td>\n",
       "      <td>...</td>\n",
       "      <td>...</td>\n",
       "      <td>...</td>\n",
       "      <td>...</td>\n",
       "      <td>...</td>\n",
       "      <td>...</td>\n",
       "    </tr>\n",
       "    <tr>\n",
       "      <th>2021-06-08</th>\n",
       "      <td>0.006650</td>\n",
       "      <td>-0.001561</td>\n",
       "      <td>0.003550</td>\n",
       "      <td>0.000396</td>\n",
       "      <td>0.001667</td>\n",
       "      <td>-0.007249</td>\n",
       "      <td>0.003887</td>\n",
       "      <td>0.009054</td>\n",
       "      <td>-0.003736</td>\n",
       "      <td>0.002020</td>\n",
       "      <td>...</td>\n",
       "      <td>-0.005510</td>\n",
       "      <td>-0.004897</td>\n",
       "      <td>-0.004489</td>\n",
       "      <td>-0.011649</td>\n",
       "      <td>-0.001396</td>\n",
       "      <td>0.003716</td>\n",
       "      <td>0.003151</td>\n",
       "      <td>-0.000874</td>\n",
       "      <td>-0.010317</td>\n",
       "      <td>-0.007623</td>\n",
       "    </tr>\n",
       "    <tr>\n",
       "      <th>2021-06-09</th>\n",
       "      <td>0.003072</td>\n",
       "      <td>0.011337</td>\n",
       "      <td>-0.014640</td>\n",
       "      <td>-0.018770</td>\n",
       "      <td>-0.023210</td>\n",
       "      <td>-0.001397</td>\n",
       "      <td>-0.002034</td>\n",
       "      <td>-0.008776</td>\n",
       "      <td>-0.001646</td>\n",
       "      <td>-0.007814</td>\n",
       "      <td>...</td>\n",
       "      <td>0.022399</td>\n",
       "      <td>0.004030</td>\n",
       "      <td>-0.011388</td>\n",
       "      <td>-0.000371</td>\n",
       "      <td>-0.017933</td>\n",
       "      <td>-0.001594</td>\n",
       "      <td>0.001120</td>\n",
       "      <td>-0.001751</td>\n",
       "      <td>-0.010612</td>\n",
       "      <td>-0.005378</td>\n",
       "    </tr>\n",
       "    <tr>\n",
       "      <th>2021-06-10</th>\n",
       "      <td>-0.008056</td>\n",
       "      <td>0.021151</td>\n",
       "      <td>-0.011400</td>\n",
       "      <td>0.001128</td>\n",
       "      <td>-0.038755</td>\n",
       "      <td>0.017217</td>\n",
       "      <td>0.018524</td>\n",
       "      <td>0.005828</td>\n",
       "      <td>0.003006</td>\n",
       "      <td>-0.012424</td>\n",
       "      <td>...</td>\n",
       "      <td>0.027968</td>\n",
       "      <td>0.014291</td>\n",
       "      <td>-0.006544</td>\n",
       "      <td>0.007392</td>\n",
       "      <td>-0.004664</td>\n",
       "      <td>0.000972</td>\n",
       "      <td>0.007035</td>\n",
       "      <td>0.005070</td>\n",
       "      <td>0.034581</td>\n",
       "      <td>0.005736</td>\n",
       "    </tr>\n",
       "    <tr>\n",
       "      <th>2021-06-11</th>\n",
       "      <td>0.009785</td>\n",
       "      <td>-0.007673</td>\n",
       "      <td>0.013956</td>\n",
       "      <td>-0.004277</td>\n",
       "      <td>-0.022535</td>\n",
       "      <td>0.000499</td>\n",
       "      <td>-0.004736</td>\n",
       "      <td>-0.004623</td>\n",
       "      <td>0.004577</td>\n",
       "      <td>0.000147</td>\n",
       "      <td>...</td>\n",
       "      <td>0.001706</td>\n",
       "      <td>0.002524</td>\n",
       "      <td>0.007303</td>\n",
       "      <td>-0.006872</td>\n",
       "      <td>0.002982</td>\n",
       "      <td>-0.009007</td>\n",
       "      <td>0.004308</td>\n",
       "      <td>-0.000174</td>\n",
       "      <td>0.000000</td>\n",
       "      <td>0.006200</td>\n",
       "    </tr>\n",
       "    <tr>\n",
       "      <th>2021-06-14</th>\n",
       "      <td>0.024281</td>\n",
       "      <td>-0.006529</td>\n",
       "      <td>-0.004264</td>\n",
       "      <td>-0.008692</td>\n",
       "      <td>-0.007687</td>\n",
       "      <td>0.024458</td>\n",
       "      <td>-0.011015</td>\n",
       "      <td>0.000556</td>\n",
       "      <td>0.004500</td>\n",
       "      <td>-0.015412</td>\n",
       "      <td>...</td>\n",
       "      <td>-0.010809</td>\n",
       "      <td>0.007725</td>\n",
       "      <td>-0.004406</td>\n",
       "      <td>0.000371</td>\n",
       "      <td>-0.007994</td>\n",
       "      <td>0.003187</td>\n",
       "      <td>-0.003752</td>\n",
       "      <td>-0.002620</td>\n",
       "      <td>-0.016038</td>\n",
       "      <td>-0.001351</td>\n",
       "    </tr>\n",
       "  </tbody>\n",
       "</table>\n",
       "<p>556 rows × 30 columns</p>\n",
       "</div>"
      ],
      "text/plain": [
       "                AAPL      AMGN       AXP        BA       CAT       CRM  \\\n",
       "Date                                                                     \n",
       "2019-04-01       NaN       NaN       NaN       NaN       NaN       NaN   \n",
       "2019-04-02  0.014432  0.003436 -0.006286 -0.002020 -0.000428 -0.004165   \n",
       "2019-04-03  0.006832  0.002543 -0.003972 -0.015500 -0.006656  0.013060   \n",
       "2019-04-04  0.001739 -0.003063 -0.003988  0.028493  0.006228 -0.025535   \n",
       "2019-04-05  0.006672  0.015887  0.007599 -0.009977  0.001640  0.000252   \n",
       "...              ...       ...       ...       ...       ...       ...   \n",
       "2021-06-08  0.006650 -0.001561  0.003550  0.000396  0.001667 -0.007249   \n",
       "2021-06-09  0.003072  0.011337 -0.014640 -0.018770 -0.023210 -0.001397   \n",
       "2021-06-10 -0.008056  0.021151 -0.011400  0.001128 -0.038755  0.017217   \n",
       "2021-06-11  0.009785 -0.007673  0.013956 -0.004277 -0.022535  0.000499   \n",
       "2021-06-14  0.024281 -0.006529 -0.004264 -0.008692 -0.007687  0.024458   \n",
       "\n",
       "                CSCO       CVX       DIS       DOW  ...       MRK      MSFT  \\\n",
       "Date                                                ...                       \n",
       "2019-04-01       NaN       NaN       NaN       NaN  ...       NaN       NaN   \n",
       "2019-04-02  0.005623 -0.000080 -0.004900  0.050124  ... -0.001081  0.001427   \n",
       "2019-04-03  0.006131 -0.008360  0.004989  0.011138  ... -0.000361  0.006523   \n",
       "2019-04-04 -0.008847  0.007318  0.019625  0.048556  ... -0.016119 -0.005098   \n",
       "2019-04-05  0.001269  0.012897  0.002176 -0.042247  ... -0.008589  0.004431   \n",
       "...              ...       ...       ...       ...  ...       ...       ...   \n",
       "2021-06-08  0.003887  0.009054 -0.003736  0.002020  ... -0.005510 -0.004897   \n",
       "2021-06-09 -0.002034 -0.008776 -0.001646 -0.007814  ...  0.022399  0.004030   \n",
       "2021-06-10  0.018524  0.005828  0.003006 -0.012424  ...  0.027968  0.014291   \n",
       "2021-06-11 -0.004736 -0.004623  0.004577  0.000147  ...  0.001706  0.002524   \n",
       "2021-06-14 -0.011015  0.000556  0.004500 -0.015412  ... -0.010809  0.007725   \n",
       "\n",
       "                 NKE        PG       TRV       UNH         V        VZ  \\\n",
       "Date                                                                     \n",
       "2019-04-01       NaN       NaN       NaN       NaN       NaN       NaN   \n",
       "2019-04-02 -0.010142  0.001061 -0.008806 -0.004613  0.003301 -0.009522   \n",
       "2019-04-03  0.001185 -0.000578 -0.001536  0.005834  0.004301  0.005792   \n",
       "2019-04-04  0.009543 -0.002511 -0.000586  0.006285 -0.005188  0.002036   \n",
       "2019-04-05  0.001406  0.002125 -0.000879  0.005603  0.000063  0.001694   \n",
       "...              ...       ...       ...       ...       ...       ...   \n",
       "2021-06-08 -0.004489 -0.011649 -0.001396  0.003716  0.003151 -0.000874   \n",
       "2021-06-09 -0.011388 -0.000371 -0.017933 -0.001594  0.001120 -0.001751   \n",
       "2021-06-10 -0.006544  0.007392 -0.004664  0.000972  0.007035  0.005070   \n",
       "2021-06-11  0.007303 -0.006872  0.002982 -0.009007  0.004308 -0.000174   \n",
       "2021-06-14 -0.004406  0.000371 -0.007994  0.003187 -0.003752 -0.002620   \n",
       "\n",
       "                 WBA       WMT  \n",
       "Date                            \n",
       "2019-04-01       NaN       NaN  \n",
       "2019-04-02 -0.137025 -0.009037  \n",
       "2019-04-03 -0.009437  0.002576  \n",
       "2019-04-04 -0.012662  0.009421  \n",
       "2019-04-05  0.009923  0.007312  \n",
       "...              ...       ...  \n",
       "2021-06-08 -0.010317 -0.007623  \n",
       "2021-06-09 -0.010612 -0.005378  \n",
       "2021-06-10  0.034581  0.005736  \n",
       "2021-06-11  0.000000  0.006200  \n",
       "2021-06-14 -0.016038 -0.001351  \n",
       "\n",
       "[556 rows x 30 columns]"
      ]
     },
     "execution_count": 888,
     "metadata": {},
     "output_type": "execute_result"
    }
   ],
   "source": [
    "returns = np.log(df / df.shift()) # daily log returns\n",
    "returns"
   ]
  },
  {
   "cell_type": "code",
   "execution_count": 63,
   "id": "09ed3b10",
   "metadata": {},
   "outputs": [],
   "source": [
    "def sharpe(series, rf = 0):\n",
    "    \n",
    "    if series.std() == 0:\n",
    "        return np.nan\n",
    "    else:\n",
    "        return (series.mean() - rf) / series.std() * np.sqrt(series.count() / ((series.index[-1] - series.index[0]).days / 365.25))"
   ]
  },
  {
   "cell_type": "code",
   "execution_count": 302,
   "id": "ead8499d",
   "metadata": {},
   "outputs": [
    {
     "data": {
      "text/plain": [
       "AAPL    1.238518\n",
       "MSFT    1.064614\n",
       "GS      0.739349\n",
       "WMT     0.680650\n",
       "HD      0.623777\n",
       "NKE     0.604849\n",
       "UNH     0.601526\n",
       "CAT     0.567079\n",
       "V       0.559391\n",
       "DIS     0.556242\n",
       "CRM     0.480283\n",
       "PG      0.477604\n",
       "JPM     0.470414\n",
       "HON     0.438253\n",
       "AXP     0.383773\n",
       "MCD     0.353299\n",
       "AMGN    0.347269\n",
       "JNJ     0.330012\n",
       "KO      0.300797\n",
       "DOW     0.207472\n",
       "TRV     0.129778\n",
       "INTC    0.068929\n",
       "IBM     0.064626\n",
       "CSCO   -0.020246\n",
       "VZ     -0.073628\n",
       "MMM    -0.074465\n",
       "MRK    -0.091850\n",
       "CVX    -0.147798\n",
       "WBA    -0.179352\n",
       "BA     -0.333924\n",
       "dtype: float64"
      ]
     },
     "execution_count": 302,
     "metadata": {},
     "output_type": "execute_result"
    }
   ],
   "source": [
    "returns.apply(sharpe).sort_values(ascending = False)"
   ]
  },
  {
   "cell_type": "markdown",
   "id": "f062e795",
   "metadata": {},
   "source": [
    "Best Performing Stock: __Apple__ (AAPL) <br>\n",
    "Worst Performing Stock: __Non-determinable__ (note: you can´t compare negative Sharpe Ratios)"
   ]
  },
  {
   "cell_type": "code",
   "execution_count": null,
   "id": "777fdd58",
   "metadata": {},
   "outputs": [],
   "source": []
  }
 ],
 "metadata": {
  "kernelspec": {
   "display_name": "Python 3 (ipykernel)",
   "language": "python",
   "name": "python3"
  },
  "language_info": {
   "codemirror_mode": {
    "name": "ipython",
    "version": 3
   },
   "file_extension": ".py",
   "mimetype": "text/x-python",
   "name": "python",
   "nbconvert_exporter": "python",
   "pygments_lexer": "ipython3",
   "version": "3.7.13"
  }
 },
 "nbformat": 4,
 "nbformat_minor": 5
}
