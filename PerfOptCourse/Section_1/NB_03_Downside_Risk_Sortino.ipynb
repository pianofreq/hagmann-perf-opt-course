{
 "cells": [
  {
   "cell_type": "markdown",
   "id": "pregnant-transcript",
   "metadata": {},
   "source": [
    "# Downside Risk and Sortino Ratio"
   ]
  },
  {
   "cell_type": "markdown",
   "id": "statutory-journey",
   "metadata": {},
   "source": [
    "## Getting Ready"
   ]
  },
  {
   "cell_type": "code",
   "execution_count": null,
   "id": "loving-harvey",
   "metadata": {},
   "outputs": [],
   "source": [
    "import pandas as pd\n",
    "import numpy as np\n",
    "import matplotlib.pyplot as plt\n",
    "plt.style.use(\"seaborn\")"
   ]
  },
  {
   "cell_type": "code",
   "execution_count": null,
   "id": "psychological-weekend",
   "metadata": {},
   "outputs": [],
   "source": [
    "returns = pd.read_csv(\"returns.csv\", index_col = \"Date\", parse_dates = [\"Date\"])\n",
    "returns.head(50)"
   ]
  },
  {
   "cell_type": "code",
   "execution_count": null,
   "id": "spanish-flush",
   "metadata": {
    "scrolled": false
   },
   "outputs": [],
   "source": [
    "returns.cumsum().apply(np.exp).plot(figsize = (12, 8))\n",
    "plt.show()"
   ]
  },
  {
   "cell_type": "code",
   "execution_count": null,
   "id": "regulated-newton",
   "metadata": {
    "scrolled": true
   },
   "outputs": [],
   "source": [
    "td_year = (returns.count() / ((returns.index[-1] - returns.index[0]).days / 365.25)).iloc[0]\n",
    "td_year"
   ]
  },
  {
   "cell_type": "code",
   "execution_count": null,
   "id": "b49d49d2",
   "metadata": {},
   "outputs": [],
   "source": []
  },
  {
   "cell_type": "markdown",
   "id": "faced-fighter",
   "metadata": {},
   "source": [
    "## Downside Deviation (Semi-Deviation)"
   ]
  },
  {
   "cell_type": "code",
   "execution_count": null,
   "id": "18b6e5e6",
   "metadata": {},
   "outputs": [],
   "source": [
    "returns"
   ]
  },
  {
   "cell_type": "code",
   "execution_count": null,
   "id": "3226b532",
   "metadata": {},
   "outputs": [],
   "source": [
    "symbol = \"USD_GBP\""
   ]
  },
  {
   "cell_type": "code",
   "execution_count": null,
   "id": "stunning-flashing",
   "metadata": {},
   "outputs": [],
   "source": [
    "TMR = 0 # target minimum return"
   ]
  },
  {
   "cell_type": "code",
   "execution_count": null,
   "id": "altered-booth",
   "metadata": {},
   "outputs": [],
   "source": [
    "excess_returns = returns[symbol] - TMR # excess returns over TMR"
   ]
  },
  {
   "cell_type": "code",
   "execution_count": null,
   "id": "07d82da4",
   "metadata": {},
   "outputs": [],
   "source": [
    "excess_returns = np.where(excess_returns < 0, excess_returns, 0) # setting postive excess returns to zero. \n",
    "excess_returns"
   ]
  },
  {
   "cell_type": "code",
   "execution_count": null,
   "id": "sonic-screw",
   "metadata": {},
   "outputs": [],
   "source": [
    "downside_deviation = np.sqrt(np.mean(excess_returns**2)) \n",
    "downside_deviation"
   ]
  },
  {
   "cell_type": "code",
   "execution_count": null,
   "id": "7b9819a2",
   "metadata": {},
   "outputs": [],
   "source": []
  },
  {
   "cell_type": "markdown",
   "id": "ahead-premiere",
   "metadata": {},
   "source": [
    "## Sortino Ratio"
   ]
  },
  {
   "cell_type": "code",
   "execution_count": null,
   "id": "6bf49bf2",
   "metadata": {},
   "outputs": [],
   "source": [
    "downside_deviation"
   ]
  },
  {
   "cell_type": "code",
   "execution_count": null,
   "id": "labeled-terry",
   "metadata": {},
   "outputs": [],
   "source": [
    "mean = returns[symbol].mean() \n",
    "mean"
   ]
  },
  {
   "cell_type": "code",
   "execution_count": null,
   "id": "familiar-recommendation",
   "metadata": {},
   "outputs": [],
   "source": [
    "sortino = (mean - TMR) / downside_deviation * np.sqrt(td_year)\n",
    "sortino"
   ]
  },
  {
   "cell_type": "code",
   "execution_count": null,
   "id": "03b16918",
   "metadata": {},
   "outputs": [],
   "source": []
  },
  {
   "cell_type": "markdown",
   "id": "organizational-indie",
   "metadata": {},
   "source": [
    "## Putting everything toghether"
   ]
  },
  {
   "cell_type": "code",
   "execution_count": null,
   "id": "6fae042d",
   "metadata": {},
   "outputs": [],
   "source": [
    "import pandas as pd\n",
    "import numpy as np"
   ]
  },
  {
   "cell_type": "code",
   "execution_count": null,
   "id": "c8de91ac",
   "metadata": {},
   "outputs": [],
   "source": [
    "returns = pd.read_csv(\"returns.csv\", index_col = \"Date\", parse_dates = [\"Date\"])\n",
    "returns"
   ]
  },
  {
   "cell_type": "code",
   "execution_count": null,
   "id": "looking-festival",
   "metadata": {},
   "outputs": [],
   "source": [
    "def sortino(series, TMR = 0):\n",
    "    excess_returns = (series - TMR)\n",
    "    downside_deviation = np.sqrt(np.mean(np.where(excess_returns < 0, excess_returns, 0)**2))\n",
    "    if downside_deviation == 0:\n",
    "        return np.nan\n",
    "    else:\n",
    "        sortino = (series.mean() - TMR) / downside_deviation * np.sqrt(series.count() / ((series.index[-1] - series.index[0]).days / 365.25))\n",
    "        return sortino"
   ]
  },
  {
   "cell_type": "code",
   "execution_count": null,
   "id": "increasing-packaging",
   "metadata": {},
   "outputs": [],
   "source": [
    "returns.apply(sortino).sort_values(ascending = False)"
   ]
  },
  {
   "cell_type": "code",
   "execution_count": null,
   "id": "b4af5259",
   "metadata": {},
   "outputs": [],
   "source": [
    "sortino(series = returns.USD_GBP, TMR = 0)"
   ]
  },
  {
   "cell_type": "code",
   "execution_count": null,
   "id": "82e43295",
   "metadata": {},
   "outputs": [],
   "source": []
  },
  {
   "cell_type": "markdown",
   "id": "0bd0c776",
   "metadata": {},
   "source": [
    "-------------------------------------"
   ]
  },
  {
   "cell_type": "markdown",
   "id": "c290fb1b",
   "metadata": {},
   "source": [
    "## Coding Challenge"
   ]
  },
  {
   "cell_type": "markdown",
   "id": "3746827c",
   "metadata": {},
   "source": [
    "__Calculate and compare__ the __Sortino Ratio__ (assumption: TMR == 0) for __30 large US stocks__ that currently form the Dow Jones Industrial Average Index (\"Dow Jones\") for the time period between April 2019 and June 2021. "
   ]
  },
  {
   "cell_type": "markdown",
   "id": "941f8441",
   "metadata": {},
   "source": [
    "__Hint:__ You can __import__ the price data from __\"Dow_Jones.csv\"__.\n",
    " "
   ]
  },
  {
   "cell_type": "markdown",
   "id": "f012bb3d",
   "metadata": {},
   "source": [
    "Determine the __best performing stock__ and the __worst performing stock__ according to the Sortino Ratio."
   ]
  },
  {
   "cell_type": "markdown",
   "id": "9fc2a8c5",
   "metadata": {},
   "source": [
    "__Compare__ Sortino Ratio and Sharpe Ratio. Does the __ranking change__?"
   ]
  },
  {
   "cell_type": "markdown",
   "id": "21540e2a",
   "metadata": {},
   "source": [
    "(Remark: Dividends are ignored here. Hence, for simplicity reasons, the Sortino Ratio is based on Price Returns only. As a consequence, dividend-paying stocks are getting penalized.) "
   ]
  },
  {
   "cell_type": "code",
   "execution_count": 4,
   "id": "5c95b2af",
   "metadata": {},
   "outputs": [],
   "source": [
    "import pandas as pd\n",
    "import numpy as np\n",
    "import matplotlib.pyplot as plt\n",
    "plt.style.use('seaborn')\n",
    "\n",
    "def norm(sr=None):\n",
    "    if sr is None:\n",
    "        return np.nan\n",
    "    else:\n",
    "        sr.fillna(method='bfill', axis=0, inplace=True)\n",
    "        return (sr.div(sr.iloc[0]))\n",
    "    \n",
    "def sharpe_table(norm_returns = None, rf = 0):\n",
    "    result = pd.DataFrame()\n",
    "    result['mean'] = norm_returns.mean() * norm_returns.count() / ((norm_returns.index[-1] - norm_returns.index[0]).days / 365.25)\n",
    "    result['std'] = norm_returns.std() * np.sqrt(norm_returns.count() / ((norm_returns.index[-1] - norm_returns.index[0]).days / 365.25))\n",
    "    result['Sharpe Ratio'] = result['mean'].div(result['std'])\n",
    "    return result\n",
    "\n",
    "def plot_sharpe(df, l = 10):\n",
    "    limiter = l\n",
    "    #line = pd.DataFrame(data=[[0,0],[0.5,0.5]], columns=['x','y'])\n",
    "    plots = df.iloc[:limiter] \n",
    "    line = pd.DataFrame(data=[[0,0],[plots['std'].max(),plots['mean'].max()]], columns=['x','y'])\n",
    "\n",
    "    plt.figure(figsize = (12,8))\n",
    "\n",
    "    plots.plot(kind = \"scatter\", x='std', y='mean', figsize = (15,8), s = 50, fontsize = 15)\n",
    "    for i in plots.index:\n",
    "        plt.annotate(i, xy=(plots.loc[i, \"std\"]+0.0005, plots.loc[i, \"mean\"]+0.0005), size = 15)\n",
    "    plt.xlabel(\"Risk (std)\", fontsize = 15)\n",
    "    plt.ylabel(\"Mean Return\", fontsize = 15)\n",
    "    plt.title(\"Top {} Stocks: Mean-Variance Analysis\".format(limiter), fontsize = 20)\n",
    "    plt.plot(line.x, line.y, label = 'Trend Line')\n",
    "    plt.show()\n",
    "    \n",
    "def sortino(norm_returns = None, TMR = 0):\n",
    "    excess_returns = (norm_returns - TMR)\n",
    "    downside_deviation = np.sqrt(np.mean(np.where(excess_returns<0, excess_returns, 0)**2))\n",
    "    if downside_deviation ==0:\n",
    "        return np.nan\n",
    "    else:\n",
    "        sortino_result = (norm_returns.mean()-TMR)/downside_deviation * np.sqrt(norm_returns.count() /((norm_returns.index[-1] - norm_returns.index[0]).days / 365.25)) #this is td_year\n",
    "        return sortino_result"
   ]
  },
  {
   "cell_type": "code",
   "execution_count": 5,
   "id": "d164accf",
   "metadata": {},
   "outputs": [
    {
     "data": {
      "text/html": [
       "<div>\n",
       "<style scoped>\n",
       "    .dataframe tbody tr th:only-of-type {\n",
       "        vertical-align: middle;\n",
       "    }\n",
       "\n",
       "    .dataframe tbody tr th {\n",
       "        vertical-align: top;\n",
       "    }\n",
       "\n",
       "    .dataframe thead th {\n",
       "        text-align: right;\n",
       "    }\n",
       "</style>\n",
       "<table border=\"1\" class=\"dataframe\">\n",
       "  <thead>\n",
       "    <tr style=\"text-align: right;\">\n",
       "      <th></th>\n",
       "      <th>AAPL</th>\n",
       "      <th>AMGN</th>\n",
       "      <th>AXP</th>\n",
       "      <th>BA</th>\n",
       "      <th>CAT</th>\n",
       "      <th>CRM</th>\n",
       "      <th>CSCO</th>\n",
       "      <th>CVX</th>\n",
       "      <th>DIS</th>\n",
       "      <th>DOW</th>\n",
       "      <th>...</th>\n",
       "      <th>MRK</th>\n",
       "      <th>MSFT</th>\n",
       "      <th>NKE</th>\n",
       "      <th>PG</th>\n",
       "      <th>TRV</th>\n",
       "      <th>UNH</th>\n",
       "      <th>V</th>\n",
       "      <th>VZ</th>\n",
       "      <th>WBA</th>\n",
       "      <th>WMT</th>\n",
       "    </tr>\n",
       "    <tr>\n",
       "      <th>Date</th>\n",
       "      <th></th>\n",
       "      <th></th>\n",
       "      <th></th>\n",
       "      <th></th>\n",
       "      <th></th>\n",
       "      <th></th>\n",
       "      <th></th>\n",
       "      <th></th>\n",
       "      <th></th>\n",
       "      <th></th>\n",
       "      <th></th>\n",
       "      <th></th>\n",
       "      <th></th>\n",
       "      <th></th>\n",
       "      <th></th>\n",
       "      <th></th>\n",
       "      <th></th>\n",
       "      <th></th>\n",
       "      <th></th>\n",
       "      <th></th>\n",
       "      <th></th>\n",
       "    </tr>\n",
       "  </thead>\n",
       "  <tbody>\n",
       "    <tr>\n",
       "      <th>2019-04-01</th>\n",
       "      <td>47.810001</td>\n",
       "      <td>191.770004</td>\n",
       "      <td>111.699997</td>\n",
       "      <td>391.540009</td>\n",
       "      <td>140.250000</td>\n",
       "      <td>161.179993</td>\n",
       "      <td>54.980000</td>\n",
       "      <td>124.940002</td>\n",
       "      <td>112.510002</td>\n",
       "      <td>53.500000</td>\n",
       "      <td>...</td>\n",
       "      <td>79.484734</td>\n",
       "      <td>119.019997</td>\n",
       "      <td>85.230003</td>\n",
       "      <td>103.639999</td>\n",
       "      <td>138.020004</td>\n",
       "      <td>245.539993</td>\n",
       "      <td>157.259995</td>\n",
       "      <td>59.090000</td>\n",
       "      <td>63.490002</td>\n",
       "      <td>97.820000</td>\n",
       "    </tr>\n",
       "    <tr>\n",
       "      <th>2019-04-02</th>\n",
       "      <td>48.505001</td>\n",
       "      <td>192.429993</td>\n",
       "      <td>111.000000</td>\n",
       "      <td>390.750000</td>\n",
       "      <td>140.190002</td>\n",
       "      <td>160.509995</td>\n",
       "      <td>55.290001</td>\n",
       "      <td>124.930000</td>\n",
       "      <td>111.959999</td>\n",
       "      <td>56.250000</td>\n",
       "      <td>...</td>\n",
       "      <td>79.398857</td>\n",
       "      <td>119.190002</td>\n",
       "      <td>84.370003</td>\n",
       "      <td>103.750000</td>\n",
       "      <td>136.809998</td>\n",
       "      <td>244.410004</td>\n",
       "      <td>157.779999</td>\n",
       "      <td>58.529999</td>\n",
       "      <td>55.360001</td>\n",
       "      <td>96.940002</td>\n",
       "    </tr>\n",
       "    <tr>\n",
       "      <th>2019-04-03</th>\n",
       "      <td>48.837502</td>\n",
       "      <td>192.919998</td>\n",
       "      <td>110.559998</td>\n",
       "      <td>384.739990</td>\n",
       "      <td>139.259995</td>\n",
       "      <td>162.619995</td>\n",
       "      <td>55.630001</td>\n",
       "      <td>123.889999</td>\n",
       "      <td>112.519997</td>\n",
       "      <td>56.880001</td>\n",
       "      <td>...</td>\n",
       "      <td>79.370232</td>\n",
       "      <td>119.970001</td>\n",
       "      <td>84.470001</td>\n",
       "      <td>103.690002</td>\n",
       "      <td>136.600006</td>\n",
       "      <td>245.839996</td>\n",
       "      <td>158.460007</td>\n",
       "      <td>58.869999</td>\n",
       "      <td>54.840000</td>\n",
       "      <td>97.190002</td>\n",
       "    </tr>\n",
       "    <tr>\n",
       "      <th>2019-04-04</th>\n",
       "      <td>48.922501</td>\n",
       "      <td>192.330002</td>\n",
       "      <td>110.120003</td>\n",
       "      <td>395.859985</td>\n",
       "      <td>140.130005</td>\n",
       "      <td>158.520004</td>\n",
       "      <td>55.139999</td>\n",
       "      <td>124.800003</td>\n",
       "      <td>114.750000</td>\n",
       "      <td>59.709999</td>\n",
       "      <td>...</td>\n",
       "      <td>78.101143</td>\n",
       "      <td>119.360001</td>\n",
       "      <td>85.279999</td>\n",
       "      <td>103.430000</td>\n",
       "      <td>136.520004</td>\n",
       "      <td>247.389999</td>\n",
       "      <td>157.639999</td>\n",
       "      <td>58.990002</td>\n",
       "      <td>54.150002</td>\n",
       "      <td>98.110001</td>\n",
       "    </tr>\n",
       "    <tr>\n",
       "      <th>2019-04-05</th>\n",
       "      <td>49.250000</td>\n",
       "      <td>195.410004</td>\n",
       "      <td>110.959999</td>\n",
       "      <td>391.929993</td>\n",
       "      <td>140.360001</td>\n",
       "      <td>158.559998</td>\n",
       "      <td>55.209999</td>\n",
       "      <td>126.419998</td>\n",
       "      <td>115.000000</td>\n",
       "      <td>57.240002</td>\n",
       "      <td>...</td>\n",
       "      <td>77.433205</td>\n",
       "      <td>119.889999</td>\n",
       "      <td>85.400002</td>\n",
       "      <td>103.650002</td>\n",
       "      <td>136.399994</td>\n",
       "      <td>248.779999</td>\n",
       "      <td>157.649994</td>\n",
       "      <td>59.090000</td>\n",
       "      <td>54.689999</td>\n",
       "      <td>98.830002</td>\n",
       "    </tr>\n",
       "    <tr>\n",
       "      <th>...</th>\n",
       "      <td>...</td>\n",
       "      <td>...</td>\n",
       "      <td>...</td>\n",
       "      <td>...</td>\n",
       "      <td>...</td>\n",
       "      <td>...</td>\n",
       "      <td>...</td>\n",
       "      <td>...</td>\n",
       "      <td>...</td>\n",
       "      <td>...</td>\n",
       "      <td>...</td>\n",
       "      <td>...</td>\n",
       "      <td>...</td>\n",
       "      <td>...</td>\n",
       "      <td>...</td>\n",
       "      <td>...</td>\n",
       "      <td>...</td>\n",
       "      <td>...</td>\n",
       "      <td>...</td>\n",
       "      <td>...</td>\n",
       "      <td>...</td>\n",
       "    </tr>\n",
       "    <tr>\n",
       "      <th>2021-06-08</th>\n",
       "      <td>126.739998</td>\n",
       "      <td>236.820007</td>\n",
       "      <td>166.509995</td>\n",
       "      <td>252.759995</td>\n",
       "      <td>240.160004</td>\n",
       "      <td>236.419998</td>\n",
       "      <td>54.130001</td>\n",
       "      <td>108.730003</td>\n",
       "      <td>176.330002</td>\n",
       "      <td>69.379997</td>\n",
       "      <td>...</td>\n",
       "      <td>72.400002</td>\n",
       "      <td>252.570007</td>\n",
       "      <td>133.350006</td>\n",
       "      <td>134.839996</td>\n",
       "      <td>157.539993</td>\n",
       "      <td>401.739990</td>\n",
       "      <td>232.050003</td>\n",
       "      <td>57.150002</td>\n",
       "      <td>54.000000</td>\n",
       "      <td>139.830002</td>\n",
       "    </tr>\n",
       "    <tr>\n",
       "      <th>2021-06-09</th>\n",
       "      <td>127.129997</td>\n",
       "      <td>239.520004</td>\n",
       "      <td>164.089996</td>\n",
       "      <td>248.059998</td>\n",
       "      <td>234.649994</td>\n",
       "      <td>236.089996</td>\n",
       "      <td>54.020000</td>\n",
       "      <td>107.779999</td>\n",
       "      <td>176.039993</td>\n",
       "      <td>68.839996</td>\n",
       "      <td>...</td>\n",
       "      <td>74.040001</td>\n",
       "      <td>253.589996</td>\n",
       "      <td>131.839996</td>\n",
       "      <td>134.789993</td>\n",
       "      <td>154.740005</td>\n",
       "      <td>401.100006</td>\n",
       "      <td>232.309998</td>\n",
       "      <td>57.049999</td>\n",
       "      <td>53.430000</td>\n",
       "      <td>139.080002</td>\n",
       "    </tr>\n",
       "    <tr>\n",
       "      <th>2021-06-10</th>\n",
       "      <td>126.110001</td>\n",
       "      <td>244.639999</td>\n",
       "      <td>162.229996</td>\n",
       "      <td>248.339996</td>\n",
       "      <td>225.729996</td>\n",
       "      <td>240.190002</td>\n",
       "      <td>55.029999</td>\n",
       "      <td>108.410004</td>\n",
       "      <td>176.570007</td>\n",
       "      <td>67.989998</td>\n",
       "      <td>...</td>\n",
       "      <td>76.139999</td>\n",
       "      <td>257.239990</td>\n",
       "      <td>130.979996</td>\n",
       "      <td>135.789993</td>\n",
       "      <td>154.020004</td>\n",
       "      <td>401.489990</td>\n",
       "      <td>233.949997</td>\n",
       "      <td>57.340000</td>\n",
       "      <td>55.310001</td>\n",
       "      <td>139.880005</td>\n",
       "    </tr>\n",
       "    <tr>\n",
       "      <th>2021-06-11</th>\n",
       "      <td>127.349998</td>\n",
       "      <td>242.770004</td>\n",
       "      <td>164.509995</td>\n",
       "      <td>247.279999</td>\n",
       "      <td>220.699997</td>\n",
       "      <td>240.309998</td>\n",
       "      <td>54.770000</td>\n",
       "      <td>107.910004</td>\n",
       "      <td>177.380005</td>\n",
       "      <td>68.000000</td>\n",
       "      <td>...</td>\n",
       "      <td>76.269997</td>\n",
       "      <td>257.890015</td>\n",
       "      <td>131.940002</td>\n",
       "      <td>134.860001</td>\n",
       "      <td>154.479996</td>\n",
       "      <td>397.890015</td>\n",
       "      <td>234.960007</td>\n",
       "      <td>57.330002</td>\n",
       "      <td>55.310001</td>\n",
       "      <td>140.750000</td>\n",
       "    </tr>\n",
       "    <tr>\n",
       "      <th>2021-06-14</th>\n",
       "      <td>130.479996</td>\n",
       "      <td>241.190002</td>\n",
       "      <td>163.809998</td>\n",
       "      <td>245.139999</td>\n",
       "      <td>219.009995</td>\n",
       "      <td>246.259995</td>\n",
       "      <td>54.169998</td>\n",
       "      <td>107.970001</td>\n",
       "      <td>178.179993</td>\n",
       "      <td>66.959999</td>\n",
       "      <td>...</td>\n",
       "      <td>75.449997</td>\n",
       "      <td>259.890015</td>\n",
       "      <td>131.360001</td>\n",
       "      <td>134.910004</td>\n",
       "      <td>153.250000</td>\n",
       "      <td>399.160004</td>\n",
       "      <td>234.080002</td>\n",
       "      <td>57.180000</td>\n",
       "      <td>54.430000</td>\n",
       "      <td>140.559998</td>\n",
       "    </tr>\n",
       "  </tbody>\n",
       "</table>\n",
       "<p>556 rows × 30 columns</p>\n",
       "</div>"
      ],
      "text/plain": [
       "                  AAPL        AMGN         AXP          BA         CAT  \\\n",
       "Date                                                                     \n",
       "2019-04-01   47.810001  191.770004  111.699997  391.540009  140.250000   \n",
       "2019-04-02   48.505001  192.429993  111.000000  390.750000  140.190002   \n",
       "2019-04-03   48.837502  192.919998  110.559998  384.739990  139.259995   \n",
       "2019-04-04   48.922501  192.330002  110.120003  395.859985  140.130005   \n",
       "2019-04-05   49.250000  195.410004  110.959999  391.929993  140.360001   \n",
       "...                ...         ...         ...         ...         ...   \n",
       "2021-06-08  126.739998  236.820007  166.509995  252.759995  240.160004   \n",
       "2021-06-09  127.129997  239.520004  164.089996  248.059998  234.649994   \n",
       "2021-06-10  126.110001  244.639999  162.229996  248.339996  225.729996   \n",
       "2021-06-11  127.349998  242.770004  164.509995  247.279999  220.699997   \n",
       "2021-06-14  130.479996  241.190002  163.809998  245.139999  219.009995   \n",
       "\n",
       "                   CRM       CSCO         CVX         DIS        DOW  ...  \\\n",
       "Date                                                                  ...   \n",
       "2019-04-01  161.179993  54.980000  124.940002  112.510002  53.500000  ...   \n",
       "2019-04-02  160.509995  55.290001  124.930000  111.959999  56.250000  ...   \n",
       "2019-04-03  162.619995  55.630001  123.889999  112.519997  56.880001  ...   \n",
       "2019-04-04  158.520004  55.139999  124.800003  114.750000  59.709999  ...   \n",
       "2019-04-05  158.559998  55.209999  126.419998  115.000000  57.240002  ...   \n",
       "...                ...        ...         ...         ...        ...  ...   \n",
       "2021-06-08  236.419998  54.130001  108.730003  176.330002  69.379997  ...   \n",
       "2021-06-09  236.089996  54.020000  107.779999  176.039993  68.839996  ...   \n",
       "2021-06-10  240.190002  55.029999  108.410004  176.570007  67.989998  ...   \n",
       "2021-06-11  240.309998  54.770000  107.910004  177.380005  68.000000  ...   \n",
       "2021-06-14  246.259995  54.169998  107.970001  178.179993  66.959999  ...   \n",
       "\n",
       "                  MRK        MSFT         NKE          PG         TRV  \\\n",
       "Date                                                                    \n",
       "2019-04-01  79.484734  119.019997   85.230003  103.639999  138.020004   \n",
       "2019-04-02  79.398857  119.190002   84.370003  103.750000  136.809998   \n",
       "2019-04-03  79.370232  119.970001   84.470001  103.690002  136.600006   \n",
       "2019-04-04  78.101143  119.360001   85.279999  103.430000  136.520004   \n",
       "2019-04-05  77.433205  119.889999   85.400002  103.650002  136.399994   \n",
       "...               ...         ...         ...         ...         ...   \n",
       "2021-06-08  72.400002  252.570007  133.350006  134.839996  157.539993   \n",
       "2021-06-09  74.040001  253.589996  131.839996  134.789993  154.740005   \n",
       "2021-06-10  76.139999  257.239990  130.979996  135.789993  154.020004   \n",
       "2021-06-11  76.269997  257.890015  131.940002  134.860001  154.479996   \n",
       "2021-06-14  75.449997  259.890015  131.360001  134.910004  153.250000   \n",
       "\n",
       "                   UNH           V         VZ        WBA         WMT  \n",
       "Date                                                                  \n",
       "2019-04-01  245.539993  157.259995  59.090000  63.490002   97.820000  \n",
       "2019-04-02  244.410004  157.779999  58.529999  55.360001   96.940002  \n",
       "2019-04-03  245.839996  158.460007  58.869999  54.840000   97.190002  \n",
       "2019-04-04  247.389999  157.639999  58.990002  54.150002   98.110001  \n",
       "2019-04-05  248.779999  157.649994  59.090000  54.689999   98.830002  \n",
       "...                ...         ...        ...        ...         ...  \n",
       "2021-06-08  401.739990  232.050003  57.150002  54.000000  139.830002  \n",
       "2021-06-09  401.100006  232.309998  57.049999  53.430000  139.080002  \n",
       "2021-06-10  401.489990  233.949997  57.340000  55.310001  139.880005  \n",
       "2021-06-11  397.890015  234.960007  57.330002  55.310001  140.750000  \n",
       "2021-06-14  399.160004  234.080002  57.180000  54.430000  140.559998  \n",
       "\n",
       "[556 rows x 30 columns]"
      ]
     },
     "execution_count": 5,
     "metadata": {},
     "output_type": "execute_result"
    }
   ],
   "source": [
    "raw = pd.read_csv('Dow_Jones.csv', parse_dates=True,index_col=['Date']).dropna()\n",
    "raw"
   ]
  },
  {
   "cell_type": "code",
   "execution_count": 40,
   "id": "6d64c535",
   "metadata": {},
   "outputs": [
    {
     "data": {
      "text/html": [
       "<div>\n",
       "<style scoped>\n",
       "    .dataframe tbody tr th:only-of-type {\n",
       "        vertical-align: middle;\n",
       "    }\n",
       "\n",
       "    .dataframe tbody tr th {\n",
       "        vertical-align: top;\n",
       "    }\n",
       "\n",
       "    .dataframe thead th {\n",
       "        text-align: right;\n",
       "    }\n",
       "</style>\n",
       "<table border=\"1\" class=\"dataframe\">\n",
       "  <thead>\n",
       "    <tr style=\"text-align: right;\">\n",
       "      <th></th>\n",
       "      <th>Sharpe Ratio</th>\n",
       "      <th>Sortino Ratio</th>\n",
       "    </tr>\n",
       "  </thead>\n",
       "  <tbody>\n",
       "    <tr>\n",
       "      <th>AAPL</th>\n",
       "      <td>1.238518</td>\n",
       "      <td>1.758777</td>\n",
       "    </tr>\n",
       "    <tr>\n",
       "      <th>AMGN</th>\n",
       "      <td>0.347269</td>\n",
       "      <td>0.401666</td>\n",
       "    </tr>\n",
       "    <tr>\n",
       "      <th>AXP</th>\n",
       "      <td>0.383773</td>\n",
       "      <td>0.670746</td>\n",
       "    </tr>\n",
       "    <tr>\n",
       "      <th>BA</th>\n",
       "      <td>-0.333924</td>\n",
       "      <td>-0.820293</td>\n",
       "    </tr>\n",
       "    <tr>\n",
       "      <th>CAT</th>\n",
       "      <td>0.567079</td>\n",
       "      <td>0.780760</td>\n",
       "    </tr>\n",
       "    <tr>\n",
       "      <th>CRM</th>\n",
       "      <td>0.480283</td>\n",
       "      <td>0.742527</td>\n",
       "    </tr>\n",
       "    <tr>\n",
       "      <th>CSCO</th>\n",
       "      <td>-0.020246</td>\n",
       "      <td>-0.026001</td>\n",
       "    </tr>\n",
       "    <tr>\n",
       "      <th>CVX</th>\n",
       "      <td>-0.147798</td>\n",
       "      <td>-0.255728</td>\n",
       "    </tr>\n",
       "    <tr>\n",
       "      <th>DIS</th>\n",
       "      <td>0.556242</td>\n",
       "      <td>0.805392</td>\n",
       "    </tr>\n",
       "    <tr>\n",
       "      <th>DOW</th>\n",
       "      <td>0.207472</td>\n",
       "      <td>0.393127</td>\n",
       "    </tr>\n",
       "    <tr>\n",
       "      <th>GS</th>\n",
       "      <td>0.739349</td>\n",
       "      <td>1.120240</td>\n",
       "    </tr>\n",
       "    <tr>\n",
       "      <th>HD</th>\n",
       "      <td>0.623777</td>\n",
       "      <td>0.802498</td>\n",
       "    </tr>\n",
       "    <tr>\n",
       "      <th>HON</th>\n",
       "      <td>0.438253</td>\n",
       "      <td>0.566907</td>\n",
       "    </tr>\n",
       "    <tr>\n",
       "      <th>IBM</th>\n",
       "      <td>0.064626</td>\n",
       "      <td>0.080399</td>\n",
       "    </tr>\n",
       "    <tr>\n",
       "      <th>INTC</th>\n",
       "      <td>0.068929</td>\n",
       "      <td>0.114444</td>\n",
       "    </tr>\n",
       "    <tr>\n",
       "      <th>JNJ</th>\n",
       "      <td>0.330012</td>\n",
       "      <td>0.304559</td>\n",
       "    </tr>\n",
       "    <tr>\n",
       "      <th>JPM</th>\n",
       "      <td>0.470414</td>\n",
       "      <td>0.717087</td>\n",
       "    </tr>\n",
       "    <tr>\n",
       "      <th>KO</th>\n",
       "      <td>0.300797</td>\n",
       "      <td>0.303255</td>\n",
       "    </tr>\n",
       "    <tr>\n",
       "      <th>MCD</th>\n",
       "      <td>0.353299</td>\n",
       "      <td>0.401970</td>\n",
       "    </tr>\n",
       "    <tr>\n",
       "      <th>MMM</th>\n",
       "      <td>-0.074465</td>\n",
       "      <td>-0.089708</td>\n",
       "    </tr>\n",
       "    <tr>\n",
       "      <th>MRK</th>\n",
       "      <td>-0.091850</td>\n",
       "      <td>-0.091260</td>\n",
       "    </tr>\n",
       "    <tr>\n",
       "      <th>MSFT</th>\n",
       "      <td>1.064614</td>\n",
       "      <td>1.368095</td>\n",
       "    </tr>\n",
       "    <tr>\n",
       "      <th>NKE</th>\n",
       "      <td>0.604849</td>\n",
       "      <td>0.757806</td>\n",
       "    </tr>\n",
       "    <tr>\n",
       "      <th>PG</th>\n",
       "      <td>0.477604</td>\n",
       "      <td>0.461922</td>\n",
       "    </tr>\n",
       "    <tr>\n",
       "      <th>TRV</th>\n",
       "      <td>0.129778</td>\n",
       "      <td>0.183364</td>\n",
       "    </tr>\n",
       "    <tr>\n",
       "      <th>UNH</th>\n",
       "      <td>0.601526</td>\n",
       "      <td>0.851202</td>\n",
       "    </tr>\n",
       "    <tr>\n",
       "      <th>V</th>\n",
       "      <td>0.559391</td>\n",
       "      <td>0.696799</td>\n",
       "    </tr>\n",
       "    <tr>\n",
       "      <th>VZ</th>\n",
       "      <td>-0.073628</td>\n",
       "      <td>-0.057560</td>\n",
       "    </tr>\n",
       "    <tr>\n",
       "      <th>WBA</th>\n",
       "      <td>-0.179352</td>\n",
       "      <td>-0.269719</td>\n",
       "    </tr>\n",
       "    <tr>\n",
       "      <th>WMT</th>\n",
       "      <td>0.680650</td>\n",
       "      <td>0.635036</td>\n",
       "    </tr>\n",
       "  </tbody>\n",
       "</table>\n",
       "</div>"
      ],
      "text/plain": [
       "      Sharpe Ratio  Sortino Ratio\n",
       "AAPL      1.238518       1.758777\n",
       "AMGN      0.347269       0.401666\n",
       "AXP       0.383773       0.670746\n",
       "BA       -0.333924      -0.820293\n",
       "CAT       0.567079       0.780760\n",
       "CRM       0.480283       0.742527\n",
       "CSCO     -0.020246      -0.026001\n",
       "CVX      -0.147798      -0.255728\n",
       "DIS       0.556242       0.805392\n",
       "DOW       0.207472       0.393127\n",
       "GS        0.739349       1.120240\n",
       "HD        0.623777       0.802498\n",
       "HON       0.438253       0.566907\n",
       "IBM       0.064626       0.080399\n",
       "INTC      0.068929       0.114444\n",
       "JNJ       0.330012       0.304559\n",
       "JPM       0.470414       0.717087\n",
       "KO        0.300797       0.303255\n",
       "MCD       0.353299       0.401970\n",
       "MMM      -0.074465      -0.089708\n",
       "MRK      -0.091850      -0.091260\n",
       "MSFT      1.064614       1.368095\n",
       "NKE       0.604849       0.757806\n",
       "PG        0.477604       0.461922\n",
       "TRV       0.129778       0.183364\n",
       "UNH       0.601526       0.851202\n",
       "V         0.559391       0.696799\n",
       "VZ       -0.073628      -0.057560\n",
       "WBA      -0.179352      -0.269719\n",
       "WMT       0.680650       0.635036"
      ]
     },
     "execution_count": 40,
     "metadata": {},
     "output_type": "execute_result"
    }
   ],
   "source": [
    "norm_raw = raw.apply(norm)\n",
    "norm_returns = np.log(norm_raw/norm_raw.shift())\n",
    "results = []\n",
    "sharpe_result = sharpe_table(norm_returns).sort_values(by='Sharpe Ratio', ascending=False)\n",
    "sortino_result = sortino(norm_returns, 0).to_frame().sort_values(by=0, ascending=False)\n",
    "sortino_result.rename(columns={0:\"Sortino Ratio\"}, inplace=True)\n",
    "results = sharpe_table(norm_returns)\n",
    "results['Sortino Ratio'] = sortino_result\n",
    "results.loc[:,['Sharpe Ratio', 'Sortino Ratio']]\n",
    "#display(sortino_result,sharpe_result['Sharpe Ratio'].to_frame())"
   ]
  },
  {
   "cell_type": "code",
   "execution_count": 10,
   "id": "9f11cdf6",
   "metadata": {
    "scrolled": false
   },
   "outputs": [
    {
     "data": {
      "image/png": "[encoded data removed]",
      "text/plain": [
       "<Figure size 1080x576 with 1 Axes>"
      ]
     },
     "metadata": {},
     "output_type": "display_data"
    }
   ],
   "source": [
    "n = 5\n",
    "best = True\n",
    "sor_portfolio = list(sortino_result.sort_values(by='Sortino Ratio', ascending=not best).index[0:n].values)\n",
    "\n",
    "best_returns = np.log(norm_raw/norm_raw.shift())\n",
    "\n",
    "#best_returns.loc[:,sor_portfolio].dropna().cumsum().apply(np.exp).iloc[[-1],:].mean().mean()\n",
    "\n",
    "#old formula was incorrect, refer to NB_02 in this folder for correct formula!\n",
    "cagr=0\n",
    "\n",
    "best_returns.loc[:,sor_portfolio].dropna().cumsum().apply(np.exp).plot(figsize=(15,8))\n",
    "plt.xlabel(\"Date\", fontsize = 15)\n",
    "plt.ylabel(\"Normalized Cumulative Returns\", fontsize = 15)\n",
    "plt.title(\"Top {} Sharpe Ratio Picks: Performance\".format(n,cagr*100), fontsize = 20)\n",
    "plt.show()\n",
    "#best_returns.loc[:,sor_portfolio].dropna().cumsum().apply(np.exp)\n",
    "#1.44*1.44*1.44\n"
   ]
  },
  {
   "cell_type": "code",
   "execution_count": 8,
   "id": "8c848a68",
   "metadata": {},
   "outputs": [
    {
     "data": {
      "text/plain": [
       "2.496880343104"
      ]
     },
     "execution_count": 8,
     "metadata": {},
     "output_type": "execute_result"
    }
   ],
   "source": []
  },
  {
   "cell_type": "code",
   "execution_count": null,
   "id": "cfa6dc31",
   "metadata": {},
   "outputs": [],
   "source": [
    "(np.exp(best_returns.loc[:,sor_portfolio].dropna().mean()*best_returns.loc[:,sor_portfolio].count() / ((best_returns.loc[:,sor_portfolio].index[-1] - best_returns.loc[:,sor_portfolio].index[0]).days / 365.25))-1)\n",
    "1.577017**2"
   ]
  },
  {
   "cell_type": "code",
   "execution_count": null,
   "id": "58f086a9",
   "metadata": {},
   "outputs": [],
   "source": [
    "np.log(norm_raw/norm_raw.shift()).cumsum().apply(np.exp)"
   ]
  },
  {
   "cell_type": "markdown",
   "id": "cfcfd2ab",
   "metadata": {},
   "source": [
    "## +++ Please stop here in case you don´t want to see the solution!!! +++++"
   ]
  },
  {
   "cell_type": "code",
   "execution_count": null,
   "id": "ad37abd3",
   "metadata": {},
   "outputs": [],
   "source": []
  },
  {
   "cell_type": "code",
   "execution_count": null,
   "id": "a267fefc",
   "metadata": {},
   "outputs": [],
   "source": []
  },
  {
   "cell_type": "markdown",
   "id": "2e66e268",
   "metadata": {},
   "source": [
    "## Coding Challenge Solution"
   ]
  },
  {
   "cell_type": "code",
   "execution_count": null,
   "id": "b9ffa54d",
   "metadata": {},
   "outputs": [],
   "source": [
    "import pandas as pd\n",
    "import numpy as np"
   ]
  },
  {
   "cell_type": "code",
   "execution_count": null,
   "id": "1f8391b9",
   "metadata": {},
   "outputs": [],
   "source": [
    "df = pd.read_csv(\"Dow_Jones.csv\", index_col = \"Date\", parse_dates = [\"Date\"])\n",
    "df"
   ]
  },
  {
   "cell_type": "code",
   "execution_count": null,
   "id": "b12741d1",
   "metadata": {},
   "outputs": [],
   "source": [
    "returns = np.log(df / df.shift()) # daily log returns\n",
    "returns"
   ]
  },
  {
   "cell_type": "code",
   "execution_count": null,
   "id": "ac752b18",
   "metadata": {},
   "outputs": [],
   "source": [
    "def sortino(series, TMR = 0):\n",
    "    excess_returns = (series - TMR)\n",
    "    downside_deviation = np.sqrt(np.mean(np.where(excess_returns < 0, excess_returns, 0)**2))\n",
    "    if downside_deviation == 0:\n",
    "        return np.nan\n",
    "    else:\n",
    "        sortino = (series.mean() - TMR) / downside_deviation * np.sqrt(series.count() / ((series.index[-1] - series.index[0]).days / 365.25))\n",
    "        return sortino"
   ]
  },
  {
   "cell_type": "code",
   "execution_count": null,
   "id": "9db8d47a",
   "metadata": {
    "scrolled": true
   },
   "outputs": [],
   "source": [
    "sort = returns.apply(sortino).sort_values(ascending = False)\n",
    "sort"
   ]
  },
  {
   "cell_type": "markdown",
   "id": "697a3fe6",
   "metadata": {},
   "source": [
    "Best Performing Stock: __Apple__ (AAPL) <br>\n",
    "Worst Performing Stock: __Non-determinable__ (note: you can´t compare negative Sortino Ratios)"
   ]
  },
  {
   "cell_type": "code",
   "execution_count": null,
   "id": "3aca1e50",
   "metadata": {},
   "outputs": [],
   "source": [
    "def sharpe(series, rf = 0):\n",
    "    \n",
    "    if series.std() == 0:\n",
    "        return np.nan\n",
    "    else:\n",
    "        return (series.mean() - rf) / series.std() * np.sqrt(series.count() / ((series.index[-1] - series.index[0]).days / 365.25))"
   ]
  },
  {
   "cell_type": "code",
   "execution_count": null,
   "id": "c710be98",
   "metadata": {},
   "outputs": [],
   "source": [
    "sha = returns.apply(sharpe).sort_values(ascending = False)\n",
    "sha"
   ]
  },
  {
   "cell_type": "code",
   "execution_count": null,
   "id": "5a622030",
   "metadata": {},
   "outputs": [],
   "source": [
    "merged = pd.concat([sort, sha], axis = 1)\n",
    "merged"
   ]
  },
  {
   "cell_type": "code",
   "execution_count": null,
   "id": "c5530b6e",
   "metadata": {},
   "outputs": [],
   "source": [
    "merged.columns = [\"Sortino\", \"Sharpe\"]"
   ]
  },
  {
   "cell_type": "code",
   "execution_count": null,
   "id": "1eabe2e5",
   "metadata": {},
   "outputs": [],
   "source": [
    "merged.rank(ascending = False)"
   ]
  },
  {
   "cell_type": "markdown",
   "id": "66befb82",
   "metadata": {},
   "source": [
    "-> Few Differences. __Disney gets better ranked__ with Sortino (-3) while __The Home Depot gets penalized__ by Sortino (+3)."
   ]
  },
  {
   "cell_type": "code",
   "execution_count": null,
   "id": "adf75674",
   "metadata": {},
   "outputs": [],
   "source": []
  }
 ],
 "metadata": {
  "kernelspec": {
   "display_name": "Python 3 (ipykernel)",
   "language": "python",
   "name": "python3"
  },
  "language_info": {
   "codemirror_mode": {
    "name": "ipython",
    "version": 3
   },
   "file_extension": ".py",
   "mimetype": "text/x-python",
   "name": "python",
   "nbconvert_exporter": "python",
   "pygments_lexer": "ipython3",
   "version": "3.7.13"
  }
 },
 "nbformat": 4,
 "nbformat_minor": 5
}
