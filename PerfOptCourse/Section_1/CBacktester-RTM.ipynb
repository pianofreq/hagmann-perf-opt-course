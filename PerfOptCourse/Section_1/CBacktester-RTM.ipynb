{
 "cells": [
  {
   "cell_type": "markdown",
   "metadata": {},
   "source": [
    "# Generalization with OOP: The CBacktester Class"
   ]
  },
  {
   "cell_type": "markdown",
   "metadata": {},
   "source": [
    "## Building the CBacktester Class from scratch: Instantiation"
   ]
  },
  {
   "cell_type": "code",
   "execution_count": 237,
   "metadata": {},
   "outputs": [],
   "source": [
    "import pandas as pd\n",
    "import numpy as np\n",
    "from itertools import product\n",
    "import matplotlib.pyplot as plt\n",
    "from IPython.display import display, clear_output\n",
    "plt.style.use('seaborn')"
   ]
  },
  {
   "cell_type": "code",
   "execution_count": 322,
   "metadata": {},
   "outputs": [],
   "source": [
    "class CBacktester():\n",
    "    '''This is a docstring'''\n",
    "    def __init__(self, symbol, window, start, end, tc, f):\n",
    "        self.symbol = symbol\n",
    "        self.window = window\n",
    "        self.start = start\n",
    "        self.end = end\n",
    "        self.tc = tc\n",
    "        self.f = f\n",
    "        self.results = None\n",
    "        self.get_data()\n",
    "        self.prepare_data(f)\n",
    "        \n",
    "    def __repr__(self):\n",
    "        return \"CBacktester: symbol = {}, window = {}, start = {}, end = {}, tc = {}, f = {}\".\\\n",
    "        format(self.symbol, self.window, self.start, self.end, self.tc, self.f)\n",
    "        \n",
    "    def get_data(self):\n",
    "        raw = pd.read_csv(\"one_minute.csv\", parse_dates = [\"time\"], index_col = \"time\")\n",
    "        raw = raw[self.symbol].to_frame().fillna(method = 'ffill')#.resample(\"30min\").mean()\n",
    "        raw = raw.loc[self.start:self.end].copy()\n",
    "        raw.rename(columns={self.symbol: \"price\"}, inplace=True)\n",
    "        raw[\"returns\"] = np.log(raw / raw.loc[:,[\"price\"]].shift(1))\n",
    "        self.data = raw\n",
    "        return raw\n",
    "    \n",
    "    def prepare_data(self, f = None):#default value is 1 day\n",
    "        if f is not None:\n",
    "            self.f = f\n",
    "        data = self.get_data()\n",
    "        data = self.data.copy()\n",
    "        data = data.price.to_frame().resample(self.f).last().dropna().iloc[:-1]\n",
    "        self.data = data\n",
    "    \n",
    "    def set_parameters(self, window = None):\n",
    "        if window is not None:\n",
    "            self.window = window\n",
    "            \n",
    "    def test_strategy(self):\n",
    "        data = self.data.copy().dropna()\n",
    "        data['position'] = -np.sign(data['returns'].rolling(self.window).mean())\n",
    "        data['strategy'] = data['position'].shift(1) * data['returns']\n",
    "        data.dropna(inplace=True)\n",
    "        data['creturns'] = data['returns'].cumsum().apply(np.exp)\n",
    "        data['cstrategy'] = data['strategy'].cumsum().apply(np.exp)\n",
    "        data['trades'] = data.position.diff().fillna(0).abs()\n",
    "        data['ctrades'] = data.trades.cumsum()\n",
    "        data['strategy_net'] = data.strategy - data.trades * (self.tc/data.price.mean())\n",
    "        data['cstrategy_net'] = data.strategy_net.cumsum().apply(np.exp)\n",
    "        self.results = data\n",
    "        \n",
    "        perf = data['cstrategy_net'].iloc[-1]\n",
    "        outperf = perf - data['creturns'].iloc[-1]\n",
    "        \n",
    "        return round(perf, 6), round(outperf, 6)\n",
    "    \n",
    "    def plot_results(self):\n",
    "        if self.results is None:\n",
    "            print(\"Run test_strategy() before running plot_results()\")\n",
    "        else:\n",
    "            self.results.loc[:,['creturns','cstrategy', 'cstrategy_net']]\\\n",
    "            .plot(title = \"{} | {}-Bar Contrarian Window\".format(self.symbol,\\\n",
    "            self.window),figsize=(12,8))\n",
    "            \n",
    "    def optimize_parameter(self, window_range):\n",
    "        combinations = range(*window_range)\n",
    "        \n",
    "        results = []\n",
    "        i = 0\n",
    "        for comb in combinations:\n",
    "            #Track iterations\n",
    "            i+=1\n",
    "            clear_output(wait=True)\n",
    "            display('Iteration {} of {}. Testing window = {}'.\\\n",
    "            format(i, str(len(combinations)), comb))\n",
    "            \n",
    "            #test strategy\n",
    "            self.set_parameters(comb)\n",
    "            results.append(self.test_strategy()[0])\n",
    "        \n",
    "        #clearing output again so that there is no confusion \n",
    "        #about if the last iteration was the most optimal combination\n",
    "        clear_output(wait=True)\n",
    "        \n",
    "        best_perf = np.max(results)\n",
    "        opt = combinations[np.argmax(results)]\n",
    "        \n",
    "        self.set_parameters(opt)\n",
    "        self.test_strategy()\n",
    "        self.plot_results()\n",
    "        \n",
    "        many_results = pd.DataFrame(data = combinations, columns = [\"window\"])\n",
    "        many_results['performance'] = results\n",
    "        self.results_overview = many_results\n",
    "        \n",
    "        return opt, best_perf"
   ]
  },
  {
   "cell_type": "code",
   "execution_count": 323,
   "metadata": {
    "scrolled": true
   },
   "outputs": [
    {
     "data": {
      "text/plain": [
       "CBacktester: symbol = EURUSD, window = 3, start = 2018-01-01, end = 2019-12-30, tc = 7.500000000000001e-05, f = 1min"
      ]
     },
     "execution_count": 323,
     "metadata": {},
     "output_type": "execute_result"
    }
   ],
   "source": [
    "spread = 1.5\n",
    "pips = 0.0001\n",
    "insample = CBacktester(\"EURUSD\", 3, \"2018-01-01\", \"2019-12-30\", spread/2*pips, \"1min\") #mult by 2 for a 'round trip', multiply by pips\n",
    "insample\n"
   ]
  },
  {
   "cell_type": "code",
   "execution_count": 327,
   "metadata": {},
   "outputs": [
    {
     "data": {
      "text/html": [
       "<div>\n",
       "<style scoped>\n",
       "    .dataframe tbody tr th:only-of-type {\n",
       "        vertical-align: middle;\n",
       "    }\n",
       "\n",
       "    .dataframe tbody tr th {\n",
       "        vertical-align: top;\n",
       "    }\n",
       "\n",
       "    .dataframe thead th {\n",
       "        text-align: right;\n",
       "    }\n",
       "</style>\n",
       "<table border=\"1\" class=\"dataframe\">\n",
       "  <thead>\n",
       "    <tr style=\"text-align: right;\">\n",
       "      <th></th>\n",
       "      <th>price</th>\n",
       "    </tr>\n",
       "    <tr>\n",
       "      <th>time</th>\n",
       "      <th></th>\n",
       "    </tr>\n",
       "  </thead>\n",
       "  <tbody>\n",
       "    <tr>\n",
       "      <th>2018-01-01 22:00:00</th>\n",
       "      <td>1.20076</td>\n",
       "    </tr>\n",
       "    <tr>\n",
       "      <th>2018-01-01 22:20:00</th>\n",
       "      <td>1.20155</td>\n",
       "    </tr>\n",
       "    <tr>\n",
       "      <th>2018-01-01 22:40:00</th>\n",
       "      <td>1.20152</td>\n",
       "    </tr>\n",
       "    <tr>\n",
       "      <th>2018-01-01 23:00:00</th>\n",
       "      <td>1.20145</td>\n",
       "    </tr>\n",
       "    <tr>\n",
       "      <th>2018-01-01 23:20:00</th>\n",
       "      <td>1.20119</td>\n",
       "    </tr>\n",
       "    <tr>\n",
       "      <th>...</th>\n",
       "      <td>...</td>\n",
       "    </tr>\n",
       "    <tr>\n",
       "      <th>2019-12-30 22:00:00</th>\n",
       "      <td>1.12040</td>\n",
       "    </tr>\n",
       "    <tr>\n",
       "      <th>2019-12-30 22:20:00</th>\n",
       "      <td>1.12003</td>\n",
       "    </tr>\n",
       "    <tr>\n",
       "      <th>2019-12-30 22:40:00</th>\n",
       "      <td>1.12012</td>\n",
       "    </tr>\n",
       "    <tr>\n",
       "      <th>2019-12-30 23:00:00</th>\n",
       "      <td>1.12030</td>\n",
       "    </tr>\n",
       "    <tr>\n",
       "      <th>2019-12-30 23:20:00</th>\n",
       "      <td>1.12018</td>\n",
       "    </tr>\n",
       "  </tbody>\n",
       "</table>\n",
       "<p>37219 rows × 1 columns</p>\n",
       "</div>"
      ],
      "text/plain": [
       "                       price\n",
       "time                        \n",
       "2018-01-01 22:00:00  1.20076\n",
       "2018-01-01 22:20:00  1.20155\n",
       "2018-01-01 22:40:00  1.20152\n",
       "2018-01-01 23:00:00  1.20145\n",
       "2018-01-01 23:20:00  1.20119\n",
       "...                      ...\n",
       "2019-12-30 22:00:00  1.12040\n",
       "2019-12-30 22:20:00  1.12003\n",
       "2019-12-30 22:40:00  1.12012\n",
       "2019-12-30 23:00:00  1.12030\n",
       "2019-12-30 23:20:00  1.12018\n",
       "\n",
       "[37219 rows x 1 columns]"
      ]
     },
     "execution_count": 327,
     "metadata": {},
     "output_type": "execute_result"
    }
   ],
   "source": [
    "insample.prepare_data(f = \"20min\")\n",
    "insample.data\n",
    "#insample.test_strategy()\n",
    "#insample.plot_results()\n",
    "#insample.results\n",
    "#insample.f"
   ]
  },
  {
   "cell_type": "markdown",
   "metadata": {},
   "source": [
    "### checkpoint: instantation, get_data, set_parameters work"
   ]
  },
  {
   "cell_type": "code",
   "execution_count": 183,
   "metadata": {},
   "outputs": [],
   "source": [
    "#from lecture 107: random nose part 1\n",
    "window = 44\n",
    "hours = 6\n",
    "hours = 60\n",
    "insample.prepare_data()\n",
    "insample.set_parameters()"
   ]
  },
  {
   "cell_type": "code",
   "execution_count": 184,
   "metadata": {},
   "outputs": [
    {
     "data": {
      "text/plain": [
       "(3.666642, 2.73376)"
      ]
     },
     "execution_count": 184,
     "metadata": {},
     "output_type": "execute_result"
    }
   ],
   "source": [
    "insample.test_strategy()"
   ]
  },
  {
   "cell_type": "code",
   "execution_count": 185,
   "metadata": {},
   "outputs": [
    {
     "data": {
      "text/plain": [
       "(7, 4.317039)"
      ]
     },
     "execution_count": 185,
     "metadata": {},
     "output_type": "execute_result"
    },
    {
     "data": {
      "image/png": "[encoded data removed]",
      "text/plain": [
       "<Figure size 864x576 with 1 Axes>"
      ]
     },
     "metadata": {},
     "output_type": "display_data"
    }
   ],
   "source": [
    "insample.optimize_parameter((1,252,1))"
   ]
  },
  {
   "cell_type": "markdown",
   "metadata": {},
   "source": [
    "### Number of trades"
   ]
  },
  {
   "cell_type": "code",
   "execution_count": 186,
   "metadata": {},
   "outputs": [
    {
     "name": "stdout",
     "output_type": "stream",
     "text": [
      "From 2018-01-01 to 2019-12-30, this strategy performed 270,354 trades over 737,535 periods, \n",
      "an average of 2.73 trades per period.\n",
      "\n",
      " Trading costs totaled 20.28.\n"
     ]
    },
    {
     "data": {
      "text/plain": [
       "Timedelta('0 days 00:01:00')"
      ]
     },
     "execution_count": 186,
     "metadata": {},
     "output_type": "execute_result"
    }
   ],
   "source": [
    "print(\"From {} to {}, this strategy performed {:,.0f} trades over {:,.0f} periods, \\nan average of {:.2f} trades per period.\\n\\n Trading costs totaled {:,.2f}.\".\\\n",
    "format(insample.start, insample.end, insample.results.ctrades[-1], insample.results.trades.describe().loc['count'],\\\n",
    "       insample.results.trades.describe().loc['count'] / insample.results.ctrades[-1],spread/2*pips*insample.results.ctrades[-1]))\n",
    "(insample.results.index[1]-insample.results.index[0])"
   ]
  },
  {
   "cell_type": "markdown",
   "metadata": {},
   "source": [
    "### Number of trades plot"
   ]
  },
  {
   "cell_type": "code",
   "execution_count": 187,
   "metadata": {},
   "outputs": [
    {
     "data": {
      "image/png": "[encoded data removed]",
      "text/plain": [
       "<Figure size 1080x576 with 1 Axes>"
      ]
     },
     "metadata": {},
     "output_type": "display_data"
    },
    {
     "data": {
      "text/plain": [
       "0.07155"
      ]
     },
     "execution_count": 187,
     "metadata": {},
     "output_type": "execute_result"
    }
   ],
   "source": [
    "insample.results['position'].plot(figsize=(15,8))\n",
    "plt.show()\n",
    "spread/2*pips*954"
   ]
  },
  {
   "cell_type": "markdown",
   "metadata": {},
   "source": []
  },
  {
   "cell_type": "code",
   "execution_count": 131,
   "metadata": {},
   "outputs": [
    {
     "data": {
      "text/html": [
       "<div>\n",
       "<style scoped>\n",
       "    .dataframe tbody tr th:only-of-type {\n",
       "        vertical-align: middle;\n",
       "    }\n",
       "\n",
       "    .dataframe tbody tr th {\n",
       "        vertical-align: top;\n",
       "    }\n",
       "\n",
       "    .dataframe thead th {\n",
       "        text-align: right;\n",
       "    }\n",
       "</style>\n",
       "<table border=\"1\" class=\"dataframe\">\n",
       "  <thead>\n",
       "    <tr style=\"text-align: right;\">\n",
       "      <th></th>\n",
       "      <th>window</th>\n",
       "      <th>performance</th>\n",
       "    </tr>\n",
       "  </thead>\n",
       "  <tbody>\n",
       "    <tr>\n",
       "      <th>43</th>\n",
       "      <td>44</td>\n",
       "      <td>1.288223</td>\n",
       "    </tr>\n",
       "    <tr>\n",
       "      <th>50</th>\n",
       "      <td>51</td>\n",
       "      <td>1.287378</td>\n",
       "    </tr>\n",
       "    <tr>\n",
       "      <th>49</th>\n",
       "      <td>50</td>\n",
       "      <td>1.265807</td>\n",
       "    </tr>\n",
       "    <tr>\n",
       "      <th>54</th>\n",
       "      <td>55</td>\n",
       "      <td>1.263768</td>\n",
       "    </tr>\n",
       "    <tr>\n",
       "      <th>53</th>\n",
       "      <td>54</td>\n",
       "      <td>1.263228</td>\n",
       "    </tr>\n",
       "    <tr>\n",
       "      <th>52</th>\n",
       "      <td>53</td>\n",
       "      <td>1.258961</td>\n",
       "    </tr>\n",
       "    <tr>\n",
       "      <th>55</th>\n",
       "      <td>56</td>\n",
       "      <td>1.256772</td>\n",
       "    </tr>\n",
       "    <tr>\n",
       "      <th>37</th>\n",
       "      <td>38</td>\n",
       "      <td>1.248441</td>\n",
       "    </tr>\n",
       "    <tr>\n",
       "      <th>51</th>\n",
       "      <td>52</td>\n",
       "      <td>1.241089</td>\n",
       "    </tr>\n",
       "    <tr>\n",
       "      <th>44</th>\n",
       "      <td>45</td>\n",
       "      <td>1.231257</td>\n",
       "    </tr>\n",
       "  </tbody>\n",
       "</table>\n",
       "</div>"
      ],
      "text/plain": [
       "    window  performance\n",
       "43      44     1.288223\n",
       "50      51     1.287378\n",
       "49      50     1.265807\n",
       "54      55     1.263768\n",
       "53      54     1.263228\n",
       "52      53     1.258961\n",
       "55      56     1.256772\n",
       "37      38     1.248441\n",
       "51      52     1.241089\n",
       "44      45     1.231257"
      ]
     },
     "execution_count": 131,
     "metadata": {},
     "output_type": "execute_result"
    }
   ],
   "source": [
    "insample.results_overview.sort_values(by=['performance'], ascending=False).head(10)"
   ]
  },
  {
   "cell_type": "code",
   "execution_count": 217,
   "metadata": {},
   "outputs": [
    {
     "name": "stdout",
     "output_type": "stream",
     "text": [
      "<class 'pandas.core.frame.DataFrame'>\n",
      "DatetimeIndex: 2018 entries, 2018-01-18 22:00:00+00:00 to 2019-12-30 22:00:00+00:00\n",
      "Data columns (total 10 columns):\n",
      " #   Column         Non-Null Count  Dtype  \n",
      "---  ------         --------------  -----  \n",
      " 0   price          2018 non-null   float64\n",
      " 1   returns        2018 non-null   float64\n",
      " 2   position       2018 non-null   float64\n",
      " 3   strategy       2018 non-null   float64\n",
      " 4   creturns       2018 non-null   float64\n",
      " 5   cstrategy      2018 non-null   float64\n",
      " 6   trades         2018 non-null   float64\n",
      " 7   ctrades        2018 non-null   float64\n",
      " 8   strategy_net   2018 non-null   float64\n",
      " 9   cstrategy_net  2018 non-null   float64\n",
      "dtypes: float64(10)\n",
      "memory usage: 173.4 KB\n"
     ]
    }
   ],
   "source": [
    "insample.results.info()"
   ]
  },
  {
   "cell_type": "markdown",
   "metadata": {},
   "source": [
    "__AUD/EUR__"
   ]
  },
  {
   "cell_type": "code",
   "execution_count": null,
   "metadata": {},
   "outputs": [],
   "source": []
  },
  {
   "cell_type": "code",
   "execution_count": null,
   "metadata": {
    "scrolled": false
   },
   "outputs": [],
   "source": []
  },
  {
   "cell_type": "code",
   "execution_count": null,
   "metadata": {},
   "outputs": [],
   "source": []
  },
  {
   "cell_type": "code",
   "execution_count": null,
   "metadata": {},
   "outputs": [],
   "source": []
  },
  {
   "cell_type": "code",
   "execution_count": null,
   "metadata": {},
   "outputs": [],
   "source": []
  },
  {
   "cell_type": "markdown",
   "metadata": {},
   "source": [
    "## Method get_data()"
   ]
  },
  {
   "cell_type": "code",
   "execution_count": null,
   "metadata": {},
   "outputs": [],
   "source": []
  },
  {
   "cell_type": "code",
   "execution_count": null,
   "metadata": {},
   "outputs": [],
   "source": []
  },
  {
   "cell_type": "code",
   "execution_count": null,
   "metadata": {},
   "outputs": [],
   "source": []
  },
  {
   "cell_type": "markdown",
   "metadata": {},
   "source": [
    "## Setting new SMA Paramters"
   ]
  },
  {
   "cell_type": "code",
   "execution_count": null,
   "metadata": {},
   "outputs": [],
   "source": []
  },
  {
   "cell_type": "code",
   "execution_count": null,
   "metadata": {},
   "outputs": [],
   "source": []
  },
  {
   "cell_type": "code",
   "execution_count": null,
   "metadata": {},
   "outputs": [],
   "source": []
  },
  {
   "cell_type": "markdown",
   "metadata": {},
   "source": [
    "## Testing a Strategy"
   ]
  },
  {
   "cell_type": "code",
   "execution_count": null,
   "metadata": {},
   "outputs": [],
   "source": []
  },
  {
   "cell_type": "markdown",
   "metadata": {},
   "source": [
    "## Plotting the results"
   ]
  },
  {
   "cell_type": "code",
   "execution_count": null,
   "metadata": {},
   "outputs": [],
   "source": []
  },
  {
   "cell_type": "markdown",
   "metadata": {},
   "source": [
    "## Strategy Optimization"
   ]
  },
  {
   "cell_type": "code",
   "execution_count": null,
   "metadata": {},
   "outputs": [],
   "source": []
  },
  {
   "cell_type": "markdown",
   "metadata": {},
   "source": [
    "## Splitting get_data() and adding prepare_data() "
   ]
  },
  {
   "cell_type": "code",
   "execution_count": null,
   "metadata": {},
   "outputs": [],
   "source": []
  },
  {
   "cell_type": "markdown",
   "metadata": {},
   "source": [
    "## String Representation & Docstrings"
   ]
  },
  {
   "cell_type": "code",
   "execution_count": null,
   "metadata": {},
   "outputs": [],
   "source": []
  },
  {
   "cell_type": "code",
   "execution_count": null,
   "metadata": {},
   "outputs": [],
   "source": []
  },
  {
   "cell_type": "code",
   "execution_count": null,
   "metadata": {},
   "outputs": [],
   "source": []
  }
 ],
 "metadata": {
  "kernelspec": {
   "display_name": "Python 3 (ipykernel)",
   "language": "python",
   "name": "python3"
  },
  "language_info": {
   "codemirror_mode": {
    "name": "ipython",
    "version": 3
   },
   "file_extension": ".py",
   "mimetype": "text/x-python",
   "name": "python",
   "nbconvert_exporter": "python",
   "pygments_lexer": "ipython3",
   "version": "3.7.13"
  }
 },
 "nbformat": 4,
 "nbformat_minor": 4
}
