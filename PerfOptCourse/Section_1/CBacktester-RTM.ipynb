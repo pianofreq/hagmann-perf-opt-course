{
 "cells": [
  {
   "cell_type": "markdown",
   "metadata": {},
   "source": [
    "# Generalization with OOP: The CBacktester Class"
   ]
  },
  {
   "cell_type": "markdown",
   "metadata": {},
   "source": [
    "## Building the CBacktester Class from scratch: Instantiation"
   ]
  },
  {
   "cell_type": "code",
   "execution_count": 3,
   "metadata": {},
   "outputs": [],
   "source": [
    "import pandas as pd\n",
    "import numpy as np\n",
    "from itertools import product\n",
    "import matplotlib.pyplot as plt\n",
    "from IPython.display import display, clear_output\n",
    "import time\n",
    "plt.style.use('seaborn')"
   ]
  },
  {
   "cell_type": "code",
   "execution_count": 8,
   "metadata": {},
   "outputs": [],
   "source": [
    "class CBacktester():\n",
    "    '''This is a docstring'''\n",
    "    def __init__(self, filepath, symbol, start, end, tc):\n",
    "        self.filepath = filepath\n",
    "        self.symbol = symbol\n",
    "        self.start = start\n",
    "        self.end = end\n",
    "        self.tc = tc\n",
    "        self.results = None\n",
    "        self.get_data()\n",
    "        self.tp_year = (self.data.price.count() / ((self.data.index[-1] - self.data.index[0]).days/365.25))\n",
    "        \n",
    "    def __repr__(self):\n",
    "        return \"CBacktester: symbol = {}, start = {}, end = {}\".\\\n",
    "        format(self.symbol, self.start, self.end)\n",
    "        \n",
    "    def get_data(self):\n",
    "        raw = pd.read_csv(self.filepath, parse_dates=['time'], index_col='time')\n",
    "        raw = raw[self.symbol].to_frame().fillna('ffill')\n",
    "        raw = raw.loc[self.start:self.end].copy()\n",
    "        raw.rename(columns={self.symbol:'price'}, inplace=True)\n",
    "        raw['returns'] = np.log(raw.price / raw.price.shift(1))\n",
    "        self.data = raw\n",
    "    \n",
    "    def upsample(self):\n",
    "        pass\n",
    "    \n",
    "    def prepare_data(self, freq, window):\n",
    "        pass\n",
    "\n",
    "    def run_backtest(self):\n",
    "        pass    \n",
    "    \n",
    "    def test_strategy(self, freq = 60, window = 1):\n",
    "        pass\n",
    "          \n",
    "    def plot_results(self):\n",
    "        pass\n",
    "            \n",
    "    def optimize_strategy(self, freq_range, window_range, metric = \"Multiple\"):\n",
    "        pass\n",
    "    \n",
    "    def find_best_strategy(self):\n",
    "        pass\n",
    "    \n",
    "    def visualize_many(self):\n",
    "        pass\n",
    "    \n",
    "    def add_sessions(self, visualize = False):\n",
    "        pass\n",
    "    \n",
    "    def add_stop_loss(self, sl_thresh, report = True):\n",
    "        pass\n",
    "    \n",
    "    def add_take_profit(self, tp_thresh, report = True):\n",
    "        pass\n",
    "    \n",
    "    def define_sl_pos(self, group):\n",
    "        pass\n",
    "    \n",
    "    def define_tp_pos(self, group):\n",
    "        pass\n",
    "    \n",
    "    def add_leverage(self, leverage, sl = -0.5, report = True):\n",
    "        pass\n",
    "    \n",
    "    def print_performance(self, leverage = False):\n",
    "        pass\n",
    "    \n",
    "    def calculate_multiple(self, series):\n",
    "        pass\n",
    "    \n",
    "    def calculate_cagr(self, series):\n",
    "        pass\n",
    "    \n",
    "    def calculate_annulized_mean(self, series):\n",
    "        pass\n",
    "    \n",
    "    def calculate_annualized_std(self, series):\n",
    "        pass\n",
    "    \n",
    "    def calculate_sharpe(self, series):\n",
    "        pass\n",
    "    \n",
    "    def calculate_sortino(self, series):\n",
    "        pass\n",
    "    \n",
    "    def calculate_calmar(self, series):\n",
    "        pass\n",
    "    \n",
    "    def calculate_max_dd_duration(self, series):\n",
    "        pass\n",
    "    \n",
    "    def calculate_kelly_criterion(self, series):\n",
    "        series = np.exp(series) - 1\n",
    "        if series.var() == 0:\n",
    "            return np.nan\n",
    "        else:\n",
    "            return series.mean() / series.var()"
   ]
  },
  {
   "cell_type": "code",
   "execution_count": 9,
   "metadata": {
    "scrolled": true
   },
   "outputs": [
    {
     "data": {
      "text/plain": [
       "CBacktester: symbol = EURUSD, start = 2018-01-01, end = 2019-12-30"
      ]
     },
     "execution_count": 9,
     "metadata": {},
     "output_type": "execute_result"
    }
   ],
   "source": [
    "spread = 1.5\n",
    "pips = 0.0001\n",
    "\n",
    "insample = CBacktester(\"one_minute.csv\", \"EURUSD\", \"2018-01-01\", \"2019-12-30\", spread/2*pips) #mult by 2 for a 'round trip', multiply by pips\n",
    "insample"
   ]
  },
  {
   "cell_type": "code",
   "execution_count": null,
   "metadata": {},
   "outputs": [],
   "source": []
  }
 ],
 "metadata": {
  "kernelspec": {
   "display_name": "Python 3 (ipykernel)",
   "language": "python",
   "name": "python3"
  },
  "language_info": {
   "codemirror_mode": {
    "name": "ipython",
    "version": 3
   },
   "file_extension": ".py",
   "mimetype": "text/x-python",
   "name": "python",
   "nbconvert_exporter": "python",
   "pygments_lexer": "ipython3",
   "version": "3.7.13"
  }
 },
 "nbformat": 4,
 "nbformat_minor": 4
}
