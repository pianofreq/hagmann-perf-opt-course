{
 "cells": [
  {
   "cell_type": "markdown",
   "id": "pregnant-transcript",
   "metadata": {},
   "source": [
    "# Maximum Drawdown and Calmar Ratio"
   ]
  },
  {
   "cell_type": "markdown",
   "id": "statutory-journey",
   "metadata": {},
   "source": [
    "## Getting ready"
   ]
  },
  {
   "cell_type": "code",
   "execution_count": null,
   "id": "loving-harvey",
   "metadata": {},
   "outputs": [],
   "source": [
    "import pandas as pd\n",
    "import numpy as np\n",
    "import matplotlib.pyplot as plt\n",
    "plt.style.use(\"seaborn\")"
   ]
  },
  {
   "cell_type": "code",
   "execution_count": null,
   "id": "psychological-weekend",
   "metadata": {},
   "outputs": [],
   "source": [
    "returns = pd.read_csv(\"returns.csv\", index_col = \"Date\", parse_dates = [\"Date\"])\n",
    "returns"
   ]
  },
  {
   "cell_type": "code",
   "execution_count": null,
   "id": "actual-transmission",
   "metadata": {},
   "outputs": [],
   "source": [
    "returns.info()"
   ]
  },
  {
   "cell_type": "code",
   "execution_count": null,
   "id": "spanish-flush",
   "metadata": {
    "scrolled": false
   },
   "outputs": [],
   "source": [
    "returns.cumsum().apply(np.exp).plot(figsize = (12, 8))\n",
    "plt.show()"
   ]
  },
  {
   "cell_type": "code",
   "execution_count": null,
   "id": "33f13550",
   "metadata": {},
   "outputs": [],
   "source": []
  },
  {
   "cell_type": "markdown",
   "id": "faced-fighter",
   "metadata": {},
   "source": [
    "## Maximum Drawdown"
   ]
  },
  {
   "cell_type": "code",
   "execution_count": null,
   "id": "environmental-region",
   "metadata": {},
   "outputs": [],
   "source": [
    "symbol = \"USD_GBP\""
   ]
  },
  {
   "cell_type": "code",
   "execution_count": null,
   "id": "gross-defendant",
   "metadata": {},
   "outputs": [],
   "source": [
    "returns[symbol].cumsum().apply(np.exp).plot(figsize = (12, 8))\n",
    "plt.show()"
   ]
  },
  {
   "cell_type": "code",
   "execution_count": null,
   "id": "endangered-seafood",
   "metadata": {},
   "outputs": [],
   "source": [
    "instr = returns[symbol].to_frame().copy()\n",
    "instr"
   ]
  },
  {
   "cell_type": "code",
   "execution_count": null,
   "id": "spiritual-preservation",
   "metadata": {},
   "outputs": [],
   "source": [
    "instr[\"creturns\"] = instr.cumsum().apply(np.exp) # cumulative returns (normalized prices with Base == 1)"
   ]
  },
  {
   "cell_type": "code",
   "execution_count": null,
   "id": "european-alias",
   "metadata": {},
   "outputs": [],
   "source": [
    "instr[\"cummax\"] = instr.creturns.cummax() # cumulative maximum of creturns"
   ]
  },
  {
   "cell_type": "code",
   "execution_count": null,
   "id": "white-buyer",
   "metadata": {},
   "outputs": [],
   "source": [
    "instr"
   ]
  },
  {
   "cell_type": "code",
   "execution_count": null,
   "id": "active-barrel",
   "metadata": {},
   "outputs": [],
   "source": [
    "instr[[\"creturns\", \"cummax\"]].plot(figsize = (15, 8), fontsize = 13)\n",
    "plt.legend(fontsize = 13)\n",
    "plt.show()"
   ]
  },
  {
   "cell_type": "code",
   "execution_count": null,
   "id": "suitable-oxygen",
   "metadata": {},
   "outputs": [],
   "source": [
    "instr[\"drawdown\"] = -(instr[\"creturns\"] - instr[\"cummax\"]) / instr[\"cummax\"] # (pos.) drawdown (in %)\n",
    "instr"
   ]
  },
  {
   "cell_type": "code",
   "execution_count": null,
   "id": "4ad925f9",
   "metadata": {},
   "outputs": [],
   "source": [
    "instr[[\"creturns\", \"cummax\", \"drawdown\"]].plot(figsize = (15, 8), fontsize = 13, secondary_y = \"drawdown\")\n",
    "plt.legend(fontsize = 13)\n",
    "plt.show()"
   ]
  },
  {
   "cell_type": "code",
   "execution_count": null,
   "id": "faced-claim",
   "metadata": {},
   "outputs": [],
   "source": [
    "max_drawdown = instr.drawdown.max() # maximum drawdown\n",
    "max_drawdown"
   ]
  },
  {
   "cell_type": "code",
   "execution_count": null,
   "id": "solved-nothing",
   "metadata": {},
   "outputs": [],
   "source": [
    "instr.drawdown.idxmax() # maximum drawdown date "
   ]
  },
  {
   "cell_type": "code",
   "execution_count": null,
   "id": "ab2c0eca",
   "metadata": {},
   "outputs": [],
   "source": [
    "instr.loc[instr.drawdown.idxmax()]"
   ]
  },
  {
   "cell_type": "code",
   "execution_count": null,
   "id": "df1c6a24",
   "metadata": {},
   "outputs": [],
   "source": [
    "(0.941169 - 1.127116) / 1.127116"
   ]
  },
  {
   "cell_type": "code",
   "execution_count": null,
   "id": "c3b4a29f",
   "metadata": {},
   "outputs": [],
   "source": []
  },
  {
   "cell_type": "markdown",
   "id": "governmental-mentor",
   "metadata": {},
   "source": [
    "## Calmar Ratio"
   ]
  },
  {
   "cell_type": "code",
   "execution_count": null,
   "id": "first-stewart",
   "metadata": {},
   "outputs": [],
   "source": [
    "max_drawdown"
   ]
  },
  {
   "cell_type": "code",
   "execution_count": null,
   "id": "stylish-conservation",
   "metadata": {},
   "outputs": [],
   "source": [
    "cagr = np.exp(instr[symbol].sum())**(1/((instr.index[-1] - instr.index[0]).days / 365.25)) - 1 \n",
    "cagr"
   ]
  },
  {
   "cell_type": "code",
   "execution_count": null,
   "id": "complete-financing",
   "metadata": {},
   "outputs": [],
   "source": [
    "calmar = cagr / max_drawdown\n",
    "calmar"
   ]
  },
  {
   "cell_type": "code",
   "execution_count": null,
   "id": "f92fa23d",
   "metadata": {},
   "outputs": [],
   "source": []
  },
  {
   "cell_type": "markdown",
   "id": "543cc21e",
   "metadata": {},
   "source": [
    "## Max Drawdown Duration"
   ]
  },
  {
   "cell_type": "code",
   "execution_count": null,
   "id": "bbe3d98d",
   "metadata": {},
   "outputs": [],
   "source": [
    "instr"
   ]
  },
  {
   "cell_type": "code",
   "execution_count": null,
   "id": "c120546b",
   "metadata": {},
   "outputs": [],
   "source": [
    "instr[[\"creturns\", \"cummax\", \"drawdown\"]].plot(figsize = (15, 8), fontsize = 13, secondary_y = \"drawdown\")\n",
    "plt.legend(fontsize = 13)\n",
    "plt.show()"
   ]
  },
  {
   "cell_type": "code",
   "execution_count": null,
   "id": "98fdaaf3",
   "metadata": {},
   "outputs": [],
   "source": [
    "drawdown = instr.drawdown.copy()\n",
    "drawdown"
   ]
  },
  {
   "cell_type": "markdown",
   "id": "ada91a21",
   "metadata": {},
   "source": [
    "- Drawdown Period: Time Period between peaks \n",
    "- recall: whenever drawdown == 0, a new peak has been reached"
   ]
  },
  {
   "cell_type": "code",
   "execution_count": null,
   "id": "f684444c",
   "metadata": {},
   "outputs": [],
   "source": [
    "begin = drawdown[drawdown == 0].index # get all peak dates (beginning of Drawdown periods)\n",
    "begin"
   ]
  },
  {
   "cell_type": "code",
   "execution_count": null,
   "id": "557b1454",
   "metadata": {},
   "outputs": [],
   "source": [
    "end = begin[1:] # get the corresponding end dates for all Drawdown periods\n",
    "end = end.append(pd.DatetimeIndex([drawdown.index[-1]])) # add last available date\n",
    "end"
   ]
  },
  {
   "cell_type": "code",
   "execution_count": null,
   "id": "4d074a59",
   "metadata": {},
   "outputs": [],
   "source": [
    "periods = end - begin # time difference between peaks\n",
    "periods"
   ]
  },
  {
   "cell_type": "code",
   "execution_count": null,
   "id": "ffdc0f2c",
   "metadata": {},
   "outputs": [],
   "source": [
    "max_ddd = periods.max() # max drawdown duration\n",
    "max_ddd"
   ]
  },
  {
   "cell_type": "code",
   "execution_count": null,
   "id": "fb75220e",
   "metadata": {},
   "outputs": [],
   "source": [
    "max_ddd.days"
   ]
  },
  {
   "cell_type": "code",
   "execution_count": null,
   "id": "c39373e3",
   "metadata": {},
   "outputs": [],
   "source": []
  },
  {
   "cell_type": "markdown",
   "id": "organizational-indie",
   "metadata": {},
   "source": [
    "## Putting everything together"
   ]
  },
  {
   "cell_type": "code",
   "execution_count": null,
   "id": "4f93e30e",
   "metadata": {},
   "outputs": [],
   "source": [
    "import pandas as pd\n",
    "import numpy as np"
   ]
  },
  {
   "cell_type": "code",
   "execution_count": null,
   "id": "d3fe9835",
   "metadata": {},
   "outputs": [],
   "source": [
    "returns = pd.read_csv(\"returns.csv\", index_col = \"Date\", parse_dates = [\"Date\"])\n",
    "returns"
   ]
  },
  {
   "cell_type": "code",
   "execution_count": null,
   "id": "5272e192",
   "metadata": {},
   "outputs": [],
   "source": [
    "def max_drawdown(series):\n",
    "    creturns = series.cumsum().apply(np.exp)\n",
    "    cummax = creturns.cummax()\n",
    "    drawdown = (cummax - creturns)/cummax\n",
    "    max_dd = drawdown.max()\n",
    "    return max_dd"
   ]
  },
  {
   "cell_type": "code",
   "execution_count": null,
   "id": "71626768",
   "metadata": {},
   "outputs": [],
   "source": [
    "returns.apply(max_drawdown).sort_values()"
   ]
  },
  {
   "cell_type": "code",
   "execution_count": null,
   "id": "4b8443b1",
   "metadata": {},
   "outputs": [],
   "source": [
    "def calculate_cagr(series):\n",
    "    return np.exp(series.sum())**(1/((series.index[-1] - series.index[0]).days / 365.25)) - 1"
   ]
  },
  {
   "cell_type": "code",
   "execution_count": null,
   "id": "looking-festival",
   "metadata": {},
   "outputs": [],
   "source": [
    "def calmar(series):\n",
    "    \n",
    "    max_dd = max_drawdown(series)\n",
    "    if max_dd == 0:\n",
    "        return np.nan\n",
    "    else:\n",
    "        cagr = calculate_cagr(series)\n",
    "        calmar = cagr / max_dd\n",
    "        return calmar"
   ]
  },
  {
   "cell_type": "code",
   "execution_count": null,
   "id": "increasing-packaging",
   "metadata": {},
   "outputs": [],
   "source": [
    "returns.apply(calmar).sort_values(ascending = False)"
   ]
  },
  {
   "cell_type": "code",
   "execution_count": null,
   "id": "joint-treasury",
   "metadata": {},
   "outputs": [],
   "source": [
    "def max_dd_duration(series):\n",
    "    creturns = series.cumsum().apply(np.exp)\n",
    "    cummax = creturns.cummax()\n",
    "    drawdown = (cummax - creturns)/cummax\n",
    "    \n",
    "    begin = drawdown[drawdown == 0].index\n",
    "    end = begin[1:]\n",
    "    end = end.append(pd.DatetimeIndex([drawdown.index[-1]]))\n",
    "    periods = end - begin\n",
    "    max_ddd = periods.max()\n",
    "    return max_ddd.days   "
   ]
  },
  {
   "cell_type": "code",
   "execution_count": null,
   "id": "0c688704",
   "metadata": {},
   "outputs": [],
   "source": [
    "returns.apply(max_dd_duration).sort_values()"
   ]
  },
  {
   "cell_type": "code",
   "execution_count": null,
   "id": "fd0f9720",
   "metadata": {},
   "outputs": [],
   "source": []
  },
  {
   "cell_type": "markdown",
   "id": "d4321050",
   "metadata": {},
   "source": [
    "-----------------------"
   ]
  },
  {
   "cell_type": "markdown",
   "id": "c290fb1b",
   "metadata": {},
   "source": [
    "## Coding Challenge"
   ]
  },
  {
   "cell_type": "markdown",
   "id": "24c8661b",
   "metadata": {},
   "source": [
    "__Calculate and compare__ <br>\n",
    "- __Maximum Drawdown__\n",
    "- __Calmar Ratio__\n",
    "- __Maximum Drawdown Duration__ <br>"
   ]
  },
  {
   "cell_type": "markdown",
   "id": "eb593057",
   "metadata": {},
   "source": [
    "for __30 large US stocks__ that currently form the Dow Jones Industrial Average Index (\"Dow Jones\") for the time period between April 2019 and June 2021."
   ]
  },
  {
   "cell_type": "markdown",
   "id": "4d6ecb59",
   "metadata": {},
   "source": [
    "__Hint:__ You can __import__ the price data from __\"Dow_Jones.csv\"__.\n",
    " "
   ]
  },
  {
   "cell_type": "markdown",
   "id": "3f6b34ed",
   "metadata": {},
   "source": [
    "Determine the __best performing stock__ and the __worst performing stock__ according to the Calmar Ratio."
   ]
  },
  {
   "cell_type": "markdown",
   "id": "e24e318b",
   "metadata": {},
   "source": [
    "__Compare__ Calmar Ratio and Sharpe Ratio. Does the __ranking change__?"
   ]
  },
  {
   "cell_type": "markdown",
   "id": "d9e7df09",
   "metadata": {},
   "source": [
    "(Remark: Dividends are ignored here. Hence, for simplicity reasons, the Calmar Ratio is based on Price Returns only. As a consequence, dividend-paying stocks are getting penalized.) "
   ]
  },
  {
   "cell_type": "code",
   "execution_count": 2,
   "id": "64b1ff44",
   "metadata": {},
   "outputs": [],
   "source": [
    "import pandas as pd\n",
    "import numpy as np\n",
    "import matplotlib.pyplot as plt\n",
    "import matplotlib.patches as mpatches\n",
    "plt.style.use('seaborn')\n",
    "%matplotlib inline"
   ]
  },
  {
   "cell_type": "code",
   "execution_count": 186,
   "id": "3e2ca5c5",
   "metadata": {
    "scrolled": false
   },
   "outputs": [],
   "source": [
    "def get_data(file, date_col):\n",
    "    raw = pd.read_csv(file, parse_dates=[date_col], index_col=date_col)\n",
    "    return raw\n",
    "\n",
    "def nlog_returns(series):\n",
    "    norm = raw.div(raw.iloc[0])\n",
    "    returns = np.log(norm/norm.shift(1))\n",
    "    returns.dropna(inplace=True)\n",
    "    return returns\n",
    "\n",
    "def calc_cagr(series):\n",
    "    return np.exp(series.sum())**(1/((series.index[-1]-series.index[0]).days/365.25))-1\n",
    "\n",
    "def max_drawdown(series):\n",
    "    creturns = series.cumsum().apply(np.exp)\n",
    "    cmreturns = creturns.cummax()\n",
    "    drawdown = (cmreturns-creturns)/cmreturns\n",
    "    max_dd = drawdown.max()\n",
    "    return max_dd\n",
    "\n",
    "def calmar(series):\n",
    "    max_dd = max_drawdown(series)\n",
    "    if max_dd == 0:\n",
    "        return np.nan\n",
    "    else:\n",
    "        cagr = calc_cagr(series)\n",
    "        return cagr/max_dd\n",
    "\n",
    "def max_dd_duration(series):\n",
    "    creturns = series.cumsum().apply(np.exp)\n",
    "    cmreturns = creturns.cummax()\n",
    "    drawdown = (cmreturns-creturns)/cmreturns\n",
    "    begin = series[drawdown==0].index\n",
    "    end = begin[1:]\n",
    "    end = end.append(pd.DatetimeIndex([drawdown.index[-1]]))\n",
    "    max_ddd = (end-begin).max()\n",
    "    return max_ddd\n",
    "        \n",
    "def sharpe(series):\n",
    "    td_year = series.count() / ((series.index[-1] - series.index[0]).days / 365.25)\n",
    "\n",
    "    mu = series.mean() * td_year\n",
    "    sigma = series.std() * np.sqrt(td_year)\n",
    "    return mu/sigma\n",
    "\n",
    "def sortino(series, TMR = 0):\n",
    "    excess_returns = (series - TMR)\n",
    "    downside_deviation = np.sqrt(np.mean(np.where(excess_returns < 0, excess_returns, 0)**2))\n",
    "    if downside_deviation == 0:\n",
    "        return np.nan\n",
    "    else:\n",
    "        sortino = (series.mean() - TMR) / downside_deviation * np.sqrt(series.count() / ((series.index[-1] - series.index[0]).days / 365.25))\n",
    "        return sortino"
   ]
  },
  {
   "cell_type": "code",
   "execution_count": 265,
   "id": "37da707c",
   "metadata": {},
   "outputs": [
    {
     "data": {
      "image/png": "[encoded data removed]",
      "text/plain": [
       "<Figure size 1080x576 with 1 Axes>"
      ]
     },
     "metadata": {
      "needs_background": "light"
     },
     "output_type": "display_data"
    }
   ],
   "source": [
    "### %matplotlib inline\n",
    "\n",
    "raw = get_data('Dow_Jones.csv', 'Date')\n",
    "\n",
    "returns = nlog_returns(raw)\n",
    "creturns = returns.cumsum().apply(np.exp)\n",
    "results_frame = creturns.iloc[-1].to_frame().rename(columns={creturns.index[-1]:'Cumul. Returns'})\n",
    "results_frame['Max DD'] = returns.apply(max_drawdown) #applies this function to each column\n",
    "results_frame['Calmar'] = returns.apply(calmar).sort_values(ascending=False)\n",
    "results_frame['Max DD Duration'] = returns.apply(max_dd_duration).sort_values(ascending=False)\n",
    "results_frame['Sharpe'] = returns.apply(sharpe)\n",
    "results_frame['Sortino'] = returns.apply(sortino)\n",
    "results_frame = results_frame.loc[results_frame.Calmar >= 0].sort_values(by='Sharpe', ascending=True).copy()\n",
    "\n",
    "N = len(results_frame.index.values)\n",
    "ind = np.arange(N)\n",
    "w = 0.25\n",
    "plt.figure(figsize=(15,8))\n",
    "ax = plt.subplot(111)\n",
    "\n",
    "#ax2 = plt.subplot(111)\n",
    "#ax2 = ax.twinx()\n",
    "#ax2.grid(visible=None)\n",
    "\n",
    "plt.xlabel(\"Top 30 Dow Jones Stocks\", fontsize=15)\n",
    "plt.ylabel('Scale', fontsize=15)\n",
    "plt.title(\"Risk Metrics\", fontsize=15)\n",
    "\n",
    "xvals = results_frame['Sharpe'].values\n",
    "yvals = results_frame['Sortino'].values\n",
    "zvals = results_frame['Calmar'].values\n",
    "\n",
    "\n",
    "bar1 = ax.bar(ind-w, xvals, width=w, color = 'red', align='center')\n",
    "bar2 = ax.bar(ind, yvals, width=w, color = 'blue', align='center')\n",
    "\n",
    "\n",
    "#bar3 = ax2.bar(ind+w, zvals, width=w, color='green', align='center') #no second axis is needed\n",
    "bar3 = ax.bar(ind+w, zvals, width=w, color='green', align='center')\n",
    "plt.xticks(ind,results_frame.index.values, fontsize=12)\n",
    "plt.yticks(fontsize=12)\n",
    "plt.legend( (bar1, bar2, bar3), ('Sharpe', 'Sortino', 'Calmar'))\n",
    "ax.set_ylim([0, 2])\n",
    "#ax2.set_ylim([0, 2])\n",
    "#ax2.tick_params( axis ='y', labelcolor = 'blue', bottom=True)\n",
    "\n",
    "plt.show()\n"
   ]
  },
  {
   "cell_type": "code",
   "execution_count": 266,
   "id": "1ecc9a9b",
   "metadata": {},
   "outputs": [
    {
     "data": {
      "image/png": "[encoded data removed]",
      "text/plain": [
       "<Figure size 1080x576 with 1 Axes>"
      ]
     },
     "metadata": {
      "needs_background": "light"
     },
     "output_type": "display_data"
    }
   ],
   "source": [
    "### %matplotlib inline\n",
    "raw = get_data('Dow_Jones.csv', 'Date')\n",
    "\n",
    "returns = nlog_returns(raw)\n",
    "creturns = returns.cumsum().apply(np.exp)\n",
    "results_frame = creturns.iloc[-1].to_frame().rename(columns={creturns.index[-1]:'Cumul. Returns'})\n",
    "results_frame['Max DD'] = returns.apply(max_drawdown) #applies this function to each column\n",
    "results_frame['Calmar'] = returns.apply(calmar).sort_values(ascending=False)\n",
    "results_frame['Max DD Duration'] = returns.apply(max_dd_duration).sort_values(ascending=False)\n",
    "results_frame['Sharpe'] = returns.apply(sharpe)\n",
    "results_frame['Sortino'] = returns.apply(sortino)\n",
    "results_frame = results_frame.loc[results_frame.Calmar >= 0].sort_values(by='Sortino', ascending=True).copy()\n",
    "\n",
    "N = len(results_frame.index.values)\n",
    "ind = np.arange(N)\n",
    "w = 0.25\n",
    "plt.figure(figsize=(15,8))\n",
    "ax = plt.subplot(111)\n",
    "\n",
    "#ax2 = plt.subplot(111)\n",
    "#ax2 = ax.twinx()\n",
    "#ax2.grid(visible=None)\n",
    "\n",
    "plt.xlabel(\"Top 30 Dow Jones Stocks\", fontsize=15)\n",
    "plt.ylabel('Scale', fontsize=15)\n",
    "plt.title(\"Risk Metrics\", fontsize=15)\n",
    "\n",
    "xvals = results_frame['Sharpe'].values\n",
    "yvals = results_frame['Sortino'].values\n",
    "zvals = results_frame['Calmar'].values\n",
    "\n",
    "\n",
    "bar1 = ax.bar(ind-w, xvals, width=w, color = 'red', align='center')\n",
    "bar2 = ax.bar(ind, yvals, width=w, color = 'blue', align='center')\n",
    "\n",
    "\n",
    "#bar3 = ax2.bar(ind+w, zvals, width=w, color='green', align='center') #no second axis is needed\n",
    "bar3 = ax.bar(ind+w, zvals, width=w, color='green', align='center')\n",
    "plt.xticks(ind,results_frame.index.values, fontsize=12)\n",
    "plt.yticks(fontsize=12)\n",
    "plt.legend( (bar1, bar2, bar3), ('Sharpe', 'Sortino', 'Calmar'))\n",
    "ax.set_ylim([0, 2])\n",
    "#ax2.set_ylim([0, 2])\n",
    "#ax2.tick_params( axis ='y', labelcolor = 'blue', bottom=True)\n",
    "\n",
    "plt.show()\n"
   ]
  },
  {
   "cell_type": "code",
   "execution_count": 269,
   "id": "6b9ea61f",
   "metadata": {},
   "outputs": [
    {
     "data": {
      "image/png": "[encoded data removed]",
      "text/plain": [
       "<Figure size 1080x576 with 1 Axes>"
      ]
     },
     "metadata": {
      "needs_background": "light"
     },
     "output_type": "display_data"
    }
   ],
   "source": [
    "### %matplotlib inline\n",
    "raw = get_data('Dow_Jones.csv', 'Date')\n",
    "\n",
    "returns = nlog_returns(raw)\n",
    "creturns = returns.cumsum().apply(np.exp)\n",
    "results_frame = creturns.iloc[-1].to_frame().rename(columns={creturns.index[-1]:'Cumul. Returns'})\n",
    "results_frame['Max DD'] = returns.apply(max_drawdown) #applies this function to each column\n",
    "results_frame['Calmar'] = returns.apply(calmar).sort_values(ascending=False)\n",
    "results_frame['Max DD Duration'] = returns.apply(max_dd_duration).sort_values(ascending=False)\n",
    "results_frame['Sharpe'] = returns.apply(sharpe)\n",
    "results_frame['Sortino'] = returns.apply(sortino)\n",
    "results_frame = results_frame.loc[results_frame.Calmar >= 0].sort_values(by='Calmar', ascending=True).copy()\n",
    "\n",
    "N = len(results_frame.index.values)\n",
    "ind = np.arange(N)\n",
    "w = 0.25\n",
    "plt.figure(figsize=(15,8))\n",
    "ax = plt.subplot(111)\n",
    "\n",
    "#ax2 = plt.subplot(111)\n",
    "#ax2 = ax.twinx()\n",
    "#ax2.grid(visible=None)\n",
    "\n",
    "plt.xlabel(\"Top 30 Dow Jones Stocks\", fontsize=15)\n",
    "plt.ylabel('Scale', fontsize=15)\n",
    "plt.title(\"Risk Metrics\", fontsize=15)\n",
    "\n",
    "xvals = results_frame['Sharpe'].values\n",
    "yvals = results_frame['Sortino'].values\n",
    "zvals = results_frame['Calmar'].values\n",
    "\n",
    "\n",
    "bar1 = ax.bar(ind-w, xvals, width=w, color = 'red', align='center')\n",
    "bar2 = ax.bar(ind, yvals, width=w, color = 'blue', align='center')\n",
    "\n",
    "\n",
    "#bar3 = ax2.bar(ind+w, zvals, width=w, color='green', align='center') #no second axis is needed\n",
    "bar3 = ax.bar(ind+w, zvals, width=w, color='green', align='center')\n",
    "plt.xticks(ind,results_frame.index.values, fontsize=12)\n",
    "plt.yticks(fontsize=12)\n",
    "plt.legend( (bar1, bar2, bar3), ('Sharpe', 'Sortino', 'Calmar'))\n",
    "ax.set_ylim([0, 2])\n",
    "#ax2.set_ylim([0, 2])\n",
    "#ax2.tick_params( axis ='y', labelcolor = 'blue', bottom=True)\n",
    "\n",
    "plt.show()\n"
   ]
  },
  {
   "cell_type": "markdown",
   "id": "43e955ac",
   "metadata": {},
   "source": [
    "## +++ Please stop here in case you don´t want to see the solution!!! +++++"
   ]
  },
  {
   "cell_type": "markdown",
   "id": "51570df1",
   "metadata": {},
   "source": [
    "## Coding Challenge Solution"
   ]
  },
  {
   "cell_type": "code",
   "execution_count": null,
   "id": "e1de0a1b",
   "metadata": {},
   "outputs": [],
   "source": [
    "import pandas as pd\n",
    "import numpy as np"
   ]
  },
  {
   "cell_type": "code",
   "execution_count": null,
   "id": "ee23bc34",
   "metadata": {},
   "outputs": [],
   "source": [
    "df = pd.read_csv(\"Dow_Jones.csv\", index_col = \"Date\", parse_dates = [\"Date\"])\n",
    "df"
   ]
  },
  {
   "cell_type": "code",
   "execution_count": null,
   "id": "a956f8dc",
   "metadata": {},
   "outputs": [],
   "source": [
    "returns = np.log(df / df.shift()) # log returns\n",
    "returns"
   ]
  },
  {
   "cell_type": "markdown",
   "id": "ba3dbcd9",
   "metadata": {},
   "source": [
    "__Maximum Drawdown__"
   ]
  },
  {
   "cell_type": "code",
   "execution_count": null,
   "id": "40c82747",
   "metadata": {},
   "outputs": [],
   "source": [
    "def max_drawdown(series):\n",
    "    creturns = series.cumsum().apply(np.exp)\n",
    "    cummax = creturns.cummax()\n",
    "    drawdown = (cummax - creturns)/cummax\n",
    "    max_dd = drawdown.max()\n",
    "    return max_dd"
   ]
  },
  {
   "cell_type": "code",
   "execution_count": null,
   "id": "eca78e80",
   "metadata": {
    "scrolled": false
   },
   "outputs": [],
   "source": [
    "returns.apply(max_drawdown).sort_values()"
   ]
  },
  {
   "cell_type": "markdown",
   "id": "0b25ab68",
   "metadata": {},
   "source": [
    "__Calmar Ratio__"
   ]
  },
  {
   "cell_type": "code",
   "execution_count": null,
   "id": "cee5d9c6",
   "metadata": {},
   "outputs": [],
   "source": [
    "def calculate_cagr(series):\n",
    "    return np.exp(series.sum())**(1/((series.index[-1] - series.index[0]).days / 365.25)) - 1"
   ]
  },
  {
   "cell_type": "code",
   "execution_count": null,
   "id": "0610498e",
   "metadata": {},
   "outputs": [],
   "source": [
    "def calmar(series):\n",
    "    \n",
    "    max_dd = max_drawdown(series)\n",
    "    if max_dd == 0:\n",
    "        return np.nan\n",
    "    else:\n",
    "        cagr = calculate_cagr(series)\n",
    "        calmar = cagr / max_dd\n",
    "        return calmar"
   ]
  },
  {
   "cell_type": "code",
   "execution_count": null,
   "id": "649e0aea",
   "metadata": {},
   "outputs": [],
   "source": [
    "calm = returns.apply(calmar).sort_values(ascending = False)\n",
    "calm"
   ]
  },
  {
   "cell_type": "markdown",
   "id": "8c14f6f1",
   "metadata": {},
   "source": [
    "Best Performing Stock: __Apple__ (AAPL) <br>\n",
    "Worst Performing Stock: __Non-determinable__ (note: you can´t compare negative Calmar Ratios)"
   ]
  },
  {
   "cell_type": "markdown",
   "id": "fbac89d7",
   "metadata": {},
   "source": [
    "__Maximum Drawdown Duration__"
   ]
  },
  {
   "cell_type": "code",
   "execution_count": null,
   "id": "80bb37ba",
   "metadata": {},
   "outputs": [],
   "source": [
    "def max_dd_duration(series):\n",
    "    creturns = series.cumsum().apply(np.exp)\n",
    "    cummax = creturns.cummax()\n",
    "    drawdown = (cummax - creturns)/cummax\n",
    "    \n",
    "    begin = drawdown[drawdown == 0].index\n",
    "    end = begin[1:]\n",
    "    end = end.append(pd.DatetimeIndex([drawdown.index[-1]]))\n",
    "    periods = end - begin\n",
    "    max_ddd = periods.max()\n",
    "    return max_ddd.days "
   ]
  },
  {
   "cell_type": "code",
   "execution_count": null,
   "id": "38c9e857",
   "metadata": {},
   "outputs": [],
   "source": [
    "returns.apply(max_dd_duration).sort_values()"
   ]
  },
  {
   "cell_type": "code",
   "execution_count": null,
   "id": "b7174a25",
   "metadata": {},
   "outputs": [],
   "source": [
    "def sharpe(series, rf = 0):\n",
    "    \n",
    "    if series.std() == 0:\n",
    "        return np.nan\n",
    "    else:\n",
    "        return (series.mean() - rf) / series.std() * np.sqrt(series.count() / ((series.index[-1] - series.index[0]).days / 365.25))"
   ]
  },
  {
   "cell_type": "code",
   "execution_count": null,
   "id": "7532a637",
   "metadata": {},
   "outputs": [],
   "source": [
    "sha = returns.apply(sharpe).sort_values(ascending = False)\n",
    "sha"
   ]
  },
  {
   "cell_type": "code",
   "execution_count": null,
   "id": "06ba5545",
   "metadata": {},
   "outputs": [],
   "source": [
    "merged = pd.concat([calm, sha], axis = 1)\n",
    "merged"
   ]
  },
  {
   "cell_type": "code",
   "execution_count": null,
   "id": "860e88ab",
   "metadata": {},
   "outputs": [],
   "source": [
    "merged.columns = [\"Calmar\", \"Sharpe\"]"
   ]
  },
  {
   "cell_type": "code",
   "execution_count": null,
   "id": "307ddf05",
   "metadata": {},
   "outputs": [],
   "source": [
    "merged.rank(ascending = False)"
   ]
  },
  {
   "cell_type": "markdown",
   "id": "77705f2c",
   "metadata": {},
   "source": [
    "-> Some Differences. __Salesforce (CRM) gets better ranked__ with Calmar (-4) while __The Nike gets penalized__ by Calmar (+5)."
   ]
  },
  {
   "cell_type": "code",
   "execution_count": null,
   "id": "fbc00ad5",
   "metadata": {},
   "outputs": [],
   "source": []
  }
 ],
 "metadata": {
  "kernelspec": {
   "display_name": "Python 3 (ipykernel)",
   "language": "python",
   "name": "python3"
  },
  "language_info": {
   "codemirror_mode": {
    "name": "ipython",
    "version": 3
   },
   "file_extension": ".py",
   "mimetype": "text/x-python",
   "name": "python",
   "nbconvert_exporter": "python",
   "pygments_lexer": "ipython3",
   "version": "3.7.13"
  }
 },
 "nbformat": 4,
 "nbformat_minor": 5
}
