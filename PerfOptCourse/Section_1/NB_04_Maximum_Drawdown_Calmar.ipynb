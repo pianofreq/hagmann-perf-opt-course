{
 "cells": [
  {
   "cell_type": "markdown",
   "id": "pregnant-transcript",
   "metadata": {},
   "source": [
    "# Maximum Drawdown and Calmar Ratio"
   ]
  },
  {
   "cell_type": "markdown",
   "id": "statutory-journey",
   "metadata": {},
   "source": [
    "## Getting ready"
   ]
  },
  {
   "cell_type": "code",
   "execution_count": null,
   "id": "loving-harvey",
   "metadata": {},
   "outputs": [],
   "source": [
    "import pandas as pd\n",
    "import numpy as np\n",
    "import matplotlib.pyplot as plt\n",
    "plt.style.use(\"seaborn\")"
   ]
  },
  {
   "cell_type": "code",
   "execution_count": null,
   "id": "psychological-weekend",
   "metadata": {},
   "outputs": [],
   "source": [
    "returns = pd.read_csv(\"returns.csv\", index_col = \"Date\", parse_dates = [\"Date\"])\n",
    "returns"
   ]
  },
  {
   "cell_type": "code",
   "execution_count": null,
   "id": "actual-transmission",
   "metadata": {},
   "outputs": [],
   "source": [
    "returns.info()"
   ]
  },
  {
   "cell_type": "code",
   "execution_count": null,
   "id": "spanish-flush",
   "metadata": {
    "scrolled": false
   },
   "outputs": [],
   "source": [
    "returns.cumsum().apply(np.exp).plot(figsize = (12, 8))\n",
    "plt.show()"
   ]
  },
  {
   "cell_type": "code",
   "execution_count": null,
   "id": "33f13550",
   "metadata": {},
   "outputs": [],
   "source": []
  },
  {
   "cell_type": "markdown",
   "id": "faced-fighter",
   "metadata": {},
   "source": [
    "## Maximum Drawdown"
   ]
  },
  {
   "cell_type": "code",
   "execution_count": null,
   "id": "environmental-region",
   "metadata": {},
   "outputs": [],
   "source": [
    "symbol = \"USD_GBP\""
   ]
  },
  {
   "cell_type": "code",
   "execution_count": null,
   "id": "gross-defendant",
   "metadata": {},
   "outputs": [],
   "source": [
    "returns[symbol].cumsum().apply(np.exp).plot(figsize = (12, 8))\n",
    "plt.show()"
   ]
  },
  {
   "cell_type": "code",
   "execution_count": null,
   "id": "endangered-seafood",
   "metadata": {},
   "outputs": [],
   "source": [
    "instr = returns[symbol].to_frame().copy()\n",
    "instr"
   ]
  },
  {
   "cell_type": "code",
   "execution_count": null,
   "id": "spiritual-preservation",
   "metadata": {},
   "outputs": [],
   "source": [
    "instr[\"creturns\"] = instr.cumsum().apply(np.exp) # cumulative returns (normalized prices with Base == 1)"
   ]
  },
  {
   "cell_type": "code",
   "execution_count": null,
   "id": "european-alias",
   "metadata": {},
   "outputs": [],
   "source": [
    "instr[\"cummax\"] = instr.creturns.cummax() # cumulative maximum of creturns"
   ]
  },
  {
   "cell_type": "code",
   "execution_count": null,
   "id": "white-buyer",
   "metadata": {},
   "outputs": [],
   "source": [
    "instr"
   ]
  },
  {
   "cell_type": "code",
   "execution_count": null,
   "id": "active-barrel",
   "metadata": {},
   "outputs": [],
   "source": [
    "instr[[\"creturns\", \"cummax\"]].plot(figsize = (15, 8), fontsize = 13)\n",
    "plt.legend(fontsize = 13)\n",
    "plt.show()"
   ]
  },
  {
   "cell_type": "code",
   "execution_count": null,
   "id": "suitable-oxygen",
   "metadata": {},
   "outputs": [],
   "source": [
    "instr[\"drawdown\"] = -(instr[\"creturns\"] - instr[\"cummax\"]) / instr[\"cummax\"] # (pos.) drawdown (in %)\n",
    "instr"
   ]
  },
  {
   "cell_type": "code",
   "execution_count": null,
   "id": "4ad925f9",
   "metadata": {},
   "outputs": [],
   "source": [
    "instr[[\"creturns\", \"cummax\", \"drawdown\"]].plot(figsize = (15, 8), fontsize = 13, secondary_y = \"drawdown\")\n",
    "plt.legend(fontsize = 13)\n",
    "plt.show()"
   ]
  },
  {
   "cell_type": "code",
   "execution_count": null,
   "id": "faced-claim",
   "metadata": {},
   "outputs": [],
   "source": [
    "max_drawdown = instr.drawdown.max() # maximum drawdown\n",
    "max_drawdown"
   ]
  },
  {
   "cell_type": "code",
   "execution_count": null,
   "id": "solved-nothing",
   "metadata": {},
   "outputs": [],
   "source": [
    "instr.drawdown.idxmax() # maximum drawdown date "
   ]
  },
  {
   "cell_type": "code",
   "execution_count": null,
   "id": "ab2c0eca",
   "metadata": {},
   "outputs": [],
   "source": [
    "instr.loc[instr.drawdown.idxmax()]"
   ]
  },
  {
   "cell_type": "code",
   "execution_count": null,
   "id": "df1c6a24",
   "metadata": {},
   "outputs": [],
   "source": [
    "(0.941169 - 1.127116) / 1.127116"
   ]
  },
  {
   "cell_type": "code",
   "execution_count": null,
   "id": "c3b4a29f",
   "metadata": {},
   "outputs": [],
   "source": []
  },
  {
   "cell_type": "markdown",
   "id": "governmental-mentor",
   "metadata": {},
   "source": [
    "## Calmar Ratio"
   ]
  },
  {
   "cell_type": "code",
   "execution_count": null,
   "id": "first-stewart",
   "metadata": {},
   "outputs": [],
   "source": [
    "max_drawdown"
   ]
  },
  {
   "cell_type": "code",
   "execution_count": null,
   "id": "stylish-conservation",
   "metadata": {},
   "outputs": [],
   "source": [
    "cagr = np.exp(instr[symbol].sum())**(1/((instr.index[-1] - instr.index[0]).days / 365.25)) - 1 \n",
    "cagr"
   ]
  },
  {
   "cell_type": "code",
   "execution_count": null,
   "id": "complete-financing",
   "metadata": {},
   "outputs": [],
   "source": [
    "calmar = cagr / max_drawdown\n",
    "calmar"
   ]
  },
  {
   "cell_type": "code",
   "execution_count": null,
   "id": "f92fa23d",
   "metadata": {},
   "outputs": [],
   "source": []
  },
  {
   "cell_type": "markdown",
   "id": "543cc21e",
   "metadata": {},
   "source": [
    "## Max Drawdown Duration"
   ]
  },
  {
   "cell_type": "code",
   "execution_count": null,
   "id": "bbe3d98d",
   "metadata": {},
   "outputs": [],
   "source": [
    "instr"
   ]
  },
  {
   "cell_type": "code",
   "execution_count": null,
   "id": "c120546b",
   "metadata": {},
   "outputs": [],
   "source": [
    "instr[[\"creturns\", \"cummax\", \"drawdown\"]].plot(figsize = (15, 8), fontsize = 13, secondary_y = \"drawdown\")\n",
    "plt.legend(fontsize = 13)\n",
    "plt.show()"
   ]
  },
  {
   "cell_type": "code",
   "execution_count": null,
   "id": "98fdaaf3",
   "metadata": {},
   "outputs": [],
   "source": [
    "drawdown = instr.drawdown.copy()\n",
    "drawdown"
   ]
  },
  {
   "cell_type": "markdown",
   "id": "ada91a21",
   "metadata": {},
   "source": [
    "- Drawdown Period: Time Period between peaks \n",
    "- recall: whenever drawdown == 0, a new peak has been reached"
   ]
  },
  {
   "cell_type": "code",
   "execution_count": null,
   "id": "f684444c",
   "metadata": {},
   "outputs": [],
   "source": [
    "begin = drawdown[drawdown == 0].index # get all peak dates (beginning of Drawdown periods)\n",
    "begin"
   ]
  },
  {
   "cell_type": "code",
   "execution_count": null,
   "id": "557b1454",
   "metadata": {},
   "outputs": [],
   "source": [
    "end = begin[1:] # get the corresponding end dates for all Drawdown periods\n",
    "end = end.append(pd.DatetimeIndex([drawdown.index[-1]])) # add last available date\n",
    "end"
   ]
  },
  {
   "cell_type": "code",
   "execution_count": null,
   "id": "4d074a59",
   "metadata": {},
   "outputs": [],
   "source": [
    "periods = end - begin # time difference between peaks\n",
    "periods"
   ]
  },
  {
   "cell_type": "code",
   "execution_count": null,
   "id": "ffdc0f2c",
   "metadata": {},
   "outputs": [],
   "source": [
    "max_ddd = periods.max() # max drawdown duration\n",
    "max_ddd"
   ]
  },
  {
   "cell_type": "code",
   "execution_count": null,
   "id": "fb75220e",
   "metadata": {},
   "outputs": [],
   "source": [
    "max_ddd.days"
   ]
  },
  {
   "cell_type": "code",
   "execution_count": null,
   "id": "c39373e3",
   "metadata": {},
   "outputs": [],
   "source": []
  },
  {
   "cell_type": "markdown",
   "id": "organizational-indie",
   "metadata": {},
   "source": [
    "## Putting everything together"
   ]
  },
  {
   "cell_type": "code",
   "execution_count": null,
   "id": "4f93e30e",
   "metadata": {},
   "outputs": [],
   "source": [
    "import pandas as pd\n",
    "import numpy as np"
   ]
  },
  {
   "cell_type": "code",
   "execution_count": null,
   "id": "d3fe9835",
   "metadata": {},
   "outputs": [],
   "source": [
    "returns = pd.read_csv(\"returns.csv\", index_col = \"Date\", parse_dates = [\"Date\"])\n",
    "returns"
   ]
  },
  {
   "cell_type": "code",
   "execution_count": null,
   "id": "5272e192",
   "metadata": {},
   "outputs": [],
   "source": [
    "def max_drawdown(series):\n",
    "    creturns = series.cumsum().apply(np.exp)\n",
    "    cummax = creturns.cummax()\n",
    "    drawdown = (cummax - creturns)/cummax\n",
    "    max_dd = drawdown.max()\n",
    "    return max_dd"
   ]
  },
  {
   "cell_type": "code",
   "execution_count": null,
   "id": "71626768",
   "metadata": {},
   "outputs": [],
   "source": [
    "returns.apply(max_drawdown).sort_values()"
   ]
  },
  {
   "cell_type": "code",
   "execution_count": null,
   "id": "4b8443b1",
   "metadata": {},
   "outputs": [],
   "source": [
    "def calculate_cagr(series):\n",
    "    return np.exp(series.sum())**(1/((series.index[-1] - series.index[0]).days / 365.25)) - 1"
   ]
  },
  {
   "cell_type": "code",
   "execution_count": null,
   "id": "looking-festival",
   "metadata": {},
   "outputs": [],
   "source": [
    "def calmar(series):\n",
    "    \n",
    "    max_dd = max_drawdown(series)\n",
    "    if max_dd == 0:\n",
    "        return np.nan\n",
    "    else:\n",
    "        cagr = calculate_cagr(series)\n",
    "        calmar = cagr / max_dd\n",
    "        return calmar"
   ]
  },
  {
   "cell_type": "code",
   "execution_count": null,
   "id": "increasing-packaging",
   "metadata": {},
   "outputs": [],
   "source": [
    "returns.apply(calmar).sort_values(ascending = False)"
   ]
  },
  {
   "cell_type": "code",
   "execution_count": null,
   "id": "joint-treasury",
   "metadata": {},
   "outputs": [],
   "source": [
    "def max_dd_duration(series):\n",
    "    creturns = series.cumsum().apply(np.exp)\n",
    "    cummax = creturns.cummax()\n",
    "    drawdown = (cummax - creturns)/cummax\n",
    "    \n",
    "    begin = drawdown[drawdown == 0].index\n",
    "    end = begin[1:]\n",
    "    end = end.append(pd.DatetimeIndex([drawdown.index[-1]]))\n",
    "    periods = end - begin\n",
    "    max_ddd = periods.max()\n",
    "    return max_ddd.days   "
   ]
  },
  {
   "cell_type": "code",
   "execution_count": null,
   "id": "0c688704",
   "metadata": {},
   "outputs": [],
   "source": [
    "returns.apply(max_dd_duration).sort_values()"
   ]
  },
  {
   "cell_type": "code",
   "execution_count": null,
   "id": "fd0f9720",
   "metadata": {},
   "outputs": [],
   "source": []
  },
  {
   "cell_type": "markdown",
   "id": "d4321050",
   "metadata": {},
   "source": [
    "-----------------------"
   ]
  },
  {
   "cell_type": "markdown",
   "id": "c290fb1b",
   "metadata": {},
   "source": [
    "## Coding Challenge"
   ]
  },
  {
   "cell_type": "markdown",
   "id": "24c8661b",
   "metadata": {},
   "source": [
    "__Calculate and compare__ <br>\n",
    "- __Maximum Drawdown__\n",
    "- __Calmar Ratio__\n",
    "- __Maximum Drawdown Duration__ <br>"
   ]
  },
  {
   "cell_type": "markdown",
   "id": "eb593057",
   "metadata": {},
   "source": [
    "for __30 large US stocks__ that currently form the Dow Jones Industrial Average Index (\"Dow Jones\") for the time period between April 2019 and June 2021."
   ]
  },
  {
   "cell_type": "markdown",
   "id": "4d6ecb59",
   "metadata": {},
   "source": [
    "__Hint:__ You can __import__ the price data from __\"Dow_Jones.csv\"__.\n",
    " "
   ]
  },
  {
   "cell_type": "markdown",
   "id": "3f6b34ed",
   "metadata": {},
   "source": [
    "Determine the __best performing stock__ and the __worst performing stock__ according to the Calmar Ratio."
   ]
  },
  {
   "cell_type": "markdown",
   "id": "e24e318b",
   "metadata": {},
   "source": [
    "__Compare__ Calmar Ratio and Sharpe Ratio. Does the __ranking change__?"
   ]
  },
  {
   "cell_type": "markdown",
   "id": "d9e7df09",
   "metadata": {},
   "source": [
    "(Remark: Dividends are ignored here. Hence, for simplicity reasons, the Calmar Ratio is based on Price Returns only. As a consequence, dividend-paying stocks are getting penalized.) "
   ]
  },
  {
   "cell_type": "code",
   "execution_count": 2,
   "id": "69cf15d7",
   "metadata": {},
   "outputs": [],
   "source": [
    "import pandas as pd\n",
    "import numpy as np\n",
    "import matplotlib.pyplot as plt\n",
    "import matplotlib.patches as mpatches\n",
    "plt.style.use('seaborn')\n",
    "%matplotlib inline"
   ]
  },
  {
   "cell_type": "code",
   "execution_count": 186,
   "id": "470a81f9",
   "metadata": {
    "scrolled": false
   },
   "outputs": [],
   "source": [
    "def get_data(file, date_col):\n",
    "    raw = pd.read_csv(file, parse_dates=[date_col], index_col=date_col)\n",
    "    return raw\n",
    "\n",
    "def nlog_returns(series):\n",
    "    norm = raw.div(raw.iloc[0])\n",
    "    returns = np.log(norm/norm.shift(1))\n",
    "    returns.dropna(inplace=True)\n",
    "    return returns\n",
    "\n",
    "def calc_cagr(series):\n",
    "    return np.exp(series.sum())**(1/((series.index[-1]-series.index[0]).days/365.25))-1\n",
    "\n",
    "def max_drawdown(series):\n",
    "    creturns = series.cumsum().apply(np.exp)\n",
    "    cmreturns = creturns.cummax()\n",
    "    drawdown = (cmreturns-creturns)/cmreturns\n",
    "    max_dd = drawdown.max()\n",
    "    return max_dd\n",
    "\n",
    "def calmar(series):\n",
    "    max_dd = max_drawdown(series)\n",
    "    if max_dd == 0:\n",
    "        return np.nan\n",
    "    else:\n",
    "        cagr = calc_cagr(series)\n",
    "        return cagr/max_dd\n",
    "\n",
    "def max_dd_duration(series):\n",
    "    creturns = series.cumsum().apply(np.exp)\n",
    "    cmreturns = creturns.cummax()\n",
    "    drawdown = (cmreturns-creturns)/cmreturns\n",
    "    begin = series[drawdown==0].index\n",
    "    end = begin[1:]\n",
    "    end = end.append(pd.DatetimeIndex([drawdown.index[-1]]))\n",
    "    max_ddd = (end-begin).max()\n",
    "    return max_ddd\n",
    "        \n",
    "def sharpe(series):\n",
    "    td_year = series.count() / ((series.index[-1] - series.index[0]).days / 365.25)\n",
    "\n",
    "    mu = series.mean() * td_year\n",
    "    sigma = series.std() * np.sqrt(td_year)\n",
    "    return mu/sigma\n",
    "\n",
    "def sortino(series, TMR = 0):\n",
    "    excess_returns = (series - TMR)\n",
    "    downside_deviation = np.sqrt(np.mean(np.where(excess_returns < 0, excess_returns, 0)**2))\n",
    "    if downside_deviation == 0:\n",
    "        return np.nan\n",
    "    else:\n",
    "        sortino = (series.mean() - TMR) / downside_deviation * np.sqrt(series.count() / ((series.index[-1] - series.index[0]).days / 365.25))\n",
    "        return sortino"
   ]
  },
  {
   "cell_type": "code",
   "execution_count": 259,
   "id": "c09806f2",
   "metadata": {},
   "outputs": [
    {
     "data": {
      "image/png": "[encoded data removed]",
      "text/plain": [
       "<Figure size 1080x576 with 1 Axes>"
      ]
     },
     "metadata": {
      "needs_background": "light"
     },
     "output_type": "display_data"
    }
   ],
   "source": [
    "### %matplotlib inline\n",
    "raw = get_data('Dow_Jones.csv', 'Date')\n",
    "\n",
    "returns = nlog_returns(raw)\n",
    "creturns = returns.cumsum().apply(np.exp)\n",
    "results_frame = creturns.iloc[-1].to_frame().rename(columns={creturns.index[-1]:'Cumul. Returns'})\n",
    "results_frame['Max DD'] = returns.apply(max_drawdown) #applies this function to each column\n",
    "results_frame['Calmar'] = returns.apply(calmar).sort_values(ascending=False)\n",
    "results_frame['Max DD Duration'] = returns.apply(max_dd_duration).sort_values(ascending=False)\n",
    "results_frame['Sharpe'] = returns.apply(sharpe)\n",
    "results_frame['Sortino'] = returns.apply(sortino)\n",
    "results_frame = results_frame.loc[results_frame.Calmar >= 0].sort_values(by='Sortino', ascending=True).copy()\n",
    "\n",
    "N = len(results_frame.index.values)\n",
    "ind = np.arange(N)\n",
    "w = 0.25\n",
    "plt.figure(figsize=(15,8))\n",
    "ax = plt.subplot(111)\n",
    "\n",
    "#ax2 = plt.subplot(111)\n",
    "#ax2 = ax.twinx()\n",
    "#ax2.grid(visible=None)\n",
    "\n",
    "plt.xlabel(\"Top 30 Dow Jones Stocks\", fontsize=15)\n",
    "plt.ylabel('Scale', fontsize=15)\n",
    "plt.title(\"Risk Metrics\", fontsize=15)\n",
    "\n",
    "xvals = results_frame['Sharpe'].values\n",
    "yvals = results_frame['Sortino'].values\n",
    "zvals = results_frame['Calmar'].values\n",
    "\n",
    "\n",
    "bar1 = ax.bar(ind-w, xvals, width=w, color = 'red', align='center')\n",
    "bar2 = ax.bar(ind, yvals, width=w, color = 'blue', align='center')\n",
    "\n",
    "\n",
    "#bar3 = ax2.bar(ind+w, zvals, width=w, color='green', align='center') #no second axis is needed\n",
    "bar3 = ax.bar(ind+w, zvals, width=w, color='green', align='center')\n",
    "plt.xticks(ind,results_frame.index.values, fontsize=12)\n",
    "plt.yticks(fontsize=12)\n",
    "plt.legend( (bar1, bar2, bar3), ('Sharpe', 'Sortino', 'Calmar'))\n",
    "ax.set_ylim([0, 2])\n",
    "#ax2.set_ylim([0, 2])\n",
    "#ax2.tick_params( axis ='y', labelcolor = 'blue', bottom=True)\n",
    "\n",
    "plt.show()\n"
   ]
  },
  {
   "cell_type": "code",
   "execution_count": 222,
   "id": "7d5aca63",
   "metadata": {},
   "outputs": [
    {
     "data": {
      "text/html": [
       "<div>\n",
       "<style scoped>\n",
       "    .dataframe tbody tr th:only-of-type {\n",
       "        vertical-align: middle;\n",
       "    }\n",
       "\n",
       "    .dataframe tbody tr th {\n",
       "        vertical-align: top;\n",
       "    }\n",
       "\n",
       "    .dataframe thead th {\n",
       "        text-align: right;\n",
       "    }\n",
       "</style>\n",
       "<table border=\"1\" class=\"dataframe\">\n",
       "  <thead>\n",
       "    <tr style=\"text-align: right;\">\n",
       "      <th></th>\n",
       "      <th>Cumul. Returns</th>\n",
       "      <th>Max DD</th>\n",
       "      <th>Calmar</th>\n",
       "      <th>Max DD Duration</th>\n",
       "      <th>Sharpe</th>\n",
       "      <th>Sortino</th>\n",
       "    </tr>\n",
       "  </thead>\n",
       "  <tbody>\n",
       "    <tr>\n",
       "      <th>BA</th>\n",
       "      <td>0.626092</td>\n",
       "      <td>0.759991</td>\n",
       "      <td>-0.252137</td>\n",
       "      <td>802 days</td>\n",
       "      <td>-0.334131</td>\n",
       "      <td>-0.463188</td>\n",
       "    </tr>\n",
       "    <tr>\n",
       "      <th>WBA</th>\n",
       "      <td>0.857300</td>\n",
       "      <td>0.465561</td>\n",
       "      <td>-0.145106</td>\n",
       "      <td>580 days</td>\n",
       "      <td>-0.179464</td>\n",
       "      <td>-0.246252</td>\n",
       "    </tr>\n",
       "    <tr>\n",
       "      <th>CVX</th>\n",
       "      <td>0.864175</td>\n",
       "      <td>0.571992</td>\n",
       "      <td>-0.112180</td>\n",
       "      <td>798 days</td>\n",
       "      <td>-0.147890</td>\n",
       "      <td>-0.198223</td>\n",
       "    </tr>\n",
       "    <tr>\n",
       "      <th>MRK</th>\n",
       "      <td>0.949239</td>\n",
       "      <td>0.278574</td>\n",
       "      <td>-0.083957</td>\n",
       "      <td>529 days</td>\n",
       "      <td>-0.091907</td>\n",
       "      <td>-0.126516</td>\n",
       "    </tr>\n",
       "    <tr>\n",
       "      <th>MMM</th>\n",
       "      <td>0.950080</td>\n",
       "      <td>0.463007</td>\n",
       "      <td>-0.049665</td>\n",
       "      <td>783 days</td>\n",
       "      <td>-0.074511</td>\n",
       "      <td>-0.099110</td>\n",
       "    </tr>\n",
       "    <tr>\n",
       "      <th>VZ</th>\n",
       "      <td>0.967676</td>\n",
       "      <td>0.195425</td>\n",
       "      <td>-0.075815</td>\n",
       "      <td>542 days</td>\n",
       "      <td>-0.073673</td>\n",
       "      <td>-0.106034</td>\n",
       "    </tr>\n",
       "    <tr>\n",
       "      <th>CSCO</th>\n",
       "      <td>0.985267</td>\n",
       "      <td>0.428079</td>\n",
       "      <td>-0.015698</td>\n",
       "      <td>700 days</td>\n",
       "      <td>-0.020259</td>\n",
       "      <td>-0.027359</td>\n",
       "    </tr>\n",
       "    <tr>\n",
       "      <th>IBM</th>\n",
       "      <td>1.046964</td>\n",
       "      <td>0.395445</td>\n",
       "      <td>0.053278</td>\n",
       "      <td>494 days</td>\n",
       "      <td>0.064666</td>\n",
       "      <td>0.086562</td>\n",
       "    </tr>\n",
       "    <tr>\n",
       "      <th>INTC</th>\n",
       "      <td>1.067511</td>\n",
       "      <td>0.355776</td>\n",
       "      <td>0.084669</td>\n",
       "      <td>507 days</td>\n",
       "      <td>0.068972</td>\n",
       "      <td>0.092298</td>\n",
       "    </tr>\n",
       "    <tr>\n",
       "      <th>TRV</th>\n",
       "      <td>1.110346</td>\n",
       "      <td>0.472389</td>\n",
       "      <td>0.103093</td>\n",
       "      <td>602 days</td>\n",
       "      <td>0.129859</td>\n",
       "      <td>0.164778</td>\n",
       "    </tr>\n",
       "    <tr>\n",
       "      <th>DOW</th>\n",
       "      <td>1.251589</td>\n",
       "      <td>0.631552</td>\n",
       "      <td>0.169942</td>\n",
       "      <td>649 days</td>\n",
       "      <td>0.207601</td>\n",
       "      <td>0.278480</td>\n",
       "    </tr>\n",
       "    <tr>\n",
       "      <th>KO</th>\n",
       "      <td>1.188998</td>\n",
       "      <td>0.375353</td>\n",
       "      <td>0.217976</td>\n",
       "      <td>479 days</td>\n",
       "      <td>0.300984</td>\n",
       "      <td>0.409288</td>\n",
       "    </tr>\n",
       "    <tr>\n",
       "      <th>JNJ</th>\n",
       "      <td>1.189883</td>\n",
       "      <td>0.278265</td>\n",
       "      <td>0.295343</td>\n",
       "      <td>251 days</td>\n",
       "      <td>0.330217</td>\n",
       "      <td>0.465604</td>\n",
       "    </tr>\n",
       "    <tr>\n",
       "      <th>AMGN</th>\n",
       "      <td>1.257705</td>\n",
       "      <td>0.250658</td>\n",
       "      <td>0.437975</td>\n",
       "      <td>329 days</td>\n",
       "      <td>0.347485</td>\n",
       "      <td>0.520017</td>\n",
       "    </tr>\n",
       "    <tr>\n",
       "      <th>MCD</th>\n",
       "      <td>1.257922</td>\n",
       "      <td>0.380059</td>\n",
       "      <td>0.289085</td>\n",
       "      <td>403 days</td>\n",
       "      <td>0.353519</td>\n",
       "      <td>0.489785</td>\n",
       "    </tr>\n",
       "    <tr>\n",
       "      <th>AXP</th>\n",
       "      <td>1.466517</td>\n",
       "      <td>0.496385</td>\n",
       "      <td>0.382744</td>\n",
       "      <td>370 days</td>\n",
       "      <td>0.384012</td>\n",
       "      <td>0.572399</td>\n",
       "    </tr>\n",
       "    <tr>\n",
       "      <th>HON</th>\n",
       "      <td>1.382114</td>\n",
       "      <td>0.433171</td>\n",
       "      <td>0.365609</td>\n",
       "      <td>293 days</td>\n",
       "      <td>0.438526</td>\n",
       "      <td>0.614095</td>\n",
       "    </tr>\n",
       "    <tr>\n",
       "      <th>JPM</th>\n",
       "      <td>1.505830</td>\n",
       "      <td>0.439861</td>\n",
       "      <td>0.464637</td>\n",
       "      <td>378 days</td>\n",
       "      <td>0.470707</td>\n",
       "      <td>0.674996</td>\n",
       "    </tr>\n",
       "    <tr>\n",
       "      <th>PG</th>\n",
       "      <td>1.301718</td>\n",
       "      <td>0.231556</td>\n",
       "      <td>0.549585</td>\n",
       "      <td>245 days</td>\n",
       "      <td>0.477901</td>\n",
       "      <td>0.677372</td>\n",
       "    </tr>\n",
       "    <tr>\n",
       "      <th>CRM</th>\n",
       "      <td>1.527857</td>\n",
       "      <td>0.357158</td>\n",
       "      <td>0.594549</td>\n",
       "      <td>286 days</td>\n",
       "      <td>0.480582</td>\n",
       "      <td>0.696142</td>\n",
       "    </tr>\n",
       "    <tr>\n",
       "      <th>DIS</th>\n",
       "      <td>1.583681</td>\n",
       "      <td>0.434450</td>\n",
       "      <td>0.534639</td>\n",
       "      <td>372 days</td>\n",
       "      <td>0.556588</td>\n",
       "      <td>0.851043</td>\n",
       "    </tr>\n",
       "    <tr>\n",
       "      <th>V</th>\n",
       "      <td>1.488490</td>\n",
       "      <td>0.363649</td>\n",
       "      <td>0.544634</td>\n",
       "      <td>191 days</td>\n",
       "      <td>0.559739</td>\n",
       "      <td>0.783422</td>\n",
       "    </tr>\n",
       "    <tr>\n",
       "      <th>CAT</th>\n",
       "      <td>1.561569</td>\n",
       "      <td>0.389823</td>\n",
       "      <td>0.575717</td>\n",
       "      <td>251 days</td>\n",
       "      <td>0.567432</td>\n",
       "      <td>0.788021</td>\n",
       "    </tr>\n",
       "    <tr>\n",
       "      <th>UNH</th>\n",
       "      <td>1.625642</td>\n",
       "      <td>0.361763</td>\n",
       "      <td>0.682768</td>\n",
       "      <td>121 days</td>\n",
       "      <td>0.601900</td>\n",
       "      <td>0.861155</td>\n",
       "    </tr>\n",
       "    <tr>\n",
       "      <th>NKE</th>\n",
       "      <td>1.541241</td>\n",
       "      <td>0.399503</td>\n",
       "      <td>0.543578</td>\n",
       "      <td>202 days</td>\n",
       "      <td>0.605225</td>\n",
       "      <td>0.863811</td>\n",
       "    </tr>\n",
       "    <tr>\n",
       "      <th>HD</th>\n",
       "      <td>1.581067</td>\n",
       "      <td>0.384058</td>\n",
       "      <td>0.602382</td>\n",
       "      <td>210 days</td>\n",
       "      <td>0.624165</td>\n",
       "      <td>0.818541</td>\n",
       "    </tr>\n",
       "    <tr>\n",
       "      <th>WMT</th>\n",
       "      <td>1.436925</td>\n",
       "      <td>0.165325</td>\n",
       "      <td>1.082833</td>\n",
       "      <td>196 days</td>\n",
       "      <td>0.681073</td>\n",
       "      <td>1.050613</td>\n",
       "    </tr>\n",
       "    <tr>\n",
       "      <th>GS</th>\n",
       "      <td>1.895497</td>\n",
       "      <td>0.459515</td>\n",
       "      <td>0.733621</td>\n",
       "      <td>340 days</td>\n",
       "      <td>0.739809</td>\n",
       "      <td>1.052765</td>\n",
       "    </tr>\n",
       "    <tr>\n",
       "      <th>MSFT</th>\n",
       "      <td>2.183583</td>\n",
       "      <td>0.282353</td>\n",
       "      <td>1.508311</td>\n",
       "      <td>146 days</td>\n",
       "      <td>1.065276</td>\n",
       "      <td>1.520655</td>\n",
       "    </tr>\n",
       "    <tr>\n",
       "      <th>AAPL</th>\n",
       "      <td>2.729136</td>\n",
       "      <td>0.314273</td>\n",
       "      <td>1.838882</td>\n",
       "      <td>139 days</td>\n",
       "      <td>1.239288</td>\n",
       "      <td>1.794400</td>\n",
       "    </tr>\n",
       "  </tbody>\n",
       "</table>\n",
       "</div>"
      ],
      "text/plain": [
       "      Cumul. Returns    Max DD    Calmar Max DD Duration    Sharpe   Sortino\n",
       "BA          0.626092  0.759991 -0.252137        802 days -0.334131 -0.463188\n",
       "WBA         0.857300  0.465561 -0.145106        580 days -0.179464 -0.246252\n",
       "CVX         0.864175  0.571992 -0.112180        798 days -0.147890 -0.198223\n",
       "MRK         0.949239  0.278574 -0.083957        529 days -0.091907 -0.126516\n",
       "MMM         0.950080  0.463007 -0.049665        783 days -0.074511 -0.099110\n",
       "VZ          0.967676  0.195425 -0.075815        542 days -0.073673 -0.106034\n",
       "CSCO        0.985267  0.428079 -0.015698        700 days -0.020259 -0.027359\n",
       "IBM         1.046964  0.395445  0.053278        494 days  0.064666  0.086562\n",
       "INTC        1.067511  0.355776  0.084669        507 days  0.068972  0.092298\n",
       "TRV         1.110346  0.472389  0.103093        602 days  0.129859  0.164778\n",
       "DOW         1.251589  0.631552  0.169942        649 days  0.207601  0.278480\n",
       "KO          1.188998  0.375353  0.217976        479 days  0.300984  0.409288\n",
       "JNJ         1.189883  0.278265  0.295343        251 days  0.330217  0.465604\n",
       "AMGN        1.257705  0.250658  0.437975        329 days  0.347485  0.520017\n",
       "MCD         1.257922  0.380059  0.289085        403 days  0.353519  0.489785\n",
       "AXP         1.466517  0.496385  0.382744        370 days  0.384012  0.572399\n",
       "HON         1.382114  0.433171  0.365609        293 days  0.438526  0.614095\n",
       "JPM         1.505830  0.439861  0.464637        378 days  0.470707  0.674996\n",
       "PG          1.301718  0.231556  0.549585        245 days  0.477901  0.677372\n",
       "CRM         1.527857  0.357158  0.594549        286 days  0.480582  0.696142\n",
       "DIS         1.583681  0.434450  0.534639        372 days  0.556588  0.851043\n",
       "V           1.488490  0.363649  0.544634        191 days  0.559739  0.783422\n",
       "CAT         1.561569  0.389823  0.575717        251 days  0.567432  0.788021\n",
       "UNH         1.625642  0.361763  0.682768        121 days  0.601900  0.861155\n",
       "NKE         1.541241  0.399503  0.543578        202 days  0.605225  0.863811\n",
       "HD          1.581067  0.384058  0.602382        210 days  0.624165  0.818541\n",
       "WMT         1.436925  0.165325  1.082833        196 days  0.681073  1.050613\n",
       "GS          1.895497  0.459515  0.733621        340 days  0.739809  1.052765\n",
       "MSFT        2.183583  0.282353  1.508311        146 days  1.065276  1.520655\n",
       "AAPL        2.729136  0.314273  1.838882        139 days  1.239288  1.794400"
      ]
     },
     "execution_count": 222,
     "metadata": {},
     "output_type": "execute_result"
    }
   ],
   "source": [
    "results_frame.sort_values(by='Sharpe')"
   ]
  },
  {
   "cell_type": "code",
   "execution_count": 195,
   "id": "245667fe",
   "metadata": {},
   "outputs": [
    {
     "data": {
      "text/plain": [
       "array([0, 1, 2, 3])"
      ]
     },
     "execution_count": 195,
     "metadata": {},
     "output_type": "execute_result"
    }
   ],
   "source": [
    "np.arange(4)"
   ]
  },
  {
   "cell_type": "code",
   "execution_count": 196,
   "id": "228c8eb2",
   "metadata": {},
   "outputs": [
    {
     "data": {
      "image/png": "[encoded data removed]",
      "text/plain": [
       "<Figure size 432x288 with 1 Axes>"
      ]
     },
     "metadata": {
      "needs_background": "light"
     },
     "output_type": "display_data"
    }
   ],
   "source": [
    "import matplotlib.pyplot as plt\n",
    "from matplotlib.dates import date2num\n",
    "import datetime\n",
    "\n",
    "x = [\n",
    "    datetime.datetime(2011, 1, 4, 0, 0),\n",
    "    datetime.datetime(2011, 1, 5, 0, 0),\n",
    "    datetime.datetime(2011, 1, 6, 0, 0)\n",
    "]\n",
    "x = date2num(x)\n",
    "\n",
    "y = [4, 9, 2]\n",
    "z = [1, 2, 3]\n",
    "k = [11, 12, 13]\n",
    "\n",
    "ax = plt.subplot(111)\n",
    "ax.bar(x-0.2, y, width=0.2, color='b', align='center')\n",
    "ax.bar(x, z, width=0.2, color='g', align='center')\n",
    "ax.bar(x+0.2, k, width=0.2, color='r', align='center')\n",
    "ax.xaxis_date()\n",
    "\n",
    "plt.show()"
   ]
  },
  {
   "cell_type": "code",
   "execution_count": null,
   "id": "d2a2a80b",
   "metadata": {},
   "outputs": [],
   "source": []
  },
  {
   "cell_type": "code",
   "execution_count": 211,
   "id": "89c1552e",
   "metadata": {},
   "outputs": [
    {
     "data": {
      "text/plain": [
       "-0.4631881735293531"
      ]
     },
     "execution_count": 211,
     "metadata": {},
     "output_type": "execute_result"
    }
   ],
   "source": [
    "results_frame[['Sharpe', 'Sortino', 'Calmar']].apply(np.min).min()"
   ]
  },
  {
   "cell_type": "code",
   "execution_count": 209,
   "id": "954b566e",
   "metadata": {},
   "outputs": [
    {
     "data": {
      "text/plain": [
       "1.838882159182616"
      ]
     },
     "execution_count": 209,
     "metadata": {},
     "output_type": "execute_result"
    }
   ],
   "source": [
    "results_frame[['Sharpe', 'Sortino', 'Calmar']].apply(np.max).max()"
   ]
  },
  {
   "cell_type": "code",
   "execution_count": null,
   "id": "08954dec",
   "metadata": {},
   "outputs": [],
   "source": []
  },
  {
   "cell_type": "code",
   "execution_count": null,
   "id": "c9b57f2d",
   "metadata": {},
   "outputs": [],
   "source": []
  },
  {
   "cell_type": "code",
   "execution_count": null,
   "id": "4ccb5e0c",
   "metadata": {},
   "outputs": [],
   "source": []
  },
  {
   "cell_type": "markdown",
   "id": "43e955ac",
   "metadata": {},
   "source": [
    "## +++ Please stop here in case you don´t want to see the solution!!! +++++"
   ]
  },
  {
   "cell_type": "markdown",
   "id": "51570df1",
   "metadata": {},
   "source": [
    "## Coding Challenge Solution"
   ]
  },
  {
   "cell_type": "code",
   "execution_count": null,
   "id": "e1de0a1b",
   "metadata": {},
   "outputs": [],
   "source": [
    "import pandas as pd\n",
    "import numpy as np"
   ]
  },
  {
   "cell_type": "code",
   "execution_count": null,
   "id": "ee23bc34",
   "metadata": {},
   "outputs": [],
   "source": [
    "df = pd.read_csv(\"Dow_Jones.csv\", index_col = \"Date\", parse_dates = [\"Date\"])\n",
    "df"
   ]
  },
  {
   "cell_type": "code",
   "execution_count": null,
   "id": "a956f8dc",
   "metadata": {},
   "outputs": [],
   "source": [
    "returns = np.log(df / df.shift()) # log returns\n",
    "returns"
   ]
  },
  {
   "cell_type": "markdown",
   "id": "ba3dbcd9",
   "metadata": {},
   "source": [
    "__Maximum Drawdown__"
   ]
  },
  {
   "cell_type": "code",
   "execution_count": null,
   "id": "40c82747",
   "metadata": {},
   "outputs": [],
   "source": [
    "def max_drawdown(series):\n",
    "    creturns = series.cumsum().apply(np.exp)\n",
    "    cummax = creturns.cummax()\n",
    "    drawdown = (cummax - creturns)/cummax\n",
    "    max_dd = drawdown.max()\n",
    "    return max_dd"
   ]
  },
  {
   "cell_type": "code",
   "execution_count": null,
   "id": "eca78e80",
   "metadata": {
    "scrolled": false
   },
   "outputs": [],
   "source": [
    "returns.apply(max_drawdown).sort_values()"
   ]
  },
  {
   "cell_type": "markdown",
   "id": "0b25ab68",
   "metadata": {},
   "source": [
    "__Calmar Ratio__"
   ]
  },
  {
   "cell_type": "code",
   "execution_count": null,
   "id": "cee5d9c6",
   "metadata": {},
   "outputs": [],
   "source": [
    "def calculate_cagr(series):\n",
    "    return np.exp(series.sum())**(1/((series.index[-1] - series.index[0]).days / 365.25)) - 1"
   ]
  },
  {
   "cell_type": "code",
   "execution_count": null,
   "id": "0610498e",
   "metadata": {},
   "outputs": [],
   "source": [
    "def calmar(series):\n",
    "    \n",
    "    max_dd = max_drawdown(series)\n",
    "    if max_dd == 0:\n",
    "        return np.nan\n",
    "    else:\n",
    "        cagr = calculate_cagr(series)\n",
    "        calmar = cagr / max_dd\n",
    "        return calmar"
   ]
  },
  {
   "cell_type": "code",
   "execution_count": null,
   "id": "649e0aea",
   "metadata": {},
   "outputs": [],
   "source": [
    "calm = returns.apply(calmar).sort_values(ascending = False)\n",
    "calm"
   ]
  },
  {
   "cell_type": "markdown",
   "id": "8c14f6f1",
   "metadata": {},
   "source": [
    "Best Performing Stock: __Apple__ (AAPL) <br>\n",
    "Worst Performing Stock: __Non-determinable__ (note: you can´t compare negative Calmar Ratios)"
   ]
  },
  {
   "cell_type": "markdown",
   "id": "fbac89d7",
   "metadata": {},
   "source": [
    "__Maximum Drawdown Duration__"
   ]
  },
  {
   "cell_type": "code",
   "execution_count": null,
   "id": "80bb37ba",
   "metadata": {},
   "outputs": [],
   "source": [
    "def max_dd_duration(series):\n",
    "    creturns = series.cumsum().apply(np.exp)\n",
    "    cummax = creturns.cummax()\n",
    "    drawdown = (cummax - creturns)/cummax\n",
    "    \n",
    "    begin = drawdown[drawdown == 0].index\n",
    "    end = begin[1:]\n",
    "    end = end.append(pd.DatetimeIndex([drawdown.index[-1]]))\n",
    "    periods = end - begin\n",
    "    max_ddd = periods.max()\n",
    "    return max_ddd.days "
   ]
  },
  {
   "cell_type": "code",
   "execution_count": null,
   "id": "38c9e857",
   "metadata": {},
   "outputs": [],
   "source": [
    "returns.apply(max_dd_duration).sort_values()"
   ]
  },
  {
   "cell_type": "code",
   "execution_count": null,
   "id": "b7174a25",
   "metadata": {},
   "outputs": [],
   "source": [
    "def sharpe(series, rf = 0):\n",
    "    \n",
    "    if series.std() == 0:\n",
    "        return np.nan\n",
    "    else:\n",
    "        return (series.mean() - rf) / series.std() * np.sqrt(series.count() / ((series.index[-1] - series.index[0]).days / 365.25))"
   ]
  },
  {
   "cell_type": "code",
   "execution_count": null,
   "id": "7532a637",
   "metadata": {},
   "outputs": [],
   "source": [
    "sha = returns.apply(sharpe).sort_values(ascending = False)\n",
    "sha"
   ]
  },
  {
   "cell_type": "code",
   "execution_count": null,
   "id": "06ba5545",
   "metadata": {},
   "outputs": [],
   "source": [
    "merged = pd.concat([calm, sha], axis = 1)\n",
    "merged"
   ]
  },
  {
   "cell_type": "code",
   "execution_count": null,
   "id": "860e88ab",
   "metadata": {},
   "outputs": [],
   "source": [
    "merged.columns = [\"Calmar\", \"Sharpe\"]"
   ]
  },
  {
   "cell_type": "code",
   "execution_count": null,
   "id": "307ddf05",
   "metadata": {},
   "outputs": [],
   "source": [
    "merged.rank(ascending = False)"
   ]
  },
  {
   "cell_type": "markdown",
   "id": "77705f2c",
   "metadata": {},
   "source": [
    "-> Some Differences. __Salesforce (CRM) gets better ranked__ with Calmar (-4) while __The Nike gets penalized__ by Calmar (+5)."
   ]
  },
  {
   "cell_type": "code",
   "execution_count": null,
   "id": "fbc00ad5",
   "metadata": {},
   "outputs": [],
   "source": []
  }
 ],
 "metadata": {
  "kernelspec": {
   "display_name": "Python 3 (ipykernel)",
   "language": "python",
   "name": "python3"
  },
  "language_info": {
   "codemirror_mode": {
    "name": "ipython",
    "version": 3
   },
   "file_extension": ".py",
   "mimetype": "text/x-python",
   "name": "python",
   "nbconvert_exporter": "python",
   "pygments_lexer": "ipython3",
   "version": "3.7.13"
  }
 },
 "nbformat": 4,
 "nbformat_minor": 5
}
