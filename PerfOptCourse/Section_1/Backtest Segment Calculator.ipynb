{
 "cells": [
  {
   "cell_type": "code",
   "execution_count": 1,
   "id": "5b7bed4e",
   "metadata": {},
   "outputs": [],
   "source": [
    "import pandas as pd\n",
    "import numpy as np\n",
    "from itertools import product\n",
    "import matplotlib.pyplot as plt\n",
    "from IPython.display import display, clear_output\n",
    "import time\n",
    "\n",
    "import seaborn as sns\n",
    "plt.style.use('seaborn')"
   ]
  },
  {
   "cell_type": "code",
   "execution_count": 2,
   "id": "abb3bb03",
   "metadata": {},
   "outputs": [
    {
     "data": {
      "text/plain": [
       "0.4"
      ]
     },
     "execution_count": 2,
     "metadata": {},
     "output_type": "execute_result"
    }
   ],
   "source": [
    "segments = np.arange(10)\n",
    "\n",
    "start = []\n",
    "stop = []\n",
    "step = 1\n",
    "400\n",
    "\n",
    "(40*4)/400\n",
    "\n",
    "#tester.optimize_strategy((1,400,6),(1,400,6),(1,5,12), metric = \"Multiple\") #quick\n",
    "#tester.optimize_strategy((205,400,50),(10,150,25),(1,2,6), metric = \"Multiple\") #quick"
   ]
  },
  {
   "cell_type": "code",
   "execution_count": 3,
   "id": "11e66a77",
   "metadata": {},
   "outputs": [
    {
     "data": {
      "text/plain": [
       "array([0, 1, 2, 3, 4, 5, 6, 7, 8, 9])"
      ]
     },
     "execution_count": 3,
     "metadata": {},
     "output_type": "execute_result"
    }
   ],
   "source": [
    "segments"
   ]
  },
  {
   "cell_type": "code",
   "execution_count": 4,
   "id": "9493888c",
   "metadata": {},
   "outputs": [
    {
     "name": "stdout",
     "output_type": "stream",
     "text": [
      "There are 6 segments with 0 results in each group.\n",
      "\n",
      "0.0  to  66.5\n",
      "\n",
      "Then, \n",
      "\n",
      "67.5  to  133.0\n",
      "\n",
      "Then, \n",
      "\n",
      "135.0  to  199.5\n",
      "\n",
      "Then, \n",
      "\n",
      "202.5  to  266.0\n",
      "\n",
      "Then, \n",
      "\n",
      "270.0  to  332.5\n",
      "\n",
      "Then, \n",
      "\n",
      "333.5 to 399\n"
     ]
    }
   ],
   "source": [
    "start = 0\n",
    "stop = 399\n",
    "resultGroupSize = 75\n",
    "segments = np.arange(stop/resultGroupSize)\n",
    "\n",
    "#df = pd.DataFrame(#append each comb to a row\n",
    "\n",
    "print('There are {} segments with {} results in each group.\\n'.format(str(len(segments)), str(0)))\n",
    "\n",
    "for i in range(len(segments)):\n",
    "    if i < len(segments)-1:\n",
    "        print(1*segments[i]+start+stop/len(segments)*segments[i] , ' to ' , str(stop/len(segments)*segments[i+1]))\n",
    "        print('\\nThen, \\n')\n",
    "    else:\n",
    "        print(str(1+start+stop/len(segments)*segments[i]) + ' to ' + str(stop))\n",
    "\n"
   ]
  },
  {
   "cell_type": "code",
   "execution_count": null,
   "id": "e4de5812",
   "metadata": {},
   "outputs": [],
   "source": []
  }
 ],
 "metadata": {
  "kernelspec": {
   "display_name": "Python 3 (ipykernel)",
   "language": "python",
   "name": "python3"
  },
  "language_info": {
   "codemirror_mode": {
    "name": "ipython",
    "version": 3
   },
   "file_extension": ".py",
   "mimetype": "text/x-python",
   "name": "python",
   "nbconvert_exporter": "python",
   "pygments_lexer": "ipython3",
   "version": "3.7.13"
  }
 },
 "nbformat": 4,
 "nbformat_minor": 5
}
