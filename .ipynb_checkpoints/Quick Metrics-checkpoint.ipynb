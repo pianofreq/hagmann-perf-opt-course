{
 "cells": [
  {
   "cell_type": "markdown",
   "id": "6a6b5bf7",
   "metadata": {},
   "source": [
    "# Investment Account Size Calculator"
   ]
  },
  {
   "cell_type": "code",
   "execution_count": 472,
   "id": "ddc4e657",
   "metadata": {},
   "outputs": [],
   "source": [
    "import pandas as pd\n",
    "import numpy as np\n",
    "pd.options.display.float_format = '{:,.2f}'.format\n",
    "outputString = \"A ${:,.0f} trading account is needed to generate ${:,.0f} per month, with the given assumptions.\""
   ]
  },
  {
   "cell_type": "markdown",
   "id": "db99779a",
   "metadata": {},
   "source": [
    "## Assuptions"
   ]
  },
  {
   "cell_type": "code",
   "execution_count": 547,
   "id": "87ca6405",
   "metadata": {},
   "outputs": [],
   "source": [
    "desired_Monthly_Income = 1000\n",
    "blended_Tax_Rate_Pct = 25\n",
    "average_Annual_Returns_Pct = 100\n",
    "inflation_Protection_Pct = 3\n",
    "risk_Tolerance_Pct = 40 #40% is considered HIGH risk tolerance"
   ]
  },
  {
   "cell_type": "markdown",
   "id": "be2e2dee",
   "metadata": {},
   "source": [
    "## Formula Check: One Result"
   ]
  },
  {
   "cell_type": "code",
   "execution_count": 549,
   "id": "4bac82c2",
   "metadata": {},
   "outputs": [
    {
     "data": {
      "text/plain": [
       "'A $41,667 trading account is needed to generate $1,000 per month, with the given assumptions.'"
      ]
     },
     "execution_count": 549,
     "metadata": {},
     "output_type": "execute_result"
    }
   ],
   "source": [
    "account_Size = -(12*desired_Monthly_Income)/(risk_Tolerance_Pct*0.01*(inflation_Protection_Pct*0.01 +\n",
    "                average_Annual_Returns_Pct*0.01*(blended_Tax_Rate_Pct*0.01 - 1)))\n",
    "\n",
    "outputString.format(account_Size, desired_Monthly_Income)"
   ]
  },
  {
   "cell_type": "markdown",
   "id": "594ad848",
   "metadata": {},
   "source": [
    "## DataFrame of Req'd Account Sizes and cooresponding discounts"
   ]
  },
  {
   "cell_type": "code",
   "execution_count": 557,
   "id": "9a690c8c",
   "metadata": {
    "scrolled": false
   },
   "outputs": [
    {
     "data": {
      "text/html": [
       "<div>\n",
       "<style scoped>\n",
       "    .dataframe tbody tr th:only-of-type {\n",
       "        vertical-align: middle;\n",
       "    }\n",
       "\n",
       "    .dataframe tbody tr th {\n",
       "        vertical-align: top;\n",
       "    }\n",
       "\n",
       "    .dataframe thead th {\n",
       "        text-align: right;\n",
       "    }\n",
       "</style>\n",
       "<table border=\"1\" class=\"dataframe\">\n",
       "  <thead>\n",
       "    <tr style=\"text-align: right;\">\n",
       "      <th></th>\n",
       "      <th>monthly_gross_income</th>\n",
       "      <th>monthly_tax_bill</th>\n",
       "      <th>monthly_inflation_discount</th>\n",
       "      <th>monthly_risk_discount</th>\n",
       "      <th>monthly_net_income</th>\n",
       "    </tr>\n",
       "    <tr>\n",
       "      <th>investment_account_balance</th>\n",
       "      <th></th>\n",
       "      <th></th>\n",
       "      <th></th>\n",
       "      <th></th>\n",
       "      <th></th>\n",
       "    </tr>\n",
       "  </thead>\n",
       "  <tbody>\n",
       "    <tr>\n",
       "      <th>41667</th>\n",
       "      <td>3,472.25</td>\n",
       "      <td>409.59</td>\n",
       "      <td>104.17</td>\n",
       "      <td>1,775.09</td>\n",
       "      <td>1,183.40</td>\n",
       "    </tr>\n",
       "    <tr>\n",
       "      <th>41668</th>\n",
       "      <td>3,472.33</td>\n",
       "      <td>409.61</td>\n",
       "      <td>104.17</td>\n",
       "      <td>1,775.13</td>\n",
       "      <td>1,183.42</td>\n",
       "    </tr>\n",
       "    <tr>\n",
       "      <th>41669</th>\n",
       "      <td>3,472.42</td>\n",
       "      <td>409.63</td>\n",
       "      <td>104.17</td>\n",
       "      <td>1,775.17</td>\n",
       "      <td>1,183.45</td>\n",
       "    </tr>\n",
       "    <tr>\n",
       "      <th>41670</th>\n",
       "      <td>3,472.50</td>\n",
       "      <td>409.65</td>\n",
       "      <td>104.17</td>\n",
       "      <td>1,775.21</td>\n",
       "      <td>1,183.47</td>\n",
       "    </tr>\n",
       "    <tr>\n",
       "      <th>41671</th>\n",
       "      <td>3,472.58</td>\n",
       "      <td>409.67</td>\n",
       "      <td>104.18</td>\n",
       "      <td>1,775.24</td>\n",
       "      <td>1,183.50</td>\n",
       "    </tr>\n",
       "    <tr>\n",
       "      <th>...</th>\n",
       "      <td>...</td>\n",
       "      <td>...</td>\n",
       "      <td>...</td>\n",
       "      <td>...</td>\n",
       "      <td>...</td>\n",
       "    </tr>\n",
       "    <tr>\n",
       "      <th>99995</th>\n",
       "      <td>8,332.92</td>\n",
       "      <td>1,501.64</td>\n",
       "      <td>249.99</td>\n",
       "      <td>3,948.77</td>\n",
       "      <td>2,632.52</td>\n",
       "    </tr>\n",
       "    <tr>\n",
       "      <th>99996</th>\n",
       "      <td>8,333.00</td>\n",
       "      <td>1,501.66</td>\n",
       "      <td>249.99</td>\n",
       "      <td>3,948.81</td>\n",
       "      <td>2,632.54</td>\n",
       "    </tr>\n",
       "    <tr>\n",
       "      <th>99997</th>\n",
       "      <td>8,333.08</td>\n",
       "      <td>1,501.68</td>\n",
       "      <td>249.99</td>\n",
       "      <td>3,948.85</td>\n",
       "      <td>2,632.57</td>\n",
       "    </tr>\n",
       "    <tr>\n",
       "      <th>99998</th>\n",
       "      <td>8,333.17</td>\n",
       "      <td>1,501.70</td>\n",
       "      <td>250.00</td>\n",
       "      <td>3,948.88</td>\n",
       "      <td>2,632.59</td>\n",
       "    </tr>\n",
       "    <tr>\n",
       "      <th>99999</th>\n",
       "      <td>8,333.25</td>\n",
       "      <td>1,501.72</td>\n",
       "      <td>250.00</td>\n",
       "      <td>3,948.92</td>\n",
       "      <td>2,632.61</td>\n",
       "    </tr>\n",
       "  </tbody>\n",
       "</table>\n",
       "<p>58333 rows × 5 columns</p>\n",
       "</div>"
      ],
      "text/plain": [
       "                            monthly_gross_income  monthly_tax_bill  \\\n",
       "investment_account_balance                                           \n",
       "41667                                   3,472.25            409.59   \n",
       "41668                                   3,472.33            409.61   \n",
       "41669                                   3,472.42            409.63   \n",
       "41670                                   3,472.50            409.65   \n",
       "41671                                   3,472.58            409.67   \n",
       "...                                          ...               ...   \n",
       "99995                                   8,332.92          1,501.64   \n",
       "99996                                   8,333.00          1,501.66   \n",
       "99997                                   8,333.08          1,501.68   \n",
       "99998                                   8,333.17          1,501.70   \n",
       "99999                                   8,333.25          1,501.72   \n",
       "\n",
       "                            monthly_inflation_discount  monthly_risk_discount  \\\n",
       "investment_account_balance                                                      \n",
       "41667                                           104.17               1,775.09   \n",
       "41668                                           104.17               1,775.13   \n",
       "41669                                           104.17               1,775.17   \n",
       "41670                                           104.17               1,775.21   \n",
       "41671                                           104.18               1,775.24   \n",
       "...                                                ...                    ...   \n",
       "99995                                           249.99               3,948.77   \n",
       "99996                                           249.99               3,948.81   \n",
       "99997                                           249.99               3,948.85   \n",
       "99998                                           250.00               3,948.88   \n",
       "99999                                           250.00               3,948.92   \n",
       "\n",
       "                            monthly_net_income  \n",
       "investment_account_balance                      \n",
       "41667                                 1,183.40  \n",
       "41668                                 1,183.42  \n",
       "41669                                 1,183.45  \n",
       "41670                                 1,183.47  \n",
       "41671                                 1,183.50  \n",
       "...                                        ...  \n",
       "99995                                 2,632.52  \n",
       "99996                                 2,632.54  \n",
       "99997                                 2,632.57  \n",
       "99998                                 2,632.59  \n",
       "99999                                 2,632.61  \n",
       "\n",
       "[58333 rows x 5 columns]"
      ]
     },
     "execution_count": 557,
     "metadata": {},
     "output_type": "execute_result"
    }
   ],
   "source": [
    "sizes = pd.DataFrame(data = range(1,100000,1), columns = [\"account_reqd\"])\n",
    "#sizes['account_reqd'] = round(-(12*sizes['monthly_income']).div((risk_Tolerance_Pct*0.01*(inflation_Protection_Pct*0.01 +\n",
    "#                average_Annual_Returns_Pct*0.01*(blended_Tax_Rate_Pct*0.01 - 1)))))\n",
    "sizes['annual_gross_income'] = sizes.account_reqd*0.01*average_Annual_Returns_Pct\n",
    "sizes['monthly_gross_income'] = sizes.account_reqd*0.01*average_Annual_Returns_Pct/12\n",
    "\n",
    "#with pd.option_context('display.max_rows', None, 'display.max_columns', None): display(sizes)\n",
    "sizes['annual_tax_bill'] = taxBill.cTax\n",
    "sizes['monthly_tax_bill'] = taxBill.cTax/12\n",
    "sizes['blended_rate_pct'] = taxBill.blendedRate.mul(100)\n",
    "sizes['annual_inflation_discount'] = sizes.annual_gross_income.mul(inflation_Protection_Pct * 0.01)\n",
    "sizes['monthly_inflation_discount'] = sizes.annual_gross_income.mul(inflation_Protection_Pct * 0.01)/12\n",
    "sizes['annual_risk_discount'] = ((sizes.annual_gross_income - sizes.annual_tax_bill - sizes.annual_inflation_discount) - (sizes.annual_gross_income - sizes.annual_tax_bill - sizes.annual_inflation_discount)*0.01*risk_Tolerance_Pct)\n",
    "sizes['monthly_risk_discount'] = ((sizes.annual_gross_income - sizes.annual_tax_bill - sizes.annual_inflation_discount) - (sizes.annual_gross_income - sizes.annual_tax_bill - sizes.annual_inflation_discount)*0.01*risk_Tolerance_Pct)/12\n",
    "sizes['annual_net_income'] = sizes.account_reqd.mul((0.01*average_Annual_Returns_Pct*(1-0.01*(sizes.blended_rate_pct))-(0.01*inflation_Protection_Pct))*0.01*risk_Tolerance_Pct)\n",
    "sizes['monthly_net_income'] = sizes.account_reqd.mul((0.01*average_Annual_Returns_Pct*(1-0.01*(sizes.blended_rate_pct))-(0.01*inflation_Protection_Pct))*0.01*risk_Tolerance_Pct).div(12)\n",
    "sizes.rename(columns={'account_reqd':'investment_account_balance'}, inplace=True)\n",
    "sizes.set_index('investment_account_balance', inplace=True)\n",
    "sizes.loc[41667:, ['monthly_gross_income', 'monthly_tax_bill', 'monthly_inflation_discount','monthly_risk_discount', 'monthly_net_income']]\n",
    "#output assumptions above table"
   ]
  },
  {
   "cell_type": "code",
   "execution_count": 555,
   "id": "df16f6bf",
   "metadata": {},
   "outputs": [
    {
     "data": {
      "text/plain": [
       "160682.48770240715"
      ]
     },
     "execution_count": 555,
     "metadata": {},
     "output_type": "execute_result"
    }
   ],
   "source": [
    "#FV Calculation with continuous compounding\n",
    "FV = 8000 * (1 + 75/100/100000)**(4*100000) # approx. with large m\n",
    "FV"
   ]
  },
  {
   "cell_type": "markdown",
   "id": "795d26da",
   "metadata": {},
   "source": [
    "### Tax Calculator"
   ]
  },
  {
   "cell_type": "markdown",
   "id": "57c5bd6a",
   "metadata": {},
   "source": [
    "[source](https://turbotax.intuit.com/tax-tips/investments-and-taxes/guide-to-short-term-vs-long-term-capital-gains-taxes-brokerage-accounts-etc/L7KCu9etn)"
   ]
  },
  {
   "cell_type": "code",
   "execution_count": 455,
   "id": "20709ffb",
   "metadata": {},
   "outputs": [
    {
     "data": {
      "text/html": [
       "<div>\n",
       "<style scoped>\n",
       "    .dataframe tbody tr th:only-of-type {\n",
       "        vertical-align: middle;\n",
       "    }\n",
       "\n",
       "    .dataframe tbody tr th {\n",
       "        vertical-align: top;\n",
       "    }\n",
       "\n",
       "    .dataframe thead th {\n",
       "        text-align: right;\n",
       "    }\n",
       "</style>\n",
       "<table border=\"1\" class=\"dataframe\">\n",
       "  <thead>\n",
       "    <tr style=\"text-align: right;\">\n",
       "      <th></th>\n",
       "      <th>taxableIncome</th>\n",
       "      <th>cTax</th>\n",
       "      <th>blendedRate</th>\n",
       "    </tr>\n",
       "  </thead>\n",
       "  <tbody>\n",
       "    <tr>\n",
       "      <th>45000</th>\n",
       "      <td>45001</td>\n",
       "      <td>5,648.6000</td>\n",
       "      <td>0.1255</td>\n",
       "    </tr>\n",
       "  </tbody>\n",
       "</table>\n",
       "</div>"
      ],
      "text/plain": [
       "       taxableIncome       cTax  blendedRate\n",
       "45000          45001 5,648.6000       0.1255"
      ]
     },
     "execution_count": 455,
     "metadata": {},
     "output_type": "execute_result"
    }
   ],
   "source": [
    "grossTradingIncome = 45000\n",
    "\n",
    "tb1_rate = 0.1\n",
    "tb1_income = 9950\n",
    "\n",
    "tb2_rate = 0.12\n",
    "tb2_income = 40525\n",
    "\n",
    "tb3_rate = 0.22\n",
    "tb3_income = 86375\n",
    "\n",
    "tb4_rate = 0.24\n",
    "tb4_income = 164925\n",
    "\n",
    "tb5_rate = 0.32\n",
    "tb5_income = 209425\n",
    "\n",
    "tb6_rate = 0.35\n",
    "tb6_income = 523600\n",
    "\n",
    "tb7_rate = 0.37\n",
    "tb7_income = 526601\n",
    "\n",
    "taxBill = pd.DataFrame(data=range(1,600000,1), columns=['taxableIncome']) \n",
    "taxBill.loc[ : tb1_income, ['tax']] = tb1_rate\n",
    "taxBill.loc[tb1_income + 1 : tb2_income, ['tax']] = tb2_rate\n",
    "taxBill.loc[tb2_income + 1 : tb3_income, ['tax']] = tb3_rate\n",
    "taxBill.loc[tb3_income + 1 : tb4_income, ['tax']] = tb4_rate\n",
    "taxBill.loc[tb4_income + 1 : tb5_income, ['tax']] = tb5_rate\n",
    "taxBill.loc[tb5_income + 1 : tb6_income, ['tax']] = tb6_rate\n",
    "taxBill.loc[tb6_income + 1 : tb7_income, ['tax']] = tb7_rate\n",
    "taxBill.loc[tb7_income + 1 : , ['tax']] = tb7_rate\n",
    "taxBill['cTax'] = taxBill.tax.cumsum()\n",
    "pd.options.display.float_format = '{:,.4f}'.format\n",
    "taxBill['blendedRate'] = taxBill.cTax.div(taxBill.taxableIncome)\n",
    "taxBill.loc[grossTradingIncome:grossTradingIncome, ['taxableIncome', 'cTax', 'blendedRate']]\n",
    "#grossTradingIncome"
   ]
  },
  {
   "cell_type": "code",
   "execution_count": null,
   "id": "4bd9e72f",
   "metadata": {},
   "outputs": [],
   "source": []
  },
  {
   "cell_type": "code",
   "execution_count": null,
   "id": "f652b963",
   "metadata": {},
   "outputs": [],
   "source": []
  }
 ],
 "metadata": {
  "kernelspec": {
   "display_name": "Python 3 (ipykernel)",
   "language": "python",
   "name": "python3"
  },
  "language_info": {
   "codemirror_mode": {
    "name": "ipython",
    "version": 3
   },
   "file_extension": ".py",
   "mimetype": "text/x-python",
   "name": "python",
   "nbconvert_exporter": "python",
   "pygments_lexer": "ipython3",
   "version": "3.7.13"
  }
 },
 "nbformat": 4,
 "nbformat_minor": 5
}
